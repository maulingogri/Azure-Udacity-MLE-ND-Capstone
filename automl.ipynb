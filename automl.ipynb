{
  "cells": [
    {
      "cell_type": "markdown",
      "source": [
        "# Automated ML\n",
        "\n",
        "TODO: Import Dependencies. In the cell below, import all the dependencies that you will need to complete the project."
      ],
      "metadata": {}
    },
    {
      "cell_type": "code",
      "source": [
        "import logging\n",
        "import os\n",
        "import csv\n",
        "\n",
        "from matplotlib import pyplot as plt\n",
        "import numpy as np\n",
        "import pandas as pd\n",
        "from sklearn import datasets\n",
        "import pkg_resources\n",
        "\n",
        "import azureml.core\n",
        "from azureml.core.experiment import Experiment\n",
        "from azureml.core.workspace import Workspace\n",
        "from azureml.train.automl import AutoMLConfig\n",
        "from azureml.core.dataset import Dataset\n",
        "from azureml.core.compute import ComputeTarget, AmlCompute\n",
        "from azureml.data.dataset_factory import TabularDatasetFactory\n",
        "from azureml.core.compute_target import ComputeTargetException\n",
        "\n",
        "# Check core SDK version number\n",
        "print(\"SDK version:\", azureml.core.VERSION)"
      ],
      "outputs": [
        {
          "output_type": "stream",
          "name": "stdout",
          "text": [
            "SDK version: 1.20.0\n"
          ]
        }
      ],
      "execution_count": 1,
      "metadata": {
        "collapsed": false,
        "gather": {
          "logged": 1612478140284
        },
        "jupyter": {
          "outputs_hidden": false,
          "source_hidden": false
        },
        "nteract": {
          "transient": {
            "deleting": false
          }
        }
      }
    },
    {
      "cell_type": "markdown",
      "source": [
        "## Dataset\n",
        "\n",
        "### Overview\n",
        "TODO: In this markdown cell, give an overview of the dataset you are using. Also mention the task you will be performing.\n",
        "\n",
        "\n",
        "TODO: Get data. In the cell below, write code to access the data you will be using in this project. Remember that the dataset needs to be external."
      ],
      "metadata": {}
    },
    {
      "cell_type": "code",
      "source": [
        "ws = Workspace.from_config()\n",
        "\n",
        "# choose a name for experiment\n",
        "experiment_name = 'AutoML'\n",
        "\n",
        "experiment=Experiment(ws, experiment_name)"
      ],
      "outputs": [],
      "execution_count": 2,
      "metadata": {
        "collapsed": false,
        "gather": {
          "logged": 1612477895487
        },
        "jupyter": {
          "outputs_hidden": false,
          "source_hidden": false
        },
        "nteract": {
          "transient": {
            "deleting": false
          }
        }
      }
    },
    {
      "cell_type": "code",
      "source": [
        "amlcompute_cluster_name = \"auto-ml\"\n",
        "\n",
        "# Verify that cluster does not exist already\n",
        "try:\n",
        "    training_cluster = ComputeTarget(workspace=ws, name=amlcompute_cluster_name)\n",
        "    print('Found existing cluster, use it.')\n",
        "except ComputeTargetException:\n",
        "    compute_config = AmlCompute.provisioning_configuration(vm_size='STANDARD_D2_V2',# for GPU, use \"STANDARD_NC6\"\n",
        "                                                           #vm_priority = 'lowpriority', # optional\n",
        "                                                           max_nodes=6)\n",
        "    training_cluster = ComputeTarget.create(ws, amlcompute_cluster_name, compute_config)\n",
        "\n",
        "training_cluster.wait_for_completion(show_output=True, min_node_count = 1, timeout_in_minutes = 10)"
      ],
      "outputs": [
        {
          "output_type": "stream",
          "name": "stdout",
          "text": [
            "Creating\n",
            "Succeeded................................................................................................................\n",
            "AmlCompute wait for completion finished\n",
            "\n",
            "Wait timeout has been reached\n",
            "Current provisioning state of AmlCompute is \"Succeeded\" and current node count is \"0\"\n"
          ]
        }
      ],
      "execution_count": 3,
      "metadata": {
        "gather": {
          "logged": 1612479545481
        },
        "nteract": {
          "transient": {
            "deleting": false
          }
        }
      }
    },
    {
      "cell_type": "code",
      "source": [
        "found = False\n",
        "key = \"HeartFailure Dataset\"\n",
        "description_text = \"Heart Failure DataSet for Kaggle\"\n",
        "\n",
        "if key in ws.datasets.keys(): \n",
        "        found = True\n",
        "        dataset = ws.datasets[key] \n",
        "\n",
        "if not found:\n",
        "        # Create AML Dataset and register it into Workspace\n",
        "        example_data = 'https://raw.githubusercontent.com/maulingogri/Azure-Udacity-MLE-ND-Capstone/master/data/heart_failure_clinical_records_dataset.csv'\n",
        "        dataset = Dataset.Tabular.from_delimited_files(example_data)        \n",
        "        #Register Dataset in Workspace\n",
        "        dataset = dataset.register(workspace=ws,\n",
        "                                   name=key,\n",
        "                                   description=description_text)\n",
        "\n",
        "\n",
        "df = dataset.to_pandas_dataframe()\n",
        "df.describe()"
      ],
      "outputs": [
        {
          "output_type": "execute_result",
          "execution_count": 4,
          "data": {
            "text/html": "<div>\n<style scoped>\n    .dataframe tbody tr th:only-of-type {\n        vertical-align: middle;\n    }\n\n    .dataframe tbody tr th {\n        vertical-align: top;\n    }\n\n    .dataframe thead th {\n        text-align: right;\n    }\n</style>\n<table border=\"1\" class=\"dataframe\">\n  <thead>\n    <tr style=\"text-align: right;\">\n      <th></th>\n      <th>age</th>\n      <th>anaemia</th>\n      <th>creatinine_phosphokinase</th>\n      <th>diabetes</th>\n      <th>ejection_fraction</th>\n      <th>high_blood_pressure</th>\n      <th>platelets</th>\n      <th>serum_creatinine</th>\n      <th>serum_sodium</th>\n      <th>sex</th>\n      <th>smoking</th>\n      <th>time</th>\n      <th>DEATH_EVENT</th>\n    </tr>\n  </thead>\n  <tbody>\n    <tr>\n      <th>count</th>\n      <td>299.000000</td>\n      <td>299.000000</td>\n      <td>299.000000</td>\n      <td>299.000000</td>\n      <td>299.000000</td>\n      <td>299.000000</td>\n      <td>299.000000</td>\n      <td>299.00000</td>\n      <td>299.000000</td>\n      <td>299.000000</td>\n      <td>299.00000</td>\n      <td>299.000000</td>\n      <td>299.00000</td>\n    </tr>\n    <tr>\n      <th>mean</th>\n      <td>60.833893</td>\n      <td>0.431438</td>\n      <td>581.839465</td>\n      <td>0.418060</td>\n      <td>38.083612</td>\n      <td>0.351171</td>\n      <td>263358.029264</td>\n      <td>1.39388</td>\n      <td>136.625418</td>\n      <td>0.648829</td>\n      <td>0.32107</td>\n      <td>130.260870</td>\n      <td>0.32107</td>\n    </tr>\n    <tr>\n      <th>std</th>\n      <td>11.894809</td>\n      <td>0.496107</td>\n      <td>970.287881</td>\n      <td>0.494067</td>\n      <td>11.834841</td>\n      <td>0.478136</td>\n      <td>97804.236869</td>\n      <td>1.03451</td>\n      <td>4.412477</td>\n      <td>0.478136</td>\n      <td>0.46767</td>\n      <td>77.614208</td>\n      <td>0.46767</td>\n    </tr>\n    <tr>\n      <th>min</th>\n      <td>40.000000</td>\n      <td>0.000000</td>\n      <td>23.000000</td>\n      <td>0.000000</td>\n      <td>14.000000</td>\n      <td>0.000000</td>\n      <td>25100.000000</td>\n      <td>0.50000</td>\n      <td>113.000000</td>\n      <td>0.000000</td>\n      <td>0.00000</td>\n      <td>4.000000</td>\n      <td>0.00000</td>\n    </tr>\n    <tr>\n      <th>25%</th>\n      <td>51.000000</td>\n      <td>0.000000</td>\n      <td>116.500000</td>\n      <td>0.000000</td>\n      <td>30.000000</td>\n      <td>0.000000</td>\n      <td>212500.000000</td>\n      <td>0.90000</td>\n      <td>134.000000</td>\n      <td>0.000000</td>\n      <td>0.00000</td>\n      <td>73.000000</td>\n      <td>0.00000</td>\n    </tr>\n    <tr>\n      <th>50%</th>\n      <td>60.000000</td>\n      <td>0.000000</td>\n      <td>250.000000</td>\n      <td>0.000000</td>\n      <td>38.000000</td>\n      <td>0.000000</td>\n      <td>262000.000000</td>\n      <td>1.10000</td>\n      <td>137.000000</td>\n      <td>1.000000</td>\n      <td>0.00000</td>\n      <td>115.000000</td>\n      <td>0.00000</td>\n    </tr>\n    <tr>\n      <th>75%</th>\n      <td>70.000000</td>\n      <td>1.000000</td>\n      <td>582.000000</td>\n      <td>1.000000</td>\n      <td>45.000000</td>\n      <td>1.000000</td>\n      <td>303500.000000</td>\n      <td>1.40000</td>\n      <td>140.000000</td>\n      <td>1.000000</td>\n      <td>1.00000</td>\n      <td>203.000000</td>\n      <td>1.00000</td>\n    </tr>\n    <tr>\n      <th>max</th>\n      <td>95.000000</td>\n      <td>1.000000</td>\n      <td>7861.000000</td>\n      <td>1.000000</td>\n      <td>80.000000</td>\n      <td>1.000000</td>\n      <td>850000.000000</td>\n      <td>9.40000</td>\n      <td>148.000000</td>\n      <td>1.000000</td>\n      <td>1.00000</td>\n      <td>285.000000</td>\n      <td>1.00000</td>\n    </tr>\n  </tbody>\n</table>\n</div>",
            "text/plain": "              age     anaemia  creatinine_phosphokinase    diabetes  \\\ncount  299.000000  299.000000                299.000000  299.000000   \nmean    60.833893    0.431438                581.839465    0.418060   \nstd     11.894809    0.496107                970.287881    0.494067   \nmin     40.000000    0.000000                 23.000000    0.000000   \n25%     51.000000    0.000000                116.500000    0.000000   \n50%     60.000000    0.000000                250.000000    0.000000   \n75%     70.000000    1.000000                582.000000    1.000000   \nmax     95.000000    1.000000               7861.000000    1.000000   \n\n       ejection_fraction  high_blood_pressure      platelets  \\\ncount         299.000000           299.000000     299.000000   \nmean           38.083612             0.351171  263358.029264   \nstd            11.834841             0.478136   97804.236869   \nmin            14.000000             0.000000   25100.000000   \n25%            30.000000             0.000000  212500.000000   \n50%            38.000000             0.000000  262000.000000   \n75%            45.000000             1.000000  303500.000000   \nmax            80.000000             1.000000  850000.000000   \n\n       serum_creatinine  serum_sodium         sex    smoking        time  \\\ncount         299.00000    299.000000  299.000000  299.00000  299.000000   \nmean            1.39388    136.625418    0.648829    0.32107  130.260870   \nstd             1.03451      4.412477    0.478136    0.46767   77.614208   \nmin             0.50000    113.000000    0.000000    0.00000    4.000000   \n25%             0.90000    134.000000    0.000000    0.00000   73.000000   \n50%             1.10000    137.000000    1.000000    0.00000  115.000000   \n75%             1.40000    140.000000    1.000000    1.00000  203.000000   \nmax             9.40000    148.000000    1.000000    1.00000  285.000000   \n\n       DEATH_EVENT  \ncount    299.00000  \nmean       0.32107  \nstd        0.46767  \nmin        0.00000  \n25%        0.00000  \n50%        0.00000  \n75%        1.00000  \nmax        1.00000  "
          },
          "metadata": {}
        }
      ],
      "execution_count": 4,
      "metadata": {
        "gather": {
          "logged": 1612478053299
        },
        "nteract": {
          "transient": {
            "deleting": false
          }
        }
      }
    },
    {
      "cell_type": "code",
      "source": [
        "dataset.take(5).to_pandas_dataframe()"
      ],
      "outputs": [
        {
          "output_type": "execute_result",
          "execution_count": 5,
          "data": {
            "text/html": "<div>\n<style scoped>\n    .dataframe tbody tr th:only-of-type {\n        vertical-align: middle;\n    }\n\n    .dataframe tbody tr th {\n        vertical-align: top;\n    }\n\n    .dataframe thead th {\n        text-align: right;\n    }\n</style>\n<table border=\"1\" class=\"dataframe\">\n  <thead>\n    <tr style=\"text-align: right;\">\n      <th></th>\n      <th>age</th>\n      <th>anaemia</th>\n      <th>creatinine_phosphokinase</th>\n      <th>diabetes</th>\n      <th>ejection_fraction</th>\n      <th>high_blood_pressure</th>\n      <th>platelets</th>\n      <th>serum_creatinine</th>\n      <th>serum_sodium</th>\n      <th>sex</th>\n      <th>smoking</th>\n      <th>time</th>\n      <th>DEATH_EVENT</th>\n    </tr>\n  </thead>\n  <tbody>\n    <tr>\n      <th>0</th>\n      <td>75.0</td>\n      <td>0</td>\n      <td>582</td>\n      <td>0</td>\n      <td>20</td>\n      <td>1</td>\n      <td>265000.00</td>\n      <td>1.9</td>\n      <td>130</td>\n      <td>1</td>\n      <td>0</td>\n      <td>4</td>\n      <td>1</td>\n    </tr>\n    <tr>\n      <th>1</th>\n      <td>55.0</td>\n      <td>0</td>\n      <td>7861</td>\n      <td>0</td>\n      <td>38</td>\n      <td>0</td>\n      <td>263358.03</td>\n      <td>1.1</td>\n      <td>136</td>\n      <td>1</td>\n      <td>0</td>\n      <td>6</td>\n      <td>1</td>\n    </tr>\n    <tr>\n      <th>2</th>\n      <td>65.0</td>\n      <td>0</td>\n      <td>146</td>\n      <td>0</td>\n      <td>20</td>\n      <td>0</td>\n      <td>162000.00</td>\n      <td>1.3</td>\n      <td>129</td>\n      <td>1</td>\n      <td>1</td>\n      <td>7</td>\n      <td>1</td>\n    </tr>\n    <tr>\n      <th>3</th>\n      <td>50.0</td>\n      <td>1</td>\n      <td>111</td>\n      <td>0</td>\n      <td>20</td>\n      <td>0</td>\n      <td>210000.00</td>\n      <td>1.9</td>\n      <td>137</td>\n      <td>1</td>\n      <td>0</td>\n      <td>7</td>\n      <td>1</td>\n    </tr>\n    <tr>\n      <th>4</th>\n      <td>65.0</td>\n      <td>1</td>\n      <td>160</td>\n      <td>1</td>\n      <td>20</td>\n      <td>0</td>\n      <td>327000.00</td>\n      <td>2.7</td>\n      <td>116</td>\n      <td>0</td>\n      <td>0</td>\n      <td>8</td>\n      <td>1</td>\n    </tr>\n  </tbody>\n</table>\n</div>",
            "text/plain": "    age  anaemia  creatinine_phosphokinase  diabetes  ejection_fraction  \\\n0  75.0        0                       582         0                 20   \n1  55.0        0                      7861         0                 38   \n2  65.0        0                       146         0                 20   \n3  50.0        1                       111         0                 20   \n4  65.0        1                       160         1                 20   \n\n   high_blood_pressure  platelets  serum_creatinine  serum_sodium  sex  \\\n0                    1  265000.00               1.9           130    1   \n1                    0  263358.03               1.1           136    1   \n2                    0  162000.00               1.3           129    1   \n3                    0  210000.00               1.9           137    1   \n4                    0  327000.00               2.7           116    0   \n\n   smoking  time  DEATH_EVENT  \n0        0     4            1  \n1        0     6            1  \n2        1     7            1  \n3        0     7            1  \n4        0     8            1  "
          },
          "metadata": {}
        }
      ],
      "execution_count": 5,
      "metadata": {
        "gather": {
          "logged": 1612478821209
        },
        "nteract": {
          "transient": {
            "deleting": false
          }
        }
      }
    },
    {
      "cell_type": "code",
      "source": [
        "# Split data into train and test sets\n",
        "train, test = dataset.random_split(percentage=0.75, seed=121)"
      ],
      "outputs": [],
      "execution_count": 7,
      "metadata": {
        "collapsed": true,
        "gather": {
          "logged": 1612478831767
        },
        "jupyter": {
          "outputs_hidden": true,
          "source_hidden": false
        },
        "nteract": {
          "transient": {
            "deleting": false
          }
        }
      }
    },
    {
      "cell_type": "markdown",
      "source": [
        "## AutoML Configuration\n",
        "\n",
        "TODO: Explain why you chose the automl settings and cofiguration you used below."
      ],
      "metadata": {}
    },
    {
      "cell_type": "code",
      "source": [
        "# TODO: Put your automl settings here\n",
        "automl_settings = {\n",
        "    \"experiment_timeout_minutes\": 120,\n",
        "    \"max_concurrent_iterations\": 6,\n",
        "    \"primary_metric\" : 'accuracy'\n",
        "}\n",
        "\n",
        "# TODO: Put your automl config here\n",
        "automl_config = AutoMLConfig(compute_target=training_cluster,\n",
        "                             task = \"classification\",\n",
        "                             training_data=dataset,\n",
        "                             label_column_name=\"DEATH_EVENT\",   \n",
        "                             enable_early_stopping= True,\n",
        "                             n_cross_validations=5,\n",
        "                             featurization= 'auto',\n",
        "                             debug_log = \"automl_errors.log\",\n",
        "                             **automl_settings)"
      ],
      "outputs": [],
      "execution_count": 6,
      "metadata": {
        "collapsed": false,
        "gather": {
          "logged": 1612479753856
        },
        "jupyter": {
          "outputs_hidden": false,
          "source_hidden": false
        },
        "nteract": {
          "transient": {
            "deleting": false
          }
        }
      }
    },
    {
      "cell_type": "code",
      "source": [
        "# TODO: Submit your experiment\n",
        "remote_run = experiment.submit(automl_config)"
      ],
      "outputs": [
        {
          "output_type": "stream",
          "name": "stdout",
          "text": [
            "Running on remote.\n"
          ]
        }
      ],
      "execution_count": 7,
      "metadata": {
        "collapsed": false,
        "gather": {
          "logged": 1612479766766
        },
        "jupyter": {
          "outputs_hidden": false,
          "source_hidden": false
        },
        "nteract": {
          "transient": {
            "deleting": false
          }
        }
      }
    },
    {
      "cell_type": "markdown",
      "source": [
        "## Run Details\n",
        "\n",
        "OPTIONAL: Write about the different models trained and their performance. Why do you think some models did better than others?\n",
        "\n",
        "TODO: In the cell below, use the `RunDetails` widget to show the different experiments."
      ],
      "metadata": {}
    },
    {
      "cell_type": "code",
      "source": [
        "from azureml.widgets import RunDetails\n",
        "RunDetails(remote_run).show()\n",
        "remote_run.wait_for_completion(show_output=True)"
      ],
      "outputs": [
        {
          "output_type": "display_data",
          "data": {
            "application/vnd.jupyter.widget-view+json": {
              "model_id": "244dea3003d349a198d52bf9cdf91d3a",
              "version_major": 2,
              "version_minor": 0
            },
            "text/plain": "_AutoMLWidget(widget_settings={'childWidgetDisplay': 'popup', 'send_telemetry': False, 'log_level': 'INFO', 's…"
          },
          "metadata": {}
        },
        {
          "output_type": "display_data",
          "data": {
            "application/aml.mini.widget.v1": "{\"status\": \"Completed\", \"workbench_run_details_uri\": \"https://ml.azure.com/experiments/AutoML/runs/AutoML_f37b3d8a-310e-4104-8513-3fe9745c745f?wsid=/subscriptions/d4ad7261-832d-46b2-b093-22156001df5b/resourcegroups/aml-quickstarts-137352/workspaces/quick-starts-ws-137352\", \"run_id\": \"AutoML_f37b3d8a-310e-4104-8513-3fe9745c745f\", \"run_properties\": {\"run_id\": \"AutoML_f37b3d8a-310e-4104-8513-3fe9745c745f\", \"created_utc\": \"2021-02-05T16:41:54.439214Z\", \"properties\": {\"num_iterations\": \"1000\", \"training_type\": \"TrainFull\", \"acquisition_function\": \"EI\", \"primary_metric\": \"accuracy\", \"train_split\": \"0\", \"acquisition_parameter\": \"0\", \"num_cross_validation\": \"5\", \"target\": \"auto-ml\", \"AMLSettingsJsonString\": \"{\\\"path\\\":null,\\\"name\\\":\\\"AutoML\\\",\\\"subscription_id\\\":\\\"d4ad7261-832d-46b2-b093-22156001df5b\\\",\\\"resource_group\\\":\\\"aml-quickstarts-137352\\\",\\\"workspace_name\\\":\\\"quick-starts-ws-137352\\\",\\\"region\\\":\\\"southcentralus\\\",\\\"compute_target\\\":\\\"auto-ml\\\",\\\"spark_service\\\":null,\\\"azure_service\\\":\\\"remote\\\",\\\"many_models\\\":false,\\\"pipeline_fetch_max_batch_size\\\":1,\\\"iterations\\\":1000,\\\"primary_metric\\\":\\\"accuracy\\\",\\\"task_type\\\":\\\"classification\\\",\\\"data_script\\\":null,\\\"validation_size\\\":0.0,\\\"n_cross_validations\\\":5,\\\"y_min\\\":null,\\\"y_max\\\":null,\\\"num_classes\\\":null,\\\"featurization\\\":\\\"auto\\\",\\\"_ignore_package_version_incompatibilities\\\":false,\\\"is_timeseries\\\":false,\\\"max_cores_per_iteration\\\":1,\\\"max_concurrent_iterations\\\":6,\\\"iteration_timeout_minutes\\\":null,\\\"mem_in_mb\\\":null,\\\"enforce_time_on_windows\\\":false,\\\"experiment_timeout_minutes\\\":120,\\\"experiment_exit_score\\\":null,\\\"whitelist_models\\\":null,\\\"blacklist_algos\\\":[\\\"TensorFlowLinearClassifier\\\",\\\"TensorFlowDNN\\\"],\\\"supported_models\\\":[\\\"KNN\\\",\\\"RandomForest\\\",\\\"ExtremeRandomTrees\\\",\\\"LinearSVM\\\",\\\"SVM\\\",\\\"LogisticRegression\\\",\\\"XGBoostClassifier\\\",\\\"LightGBM\\\",\\\"GradientBoosting\\\",\\\"AveragedPerceptronClassifier\\\",\\\"TensorFlowDNN\\\",\\\"TensorFlowLinearClassifier\\\",\\\"BernoulliNaiveBayes\\\",\\\"MultinomialNaiveBayes\\\",\\\"DecisionTree\\\",\\\"SGD\\\"],\\\"auto_blacklist\\\":true,\\\"blacklist_samples_reached\\\":false,\\\"exclude_nan_labels\\\":true,\\\"verbosity\\\":20,\\\"_debug_log\\\":\\\"azureml_automl.log\\\",\\\"show_warnings\\\":false,\\\"model_explainability\\\":true,\\\"service_url\\\":null,\\\"sdk_url\\\":null,\\\"sdk_packages\\\":null,\\\"enable_onnx_compatible_models\\\":false,\\\"enable_split_onnx_featurizer_estimator_models\\\":false,\\\"vm_type\\\":\\\"STANDARD_D2_V2\\\",\\\"telemetry_verbosity\\\":20,\\\"send_telemetry\\\":true,\\\"enable_dnn\\\":false,\\\"scenario\\\":\\\"SDK-1.13.0\\\",\\\"environment_label\\\":null,\\\"force_text_dnn\\\":false,\\\"enable_feature_sweeping\\\":true,\\\"enable_early_stopping\\\":true,\\\"early_stopping_n_iters\\\":10,\\\"metrics\\\":null,\\\"enable_ensembling\\\":true,\\\"enable_stack_ensembling\\\":true,\\\"ensemble_iterations\\\":15,\\\"enable_tf\\\":false,\\\"enable_subsampling\\\":null,\\\"subsample_seed\\\":null,\\\"enable_nimbusml\\\":false,\\\"enable_streaming\\\":false,\\\"force_streaming\\\":false,\\\"track_child_runs\\\":true,\\\"allowed_private_models\\\":[],\\\"label_column_name\\\":\\\"DEATH_EVENT\\\",\\\"weight_column_name\\\":null,\\\"cv_split_column_names\\\":null,\\\"enable_local_managed\\\":false,\\\"_local_managed_run_id\\\":null,\\\"cost_mode\\\":1,\\\"lag_length\\\":0,\\\"metric_operation\\\":\\\"maximize\\\",\\\"preprocess\\\":true}\", \"DataPrepJsonString\": \"{\\\\\\\"training_data\\\\\\\": \\\\\\\"{\\\\\\\\\\\\\\\"blocks\\\\\\\\\\\\\\\": [{\\\\\\\\\\\\\\\"id\\\\\\\\\\\\\\\": \\\\\\\\\\\\\\\"6565e3e0-2d29-4715-8a47-c03e5bee1e62\\\\\\\\\\\\\\\", \\\\\\\\\\\\\\\"type\\\\\\\\\\\\\\\": \\\\\\\\\\\\\\\"Microsoft.DPrep.GetFilesBlock\\\\\\\\\\\\\\\", \\\\\\\\\\\\\\\"arguments\\\\\\\\\\\\\\\": {\\\\\\\\\\\\\\\"isArchive\\\\\\\\\\\\\\\": false, \\\\\\\\\\\\\\\"path\\\\\\\\\\\\\\\": {\\\\\\\\\\\\\\\"target\\\\\\\\\\\\\\\": 4, \\\\\\\\\\\\\\\"resourceDetails\\\\\\\\\\\\\\\": [{\\\\\\\\\\\\\\\"path\\\\\\\\\\\\\\\": \\\\\\\\\\\\\\\"https://raw.githubusercontent.com/maulingogri/Azure-Udacity-MLE-ND-Capstone/master/data/heart_failure_clinical_records_dataset.csv\\\\\\\\\\\\\\\"}]}}, \\\\\\\\\\\\\\\"localData\\\\\\\\\\\\\\\": {}, \\\\\\\\\\\\\\\"isEnabled\\\\\\\\\\\\\\\": true, \\\\\\\\\\\\\\\"name\\\\\\\\\\\\\\\": null, \\\\\\\\\\\\\\\"annotation\\\\\\\\\\\\\\\": null}, {\\\\\\\\\\\\\\\"id\\\\\\\\\\\\\\\": \\\\\\\\\\\\\\\"c93d8421-b317-424a-b6db-8c0a5ada16a3\\\\\\\\\\\\\\\", \\\\\\\\\\\\\\\"type\\\\\\\\\\\\\\\": \\\\\\\\\\\\\\\"Microsoft.DPrep.ParseDelimitedBlock\\\\\\\\\\\\\\\", \\\\\\\\\\\\\\\"arguments\\\\\\\\\\\\\\\": {\\\\\\\\\\\\\\\"columnHeadersMode\\\\\\\\\\\\\\\": 3, \\\\\\\\\\\\\\\"fileEncoding\\\\\\\\\\\\\\\": 0, \\\\\\\\\\\\\\\"handleQuotedLineBreaks\\\\\\\\\\\\\\\": false, \\\\\\\\\\\\\\\"preview\\\\\\\\\\\\\\\": false, \\\\\\\\\\\\\\\"separator\\\\\\\\\\\\\\\": \\\\\\\\\\\\\\\",\\\\\\\\\\\\\\\", \\\\\\\\\\\\\\\"skipRows\\\\\\\\\\\\\\\": 0, \\\\\\\\\\\\\\\"skipRowsMode\\\\\\\\\\\\\\\": 0}, \\\\\\\\\\\\\\\"localData\\\\\\\\\\\\\\\": {}, \\\\\\\\\\\\\\\"isEnabled\\\\\\\\\\\\\\\": true, \\\\\\\\\\\\\\\"name\\\\\\\\\\\\\\\": null, \\\\\\\\\\\\\\\"annotation\\\\\\\\\\\\\\\": null}, {\\\\\\\\\\\\\\\"id\\\\\\\\\\\\\\\": \\\\\\\\\\\\\\\"815fdde3-3aa0-4adb-b188-f883964c5403\\\\\\\\\\\\\\\", \\\\\\\\\\\\\\\"type\\\\\\\\\\\\\\\": \\\\\\\\\\\\\\\"Microsoft.DPrep.DropColumnsBlock\\\\\\\\\\\\\\\", \\\\\\\\\\\\\\\"arguments\\\\\\\\\\\\\\\": {\\\\\\\\\\\\\\\"columns\\\\\\\\\\\\\\\": {\\\\\\\\\\\\\\\"type\\\\\\\\\\\\\\\": 0, \\\\\\\\\\\\\\\"details\\\\\\\\\\\\\\\": {\\\\\\\\\\\\\\\"selectedColumns\\\\\\\\\\\\\\\": [\\\\\\\\\\\\\\\"Path\\\\\\\\\\\\\\\"]}}}, \\\\\\\\\\\\\\\"localData\\\\\\\\\\\\\\\": {}, \\\\\\\\\\\\\\\"isEnabled\\\\\\\\\\\\\\\": true, \\\\\\\\\\\\\\\"name\\\\\\\\\\\\\\\": null, \\\\\\\\\\\\\\\"annotation\\\\\\\\\\\\\\\": null}, {\\\\\\\\\\\\\\\"id\\\\\\\\\\\\\\\": \\\\\\\\\\\\\\\"a851463f-af43-4507-91b2-2421bb6ca8f9\\\\\\\\\\\\\\\", \\\\\\\\\\\\\\\"type\\\\\\\\\\\\\\\": \\\\\\\\\\\\\\\"Microsoft.DPrep.SetColumnTypesBlock\\\\\\\\\\\\\\\", \\\\\\\\\\\\\\\"arguments\\\\\\\\\\\\\\\": {\\\\\\\\\\\\\\\"columnConversion\\\\\\\\\\\\\\\": [{\\\\\\\\\\\\\\\"column\\\\\\\\\\\\\\\": {\\\\\\\\\\\\\\\"type\\\\\\\\\\\\\\\": 2, \\\\\\\\\\\\\\\"details\\\\\\\\\\\\\\\": {\\\\\\\\\\\\\\\"selectedColumn\\\\\\\\\\\\\\\": \\\\\\\\\\\\\\\"age\\\\\\\\\\\\\\\"}}, \\\\\\\\\\\\\\\"typeProperty\\\\\\\\\\\\\\\": 3}, {\\\\\\\\\\\\\\\"column\\\\\\\\\\\\\\\": {\\\\\\\\\\\\\\\"type\\\\\\\\\\\\\\\": 2, \\\\\\\\\\\\\\\"details\\\\\\\\\\\\\\\": {\\\\\\\\\\\\\\\"selectedColumn\\\\\\\\\\\\\\\": \\\\\\\\\\\\\\\"anaemia\\\\\\\\\\\\\\\"}}, \\\\\\\\\\\\\\\"typeProperty\\\\\\\\\\\\\\\": 2}, {\\\\\\\\\\\\\\\"column\\\\\\\\\\\\\\\": {\\\\\\\\\\\\\\\"type\\\\\\\\\\\\\\\": 2, \\\\\\\\\\\\\\\"details\\\\\\\\\\\\\\\": {\\\\\\\\\\\\\\\"selectedColumn\\\\\\\\\\\\\\\": \\\\\\\\\\\\\\\"creatinine_phosphokinase\\\\\\\\\\\\\\\"}}, \\\\\\\\\\\\\\\"typeProperty\\\\\\\\\\\\\\\": 2}, {\\\\\\\\\\\\\\\"column\\\\\\\\\\\\\\\": {\\\\\\\\\\\\\\\"type\\\\\\\\\\\\\\\": 2, \\\\\\\\\\\\\\\"details\\\\\\\\\\\\\\\": {\\\\\\\\\\\\\\\"selectedColumn\\\\\\\\\\\\\\\": \\\\\\\\\\\\\\\"diabetes\\\\\\\\\\\\\\\"}}, \\\\\\\\\\\\\\\"typeProperty\\\\\\\\\\\\\\\": 2}, {\\\\\\\\\\\\\\\"column\\\\\\\\\\\\\\\": {\\\\\\\\\\\\\\\"type\\\\\\\\\\\\\\\": 2, \\\\\\\\\\\\\\\"details\\\\\\\\\\\\\\\": {\\\\\\\\\\\\\\\"selectedColumn\\\\\\\\\\\\\\\": \\\\\\\\\\\\\\\"ejection_fraction\\\\\\\\\\\\\\\"}}, \\\\\\\\\\\\\\\"typeProperty\\\\\\\\\\\\\\\": 2}, {\\\\\\\\\\\\\\\"column\\\\\\\\\\\\\\\": {\\\\\\\\\\\\\\\"type\\\\\\\\\\\\\\\": 2, \\\\\\\\\\\\\\\"details\\\\\\\\\\\\\\\": {\\\\\\\\\\\\\\\"selectedColumn\\\\\\\\\\\\\\\": \\\\\\\\\\\\\\\"high_blood_pressure\\\\\\\\\\\\\\\"}}, \\\\\\\\\\\\\\\"typeProperty\\\\\\\\\\\\\\\": 2}, {\\\\\\\\\\\\\\\"column\\\\\\\\\\\\\\\": {\\\\\\\\\\\\\\\"type\\\\\\\\\\\\\\\": 2, \\\\\\\\\\\\\\\"details\\\\\\\\\\\\\\\": {\\\\\\\\\\\\\\\"selectedColumn\\\\\\\\\\\\\\\": \\\\\\\\\\\\\\\"platelets\\\\\\\\\\\\\\\"}}, \\\\\\\\\\\\\\\"typeProperty\\\\\\\\\\\\\\\": 3}, {\\\\\\\\\\\\\\\"column\\\\\\\\\\\\\\\": {\\\\\\\\\\\\\\\"type\\\\\\\\\\\\\\\": 2, \\\\\\\\\\\\\\\"details\\\\\\\\\\\\\\\": {\\\\\\\\\\\\\\\"selectedColumn\\\\\\\\\\\\\\\": \\\\\\\\\\\\\\\"serum_creatinine\\\\\\\\\\\\\\\"}}, \\\\\\\\\\\\\\\"typeProperty\\\\\\\\\\\\\\\": 3}, {\\\\\\\\\\\\\\\"column\\\\\\\\\\\\\\\": {\\\\\\\\\\\\\\\"type\\\\\\\\\\\\\\\": 2, \\\\\\\\\\\\\\\"details\\\\\\\\\\\\\\\": {\\\\\\\\\\\\\\\"selectedColumn\\\\\\\\\\\\\\\": \\\\\\\\\\\\\\\"serum_sodium\\\\\\\\\\\\\\\"}}, \\\\\\\\\\\\\\\"typeProperty\\\\\\\\\\\\\\\": 2}, {\\\\\\\\\\\\\\\"column\\\\\\\\\\\\\\\": {\\\\\\\\\\\\\\\"type\\\\\\\\\\\\\\\": 2, \\\\\\\\\\\\\\\"details\\\\\\\\\\\\\\\": {\\\\\\\\\\\\\\\"selectedColumn\\\\\\\\\\\\\\\": \\\\\\\\\\\\\\\"sex\\\\\\\\\\\\\\\"}}, \\\\\\\\\\\\\\\"typeProperty\\\\\\\\\\\\\\\": 2}, {\\\\\\\\\\\\\\\"column\\\\\\\\\\\\\\\": {\\\\\\\\\\\\\\\"type\\\\\\\\\\\\\\\": 2, \\\\\\\\\\\\\\\"details\\\\\\\\\\\\\\\": {\\\\\\\\\\\\\\\"selectedColumn\\\\\\\\\\\\\\\": \\\\\\\\\\\\\\\"smoking\\\\\\\\\\\\\\\"}}, \\\\\\\\\\\\\\\"typeProperty\\\\\\\\\\\\\\\": 2}, {\\\\\\\\\\\\\\\"column\\\\\\\\\\\\\\\": {\\\\\\\\\\\\\\\"type\\\\\\\\\\\\\\\": 2, \\\\\\\\\\\\\\\"details\\\\\\\\\\\\\\\": {\\\\\\\\\\\\\\\"selectedColumn\\\\\\\\\\\\\\\": \\\\\\\\\\\\\\\"time\\\\\\\\\\\\\\\"}}, \\\\\\\\\\\\\\\"typeProperty\\\\\\\\\\\\\\\": 2}, {\\\\\\\\\\\\\\\"column\\\\\\\\\\\\\\\": {\\\\\\\\\\\\\\\"type\\\\\\\\\\\\\\\": 2, \\\\\\\\\\\\\\\"details\\\\\\\\\\\\\\\": {\\\\\\\\\\\\\\\"selectedColumn\\\\\\\\\\\\\\\": \\\\\\\\\\\\\\\"DEATH_EVENT\\\\\\\\\\\\\\\"}}, \\\\\\\\\\\\\\\"typeProperty\\\\\\\\\\\\\\\": 2}]}, \\\\\\\\\\\\\\\"localData\\\\\\\\\\\\\\\": {}, \\\\\\\\\\\\\\\"isEnabled\\\\\\\\\\\\\\\": true, \\\\\\\\\\\\\\\"name\\\\\\\\\\\\\\\": null, \\\\\\\\\\\\\\\"annotation\\\\\\\\\\\\\\\": null}], \\\\\\\\\\\\\\\"inspectors\\\\\\\\\\\\\\\": [], \\\\\\\\\\\\\\\"meta\\\\\\\\\\\\\\\": {\\\\\\\\\\\\\\\"savedDatasetId\\\\\\\\\\\\\\\": \\\\\\\\\\\\\\\"e1ff9590-dad1-4306-aade-3e94975c0d85\\\\\\\\\\\\\\\", \\\\\\\\\\\\\\\"datasetType\\\\\\\\\\\\\\\": \\\\\\\\\\\\\\\"tabular\\\\\\\\\\\\\\\", \\\\\\\\\\\\\\\"subscriptionId\\\\\\\\\\\\\\\": \\\\\\\\\\\\\\\"d4ad7261-832d-46b2-b093-22156001df5b\\\\\\\\\\\\\\\", \\\\\\\\\\\\\\\"workspaceId\\\\\\\\\\\\\\\": \\\\\\\\\\\\\\\"88334f2e-8ab0-48a6-9429-a6277df15ff9\\\\\\\\\\\\\\\", \\\\\\\\\\\\\\\"workspaceLocation\\\\\\\\\\\\\\\": \\\\\\\\\\\\\\\"southcentralus\\\\\\\\\\\\\\\"}}\\\\\\\", \\\\\\\"activities\\\\\\\": 0}\", \"EnableSubsampling\": null, \"runTemplate\": \"AutoML\", \"azureml.runsource\": \"automl\", \"display_task_type\": \"classification\", \"dependencies_versions\": \"{\\\"azureml-widgets\\\": \\\"1.20.0\\\", \\\"azureml-train\\\": \\\"1.20.0\\\", \\\"azureml-train-restclients-hyperdrive\\\": \\\"1.20.0\\\", \\\"azureml-train-core\\\": \\\"1.20.0\\\", \\\"azureml-train-automl\\\": \\\"1.20.0\\\", \\\"azureml-train-automl-runtime\\\": \\\"1.20.0\\\", \\\"azureml-train-automl-client\\\": \\\"1.20.0\\\", \\\"azureml-tensorboard\\\": \\\"1.20.0\\\", \\\"azureml-telemetry\\\": \\\"1.20.0\\\", \\\"azureml-sdk\\\": \\\"1.20.0\\\", \\\"azureml-samples\\\": \\\"0+unknown\\\", \\\"azureml-pipeline\\\": \\\"1.20.0\\\", \\\"azureml-pipeline-steps\\\": \\\"1.20.0\\\", \\\"azureml-pipeline-core\\\": \\\"1.20.0\\\", \\\"azureml-opendatasets\\\": \\\"1.20.0\\\", \\\"azureml-model-management-sdk\\\": \\\"1.0.1b6.post1\\\", \\\"azureml-mlflow\\\": \\\"1.20.0.post1\\\", \\\"azureml-interpret\\\": \\\"1.20.0\\\", \\\"azureml-explain-model\\\": \\\"1.20.0\\\", \\\"azureml-defaults\\\": \\\"1.20.0\\\", \\\"azureml-dataset-runtime\\\": \\\"1.20.0\\\", \\\"azureml-dataprep\\\": \\\"2.7.3\\\", \\\"azureml-dataprep-rslex\\\": \\\"1.5.0\\\", \\\"azureml-dataprep-native\\\": \\\"27.0.0\\\", \\\"azureml-datadrift\\\": \\\"1.20.0\\\", \\\"azureml-core\\\": \\\"1.20.0\\\", \\\"azureml-contrib-services\\\": \\\"1.20.0\\\", \\\"azureml-contrib-server\\\": \\\"1.20.0\\\", \\\"azureml-contrib-reinforcementlearning\\\": \\\"1.20.0\\\", \\\"azureml-contrib-pipeline-steps\\\": \\\"1.20.0\\\", \\\"azureml-contrib-notebook\\\": \\\"1.20.0\\\", \\\"azureml-contrib-interpret\\\": \\\"1.20.0\\\", \\\"azureml-contrib-gbdt\\\": \\\"1.20.0\\\", \\\"azureml-contrib-fairness\\\": \\\"1.20.0\\\", \\\"azureml-contrib-dataset\\\": \\\"1.20.0\\\", \\\"azureml-cli-common\\\": \\\"1.20.0\\\", \\\"azureml-automl-runtime\\\": \\\"1.20.0\\\", \\\"azureml-automl-core\\\": \\\"1.20.0\\\", \\\"azureml-accel-models\\\": \\\"1.20.0\\\"}\", \"_aml_system_scenario_identification\": \"Remote.Parent\", \"ClientType\": \"SDK\", \"environment_cpu_name\": \"AzureML-AutoML\", \"environment_cpu_label\": \"prod\", \"environment_gpu_name\": \"AzureML-AutoML-GPU\", \"environment_gpu_label\": \"prod\", \"root_attribution\": \"automl\", \"attribution\": \"AutoML\", \"Orchestrator\": \"AutoML\", \"CancelUri\": \"https://southcentralus.experiments.azureml.net/jasmine/v1.0/subscriptions/d4ad7261-832d-46b2-b093-22156001df5b/resourceGroups/aml-quickstarts-137352/providers/Microsoft.MachineLearningServices/workspaces/quick-starts-ws-137352/experimentids/988933dc-9c58-4b0b-889a-01a25a43150d/cancel/AutoML_f37b3d8a-310e-4104-8513-3fe9745c745f\", \"azureml.git.repository_uri\": \"https://github.com/maulingogri/Azure-Udacity-MLE-ND-Capstone\", \"mlflow.source.git.repoURL\": \"https://github.com/maulingogri/Azure-Udacity-MLE-ND-Capstone\", \"azureml.git.branch\": \"master\", \"mlflow.source.git.branch\": \"master\", \"azureml.git.commit\": \"89dcb0588d378a5096d1c17710cffd91679b9918\", \"mlflow.source.git.commit\": \"89dcb0588d378a5096d1c17710cffd91679b9918\", \"azureml.git.dirty\": \"True\", \"ClientSdkVersion\": \"1.21.0\", \"snapshotId\": \"00000000-0000-0000-0000-000000000000\", \"SetupRunId\": \"AutoML_f37b3d8a-310e-4104-8513-3fe9745c745f_setup\", \"SetupRunContainerId\": \"dcid.AutoML_f37b3d8a-310e-4104-8513-3fe9745c745f_setup\", \"FeaturizationRunJsonPath\": \"featurizer_container.json\", \"FeaturizationRunId\": \"AutoML_f37b3d8a-310e-4104-8513-3fe9745c745f_featurize\", \"ProblemInfoJsonString\": \"{\\\"dataset_num_categorical\\\": 0, \\\"is_sparse\\\": false, \\\"subsampling\\\": false, \\\"dataset_classes\\\": 2, \\\"dataset_features\\\": 12, \\\"dataset_samples\\\": 299, \\\"single_frequency_class_detected\\\": false}\", \"ModelExplainRunId\": \"AutoML_f37b3d8a-310e-4104-8513-3fe9745c745f_ModelExplain\"}, \"tags\": {\"model_explain_run\": \"best_run\", \"_aml_system_azureml.automlComponent\": \"AutoML\", \"pipeline_id\": \"\", \"score\": \"\", \"predicted_cost\": \"\", \"fit_time\": \"\", \"training_percent\": \"\", \"iteration\": \"\", \"run_preprocessor\": \"\", \"run_algorithm\": \"\", \"dynamic_whitelisting_iterations\": \"<24>;<29>;<34>;\", \"automl_best_child_run_id\": \"AutoML_f37b3d8a-310e-4104-8513-3fe9745c745f_40\", \"model_explain_best_run_child_id\": \"AutoML_f37b3d8a-310e-4104-8513-3fe9745c745f_40\"}, \"end_time_utc\": \"2021-02-05T17:04:16.906284Z\", \"status\": \"Completed\", \"log_files\": {}, \"log_groups\": [], \"run_duration\": \"0:22:22\"}, \"child_runs\": [{\"run_id\": \"AutoML_f37b3d8a-310e-4104-8513-3fe9745c745f_0\", \"run_number\": 5, \"metric\": null, \"status\": \"Completed\", \"run_type\": \"azureml.scriptrun\", \"training_percent\": \"100\", \"start_time\": \"2021-02-05T16:51:09.719744Z\", \"end_time\": \"2021-02-05T16:52:03.193252Z\", \"created_time\": \"2021-02-05T16:50:58.84766Z\", \"created_time_dt\": \"2021-02-05T16:50:58.84766Z\", \"duration\": \"0:01:04\", \"iteration\": \"0\", \"goal\": \"accuracy_max\", \"run_name\": \"MaxAbsScaler, LightGBM\", \"run_properties\": \"copy=True\", \"primary_metric\": 0.8059887, \"best_metric\": 0.8059887}, {\"run_id\": \"AutoML_f37b3d8a-310e-4104-8513-3fe9745c745f_1\", \"run_number\": 6, \"metric\": null, \"status\": \"Completed\", \"run_type\": \"azureml.scriptrun\", \"training_percent\": \"100\", \"start_time\": \"2021-02-05T16:53:06.552511Z\", \"end_time\": \"2021-02-05T16:56:54.036352Z\", \"created_time\": \"2021-02-05T16:50:58.985473Z\", \"created_time_dt\": \"2021-02-05T16:50:58.985473Z\", \"duration\": \"0:05:55\", \"iteration\": \"1\", \"goal\": \"accuracy_max\", \"run_name\": \"MaxAbsScaler, XGBoostClassifier\", \"run_properties\": \"copy=True\", \"primary_metric\": 0.8259322, \"best_metric\": 0.8259322}, {\"run_id\": \"AutoML_f37b3d8a-310e-4104-8513-3fe9745c745f_3\", \"run_number\": 7, \"metric\": null, \"status\": \"Completed\", \"run_type\": \"azureml.scriptrun\", \"training_percent\": \"100\", \"start_time\": \"2021-02-05T16:53:03.020198Z\", \"end_time\": \"2021-02-05T16:53:59.984841Z\", \"created_time\": \"2021-02-05T16:50:58.991867Z\", \"created_time_dt\": \"2021-02-05T16:50:58.991867Z\", \"duration\": \"0:03:00\", \"iteration\": \"3\", \"goal\": \"accuracy_max\", \"run_name\": \"MinMaxScaler, RandomForest\", \"run_properties\": \"copy=True, feature_range=(0, 1\", \"primary_metric\": 0.82254237, \"best_metric\": 0.8259322}, {\"run_id\": \"AutoML_f37b3d8a-310e-4104-8513-3fe9745c745f_2\", \"run_number\": 8, \"metric\": null, \"status\": \"Completed\", \"run_type\": \"azureml.scriptrun\", \"training_percent\": \"100\", \"start_time\": \"2021-02-05T16:53:07.330017Z\", \"end_time\": \"2021-02-05T16:56:47.615981Z\", \"created_time\": \"2021-02-05T16:50:58.990348Z\", \"created_time_dt\": \"2021-02-05T16:50:58.990348Z\", \"duration\": \"0:05:48\", \"iteration\": \"2\", \"goal\": \"accuracy_max\", \"run_name\": \"MinMaxScaler, RandomForest\", \"run_properties\": \"copy=True, feature_range=(0, 1\", \"primary_metric\": 0.82254237, \"best_metric\": 0.8259322}, {\"run_id\": \"AutoML_f37b3d8a-310e-4104-8513-3fe9745c745f_4\", \"run_number\": 9, \"metric\": null, \"status\": \"Completed\", \"run_type\": \"azureml.scriptrun\", \"training_percent\": \"100\", \"start_time\": \"2021-02-05T16:53:10.356212Z\", \"end_time\": \"2021-02-05T16:56:38.35215Z\", \"created_time\": \"2021-02-05T16:50:59.008049Z\", \"created_time_dt\": \"2021-02-05T16:50:59.008049Z\", \"duration\": \"0:05:39\", \"iteration\": \"4\", \"goal\": \"accuracy_max\", \"run_name\": \"MinMaxScaler, RandomForest\", \"run_properties\": \"copy=True, feature_range=(0, 1\", \"primary_metric\": 0.8359322, \"best_metric\": 0.8359322}, {\"run_id\": \"AutoML_f37b3d8a-310e-4104-8513-3fe9745c745f_5\", \"run_number\": 10, \"metric\": null, \"status\": \"Completed\", \"run_type\": \"azureml.scriptrun\", \"training_percent\": \"100\", \"start_time\": \"2021-02-05T16:52:06.695773Z\", \"end_time\": \"2021-02-05T16:52:58.753404Z\", \"created_time\": \"2021-02-05T16:50:59.026914Z\", \"created_time_dt\": \"2021-02-05T16:50:59.026914Z\", \"duration\": \"0:01:59\", \"iteration\": \"5\", \"goal\": \"accuracy_max\", \"run_name\": \"StandardScalerWrapper, XGBoostClassifier\", \"run_properties\": \"<azureml.automl.runtime.shared.model_wrappers.StandardScalerWrapper object at 0x7fca7ab86ba8\", \"primary_metric\": 0.82254237, \"best_metric\": 0.8359322}, {\"run_id\": \"AutoML_f37b3d8a-310e-4104-8513-3fe9745c745f_6\", \"run_number\": 11, \"metric\": null, \"status\": \"Completed\", \"run_type\": \"azureml.scriptrun\", \"training_percent\": \"100\", \"start_time\": \"2021-02-05T16:53:17.629813Z\", \"end_time\": \"2021-02-05T16:56:57.892363Z\", \"created_time\": \"2021-02-05T16:52:05.769288Z\", \"created_time_dt\": \"2021-02-05T16:52:05.769288Z\", \"duration\": \"0:04:52\", \"iteration\": \"6\", \"goal\": \"accuracy_max\", \"run_name\": \"RobustScaler, RandomForest\", \"run_properties\": \"copy=True, quantile_range=[10, 90], with_centering=False,\\n             with_scaling=False\", \"primary_metric\": 0.81237288, \"best_metric\": 0.8359322}, {\"run_id\": \"AutoML_f37b3d8a-310e-4104-8513-3fe9745c745f_7\", \"run_number\": 12, \"metric\": null, \"status\": \"Completed\", \"run_type\": \"azureml.scriptrun\", \"training_percent\": \"100\", \"start_time\": \"2021-02-05T16:53:18.896989Z\", \"end_time\": \"2021-02-05T16:56:42.457823Z\", \"created_time\": \"2021-02-05T16:53:03.91128Z\", \"created_time_dt\": \"2021-02-05T16:53:03.91128Z\", \"duration\": \"0:03:38\", \"iteration\": \"7\", \"goal\": \"accuracy_max\", \"run_name\": \"SparseNormalizer, XGBoostClassifier\", \"run_properties\": \"<azureml.automl.runtime.shared.model_wrappers.SparseNormalizer object at 0x7f0a14cbd4e0\", \"primary_metric\": 0.86299435, \"best_metric\": 0.86299435}, {\"run_id\": \"AutoML_f37b3d8a-310e-4104-8513-3fe9745c745f_8\", \"run_number\": 13, \"metric\": null, \"status\": \"Completed\", \"run_type\": \"azureml.scriptrun\", \"training_percent\": \"100\", \"start_time\": \"2021-02-05T16:54:45.905887Z\", \"end_time\": \"2021-02-05T16:55:36.391552Z\", \"created_time\": \"2021-02-05T16:54:33.939165Z\", \"created_time_dt\": \"2021-02-05T16:54:33.939165Z\", \"duration\": \"0:01:02\", \"iteration\": \"8\", \"goal\": \"accuracy_max\", \"run_name\": \"MinMaxScaler, SVM\", \"run_properties\": \"copy=True, feature_range=(0, 1\", \"primary_metric\": 0.71909605, \"best_metric\": 0.86299435}, {\"run_id\": \"AutoML_f37b3d8a-310e-4104-8513-3fe9745c745f_9\", \"run_number\": 14, \"metric\": null, \"status\": \"Completed\", \"run_type\": \"azureml.scriptrun\", \"training_percent\": \"100\", \"start_time\": \"2021-02-05T16:55:50.494358Z\", \"end_time\": \"2021-02-05T16:56:44.497904Z\", \"created_time\": \"2021-02-05T16:55:39.500533Z\", \"created_time_dt\": \"2021-02-05T16:55:39.500533Z\", \"duration\": \"0:01:04\", \"iteration\": \"9\", \"goal\": \"accuracy_max\", \"run_name\": \"MaxAbsScaler, LightGBM\", \"run_properties\": \"copy=True\", \"primary_metric\": 0.8360452, \"best_metric\": 0.86299435}, {\"run_id\": \"AutoML_f37b3d8a-310e-4104-8513-3fe9745c745f_10\", \"run_number\": 15, \"metric\": null, \"status\": \"Completed\", \"run_type\": \"azureml.scriptrun\", \"training_percent\": \"100\", \"start_time\": \"2021-02-05T16:56:52.545137Z\", \"end_time\": \"2021-02-05T16:57:42.517731Z\", \"created_time\": \"2021-02-05T16:56:40.812817Z\", \"created_time_dt\": \"2021-02-05T16:56:40.812817Z\", \"duration\": \"0:01:01\", \"iteration\": \"10\", \"goal\": \"accuracy_max\", \"run_name\": \"MaxAbsScaler, GradientBoosting\", \"run_properties\": \"copy=True\", \"primary_metric\": 0.82932203, \"best_metric\": 0.86299435}, {\"run_id\": \"AutoML_f37b3d8a-310e-4104-8513-3fe9745c745f_11\", \"run_number\": 16, \"metric\": null, \"status\": \"Completed\", \"run_type\": \"azureml.scriptrun\", \"training_percent\": \"100\", \"start_time\": \"2021-02-05T16:56:59.37672Z\", \"end_time\": \"2021-02-05T16:57:49.155446Z\", \"created_time\": \"2021-02-05T16:56:45.487553Z\", \"created_time_dt\": \"2021-02-05T16:56:45.487553Z\", \"duration\": \"0:01:03\", \"iteration\": \"11\", \"goal\": \"accuracy_max\", \"run_name\": \"MaxAbsScaler, LightGBM\", \"run_properties\": \"copy=True\", \"primary_metric\": 0.8460452, \"best_metric\": 0.86299435}, {\"run_id\": \"AutoML_f37b3d8a-310e-4104-8513-3fe9745c745f_12\", \"run_number\": 17, \"metric\": null, \"status\": \"Completed\", \"run_type\": \"azureml.scriptrun\", \"training_percent\": \"100\", \"start_time\": \"2021-02-05T16:57:05.036657Z\", \"end_time\": \"2021-02-05T16:57:49.878673Z\", \"created_time\": \"2021-02-05T16:56:52.414486Z\", \"created_time_dt\": \"2021-02-05T16:56:52.414486Z\", \"duration\": \"0:00:57\", \"iteration\": \"12\", \"goal\": \"accuracy_max\", \"run_name\": \"RobustScaler, RandomForest\", \"run_properties\": \"copy=True, quantile_range=[25, 75], with_centering=False,\\n             with_scaling=True\", \"primary_metric\": 0.84271186, \"best_metric\": 0.86299435}, {\"run_id\": \"AutoML_f37b3d8a-310e-4104-8513-3fe9745c745f_13\", \"run_number\": 18, \"metric\": null, \"status\": \"Completed\", \"run_type\": \"azureml.scriptrun\", \"training_percent\": \"100\", \"start_time\": \"2021-02-05T16:57:04.849103Z\", \"end_time\": \"2021-02-05T16:57:52.450759Z\", \"created_time\": \"2021-02-05T16:56:52.542062Z\", \"created_time_dt\": \"2021-02-05T16:56:52.542062Z\", \"duration\": \"0:00:59\", \"iteration\": \"13\", \"goal\": \"accuracy_max\", \"run_name\": \"MaxAbsScaler, RandomForest\", \"run_properties\": \"copy=True\", \"primary_metric\": 0.84282486, \"best_metric\": 0.86299435}, {\"run_id\": \"AutoML_f37b3d8a-310e-4104-8513-3fe9745c745f_14\", \"run_number\": 19, \"metric\": null, \"status\": \"Completed\", \"run_type\": \"azureml.scriptrun\", \"training_percent\": \"100\", \"start_time\": \"2021-02-05T16:57:12.43184Z\", \"end_time\": \"2021-02-05T16:57:59.102006Z\", \"created_time\": \"2021-02-05T16:56:57.952413Z\", \"created_time_dt\": \"2021-02-05T16:56:57.952413Z\", \"duration\": \"0:01:01\", \"iteration\": \"14\", \"goal\": \"accuracy_max\", \"run_name\": \"StandardScalerWrapper, LightGBM\", \"run_properties\": \"<azureml.automl.runtime.shared.model_wrappers.StandardScalerWrapper object at 0x7f5434693a58\", \"primary_metric\": 0.84271186, \"best_metric\": 0.86299435}, {\"run_id\": \"AutoML_f37b3d8a-310e-4104-8513-3fe9745c745f_15\", \"run_number\": 20, \"metric\": null, \"status\": \"Completed\", \"run_type\": \"azureml.scriptrun\", \"training_percent\": \"100\", \"start_time\": \"2021-02-05T16:57:18.794437Z\", \"end_time\": \"2021-02-05T16:58:05.445096Z\", \"created_time\": \"2021-02-05T16:57:03.988904Z\", \"created_time_dt\": \"2021-02-05T16:57:03.988904Z\", \"duration\": \"0:01:01\", \"iteration\": \"15\", \"goal\": \"accuracy_max\", \"run_name\": \"StandardScalerWrapper, LightGBM\", \"run_properties\": \"<azureml.automl.runtime.shared.model_wrappers.StandardScalerWrapper object at 0x7f31eef82f60\", \"primary_metric\": 0.83937853, \"best_metric\": 0.86299435}, {\"run_id\": \"AutoML_f37b3d8a-310e-4104-8513-3fe9745c745f_16\", \"run_number\": 21, \"metric\": null, \"status\": \"Completed\", \"run_type\": \"azureml.scriptrun\", \"training_percent\": \"100\", \"start_time\": \"2021-02-05T16:57:58.739127Z\", \"end_time\": \"2021-02-05T16:58:45.507094Z\", \"created_time\": \"2021-02-05T16:57:45.786767Z\", \"created_time_dt\": \"2021-02-05T16:57:45.786767Z\", \"duration\": \"0:00:59\", \"iteration\": \"16\", \"goal\": \"accuracy_max\", \"run_name\": \"StandardScalerWrapper, XGBoostClassifier\", \"run_properties\": \"<azureml.automl.runtime.shared.model_wrappers.StandardScalerWrapper object at 0x7f8b380de9b0\", \"primary_metric\": 0.82265537, \"best_metric\": 0.86299435}, {\"run_id\": \"AutoML_f37b3d8a-310e-4104-8513-3fe9745c745f_17\", \"run_number\": 22, \"metric\": null, \"status\": \"Completed\", \"run_type\": \"azureml.scriptrun\", \"training_percent\": \"100\", \"start_time\": \"2021-02-05T16:58:02.902912Z\", \"end_time\": \"2021-02-05T16:58:57.708551Z\", \"created_time\": \"2021-02-05T16:57:51.437934Z\", \"created_time_dt\": \"2021-02-05T16:57:51.437934Z\", \"duration\": \"0:01:06\", \"iteration\": \"17\", \"goal\": \"accuracy_max\", \"run_name\": \"MinMaxScaler, LightGBM\", \"run_properties\": \"copy=True, feature_range=(0, 1\", \"primary_metric\": 0.77254237, \"best_metric\": 0.86299435}, {\"run_id\": \"AutoML_f37b3d8a-310e-4104-8513-3fe9745c745f_18\", \"run_number\": 23, \"metric\": null, \"status\": \"Completed\", \"run_type\": \"azureml.scriptrun\", \"training_percent\": \"100\", \"start_time\": \"2021-02-05T16:58:09.614612Z\", \"end_time\": \"2021-02-05T16:58:56.004429Z\", \"created_time\": \"2021-02-05T16:57:55.882758Z\", \"created_time_dt\": \"2021-02-05T16:57:55.882758Z\", \"duration\": \"0:01:00\", \"iteration\": \"18\", \"goal\": \"accuracy_max\", \"run_name\": \"StandardScalerWrapper, XGBoostClassifier\", \"run_properties\": \"<azureml.automl.runtime.shared.model_wrappers.StandardScalerWrapper object at 0x7ff92eab10f0\", \"primary_metric\": 0.80610169, \"best_metric\": 0.86299435}, {\"run_id\": \"AutoML_f37b3d8a-310e-4104-8513-3fe9745c745f_19\", \"run_number\": 24, \"metric\": null, \"status\": \"Completed\", \"run_type\": \"azureml.scriptrun\", \"training_percent\": \"100\", \"start_time\": \"2021-02-05T16:58:09.825626Z\", \"end_time\": \"2021-02-05T16:58:59.610519Z\", \"created_time\": \"2021-02-05T16:57:56.010298Z\", \"created_time_dt\": \"2021-02-05T16:57:56.010298Z\", \"duration\": \"0:01:03\", \"iteration\": \"19\", \"goal\": \"accuracy_max\", \"run_name\": \"SparseNormalizer, XGBoostClassifier\", \"run_properties\": \"<azureml.automl.runtime.shared.model_wrappers.SparseNormalizer object at 0x7fb8f2370dd8\", \"primary_metric\": 0.84293785, \"best_metric\": 0.86299435}, {\"run_id\": \"AutoML_f37b3d8a-310e-4104-8513-3fe9745c745f_20\", \"run_number\": 25, \"metric\": null, \"status\": \"Completed\", \"run_type\": \"azureml.scriptrun\", \"training_percent\": \"100\", \"start_time\": \"2021-02-05T16:58:13.470387Z\", \"end_time\": \"2021-02-05T16:59:11.660258Z\", \"created_time\": \"2021-02-05T16:58:01.198518Z\", \"created_time_dt\": \"2021-02-05T16:58:01.198518Z\", \"duration\": \"0:01:10\", \"iteration\": \"20\", \"goal\": \"accuracy_max\", \"run_name\": \"RobustScaler, LightGBM\", \"run_properties\": \"copy=True, quantile_range=[25, 75], with_centering=False,\\n             with_scaling=False\", \"primary_metric\": 0.83265537, \"best_metric\": 0.86299435}, {\"run_id\": \"AutoML_f37b3d8a-310e-4104-8513-3fe9745c745f_21\", \"run_number\": 26, \"metric\": null, \"status\": \"Completed\", \"run_type\": \"azureml.scriptrun\", \"training_percent\": \"100\", \"start_time\": \"2021-02-05T16:58:17.750044Z\", \"end_time\": \"2021-02-05T16:59:11.824961Z\", \"created_time\": \"2021-02-05T16:58:07.578206Z\", \"created_time_dt\": \"2021-02-05T16:58:07.578206Z\", \"duration\": \"0:01:04\", \"iteration\": \"21\", \"goal\": \"accuracy_max\", \"run_name\": \"StandardScalerWrapper, XGBoostClassifier\", \"run_properties\": \"<azureml.automl.runtime.shared.model_wrappers.StandardScalerWrapper object at 0x7f677cf250f0\", \"primary_metric\": 0.81254237, \"best_metric\": 0.86299435}, {\"run_id\": \"AutoML_f37b3d8a-310e-4104-8513-3fe9745c745f_22\", \"run_number\": 27, \"metric\": null, \"status\": \"Completed\", \"run_type\": \"azureml.scriptrun\", \"training_percent\": \"100\", \"start_time\": \"2021-02-05T16:58:58.821613Z\", \"end_time\": \"2021-02-05T16:59:58.150311Z\", \"created_time\": \"2021-02-05T16:58:48.468828Z\", \"created_time_dt\": \"2021-02-05T16:58:48.468828Z\", \"duration\": \"0:01:09\", \"iteration\": \"22\", \"goal\": \"accuracy_max\", \"run_name\": \"MinMaxScaler, LightGBM\", \"run_properties\": \"copy=True, feature_range=(0, 1\", \"primary_metric\": 0.83587571, \"best_metric\": 0.86299435}, {\"run_id\": \"AutoML_f37b3d8a-310e-4104-8513-3fe9745c745f_23\", \"run_number\": 28, \"metric\": null, \"status\": \"Completed\", \"run_type\": \"azureml.scriptrun\", \"training_percent\": \"100\", \"start_time\": \"2021-02-05T16:59:10.748893Z\", \"end_time\": \"2021-02-05T17:00:03.281438Z\", \"created_time\": \"2021-02-05T16:58:58.452656Z\", \"created_time_dt\": \"2021-02-05T16:58:58.452656Z\", \"duration\": \"0:01:04\", \"iteration\": \"23\", \"goal\": \"accuracy_max\", \"run_name\": \"MaxAbsScaler, LightGBM\", \"run_properties\": \"copy=True\", \"primary_metric\": 0.78920904, \"best_metric\": 0.86299435}, {\"run_id\": \"AutoML_f37b3d8a-310e-4104-8513-3fe9745c745f_24\", \"run_number\": 29, \"metric\": null, \"status\": \"Completed\", \"run_type\": \"azureml.scriptrun\", \"training_percent\": \"100\", \"start_time\": \"2021-02-05T16:59:15.157932Z\", \"end_time\": \"2021-02-05T17:00:03.212619Z\", \"created_time\": \"2021-02-05T16:59:03.897144Z\", \"created_time_dt\": \"2021-02-05T16:59:03.897144Z\", \"duration\": \"0:00:59\", \"iteration\": \"24\", \"goal\": \"accuracy_max\", \"run_name\": \"SparseNormalizer, XGBoostClassifier\", \"run_properties\": \"<azureml.automl.runtime.shared.model_wrappers.SparseNormalizer object at 0x7fafa5660588\", \"primary_metric\": 0.67909605, \"best_metric\": 0.86299435}, {\"run_id\": \"AutoML_f37b3d8a-310e-4104-8513-3fe9745c745f_25\", \"run_number\": 30, \"metric\": null, \"status\": \"Completed\", \"run_type\": \"azureml.scriptrun\", \"training_percent\": \"100\", \"start_time\": \"2021-02-05T16:59:14.631036Z\", \"end_time\": \"2021-02-05T17:00:09.36351Z\", \"created_time\": \"2021-02-05T16:59:04.076473Z\", \"created_time_dt\": \"2021-02-05T16:59:04.076473Z\", \"duration\": \"0:01:05\", \"iteration\": \"25\", \"goal\": \"accuracy_max\", \"run_name\": \"MinMaxScaler, ExtremeRandomTrees\", \"run_properties\": \"copy=True, feature_range=(0, 1\", \"primary_metric\": 0.85621469, \"best_metric\": 0.86299435}, {\"run_id\": \"AutoML_f37b3d8a-310e-4104-8513-3fe9745c745f_27\", \"run_number\": 31, \"metric\": null, \"status\": \"Completed\", \"run_type\": \"azureml.scriptrun\", \"training_percent\": \"100\", \"start_time\": \"2021-02-05T16:59:26.455918Z\", \"end_time\": \"2021-02-05T17:00:16.269526Z\", \"created_time\": \"2021-02-05T16:59:14.016697Z\", \"created_time_dt\": \"2021-02-05T16:59:14.016697Z\", \"duration\": \"0:01:02\", \"iteration\": \"27\", \"goal\": \"accuracy_max\", \"run_name\": \"StandardScalerWrapper, LightGBM\", \"run_properties\": \"<azureml.automl.runtime.shared.model_wrappers.StandardScalerWrapper object at 0x7fa8d8093630\", \"primary_metric\": 0.75248588, \"best_metric\": 0.86299435}, {\"run_id\": \"AutoML_f37b3d8a-310e-4104-8513-3fe9745c745f_26\", \"run_number\": 32, \"metric\": null, \"status\": \"Completed\", \"run_type\": \"azureml.scriptrun\", \"training_percent\": \"100\", \"start_time\": \"2021-02-05T16:59:27.27098Z\", \"end_time\": \"2021-02-05T17:00:13.817013Z\", \"created_time\": \"2021-02-05T16:59:14.008008Z\", \"created_time_dt\": \"2021-02-05T16:59:14.008008Z\", \"duration\": \"0:00:59\", \"iteration\": \"26\", \"goal\": \"accuracy_max\", \"run_name\": \"SparseNormalizer, LightGBM\", \"run_properties\": \"<azureml.automl.runtime.shared.model_wrappers.SparseNormalizer object at 0x7f31220545f8\", \"primary_metric\": 0.85615819, \"best_metric\": 0.86299435}, {\"run_id\": \"AutoML_f37b3d8a-310e-4104-8513-3fe9745c745f_28\", \"run_number\": 33, \"metric\": null, \"status\": \"Completed\", \"run_type\": \"azureml.scriptrun\", \"training_percent\": \"100\", \"start_time\": \"2021-02-05T17:00:16.032829Z\", \"end_time\": \"2021-02-05T17:01:11.792743Z\", \"created_time\": \"2021-02-05T17:00:00.745445Z\", \"created_time_dt\": \"2021-02-05T17:00:00.745445Z\", \"duration\": \"0:01:11\", \"iteration\": \"28\", \"goal\": \"accuracy_max\", \"run_name\": \"SparseNormalizer, XGBoostClassifier\", \"run_properties\": \"<azureml.automl.runtime.shared.model_wrappers.SparseNormalizer object at 0x7f817d21df98\", \"primary_metric\": 0.85288136, \"best_metric\": 0.86299435}, {\"run_id\": \"AutoML_f37b3d8a-310e-4104-8513-3fe9745c745f_29\", \"run_number\": 34, \"metric\": null, \"status\": \"Completed\", \"run_type\": \"azureml.scriptrun\", \"training_percent\": \"100\", \"start_time\": \"2021-02-05T17:00:20.921723Z\", \"end_time\": \"2021-02-05T17:01:07.012308Z\", \"created_time\": \"2021-02-05T17:00:07.897783Z\", \"created_time_dt\": \"2021-02-05T17:00:07.897783Z\", \"duration\": \"0:00:59\", \"iteration\": \"29\", \"goal\": \"accuracy_max\", \"run_name\": \"TruncatedSVDWrapper, XGBoostClassifier\", \"run_properties\": \"n_components=0.5047368421052632, random_state=None\", \"primary_metric\": 0.81926554, \"best_metric\": 0.86299435}, {\"run_id\": \"AutoML_f37b3d8a-310e-4104-8513-3fe9745c745f_30\", \"run_number\": 35, \"metric\": null, \"status\": \"Completed\", \"run_type\": \"azureml.scriptrun\", \"training_percent\": \"100\", \"start_time\": \"2021-02-05T17:00:21.181651Z\", \"end_time\": \"2021-02-05T17:01:07.412608Z\", \"created_time\": \"2021-02-05T17:00:08.064572Z\", \"created_time_dt\": \"2021-02-05T17:00:08.064572Z\", \"duration\": \"0:00:59\", \"iteration\": \"30\", \"goal\": \"accuracy_max\", \"run_name\": \"StandardScalerWrapper, KNN\", \"run_properties\": \"<azureml.automl.runtime.shared.model_wrappers.StandardScalerWrapper object at 0x7fa36bf906d8\", \"primary_metric\": 0.64887006, \"best_metric\": 0.86299435}, {\"run_id\": \"AutoML_f37b3d8a-310e-4104-8513-3fe9745c745f_31\", \"run_number\": 36, \"metric\": null, \"status\": \"Completed\", \"run_type\": \"azureml.scriptrun\", \"training_percent\": \"100\", \"start_time\": \"2021-02-05T17:00:24.806226Z\", \"end_time\": \"2021-02-05T17:01:12.540526Z\", \"created_time\": \"2021-02-05T17:00:14.107994Z\", \"created_time_dt\": \"2021-02-05T17:00:14.107994Z\", \"duration\": \"0:00:58\", \"iteration\": \"31\", \"goal\": \"accuracy_max\", \"run_name\": \"StandardScalerWrapper, LightGBM\", \"run_properties\": \"<azureml.automl.runtime.shared.model_wrappers.StandardScalerWrapper object at 0x7fb641a282e8\", \"primary_metric\": 0.82937853, \"best_metric\": 0.86299435}, {\"run_id\": \"AutoML_f37b3d8a-310e-4104-8513-3fe9745c745f_32\", \"run_number\": 37, \"metric\": null, \"status\": \"Completed\", \"run_type\": \"azureml.scriptrun\", \"training_percent\": \"100\", \"start_time\": \"2021-02-05T17:00:28.655562Z\", \"end_time\": \"2021-02-05T17:01:19.313821Z\", \"created_time\": \"2021-02-05T17:00:18.297623Z\", \"created_time_dt\": \"2021-02-05T17:00:18.297623Z\", \"duration\": \"0:01:01\", \"iteration\": \"32\", \"goal\": \"accuracy_max\", \"run_name\": \"MaxAbsScaler, LightGBM\", \"run_properties\": \"copy=True\", \"primary_metric\": 0.82932203, \"best_metric\": 0.86299435}, {\"run_id\": \"AutoML_f37b3d8a-310e-4104-8513-3fe9745c745f_33\", \"run_number\": 38, \"metric\": null, \"status\": \"Completed\", \"run_type\": \"azureml.scriptrun\", \"training_percent\": \"100\", \"start_time\": \"2021-02-05T17:00:33.31404Z\", \"end_time\": \"2021-02-05T17:01:19.715419Z\", \"created_time\": \"2021-02-05T17:00:18.303224Z\", \"created_time_dt\": \"2021-02-05T17:00:18.303224Z\", \"duration\": \"0:01:01\", \"iteration\": \"33\", \"goal\": \"accuracy_max\", \"run_name\": \"MaxAbsScaler, LightGBM\", \"run_properties\": \"copy=True\", \"primary_metric\": 0.82926554, \"best_metric\": 0.86299435}, {\"run_id\": \"AutoML_f37b3d8a-310e-4104-8513-3fe9745c745f_34\", \"run_number\": 39, \"metric\": null, \"status\": \"Canceled\", \"run_type\": \"azureml.scriptrun\", \"training_percent\": \"100\", \"start_time\": \"2021-02-05T17:01:21.338711Z\", \"end_time\": \"2021-02-05T17:02:14.977233Z\", \"created_time\": \"2021-02-05T17:01:10.331864Z\", \"created_time_dt\": \"2021-02-05T17:01:10.331864Z\", \"duration\": \"0:01:04\", \"iteration\": \"34\", \"goal\": \"accuracy_max\", \"run_name\": \"StandardScalerWrapper, XGBoostClassifier\", \"run_properties\": \"<azureml.automl.runtime.shared.model_wrappers.StandardScalerWrapper object at 0x7f4864541668\", \"primary_metric\": 0.83271186, \"best_metric\": 0.86299435}, {\"run_id\": \"AutoML_f37b3d8a-310e-4104-8513-3fe9745c745f_35\", \"run_number\": 40, \"metric\": null, \"status\": \"Completed\", \"run_type\": \"azureml.scriptrun\", \"training_percent\": \"100\", \"start_time\": \"2021-02-05T17:01:22.706165Z\", \"end_time\": \"2021-02-05T17:02:06.182207Z\", \"created_time\": \"2021-02-05T17:01:10.351405Z\", \"created_time_dt\": \"2021-02-05T17:01:10.351405Z\", \"duration\": \"0:00:55\", \"iteration\": \"35\", \"goal\": \"accuracy_max\", \"run_name\": \"StandardScalerWrapper, LightGBM\", \"run_properties\": \"<azureml.automl.runtime.shared.model_wrappers.StandardScalerWrapper object at 0x7f8ab17e3b70\", \"primary_metric\": 0.83265537, \"best_metric\": 0.86299435}, {\"run_id\": \"AutoML_f37b3d8a-310e-4104-8513-3fe9745c745f_36\", \"run_number\": 41, \"metric\": null, \"status\": \"Canceled\", \"run_type\": \"azureml.scriptrun\", \"training_percent\": \"100\", \"start_time\": \"2021-02-05T17:01:27.036304Z\", \"end_time\": \"2021-02-05T17:02:15.662756Z\", \"created_time\": \"2021-02-05T17:01:15.089723Z\", \"created_time_dt\": \"2021-02-05T17:01:15.089723Z\", \"duration\": \"0:01:00\", \"iteration\": \"36\", \"goal\": \"accuracy_max\", \"run_name\": \"RobustScaler, RandomForest\", \"run_properties\": \"copy=True, quantile_range=[10, 90], with_centering=True,\\n             with_scaling=True\", \"primary_metric\": 0.81242938, \"best_metric\": 0.86299435}, {\"run_id\": \"AutoML_f37b3d8a-310e-4104-8513-3fe9745c745f_37\", \"run_number\": 42, \"metric\": null, \"status\": \"Canceled\", \"run_type\": \"azureml.scriptrun\", \"training_percent\": \"100\", \"start_time\": \"2021-02-05T17:01:28.437226Z\", \"end_time\": \"2021-02-05T17:02:14.379433Z\", \"created_time\": \"2021-02-05T17:01:15.215375Z\", \"created_time_dt\": \"2021-02-05T17:01:15.215375Z\", \"duration\": \"0:00:59\", \"iteration\": \"37\", \"goal\": \"accuracy_max\", \"run_name\": \"RobustScaler, RandomForest\", \"run_properties\": \"copy=True, quantile_range=[25, 75], with_centering=True,\\n             with_scaling=True\", \"primary_metric\": 0.8460452, \"best_metric\": 0.86299435}, {\"run_id\": \"AutoML_f37b3d8a-310e-4104-8513-3fe9745c745f_38\", \"run_number\": 43, \"metric\": null, \"status\": \"Canceled\", \"run_type\": \"azureml.scriptrun\", \"training_percent\": \"100\", \"start_time\": \"2021-02-05T17:01:33.338051Z\", \"end_time\": \"2021-02-05T17:02:16.268241Z\", \"created_time\": \"2021-02-05T17:01:21.357736Z\", \"created_time_dt\": \"2021-02-05T17:01:21.357736Z\", \"duration\": \"0:00:54\", \"iteration\": \"38\", \"goal\": \"accuracy_max\", \"run_name\": \"MinMaxScaler, RandomForest\", \"run_properties\": \"copy=True, feature_range=(0, 1\", \"primary_metric\": 0.82932203, \"best_metric\": 0.86299435}, {\"run_id\": \"AutoML_f37b3d8a-310e-4104-8513-3fe9745c745f_39\", \"run_number\": 44, \"metric\": null, \"status\": \"Canceled\", \"run_type\": \"azureml.scriptrun\", \"training_percent\": \"100\", \"start_time\": \"2021-02-05T17:01:40.341287Z\", \"end_time\": \"2021-02-05T17:02:15.245044Z\", \"created_time\": \"2021-02-05T17:01:25.613164Z\", \"created_time_dt\": \"2021-02-05T17:01:25.613164Z\", \"duration\": \"0:00:49\", \"iteration\": \"39\", \"goal\": \"accuracy_max\", \"run_name\": \"RobustScaler, GradientBoosting\", \"run_properties\": \"copy=True, quantile_range=[25, 75], with_centering=True,\\n             with_scaling=True\", \"primary_metric\": 0.83937853, \"best_metric\": 0.86299435}, {\"run_id\": \"AutoML_f37b3d8a-310e-4104-8513-3fe9745c745f_40\", \"run_number\": 45, \"metric\": null, \"status\": \"Completed\", \"run_type\": \"azureml.scriptrun\", \"training_percent\": \"100\", \"start_time\": \"2021-02-05T17:02:27.499351Z\", \"end_time\": \"2021-02-05T17:04:03.822885Z\", \"created_time\": \"2021-02-05T17:02:17.393749Z\", \"created_time_dt\": \"2021-02-05T17:02:17.393749Z\", \"duration\": \"0:01:46\", \"iteration\": \"40\", \"goal\": \"accuracy_max\", \"run_name\": \"VotingEnsemble\", \"run_properties\": \"classification_labels=None,\\n                              estimators=[('7',\\n                                           Pipeline(memory=None,\\n                                                    steps=[('sparsenormalizer',\\n                                                            <azureml.automl.runtime.shared.model_wrappers.SparseNormalizer object at 0x7fdec5cf0cf8>\", \"primary_metric\": 0.88638418, \"best_metric\": 0.88638418}, {\"run_id\": \"AutoML_f37b3d8a-310e-4104-8513-3fe9745c745f_41\", \"run_number\": 46, \"metric\": null, \"status\": \"Completed\", \"run_type\": \"azureml.scriptrun\", \"training_percent\": \"100\", \"start_time\": \"2021-02-05T17:02:28.620766Z\", \"end_time\": \"2021-02-05T17:04:02.164577Z\", \"created_time\": \"2021-02-05T17:02:17.478888Z\", \"created_time_dt\": \"2021-02-05T17:02:17.478888Z\", \"duration\": \"0:01:44\", \"iteration\": \"41\", \"goal\": \"accuracy_max\", \"run_name\": \"StackEnsemble\", \"run_properties\": \"base_learners=[('7',\\n                                        Pipeline(memory=None,\\n                                                 steps=[('sparsenormalizer',\\n                                                         <azureml.automl.runtime.shared.model_wrappers.SparseNormalizer object at 0x7f8c3c1d8b38>\", \"primary_metric\": 0.87638418, \"best_metric\": 0.88638418}], \"children_metrics\": {\"categories\": [0], \"series\": {\"matthews_correlation\": [{\"categories\": [\"0\", \"1\", \"2\", \"3\", \"4\", \"5\", \"6\", \"7\", \"8\", \"9\", \"10\", \"11\", \"12\", \"13\", \"14\", \"15\", \"16\", \"17\", \"18\", \"19\", \"20\", \"21\", \"22\", \"23\", \"24\", \"25\", \"26\", \"27\", \"28\", \"29\", \"30\", \"31\", \"32\", \"33\", \"34\", \"35\", \"36\", \"37\", \"38\", \"39\", \"40\", \"41\"], \"mode\": \"markers\", \"name\": \"matthews_correlation\", \"stepped\": false, \"type\": \"scatter\", \"data\": [0.5628617041183437, 0.6132552509330647, 0.5983969117418197, 0.5914801858505634, 0.631338901769109, 0.5997806450915215, 0.5901014777849438, 0.6894264268687875, 0.30508032358830384, 0.6234116153494524, 0.6138203663925594, 0.6434829400534046, 0.6406553479171099, 0.6438067205176553, 0.6379059547114501, 0.6293673494859856, 0.5832835639254463, 0.4769239457378391, 0.5553572959101698, 0.642765171332357, 0.6185540563573734, 0.5519948987810502, 0.6205217489476467, 0.500344783251288, 0.0, 0.6740233218514187, 0.6706182874027481, 0.4112834199581067, 0.660580426277393, 0.5696319317934357, 0.11262023552864224, 0.6124918481848944, 0.6132676485075687, 0.6163994808703721, 0.6109833255302364, 0.6240577984106073, 0.5729872311407997, 0.6465995046543502, 0.6128082286020528, 0.635426937419036, 0.7487447784810415, 0.7310761145584463]}, {\"categories\": [\"0\", \"1\", \"2\", \"3\", \"4\", \"5\", \"6\", \"7\", \"8\", \"9\", \"10\", \"11\", \"12\", \"13\", \"14\", \"15\", \"16\", \"17\", \"18\", \"19\", \"20\", \"21\", \"22\", \"23\", \"24\", \"25\", \"26\", \"27\", \"28\", \"29\", \"30\", \"31\", \"32\", \"33\", \"34\", \"35\", \"36\", \"37\", \"38\", \"39\", \"40\", \"41\"], \"mode\": \"lines\", \"name\": \"matthews_correlation_max\", \"stepped\": true, \"type\": \"scatter\", \"data\": [0.5628617041183437, 0.6132552509330647, 0.6132552509330647, 0.6132552509330647, 0.631338901769109, 0.631338901769109, 0.631338901769109, 0.6894264268687875, 0.6894264268687875, 0.6894264268687875, 0.6894264268687875, 0.6894264268687875, 0.6894264268687875, 0.6894264268687875, 0.6894264268687875, 0.6894264268687875, 0.6894264268687875, 0.6894264268687875, 0.6894264268687875, 0.6894264268687875, 0.6894264268687875, 0.6894264268687875, 0.6894264268687875, 0.6894264268687875, 0.6894264268687875, 0.6894264268687875, 0.6894264268687875, 0.6894264268687875, 0.6894264268687875, 0.6894264268687875, 0.6894264268687875, 0.6894264268687875, 0.6894264268687875, 0.6894264268687875, 0.6894264268687875, 0.6894264268687875, 0.6894264268687875, 0.6894264268687875, 0.6894264268687875, 0.6894264268687875, 0.7487447784810415, 0.7487447784810415]}], \"recall_score_weighted\": [{\"categories\": [\"0\", \"1\", \"2\", \"3\", \"4\", \"5\", \"6\", \"7\", \"8\", \"9\", \"10\", \"11\", \"12\", \"13\", \"14\", \"15\", \"16\", \"17\", \"18\", \"19\", \"20\", \"21\", \"22\", \"23\", \"24\", \"25\", \"26\", \"27\", \"28\", \"29\", \"30\", \"31\", \"32\", \"33\", \"34\", \"35\", \"36\", \"37\", \"38\", \"39\", \"40\", \"41\"], \"mode\": \"markers\", \"name\": \"recall_score_weighted\", \"stepped\": false, \"type\": \"scatter\", \"data\": [0.8059887005649717, 0.8259322033898304, 0.822542372881356, 0.822542372881356, 0.8359322033898305, 0.822542372881356, 0.8123728813559323, 0.8629943502824858, 0.7190960451977401, 0.836045197740113, 0.8293220338983052, 0.8460451977401131, 0.8427118644067797, 0.8428248587570621, 0.8427118644067797, 0.8393785310734463, 0.8226553672316385, 0.7725423728813559, 0.8061016949152542, 0.8429378531073446, 0.8326553672316385, 0.8125423728813559, 0.8358757062146893, 0.7892090395480226, 0.67909604519774, 0.8562146892655367, 0.8561581920903955, 0.7524858757062146, 0.8528813559322034, 0.8192655367231639, 0.6488700564971752, 0.8293785310734464, 0.8293220338983052, 0.8292655367231638, 0.8327118644067797, 0.8326553672316385, 0.8124293785310736, 0.846045197740113, 0.8293220338983052, 0.8393785310734463, 0.8863841807909605, 0.8763841807909605]}, {\"categories\": [\"0\", \"1\", \"2\", \"3\", \"4\", \"5\", \"6\", \"7\", \"8\", \"9\", \"10\", \"11\", \"12\", \"13\", \"14\", \"15\", \"16\", \"17\", \"18\", \"19\", \"20\", \"21\", \"22\", \"23\", \"24\", \"25\", \"26\", \"27\", \"28\", \"29\", \"30\", \"31\", \"32\", \"33\", \"34\", \"35\", \"36\", \"37\", \"38\", \"39\", \"40\", \"41\"], \"mode\": \"lines\", \"name\": \"recall_score_weighted_max\", \"stepped\": true, \"type\": \"scatter\", \"data\": [0.8059887005649717, 0.8259322033898304, 0.8259322033898304, 0.8259322033898304, 0.8359322033898305, 0.8359322033898305, 0.8359322033898305, 0.8629943502824858, 0.8629943502824858, 0.8629943502824858, 0.8629943502824858, 0.8629943502824858, 0.8629943502824858, 0.8629943502824858, 0.8629943502824858, 0.8629943502824858, 0.8629943502824858, 0.8629943502824858, 0.8629943502824858, 0.8629943502824858, 0.8629943502824858, 0.8629943502824858, 0.8629943502824858, 0.8629943502824858, 0.8629943502824858, 0.8629943502824858, 0.8629943502824858, 0.8629943502824858, 0.8629943502824858, 0.8629943502824858, 0.8629943502824858, 0.8629943502824858, 0.8629943502824858, 0.8629943502824858, 0.8629943502824858, 0.8629943502824858, 0.8629943502824858, 0.8629943502824858, 0.8629943502824858, 0.8629943502824858, 0.8863841807909605, 0.8863841807909605]}], \"precision_score_micro\": [{\"categories\": [\"0\", \"1\", \"2\", \"3\", \"4\", \"5\", \"6\", \"7\", \"8\", \"9\", \"10\", \"11\", \"12\", \"13\", \"14\", \"15\", \"16\", \"17\", \"18\", \"19\", \"20\", \"21\", \"22\", \"23\", \"24\", \"25\", \"26\", \"27\", \"28\", \"29\", \"30\", \"31\", \"32\", \"33\", \"34\", \"35\", \"36\", \"37\", \"38\", \"39\", \"40\", \"41\"], \"mode\": \"markers\", \"name\": \"precision_score_micro\", \"stepped\": false, \"type\": \"scatter\", \"data\": [0.8059887005649717, 0.8259322033898304, 0.822542372881356, 0.822542372881356, 0.8359322033898305, 0.822542372881356, 0.8123728813559323, 0.8629943502824858, 0.7190960451977401, 0.836045197740113, 0.8293220338983052, 0.8460451977401131, 0.8427118644067797, 0.8428248587570621, 0.8427118644067797, 0.8393785310734463, 0.8226553672316385, 0.7725423728813559, 0.8061016949152542, 0.8429378531073446, 0.8326553672316385, 0.8125423728813559, 0.8358757062146893, 0.7892090395480226, 0.67909604519774, 0.8562146892655367, 0.8561581920903955, 0.7524858757062146, 0.8528813559322034, 0.8192655367231639, 0.6488700564971752, 0.8293785310734464, 0.8293220338983052, 0.8292655367231638, 0.8327118644067797, 0.8326553672316385, 0.8124293785310736, 0.846045197740113, 0.8293220338983052, 0.8393785310734463, 0.8863841807909605, 0.8763841807909605]}, {\"categories\": [\"0\", \"1\", \"2\", \"3\", \"4\", \"5\", \"6\", \"7\", \"8\", \"9\", \"10\", \"11\", \"12\", \"13\", \"14\", \"15\", \"16\", \"17\", \"18\", \"19\", \"20\", \"21\", \"22\", \"23\", \"24\", \"25\", \"26\", \"27\", \"28\", \"29\", \"30\", \"31\", \"32\", \"33\", \"34\", \"35\", \"36\", \"37\", \"38\", \"39\", \"40\", \"41\"], \"mode\": \"lines\", \"name\": \"precision_score_micro_max\", \"stepped\": true, \"type\": \"scatter\", \"data\": [0.8059887005649717, 0.8259322033898304, 0.8259322033898304, 0.8259322033898304, 0.8359322033898305, 0.8359322033898305, 0.8359322033898305, 0.8629943502824858, 0.8629943502824858, 0.8629943502824858, 0.8629943502824858, 0.8629943502824858, 0.8629943502824858, 0.8629943502824858, 0.8629943502824858, 0.8629943502824858, 0.8629943502824858, 0.8629943502824858, 0.8629943502824858, 0.8629943502824858, 0.8629943502824858, 0.8629943502824858, 0.8629943502824858, 0.8629943502824858, 0.8629943502824858, 0.8629943502824858, 0.8629943502824858, 0.8629943502824858, 0.8629943502824858, 0.8629943502824858, 0.8629943502824858, 0.8629943502824858, 0.8629943502824858, 0.8629943502824858, 0.8629943502824858, 0.8629943502824858, 0.8629943502824858, 0.8629943502824858, 0.8629943502824858, 0.8629943502824858, 0.8863841807909605, 0.8863841807909605]}], \"f1_score_micro\": [{\"categories\": [\"0\", \"1\", \"2\", \"3\", \"4\", \"5\", \"6\", \"7\", \"8\", \"9\", \"10\", \"11\", \"12\", \"13\", \"14\", \"15\", \"16\", \"17\", \"18\", \"19\", \"20\", \"21\", \"22\", \"23\", \"24\", \"25\", \"26\", \"27\", \"28\", \"29\", \"30\", \"31\", \"32\", \"33\", \"34\", \"35\", \"36\", \"37\", \"38\", \"39\", \"40\", \"41\"], \"mode\": \"markers\", \"name\": \"f1_score_micro\", \"stepped\": false, \"type\": \"scatter\", \"data\": [0.8059887005649718, 0.8259322033898304, 0.822542372881356, 0.822542372881356, 0.8359322033898305, 0.822542372881356, 0.8123728813559323, 0.8629943502824858, 0.7190960451977401, 0.836045197740113, 0.8293220338983052, 0.8460451977401131, 0.8427118644067797, 0.8428248587570621, 0.8427118644067797, 0.8393785310734463, 0.8226553672316385, 0.772542372881356, 0.8061016949152542, 0.8429378531073446, 0.8326553672316385, 0.8125423728813559, 0.8358757062146893, 0.7892090395480226, 0.67909604519774, 0.8562146892655367, 0.8561581920903955, 0.7524858757062146, 0.8528813559322034, 0.8192655367231639, 0.6488700564971752, 0.8293785310734464, 0.8293220338983052, 0.8292655367231638, 0.8327118644067797, 0.8326553672316385, 0.8124293785310736, 0.846045197740113, 0.8293220338983052, 0.8393785310734463, 0.8863841807909605, 0.8763841807909605]}, {\"categories\": [\"0\", \"1\", \"2\", \"3\", \"4\", \"5\", \"6\", \"7\", \"8\", \"9\", \"10\", \"11\", \"12\", \"13\", \"14\", \"15\", \"16\", \"17\", \"18\", \"19\", \"20\", \"21\", \"22\", \"23\", \"24\", \"25\", \"26\", \"27\", \"28\", \"29\", \"30\", \"31\", \"32\", \"33\", \"34\", \"35\", \"36\", \"37\", \"38\", \"39\", \"40\", \"41\"], \"mode\": \"lines\", \"name\": \"f1_score_micro_max\", \"stepped\": true, \"type\": \"scatter\", \"data\": [0.8059887005649718, 0.8259322033898304, 0.8259322033898304, 0.8259322033898304, 0.8359322033898305, 0.8359322033898305, 0.8359322033898305, 0.8629943502824858, 0.8629943502824858, 0.8629943502824858, 0.8629943502824858, 0.8629943502824858, 0.8629943502824858, 0.8629943502824858, 0.8629943502824858, 0.8629943502824858, 0.8629943502824858, 0.8629943502824858, 0.8629943502824858, 0.8629943502824858, 0.8629943502824858, 0.8629943502824858, 0.8629943502824858, 0.8629943502824858, 0.8629943502824858, 0.8629943502824858, 0.8629943502824858, 0.8629943502824858, 0.8629943502824858, 0.8629943502824858, 0.8629943502824858, 0.8629943502824858, 0.8629943502824858, 0.8629943502824858, 0.8629943502824858, 0.8629943502824858, 0.8629943502824858, 0.8629943502824858, 0.8629943502824858, 0.8629943502824858, 0.8863841807909605, 0.8863841807909605]}], \"AUC_micro\": [{\"categories\": [\"0\", \"1\", \"2\", \"3\", \"4\", \"5\", \"6\", \"7\", \"8\", \"9\", \"10\", \"11\", \"12\", \"13\", \"14\", \"15\", \"16\", \"17\", \"18\", \"19\", \"20\", \"21\", \"22\", \"23\", \"24\", \"25\", \"26\", \"27\", \"28\", \"29\", \"30\", \"31\", \"32\", \"33\", \"34\", \"35\", \"36\", \"37\", \"38\", \"39\", \"40\", \"41\"], \"mode\": \"markers\", \"name\": \"AUC_micro\", \"stepped\": false, \"type\": \"scatter\", \"data\": [0.8880105014523284, 0.8999905678444892, 0.9109331130901082, 0.8919217178971561, 0.9146890421015673, 0.9023547671486483, 0.9018813718918575, 0.9058077340483258, 0.7819025264132273, 0.9043063295987743, 0.9150774522008362, 0.9068671039611861, 0.9205817293881069, 0.9053167672124868, 0.8989074659261387, 0.9028295987742986, 0.8911529573238852, 0.8775974017683297, 0.8981368061540426, 0.9074762999138178, 0.9087502952535988, 0.8957930352069969, 0.9093424143764561, 0.8769644578505538, 0.6790960451977401, 0.9102151520955024, 0.9064862746975646, 0.8625926617510933, 0.9096700341536597, 0.8852028152829646, 0.6378952248715247, 0.9083671039611861, 0.9022199080723929, 0.9074478278910915, 0.9025456446104249, 0.905731303265345, 0.8980703501548086, 0.912746975645568, 0.9104003479204572, 0.9161771681189951, 0.921906971176865, 0.9175836126272783]}, {\"categories\": [\"0\", \"1\", \"2\", \"3\", \"4\", \"5\", \"6\", \"7\", \"8\", \"9\", \"10\", \"11\", \"12\", \"13\", \"14\", \"15\", \"16\", \"17\", \"18\", \"19\", \"20\", \"21\", \"22\", \"23\", \"24\", \"25\", \"26\", \"27\", \"28\", \"29\", \"30\", \"31\", \"32\", \"33\", \"34\", \"35\", \"36\", \"37\", \"38\", \"39\", \"40\", \"41\"], \"mode\": \"lines\", \"name\": \"AUC_micro_max\", \"stepped\": true, \"type\": \"scatter\", \"data\": [0.8880105014523284, 0.8999905678444892, 0.9109331130901082, 0.9109331130901082, 0.9146890421015673, 0.9146890421015673, 0.9146890421015673, 0.9146890421015673, 0.9146890421015673, 0.9146890421015673, 0.9150774522008362, 0.9150774522008362, 0.9205817293881069, 0.9205817293881069, 0.9205817293881069, 0.9205817293881069, 0.9205817293881069, 0.9205817293881069, 0.9205817293881069, 0.9205817293881069, 0.9205817293881069, 0.9205817293881069, 0.9205817293881069, 0.9205817293881069, 0.9205817293881069, 0.9205817293881069, 0.9205817293881069, 0.9205817293881069, 0.9205817293881069, 0.9205817293881069, 0.9205817293881069, 0.9205817293881069, 0.9205817293881069, 0.9205817293881069, 0.9205817293881069, 0.9205817293881069, 0.9205817293881069, 0.9205817293881069, 0.9205817293881069, 0.9205817293881069, 0.921906971176865, 0.921906971176865]}], \"accuracy\": [{\"categories\": [\"0\", \"1\", \"2\", \"3\", \"4\", \"5\", \"6\", \"7\", \"8\", \"9\", \"10\", \"11\", \"12\", \"13\", \"14\", \"15\", \"16\", \"17\", \"18\", \"19\", \"20\", \"21\", \"22\", \"23\", \"24\", \"25\", \"26\", \"27\", \"28\", \"29\", \"30\", \"31\", \"32\", \"33\", \"34\", \"35\", \"36\", \"37\", \"38\", \"39\", \"40\", \"41\"], \"mode\": \"markers\", \"name\": \"accuracy\", \"stepped\": false, \"type\": \"scatter\", \"data\": [0.8059887005649717, 0.8259322033898304, 0.822542372881356, 0.822542372881356, 0.8359322033898305, 0.822542372881356, 0.8123728813559323, 0.8629943502824858, 0.7190960451977401, 0.836045197740113, 0.8293220338983052, 0.8460451977401131, 0.8427118644067797, 0.8428248587570621, 0.8427118644067797, 0.8393785310734463, 0.8226553672316385, 0.7725423728813559, 0.8061016949152542, 0.8429378531073446, 0.8326553672316385, 0.8125423728813559, 0.8358757062146893, 0.7892090395480226, 0.67909604519774, 0.8562146892655367, 0.8561581920903955, 0.7524858757062146, 0.8528813559322034, 0.8192655367231639, 0.6488700564971752, 0.8293785310734464, 0.8293220338983052, 0.8292655367231638, 0.8327118644067797, 0.8326553672316385, 0.8124293785310736, 0.846045197740113, 0.8293220338983052, 0.8393785310734463, 0.8863841807909605, 0.8763841807909605]}, {\"categories\": [\"0\", \"1\", \"2\", \"3\", \"4\", \"5\", \"6\", \"7\", \"8\", \"9\", \"10\", \"11\", \"12\", \"13\", \"14\", \"15\", \"16\", \"17\", \"18\", \"19\", \"20\", \"21\", \"22\", \"23\", \"24\", \"25\", \"26\", \"27\", \"28\", \"29\", \"30\", \"31\", \"32\", \"33\", \"34\", \"35\", \"36\", \"37\", \"38\", \"39\", \"40\", \"41\"], \"mode\": \"lines\", \"name\": \"accuracy_max\", \"stepped\": true, \"type\": \"scatter\", \"data\": [0.8059887005649717, 0.8259322033898304, 0.8259322033898304, 0.8259322033898304, 0.8359322033898305, 0.8359322033898305, 0.8359322033898305, 0.8629943502824858, 0.8629943502824858, 0.8629943502824858, 0.8629943502824858, 0.8629943502824858, 0.8629943502824858, 0.8629943502824858, 0.8629943502824858, 0.8629943502824858, 0.8629943502824858, 0.8629943502824858, 0.8629943502824858, 0.8629943502824858, 0.8629943502824858, 0.8629943502824858, 0.8629943502824858, 0.8629943502824858, 0.8629943502824858, 0.8629943502824858, 0.8629943502824858, 0.8629943502824858, 0.8629943502824858, 0.8629943502824858, 0.8629943502824858, 0.8629943502824858, 0.8629943502824858, 0.8629943502824858, 0.8629943502824858, 0.8629943502824858, 0.8629943502824858, 0.8629943502824858, 0.8629943502824858, 0.8629943502824858, 0.8863841807909605, 0.8863841807909605]}], \"precision_score_macro\": [{\"categories\": [\"0\", \"1\", \"2\", \"3\", \"4\", \"5\", \"6\", \"7\", \"8\", \"9\", \"10\", \"11\", \"12\", \"13\", \"14\", \"15\", \"16\", \"17\", \"18\", \"19\", \"20\", \"21\", \"22\", \"23\", \"24\", \"25\", \"26\", \"27\", \"28\", \"29\", \"30\", \"31\", \"32\", \"33\", \"34\", \"35\", \"36\", \"37\", \"38\", \"39\", \"40\", \"41\"], \"mode\": \"markers\", \"name\": \"precision_score_macro\", \"stepped\": false, \"type\": \"scatter\", \"data\": [0.7889041743265773, 0.8086642059265495, 0.8057053093792558, 0.8053257264850971, 0.8106777103185772, 0.8039593267838837, 0.7830593628004956, 0.8680047078408071, 0.6970471966887061, 0.8225492456976522, 0.809956809018594, 0.8355654079460381, 0.8244659129590672, 0.8419162840705393, 0.8321362212666561, 0.8250551121712085, 0.8233427852120861, 0.7754020155235961, 0.8034557243271261, 0.842846480739101, 0.8134941564918682, 0.800797942519322, 0.8154315217879049, 0.7865079000929661, 0.33954802259887, 0.8596446276781435, 0.8444941785902884, 0.7602123273551846, 0.843920677840597, 0.803739113144038, 0.5628875100427768, 0.8122532189273273, 0.8128822604201774, 0.8108409037386775, 0.821192643029795, 0.8136552447457934, 0.7901465334445186, 0.8278427970531471, 0.815391288035588, 0.8215274097882794, 0.8920738371818249, 0.8834173639830176]}, {\"categories\": [\"0\", \"1\", \"2\", \"3\", \"4\", \"5\", \"6\", \"7\", \"8\", \"9\", \"10\", \"11\", \"12\", \"13\", \"14\", \"15\", \"16\", \"17\", \"18\", \"19\", \"20\", \"21\", \"22\", \"23\", \"24\", \"25\", \"26\", \"27\", \"28\", \"29\", \"30\", \"31\", \"32\", \"33\", \"34\", \"35\", \"36\", \"37\", \"38\", \"39\", \"40\", \"41\"], \"mode\": \"lines\", \"name\": \"precision_score_macro_max\", \"stepped\": true, \"type\": \"scatter\", \"data\": [0.7889041743265773, 0.8086642059265495, 0.8086642059265495, 0.8086642059265495, 0.8106777103185772, 0.8106777103185772, 0.8106777103185772, 0.8680047078408071, 0.8680047078408071, 0.8680047078408071, 0.8680047078408071, 0.8680047078408071, 0.8680047078408071, 0.8680047078408071, 0.8680047078408071, 0.8680047078408071, 0.8680047078408071, 0.8680047078408071, 0.8680047078408071, 0.8680047078408071, 0.8680047078408071, 0.8680047078408071, 0.8680047078408071, 0.8680047078408071, 0.8680047078408071, 0.8680047078408071, 0.8680047078408071, 0.8680047078408071, 0.8680047078408071, 0.8680047078408071, 0.8680047078408071, 0.8680047078408071, 0.8680047078408071, 0.8680047078408071, 0.8680047078408071, 0.8680047078408071, 0.8680047078408071, 0.8680047078408071, 0.8680047078408071, 0.8680047078408071, 0.8920738371818249, 0.8920738371818249]}], \"average_precision_score_micro\": [{\"categories\": [\"0\", \"1\", \"2\", \"3\", \"4\", \"5\", \"6\", \"7\", \"8\", \"9\", \"10\", \"11\", \"12\", \"13\", \"14\", \"15\", \"16\", \"17\", \"18\", \"19\", \"20\", \"21\", \"22\", \"23\", \"24\", \"25\", \"26\", \"27\", \"28\", \"29\", \"30\", \"31\", \"32\", \"33\", \"34\", \"35\", \"36\", \"37\", \"38\", \"39\", \"40\", \"41\"], \"mode\": \"markers\", \"name\": \"average_precision_score_micro\", \"stepped\": false, \"type\": \"scatter\", \"data\": [0.887958292631032, 0.9018582931163117, 0.9143395368800199, 0.8917962251771183, 0.9173947412001526, 0.9056862793141658, 0.9027909151639433, 0.904674066547248, 0.7636920553579776, 0.9050682649126307, 0.9153237139827155, 0.909216697909528, 0.9229525283271748, 0.9080677483995224, 0.899010074859872, 0.9051419512979809, 0.8857281642392479, 0.8853089489416863, 0.9020509033851474, 0.9079005938827571, 0.9107161676900892, 0.8965089350158673, 0.9119845493909899, 0.882467567951552, 0.6293524849181271, 0.911242053639155, 0.9084146544622259, 0.871274955434291, 0.9082880754159971, 0.8883841023884823, 0.6286062910081561, 0.9106439853092263, 0.9034453690174296, 0.910044707583527, 0.8984293833786829, 0.9046517148567108, 0.8969571859328418, 0.9149330130085456, 0.9120203932398752, 0.9183467821065149, 0.9244456415895363, 0.9181334864231456]}, {\"categories\": [\"0\", \"1\", \"2\", \"3\", \"4\", \"5\", \"6\", \"7\", \"8\", \"9\", \"10\", \"11\", \"12\", \"13\", \"14\", \"15\", \"16\", \"17\", \"18\", \"19\", \"20\", \"21\", \"22\", \"23\", \"24\", \"25\", \"26\", \"27\", \"28\", \"29\", \"30\", \"31\", \"32\", \"33\", \"34\", \"35\", \"36\", \"37\", \"38\", \"39\", \"40\", \"41\"], \"mode\": \"lines\", \"name\": \"average_precision_score_micro_max\", \"stepped\": true, \"type\": \"scatter\", \"data\": [0.887958292631032, 0.9018582931163117, 0.9143395368800199, 0.9143395368800199, 0.9173947412001526, 0.9173947412001526, 0.9173947412001526, 0.9173947412001526, 0.9173947412001526, 0.9173947412001526, 0.9173947412001526, 0.9173947412001526, 0.9229525283271748, 0.9229525283271748, 0.9229525283271748, 0.9229525283271748, 0.9229525283271748, 0.9229525283271748, 0.9229525283271748, 0.9229525283271748, 0.9229525283271748, 0.9229525283271748, 0.9229525283271748, 0.9229525283271748, 0.9229525283271748, 0.9229525283271748, 0.9229525283271748, 0.9229525283271748, 0.9229525283271748, 0.9229525283271748, 0.9229525283271748, 0.9229525283271748, 0.9229525283271748, 0.9229525283271748, 0.9229525283271748, 0.9229525283271748, 0.9229525283271748, 0.9229525283271748, 0.9229525283271748, 0.9229525283271748, 0.9244456415895363, 0.9244456415895363]}], \"log_loss\": [{\"categories\": [\"0\", \"1\", \"2\", \"3\", \"4\", \"5\", \"6\", \"7\", \"8\", \"9\", \"10\", \"11\", \"12\", \"13\", \"14\", \"15\", \"16\", \"17\", \"18\", \"19\", \"20\", \"21\", \"22\", \"23\", \"24\", \"25\", \"26\", \"27\", \"28\", \"29\", \"30\", \"31\", \"32\", \"33\", \"34\", \"35\", \"36\", \"37\", \"38\", \"39\", \"40\", \"41\"], \"mode\": \"markers\", \"name\": \"log_loss\", \"stepped\": false, \"type\": \"scatter\", \"data\": [0.5282491261622873, 0.43217688137359717, 0.3883612239336981, 0.4254087946502533, 0.37670079270695744, 0.39869579547521317, 0.4404996838897731, 0.4014742040915903, 0.581941972441387, 0.4270372037872674, 0.37324630947049786, 0.4249549102616344, 0.38398689687710197, 0.4251859872937855, 0.41575947465447316, 0.41773726522789173, 0.5044404800443761, 0.4487036146132519, 0.4953808555867565, 0.427205887991974, 0.38222753733129, 0.492276571129073, 0.37733798520289624, 0.4548838633357878, 0.6379828476441828, 0.3917408837155847, 0.3892971840916043, 0.48926202918685224, 0.39621566635265393, 0.5049305625738174, 0.7595265621929472, 0.40490375309255955, 0.4010425358870183, 0.3881553950582043, 0.4329821181628268, 0.3899746124921594, 0.6174470281021773, 0.3755732955866831, 0.38109618979657073, 0.37862029469253944, 0.36323927415786333, 0.37453103294942724]}, {\"categories\": [\"0\", \"1\", \"2\", \"3\", \"4\", \"5\", \"6\", \"7\", \"8\", \"9\", \"10\", \"11\", \"12\", \"13\", \"14\", \"15\", \"16\", \"17\", \"18\", \"19\", \"20\", \"21\", \"22\", \"23\", \"24\", \"25\", \"26\", \"27\", \"28\", \"29\", \"30\", \"31\", \"32\", \"33\", \"34\", \"35\", \"36\", \"37\", \"38\", \"39\", \"40\", \"41\"], \"mode\": \"lines\", \"name\": \"log_loss_min\", \"stepped\": true, \"type\": \"scatter\", \"data\": [0.5282491261622873, 0.43217688137359717, 0.3883612239336981, 0.3883612239336981, 0.37670079270695744, 0.37670079270695744, 0.37670079270695744, 0.37670079270695744, 0.37670079270695744, 0.37670079270695744, 0.37324630947049786, 0.37324630947049786, 0.37324630947049786, 0.37324630947049786, 0.37324630947049786, 0.37324630947049786, 0.37324630947049786, 0.37324630947049786, 0.37324630947049786, 0.37324630947049786, 0.37324630947049786, 0.37324630947049786, 0.37324630947049786, 0.37324630947049786, 0.37324630947049786, 0.37324630947049786, 0.37324630947049786, 0.37324630947049786, 0.37324630947049786, 0.37324630947049786, 0.37324630947049786, 0.37324630947049786, 0.37324630947049786, 0.37324630947049786, 0.37324630947049786, 0.37324630947049786, 0.37324630947049786, 0.37324630947049786, 0.37324630947049786, 0.37324630947049786, 0.36323927415786333, 0.36323927415786333]}], \"norm_macro_recall\": [{\"categories\": [\"0\", \"1\", \"2\", \"3\", \"4\", \"5\", \"6\", \"7\", \"8\", \"9\", \"10\", \"11\", \"12\", \"13\", \"14\", \"15\", \"16\", \"17\", \"18\", \"19\", \"20\", \"21\", \"22\", \"23\", \"24\", \"25\", \"26\", \"27\", \"28\", \"29\", \"30\", \"31\", \"32\", \"33\", \"34\", \"35\", \"36\", \"37\", \"38\", \"39\", \"40\", \"41\"], \"mode\": \"markers\", \"name\": \"norm_macro_recall\", \"stepped\": false, \"type\": \"scatter\", \"data\": [0.5520418050941306, 0.6120251937984496, 0.589406146179402, 0.5741680509413067, 0.6434537652270211, 0.5957751937984497, 0.6163967331118493, 0.6496428571428572, 0.24402270210409735, 0.6055024916943521, 0.6116846622369879, 0.6181215393133997, 0.6339465669988925, 0.6102214839424143, 0.6155024916943521, 0.6116846622369877, 0.5280703211517166, 0.4237679955703212, 0.5165393133997785, 0.6065393133997785, 0.6129941860465117, 0.5102131782945737, 0.6121525470653377, 0.4391334440753045, 0.0, 0.6349321705426357, 0.6553322259136213, 0.33460963455149495, 0.6378405315614618, 0.5423643410852714, 0.10777408637873753, 0.6041846622369877, 0.6045334994462902, 0.6148823366555927, 0.5830024916943521, 0.6245334994462901, 0.5685562015503877, 0.6389465669988926, 0.5978668327796235, 0.6304941860465115, 0.7188095238095238, 0.7016666666666667]}, {\"categories\": [\"0\", \"1\", \"2\", \"3\", \"4\", \"5\", \"6\", \"7\", \"8\", \"9\", \"10\", \"11\", \"12\", \"13\", \"14\", \"15\", \"16\", \"17\", \"18\", \"19\", \"20\", \"21\", \"22\", \"23\", \"24\", \"25\", \"26\", \"27\", \"28\", \"29\", \"30\", \"31\", \"32\", \"33\", \"34\", \"35\", \"36\", \"37\", \"38\", \"39\", \"40\", \"41\"], \"mode\": \"lines\", \"name\": \"norm_macro_recall_max\", \"stepped\": true, \"type\": \"scatter\", \"data\": [0.5520418050941306, 0.6120251937984496, 0.6120251937984496, 0.6120251937984496, 0.6434537652270211, 0.6434537652270211, 0.6434537652270211, 0.6496428571428572, 0.6496428571428572, 0.6496428571428572, 0.6496428571428572, 0.6496428571428572, 0.6496428571428572, 0.6496428571428572, 0.6496428571428572, 0.6496428571428572, 0.6496428571428572, 0.6496428571428572, 0.6496428571428572, 0.6496428571428572, 0.6496428571428572, 0.6496428571428572, 0.6496428571428572, 0.6496428571428572, 0.6496428571428572, 0.6496428571428572, 0.6553322259136213, 0.6553322259136213, 0.6553322259136213, 0.6553322259136213, 0.6553322259136213, 0.6553322259136213, 0.6553322259136213, 0.6553322259136213, 0.6553322259136213, 0.6553322259136213, 0.6553322259136213, 0.6553322259136213, 0.6553322259136213, 0.6553322259136213, 0.7188095238095238, 0.7188095238095238]}], \"f1_score_weighted\": [{\"categories\": [\"0\", \"1\", \"2\", \"3\", \"4\", \"5\", \"6\", \"7\", \"8\", \"9\", \"10\", \"11\", \"12\", \"13\", \"14\", \"15\", \"16\", \"17\", \"18\", \"19\", \"20\", \"21\", \"22\", \"23\", \"24\", \"25\", \"26\", \"27\", \"28\", \"29\", \"30\", \"31\", \"32\", \"33\", \"34\", \"35\", \"36\", \"37\", \"38\", \"39\", \"40\", \"41\"], \"mode\": \"markers\", \"name\": \"f1_score_weighted\", \"stepped\": false, \"type\": \"scatter\", \"data\": [0.8014398448329555, 0.8237396450256732, 0.8181335987335269, 0.818889322817399, 0.8365752107305904, 0.8202388818681875, 0.8174489171828465, 0.8584392611786192, 0.6861514604701457, 0.8308443109274345, 0.8258318200034985, 0.8414895456242963, 0.8407145038554301, 0.8363077017867203, 0.8372065556864843, 0.8348561535740927, 0.8120819514951683, 0.7522144212803786, 0.7969334231769825, 0.8369381244530254, 0.8294839630276544, 0.8019775153561657, 0.832712118487208, 0.7742695614634535, 0.5526564268547016, 0.8502842792886807, 0.8532706585702929, 0.7205328150014091, 0.8495271384675658, 0.8099432505889654, 0.607253328944487, 0.8256093670697467, 0.8258570086555664, 0.8266293243016121, 0.8267330740257194, 0.8299026691530234, 0.8108690485642216, 0.8439611515855173, 0.8250885326968964, 0.8365233674205947, 0.8827426716344096, 0.8723358935899327]}, {\"categories\": [\"0\", \"1\", \"2\", \"3\", \"4\", \"5\", \"6\", \"7\", \"8\", \"9\", \"10\", \"11\", \"12\", \"13\", \"14\", \"15\", \"16\", \"17\", \"18\", \"19\", \"20\", \"21\", \"22\", \"23\", \"24\", \"25\", \"26\", \"27\", \"28\", \"29\", \"30\", \"31\", \"32\", \"33\", \"34\", \"35\", \"36\", \"37\", \"38\", \"39\", \"40\", \"41\"], \"mode\": \"lines\", \"name\": \"f1_score_weighted_max\", \"stepped\": true, \"type\": \"scatter\", \"data\": [0.8014398448329555, 0.8237396450256732, 0.8237396450256732, 0.8237396450256732, 0.8365752107305904, 0.8365752107305904, 0.8365752107305904, 0.8584392611786192, 0.8584392611786192, 0.8584392611786192, 0.8584392611786192, 0.8584392611786192, 0.8584392611786192, 0.8584392611786192, 0.8584392611786192, 0.8584392611786192, 0.8584392611786192, 0.8584392611786192, 0.8584392611786192, 0.8584392611786192, 0.8584392611786192, 0.8584392611786192, 0.8584392611786192, 0.8584392611786192, 0.8584392611786192, 0.8584392611786192, 0.8584392611786192, 0.8584392611786192, 0.8584392611786192, 0.8584392611786192, 0.8584392611786192, 0.8584392611786192, 0.8584392611786192, 0.8584392611786192, 0.8584392611786192, 0.8584392611786192, 0.8584392611786192, 0.8584392611786192, 0.8584392611786192, 0.8584392611786192, 0.8827426716344096, 0.8827426716344096]}], \"weighted_accuracy\": [{\"categories\": [\"0\", \"1\", \"2\", \"3\", \"4\", \"5\", \"6\", \"7\", \"8\", \"9\", \"10\", \"11\", \"12\", \"13\", \"14\", \"15\", \"16\", \"17\", \"18\", \"19\", \"20\", \"21\", \"22\", \"23\", \"24\", \"25\", \"26\", \"27\", \"28\", \"29\", \"30\", \"31\", \"32\", \"33\", \"34\", \"35\", \"36\", \"37\", \"38\", \"39\", \"40\", \"41\"], \"mode\": \"markers\", \"name\": \"weighted_accuracy\", \"stepped\": false, \"type\": \"scatter\", \"data\": [0.8252063202764133, 0.8406325321291572, 0.8420156910556038, 0.8471508637087359, 0.8451010381156225, 0.8398286357024892, 0.814324152396544, 0.8879074907788773, 0.7844654675188556, 0.8593695682548554, 0.8453624889385685, 0.8714073957752442, 0.8600178516154534, 0.8690019812688281, 0.8673695682548554, 0.8618238554329096, 0.8628172670030745, 0.8149648296961984, 0.8402039746552564, 0.8697057211971035, 0.8503814026987628, 0.8508742320883119, 0.8557946157463678, 0.8359580524955869, 0.7971865900207855, 0.8825665827090091, 0.8758071273745243, 0.8119322230479227, 0.8759717635188522, 0.8531742144065075, 0.7158617851697886, 0.8488826789623214, 0.8487971682734852, 0.8447116575846492, 0.8603107447254438, 0.8467971682734852, 0.8311373991591046, 0.8640178516154535, 0.8506403055283871, 0.8559015927225158, 0.9044080729594931, 0.8933107278267498]}, {\"categories\": [\"0\", \"1\", \"2\", \"3\", \"4\", \"5\", \"6\", \"7\", \"8\", \"9\", \"10\", \"11\", \"12\", \"13\", \"14\", \"15\", \"16\", \"17\", \"18\", \"19\", \"20\", \"21\", \"22\", \"23\", \"24\", \"25\", \"26\", \"27\", \"28\", \"29\", \"30\", \"31\", \"32\", \"33\", \"34\", \"35\", \"36\", \"37\", \"38\", \"39\", \"40\", \"41\"], \"mode\": \"lines\", \"name\": \"weighted_accuracy_max\", \"stepped\": true, \"type\": \"scatter\", \"data\": [0.8252063202764133, 0.8406325321291572, 0.8420156910556038, 0.8471508637087359, 0.8471508637087359, 0.8471508637087359, 0.8471508637087359, 0.8879074907788773, 0.8879074907788773, 0.8879074907788773, 0.8879074907788773, 0.8879074907788773, 0.8879074907788773, 0.8879074907788773, 0.8879074907788773, 0.8879074907788773, 0.8879074907788773, 0.8879074907788773, 0.8879074907788773, 0.8879074907788773, 0.8879074907788773, 0.8879074907788773, 0.8879074907788773, 0.8879074907788773, 0.8879074907788773, 0.8879074907788773, 0.8879074907788773, 0.8879074907788773, 0.8879074907788773, 0.8879074907788773, 0.8879074907788773, 0.8879074907788773, 0.8879074907788773, 0.8879074907788773, 0.8879074907788773, 0.8879074907788773, 0.8879074907788773, 0.8879074907788773, 0.8879074907788773, 0.8879074907788773, 0.9044080729594931, 0.9044080729594931]}], \"balanced_accuracy\": [{\"categories\": [\"0\", \"1\", \"2\", \"3\", \"4\", \"5\", \"6\", \"7\", \"8\", \"9\", \"10\", \"11\", \"12\", \"13\", \"14\", \"15\", \"16\", \"17\", \"18\", \"19\", \"20\", \"21\", \"22\", \"23\", \"24\", \"25\", \"26\", \"27\", \"28\", \"29\", \"30\", \"31\", \"32\", \"33\", \"34\", \"35\", \"36\", \"37\", \"38\", \"39\", \"40\", \"41\"], \"mode\": \"markers\", \"name\": \"balanced_accuracy\", \"stepped\": false, \"type\": \"scatter\", \"data\": [0.7760209025470652, 0.8060125968992248, 0.794703073089701, 0.7870840254706535, 0.8217268826135105, 0.7978875968992248, 0.8081983665559248, 0.8248214285714287, 0.6220113510520486, 0.8027512458471762, 0.8058423311184939, 0.8090607696566998, 0.8169732834994464, 0.8051107419712071, 0.8077512458471761, 0.8058423311184939, 0.7640351605758582, 0.7118839977851605, 0.7582696566998892, 0.8032696566998894, 0.8064970930232558, 0.7551065891472868, 0.8060762735326689, 0.7195667220376523, 0.5, 0.8174660852713178, 0.8276661129568106, 0.6673048172757475, 0.8189202657807308, 0.7711821705426357, 0.5513870431893688, 0.8020923311184939, 0.802266749723145, 0.8074411683277962, 0.7915012458471761, 0.812266749723145, 0.7842781007751938, 0.8194732834994463, 0.7989334163898117, 0.8152470930232558, 0.8594047619047618, 0.8508333333333333]}, {\"categories\": [\"0\", \"1\", \"2\", \"3\", \"4\", \"5\", \"6\", \"7\", \"8\", \"9\", \"10\", \"11\", \"12\", \"13\", \"14\", \"15\", \"16\", \"17\", \"18\", \"19\", \"20\", \"21\", \"22\", \"23\", \"24\", \"25\", \"26\", \"27\", \"28\", \"29\", \"30\", \"31\", \"32\", \"33\", \"34\", \"35\", \"36\", \"37\", \"38\", \"39\", \"40\", \"41\"], \"mode\": \"lines\", \"name\": \"balanced_accuracy_max\", \"stepped\": true, \"type\": \"scatter\", \"data\": [0.7760209025470652, 0.8060125968992248, 0.8060125968992248, 0.8060125968992248, 0.8217268826135105, 0.8217268826135105, 0.8217268826135105, 0.8248214285714287, 0.8248214285714287, 0.8248214285714287, 0.8248214285714287, 0.8248214285714287, 0.8248214285714287, 0.8248214285714287, 0.8248214285714287, 0.8248214285714287, 0.8248214285714287, 0.8248214285714287, 0.8248214285714287, 0.8248214285714287, 0.8248214285714287, 0.8248214285714287, 0.8248214285714287, 0.8248214285714287, 0.8248214285714287, 0.8248214285714287, 0.8276661129568106, 0.8276661129568106, 0.8276661129568106, 0.8276661129568106, 0.8276661129568106, 0.8276661129568106, 0.8276661129568106, 0.8276661129568106, 0.8276661129568106, 0.8276661129568106, 0.8276661129568106, 0.8276661129568106, 0.8276661129568106, 0.8276661129568106, 0.8594047619047618, 0.8594047619047618]}], \"recall_score_macro\": [{\"categories\": [\"0\", \"1\", \"2\", \"3\", \"4\", \"5\", \"6\", \"7\", \"8\", \"9\", \"10\", \"11\", \"12\", \"13\", \"14\", \"15\", \"16\", \"17\", \"18\", \"19\", \"20\", \"21\", \"22\", \"23\", \"24\", \"25\", \"26\", \"27\", \"28\", \"29\", \"30\", \"31\", \"32\", \"33\", \"34\", \"35\", \"36\", \"37\", \"38\", \"39\", \"40\", \"41\"], \"mode\": \"markers\", \"name\": \"recall_score_macro\", \"stepped\": false, \"type\": \"scatter\", \"data\": [0.7760209025470652, 0.8060125968992248, 0.794703073089701, 0.7870840254706535, 0.8217268826135105, 0.7978875968992248, 0.8081983665559248, 0.8248214285714287, 0.6220113510520486, 0.8027512458471762, 0.8058423311184939, 0.8090607696566998, 0.8169732834994464, 0.8051107419712071, 0.8077512458471761, 0.8058423311184939, 0.7640351605758582, 0.7118839977851605, 0.7582696566998892, 0.8032696566998894, 0.8064970930232558, 0.7551065891472868, 0.8060762735326689, 0.7195667220376523, 0.5, 0.8174660852713178, 0.8276661129568106, 0.6673048172757475, 0.8189202657807308, 0.7711821705426357, 0.5513870431893688, 0.8020923311184939, 0.802266749723145, 0.8074411683277962, 0.7915012458471761, 0.812266749723145, 0.7842781007751938, 0.8194732834994463, 0.7989334163898117, 0.8152470930232558, 0.8594047619047618, 0.8508333333333333]}, {\"categories\": [\"0\", \"1\", \"2\", \"3\", \"4\", \"5\", \"6\", \"7\", \"8\", \"9\", \"10\", \"11\", \"12\", \"13\", \"14\", \"15\", \"16\", \"17\", \"18\", \"19\", \"20\", \"21\", \"22\", \"23\", \"24\", \"25\", \"26\", \"27\", \"28\", \"29\", \"30\", \"31\", \"32\", \"33\", \"34\", \"35\", \"36\", \"37\", \"38\", \"39\", \"40\", \"41\"], \"mode\": \"lines\", \"name\": \"recall_score_macro_max\", \"stepped\": true, \"type\": \"scatter\", \"data\": [0.7760209025470652, 0.8060125968992248, 0.8060125968992248, 0.8060125968992248, 0.8217268826135105, 0.8217268826135105, 0.8217268826135105, 0.8248214285714287, 0.8248214285714287, 0.8248214285714287, 0.8248214285714287, 0.8248214285714287, 0.8248214285714287, 0.8248214285714287, 0.8248214285714287, 0.8248214285714287, 0.8248214285714287, 0.8248214285714287, 0.8248214285714287, 0.8248214285714287, 0.8248214285714287, 0.8248214285714287, 0.8248214285714287, 0.8248214285714287, 0.8248214285714287, 0.8248214285714287, 0.8276661129568106, 0.8276661129568106, 0.8276661129568106, 0.8276661129568106, 0.8276661129568106, 0.8276661129568106, 0.8276661129568106, 0.8276661129568106, 0.8276661129568106, 0.8276661129568106, 0.8276661129568106, 0.8276661129568106, 0.8276661129568106, 0.8276661129568106, 0.8594047619047618, 0.8594047619047618]}], \"recall_score_micro\": [{\"categories\": [\"0\", \"1\", \"2\", \"3\", \"4\", \"5\", \"6\", \"7\", \"8\", \"9\", \"10\", \"11\", \"12\", \"13\", \"14\", \"15\", \"16\", \"17\", \"18\", \"19\", \"20\", \"21\", \"22\", \"23\", \"24\", \"25\", \"26\", \"27\", \"28\", \"29\", \"30\", \"31\", \"32\", \"33\", \"34\", \"35\", \"36\", \"37\", \"38\", \"39\", \"40\", \"41\"], \"mode\": \"markers\", \"name\": \"recall_score_micro\", \"stepped\": false, \"type\": \"scatter\", \"data\": [0.8059887005649717, 0.8259322033898304, 0.822542372881356, 0.822542372881356, 0.8359322033898305, 0.822542372881356, 0.8123728813559323, 0.8629943502824858, 0.7190960451977401, 0.836045197740113, 0.8293220338983052, 0.8460451977401131, 0.8427118644067797, 0.8428248587570621, 0.8427118644067797, 0.8393785310734463, 0.8226553672316385, 0.7725423728813559, 0.8061016949152542, 0.8429378531073446, 0.8326553672316385, 0.8125423728813559, 0.8358757062146893, 0.7892090395480226, 0.67909604519774, 0.8562146892655367, 0.8561581920903955, 0.7524858757062146, 0.8528813559322034, 0.8192655367231639, 0.6488700564971752, 0.8293785310734464, 0.8293220338983052, 0.8292655367231638, 0.8327118644067797, 0.8326553672316385, 0.8124293785310736, 0.846045197740113, 0.8293220338983052, 0.8393785310734463, 0.8863841807909605, 0.8763841807909605]}, {\"categories\": [\"0\", \"1\", \"2\", \"3\", \"4\", \"5\", \"6\", \"7\", \"8\", \"9\", \"10\", \"11\", \"12\", \"13\", \"14\", \"15\", \"16\", \"17\", \"18\", \"19\", \"20\", \"21\", \"22\", \"23\", \"24\", \"25\", \"26\", \"27\", \"28\", \"29\", \"30\", \"31\", \"32\", \"33\", \"34\", \"35\", \"36\", \"37\", \"38\", \"39\", \"40\", \"41\"], \"mode\": \"lines\", \"name\": \"recall_score_micro_max\", \"stepped\": true, \"type\": \"scatter\", \"data\": [0.8059887005649717, 0.8259322033898304, 0.8259322033898304, 0.8259322033898304, 0.8359322033898305, 0.8359322033898305, 0.8359322033898305, 0.8629943502824858, 0.8629943502824858, 0.8629943502824858, 0.8629943502824858, 0.8629943502824858, 0.8629943502824858, 0.8629943502824858, 0.8629943502824858, 0.8629943502824858, 0.8629943502824858, 0.8629943502824858, 0.8629943502824858, 0.8629943502824858, 0.8629943502824858, 0.8629943502824858, 0.8629943502824858, 0.8629943502824858, 0.8629943502824858, 0.8629943502824858, 0.8629943502824858, 0.8629943502824858, 0.8629943502824858, 0.8629943502824858, 0.8629943502824858, 0.8629943502824858, 0.8629943502824858, 0.8629943502824858, 0.8629943502824858, 0.8629943502824858, 0.8629943502824858, 0.8629943502824858, 0.8629943502824858, 0.8629943502824858, 0.8863841807909605, 0.8863841807909605]}], \"average_precision_score_macro\": [{\"categories\": [\"0\", \"1\", \"2\", \"3\", \"4\", \"5\", \"6\", \"7\", \"8\", \"9\", \"10\", \"11\", \"12\", \"13\", \"14\", \"15\", \"16\", \"17\", \"18\", \"19\", \"20\", \"21\", \"22\", \"23\", \"24\", \"25\", \"26\", \"27\", \"28\", \"29\", \"30\", \"31\", \"32\", \"33\", \"34\", \"35\", \"36\", \"37\", \"38\", \"39\", \"40\", \"41\"], \"mode\": \"markers\", \"name\": \"average_precision_score_macro\", \"stepped\": false, \"type\": \"scatter\", \"data\": [0.8655792376041671, 0.8826936933050062, 0.8920660567832966, 0.8731602208955666, 0.8972512825893155, 0.8798058742844953, 0.8926401463977172, 0.878771942155716, 0.7184794519077, 0.8927065503562506, 0.8984874484337488, 0.8949398558279773, 0.9079377761245262, 0.8990787871046841, 0.8847258566647831, 0.8964114768327522, 0.8701786665611053, 0.867610950423033, 0.8843650663566592, 0.8897891489975105, 0.8904892754462173, 0.8640661497491056, 0.8914811736064607, 0.8633376224553482, 0.5, 0.8967749342309836, 0.8790341187981128, 0.8460436378668537, 0.8857895168635199, 0.8632136369431105, 0.5487324201695346, 0.8895679089778662, 0.8875713082219413, 0.8935363934156669, 0.8841759266110877, 0.8905755929228858, 0.8762191248987262, 0.8868112613539401, 0.8878522640677314, 0.9056405136171385, 0.9034602443964121, 0.9046292529689929]}, {\"categories\": [\"0\", \"1\", \"2\", \"3\", \"4\", \"5\", \"6\", \"7\", \"8\", \"9\", \"10\", \"11\", \"12\", \"13\", \"14\", \"15\", \"16\", \"17\", \"18\", \"19\", \"20\", \"21\", \"22\", \"23\", \"24\", \"25\", \"26\", \"27\", \"28\", \"29\", \"30\", \"31\", \"32\", \"33\", \"34\", \"35\", \"36\", \"37\", \"38\", \"39\", \"40\", \"41\"], \"mode\": \"lines\", \"name\": \"average_precision_score_macro_max\", \"stepped\": true, \"type\": \"scatter\", \"data\": [0.8655792376041671, 0.8826936933050062, 0.8920660567832966, 0.8920660567832966, 0.8972512825893155, 0.8972512825893155, 0.8972512825893155, 0.8972512825893155, 0.8972512825893155, 0.8972512825893155, 0.8984874484337488, 0.8984874484337488, 0.9079377761245262, 0.9079377761245262, 0.9079377761245262, 0.9079377761245262, 0.9079377761245262, 0.9079377761245262, 0.9079377761245262, 0.9079377761245262, 0.9079377761245262, 0.9079377761245262, 0.9079377761245262, 0.9079377761245262, 0.9079377761245262, 0.9079377761245262, 0.9079377761245262, 0.9079377761245262, 0.9079377761245262, 0.9079377761245262, 0.9079377761245262, 0.9079377761245262, 0.9079377761245262, 0.9079377761245262, 0.9079377761245262, 0.9079377761245262, 0.9079377761245262, 0.9079377761245262, 0.9079377761245262, 0.9079377761245262, 0.9079377761245262, 0.9079377761245262]}], \"average_precision_score_weighted\": [{\"categories\": [\"0\", \"1\", \"2\", \"3\", \"4\", \"5\", \"6\", \"7\", \"8\", \"9\", \"10\", \"11\", \"12\", \"13\", \"14\", \"15\", \"16\", \"17\", \"18\", \"19\", \"20\", \"21\", \"22\", \"23\", \"24\", \"25\", \"26\", \"27\", \"28\", \"29\", \"30\", \"31\", \"32\", \"33\", \"34\", \"35\", \"36\", \"37\", \"38\", \"39\", \"40\", \"41\"], \"mode\": \"markers\", \"name\": \"average_precision_score_weighted\", \"stepped\": false, \"type\": \"scatter\", \"data\": [0.8955370396295249, 0.9103506263314479, 0.9194036012330258, 0.9011144906100912, 0.9218255972452081, 0.911722961870719, 0.9172507251003127, 0.90749036607844, 0.7675970413800848, 0.9150735346975256, 0.921983896814259, 0.9182639428948713, 0.9292500371819272, 0.9216686483637103, 0.9068165479050878, 0.9186509252906317, 0.8948959997609753, 0.8982147143930279, 0.9101339470429519, 0.9167971033253155, 0.9157122448839979, 0.896982573137939, 0.9171599512615656, 0.8943452133979681, 0.5796089246385138, 0.9191985695809534, 0.9099004855887497, 0.8837848350477266, 0.9137338027924425, 0.8928844784475014, 0.6022114897019847, 0.9159062069514639, 0.9121579364067669, 0.9178540854573919, 0.9060200443651156, 0.9132533268312392, 0.9033506313104841, 0.9172003908920396, 0.9137472511369988, 0.9264711338947984, 0.9278080187422164, 0.92841764544847]}, {\"categories\": [\"0\", \"1\", \"2\", \"3\", \"4\", \"5\", \"6\", \"7\", \"8\", \"9\", \"10\", \"11\", \"12\", \"13\", \"14\", \"15\", \"16\", \"17\", \"18\", \"19\", \"20\", \"21\", \"22\", \"23\", \"24\", \"25\", \"26\", \"27\", \"28\", \"29\", \"30\", \"31\", \"32\", \"33\", \"34\", \"35\", \"36\", \"37\", \"38\", \"39\", \"40\", \"41\"], \"mode\": \"lines\", \"name\": \"average_precision_score_weighted_max\", \"stepped\": true, \"type\": \"scatter\", \"data\": [0.8955370396295249, 0.9103506263314479, 0.9194036012330258, 0.9194036012330258, 0.9218255972452081, 0.9218255972452081, 0.9218255972452081, 0.9218255972452081, 0.9218255972452081, 0.9218255972452081, 0.921983896814259, 0.921983896814259, 0.9292500371819272, 0.9292500371819272, 0.9292500371819272, 0.9292500371819272, 0.9292500371819272, 0.9292500371819272, 0.9292500371819272, 0.9292500371819272, 0.9292500371819272, 0.9292500371819272, 0.9292500371819272, 0.9292500371819272, 0.9292500371819272, 0.9292500371819272, 0.9292500371819272, 0.9292500371819272, 0.9292500371819272, 0.9292500371819272, 0.9292500371819272, 0.9292500371819272, 0.9292500371819272, 0.9292500371819272, 0.9292500371819272, 0.9292500371819272, 0.9292500371819272, 0.9292500371819272, 0.9292500371819272, 0.9292500371819272, 0.9292500371819272, 0.9292500371819272]}], \"AUC_macro\": [{\"categories\": [\"0\", \"1\", \"2\", \"3\", \"4\", \"5\", \"6\", \"7\", \"8\", \"9\", \"10\", \"11\", \"12\", \"13\", \"14\", \"15\", \"16\", \"17\", \"18\", \"19\", \"20\", \"21\", \"22\", \"23\", \"24\", \"25\", \"26\", \"27\", \"28\", \"29\", \"30\", \"31\", \"32\", \"33\", \"34\", \"35\", \"36\", \"37\", \"38\", \"39\", \"40\", \"41\"], \"mode\": \"markers\", \"name\": \"AUC_macro\", \"stepped\": false, \"type\": \"scatter\", \"data\": [0.8811331210778885, 0.8929591177556295, 0.9076367201919527, 0.8876694352159469, 0.9121630214101144, 0.9002448781838316, 0.9057529069767443, 0.8992238141380584, 0.7394446982281285, 0.9007161314138058, 0.9096271686969362, 0.9042281976744185, 0.9167877676264304, 0.9096390042451089, 0.890016818936877, 0.9038673864894795, 0.8888375899778517, 0.8769880260243632, 0.893891888150609, 0.9043052094868955, 0.9035228636028055, 0.8883619878183833, 0.9028035944998154, 0.8771243540051679, 0.5, 0.9071816399040238, 0.8975282853451457, 0.86999850036914, 0.9057822305278702, 0.8705061946290144, 0.47590148578811375, 0.9030714977851606, 0.8993076088962717, 0.9059970930232557, 0.8954322051495017, 0.8983619878183833, 0.8896671973052787, 0.9056973514211887, 0.9047629198966408, 0.9129302094868954, 0.921546511627907, 0.9207684800664453]}, {\"categories\": [\"0\", \"1\", \"2\", \"3\", \"4\", \"5\", \"6\", \"7\", \"8\", \"9\", \"10\", \"11\", \"12\", \"13\", \"14\", \"15\", \"16\", \"17\", \"18\", \"19\", \"20\", \"21\", \"22\", \"23\", \"24\", \"25\", \"26\", \"27\", \"28\", \"29\", \"30\", \"31\", \"32\", \"33\", \"34\", \"35\", \"36\", \"37\", \"38\", \"39\", \"40\", \"41\"], \"mode\": \"lines\", \"name\": \"AUC_macro_max\", \"stepped\": true, \"type\": \"scatter\", \"data\": [0.8811331210778885, 0.8929591177556295, 0.9076367201919527, 0.9076367201919527, 0.9121630214101144, 0.9121630214101144, 0.9121630214101144, 0.9121630214101144, 0.9121630214101144, 0.9121630214101144, 0.9121630214101144, 0.9121630214101144, 0.9167877676264304, 0.9167877676264304, 0.9167877676264304, 0.9167877676264304, 0.9167877676264304, 0.9167877676264304, 0.9167877676264304, 0.9167877676264304, 0.9167877676264304, 0.9167877676264304, 0.9167877676264304, 0.9167877676264304, 0.9167877676264304, 0.9167877676264304, 0.9167877676264304, 0.9167877676264304, 0.9167877676264304, 0.9167877676264304, 0.9167877676264304, 0.9167877676264304, 0.9167877676264304, 0.9167877676264304, 0.9167877676264304, 0.9167877676264304, 0.9167877676264304, 0.9167877676264304, 0.9167877676264304, 0.9167877676264304, 0.921546511627907, 0.921546511627907]}], \"precision_score_weighted\": [{\"categories\": [\"0\", \"1\", \"2\", \"3\", \"4\", \"5\", \"6\", \"7\", \"8\", \"9\", \"10\", \"11\", \"12\", \"13\", \"14\", \"15\", \"16\", \"17\", \"18\", \"19\", \"20\", \"21\", \"22\", \"23\", \"24\", \"25\", \"26\", \"27\", \"28\", \"29\", \"30\", \"31\", \"32\", \"33\", \"34\", \"35\", \"36\", \"37\", \"38\", \"39\", \"40\", \"41\"], \"mode\": \"markers\", \"name\": \"precision_score_weighted\", \"stepped\": false, \"type\": \"scatter\", \"data\": [0.8237683758533973, 0.8403871377947292, 0.8375830603775742, 0.8307798433452286, 0.8513140716580923, 0.8407505877531862, 0.8357007995672039, 0.8782540144358457, 0.7325075351736902, 0.8474662566886314, 0.8447059586394806, 0.8531691259234815, 0.852249887231222, 0.8584823193595282, 0.8542060057903831, 0.851090309907162, 0.8353061511935346, 0.7962027427641425, 0.8249044492355729, 0.859695486360691, 0.8449911108971732, 0.8208927913968417, 0.8449512597231674, 0.8014720431082296, 0.4689005075169971, 0.868117043121518, 0.8683332149197256, 0.776750922577557, 0.8678020729844464, 0.8284369402357299, 0.6227458112435181, 0.8431885337243926, 0.8439891606523883, 0.8457377578324063, 0.842401668742981, 0.8487956601957298, 0.8286808928278454, 0.8545323564958871, 0.8415160183494589, 0.8517486174405849, 0.9020498920954232, 0.8954656207010832]}, {\"categories\": [\"0\", \"1\", \"2\", \"3\", \"4\", \"5\", \"6\", \"7\", \"8\", \"9\", \"10\", \"11\", \"12\", \"13\", \"14\", \"15\", \"16\", \"17\", \"18\", \"19\", \"20\", \"21\", \"22\", \"23\", \"24\", \"25\", \"26\", \"27\", \"28\", \"29\", \"30\", \"31\", \"32\", \"33\", \"34\", \"35\", \"36\", \"37\", \"38\", \"39\", \"40\", \"41\"], \"mode\": \"lines\", \"name\": \"precision_score_weighted_max\", \"stepped\": true, \"type\": \"scatter\", \"data\": [0.8237683758533973, 0.8403871377947292, 0.8403871377947292, 0.8403871377947292, 0.8513140716580923, 0.8513140716580923, 0.8513140716580923, 0.8782540144358457, 0.8782540144358457, 0.8782540144358457, 0.8782540144358457, 0.8782540144358457, 0.8782540144358457, 0.8782540144358457, 0.8782540144358457, 0.8782540144358457, 0.8782540144358457, 0.8782540144358457, 0.8782540144358457, 0.8782540144358457, 0.8782540144358457, 0.8782540144358457, 0.8782540144358457, 0.8782540144358457, 0.8782540144358457, 0.8782540144358457, 0.8782540144358457, 0.8782540144358457, 0.8782540144358457, 0.8782540144358457, 0.8782540144358457, 0.8782540144358457, 0.8782540144358457, 0.8782540144358457, 0.8782540144358457, 0.8782540144358457, 0.8782540144358457, 0.8782540144358457, 0.8782540144358457, 0.8782540144358457, 0.9020498920954232, 0.9020498920954232]}], \"AUC_weighted\": [{\"categories\": [\"0\", \"1\", \"2\", \"3\", \"4\", \"5\", \"6\", \"7\", \"8\", \"9\", \"10\", \"11\", \"12\", \"13\", \"14\", \"15\", \"16\", \"17\", \"18\", \"19\", \"20\", \"21\", \"22\", \"23\", \"24\", \"25\", \"26\", \"27\", \"28\", \"29\", \"30\", \"31\", \"32\", \"33\", \"34\", \"35\", \"36\", \"37\", \"38\", \"39\", \"40\", \"41\"], \"mode\": \"markers\", \"name\": \"AUC_weighted\", \"stepped\": false, \"type\": \"scatter\", \"data\": [0.8811331210778885, 0.8929591177556293, 0.9076367201919527, 0.8876694352159469, 0.9121630214101144, 0.9002448781838316, 0.9057529069767443, 0.8992238141380584, 0.7394446982281285, 0.9007161314138058, 0.9096271686969362, 0.9042281976744185, 0.9167877676264305, 0.9096390042451088, 0.8900168189368772, 0.9038673864894795, 0.8888375899778517, 0.8769880260243632, 0.893891888150609, 0.9043052094868955, 0.9035228636028055, 0.8883619878183833, 0.9028035944998154, 0.8771243540051679, 0.5, 0.9071816399040238, 0.8975282853451457, 0.8699985003691401, 0.90578223052787, 0.8705061946290144, 0.47590148578811375, 0.9030714977851606, 0.8993076088962717, 0.9059970930232557, 0.8954322051495017, 0.8983619878183833, 0.8896671973052787, 0.9056973514211887, 0.9047629198966408, 0.9129302094868954, 0.921546511627907, 0.9207684800664453]}, {\"categories\": [\"0\", \"1\", \"2\", \"3\", \"4\", \"5\", \"6\", \"7\", \"8\", \"9\", \"10\", \"11\", \"12\", \"13\", \"14\", \"15\", \"16\", \"17\", \"18\", \"19\", \"20\", \"21\", \"22\", \"23\", \"24\", \"25\", \"26\", \"27\", \"28\", \"29\", \"30\", \"31\", \"32\", \"33\", \"34\", \"35\", \"36\", \"37\", \"38\", \"39\", \"40\", \"41\"], \"mode\": \"lines\", \"name\": \"AUC_weighted_max\", \"stepped\": true, \"type\": \"scatter\", \"data\": [0.8811331210778885, 0.8929591177556293, 0.9076367201919527, 0.9076367201919527, 0.9121630214101144, 0.9121630214101144, 0.9121630214101144, 0.9121630214101144, 0.9121630214101144, 0.9121630214101144, 0.9121630214101144, 0.9121630214101144, 0.9167877676264305, 0.9167877676264305, 0.9167877676264305, 0.9167877676264305, 0.9167877676264305, 0.9167877676264305, 0.9167877676264305, 0.9167877676264305, 0.9167877676264305, 0.9167877676264305, 0.9167877676264305, 0.9167877676264305, 0.9167877676264305, 0.9167877676264305, 0.9167877676264305, 0.9167877676264305, 0.9167877676264305, 0.9167877676264305, 0.9167877676264305, 0.9167877676264305, 0.9167877676264305, 0.9167877676264305, 0.9167877676264305, 0.9167877676264305, 0.9167877676264305, 0.9167877676264305, 0.9167877676264305, 0.9167877676264305, 0.921546511627907, 0.921546511627907]}], \"f1_score_macro\": [{\"categories\": [\"0\", \"1\", \"2\", \"3\", \"4\", \"5\", \"6\", \"7\", \"8\", \"9\", \"10\", \"11\", \"12\", \"13\", \"14\", \"15\", \"16\", \"17\", \"18\", \"19\", \"20\", \"21\", \"22\", \"23\", \"24\", \"25\", \"26\", \"27\", \"28\", \"29\", \"30\", \"31\", \"32\", \"33\", \"34\", \"35\", \"36\", \"37\", \"38\", \"39\", \"40\", \"41\"], \"mode\": \"markers\", \"name\": \"f1_score_macro\", \"stepped\": false, \"type\": \"scatter\", \"data\": [0.7682096405971308, 0.7972526241921125, 0.7875943086234661, 0.7881005767119194, 0.808251933270661, 0.7886060346741142, 0.7874326226801885, 0.8321013449371442, 0.6122026487528007, 0.8008627271016635, 0.7956947115011632, 0.8136400838443922, 0.8135804923198939, 0.8076319621160865, 0.8077261785521925, 0.8045872420707253, 0.7744146297219825, 0.7091401478329059, 0.7581139646332709, 0.807064569327256, 0.799975527297142, 0.7605987599247055, 0.8026442952788804, 0.7288528116086133, 0.40276783177038933, 0.8246412648786066, 0.8262182964896002, 0.6638599814665247, 0.8192318683141387, 0.7691342746971009, 0.5259782688766534, 0.7956235504288897, 0.7958790985185501, 0.7973563541431979, 0.794854593019428, 0.8012476858440849, 0.7768221745587398, 0.8170434461788932, 0.7963665659851886, 0.8087707538593947, 0.8626367687648797, 0.8517402805122103]}, {\"categories\": [\"0\", \"1\", \"2\", \"3\", \"4\", \"5\", \"6\", \"7\", \"8\", \"9\", \"10\", \"11\", \"12\", \"13\", \"14\", \"15\", \"16\", \"17\", \"18\", \"19\", \"20\", \"21\", \"22\", \"23\", \"24\", \"25\", \"26\", \"27\", \"28\", \"29\", \"30\", \"31\", \"32\", \"33\", \"34\", \"35\", \"36\", \"37\", \"38\", \"39\", \"40\", \"41\"], \"mode\": \"lines\", \"name\": \"f1_score_macro_max\", \"stepped\": true, \"type\": \"scatter\", \"data\": [0.7682096405971308, 0.7972526241921125, 0.7972526241921125, 0.7972526241921125, 0.808251933270661, 0.808251933270661, 0.808251933270661, 0.8321013449371442, 0.8321013449371442, 0.8321013449371442, 0.8321013449371442, 0.8321013449371442, 0.8321013449371442, 0.8321013449371442, 0.8321013449371442, 0.8321013449371442, 0.8321013449371442, 0.8321013449371442, 0.8321013449371442, 0.8321013449371442, 0.8321013449371442, 0.8321013449371442, 0.8321013449371442, 0.8321013449371442, 0.8321013449371442, 0.8321013449371442, 0.8321013449371442, 0.8321013449371442, 0.8321013449371442, 0.8321013449371442, 0.8321013449371442, 0.8321013449371442, 0.8321013449371442, 0.8321013449371442, 0.8321013449371442, 0.8321013449371442, 0.8321013449371442, 0.8321013449371442, 0.8321013449371442, 0.8321013449371442, 0.8626367687648797, 0.8626367687648797]}]}, \"metricName\": null, \"primaryMetricName\": \"accuracy\", \"showLegend\": false}, \"run_metrics\": [{\"name\": \"experiment_status\", \"run_id\": \"AutoML_f37b3d8a-310e-4104-8513-3fe9745c745f\", \"categories\": [0, 1, 2, 3, 4, 5, 6, 7, 8, 9, 10, 11, 12, 13], \"series\": [{\"data\": [\"DatasetEvaluation\", \"FeaturesGeneration\", \"DatasetFeaturization\", \"DatasetFeaturizationCompleted\", \"DatasetCrossValidationSplit\", \"ModelSelection\", \"BestRunExplainModel\", \"ModelExplanationDataSetSetup\", \"PickSurrogateModel\", \"EngineeredFeatureExplanations\", \"EngineeredFeatureExplanations\", \"RawFeaturesExplanations\", \"RawFeaturesExplanations\", \"BestRunExplainModel\"]}]}, {\"name\": \"experiment_status_description\", \"run_id\": \"AutoML_f37b3d8a-310e-4104-8513-3fe9745c745f\", \"categories\": [0, 1, 2, 3, 4, 5, 6, 7, 8, 9, 10, 11, 12, 13], \"series\": [{\"data\": [\"Gathering dataset statistics.\", \"Generating features for the dataset.\", \"Beginning to fit featurizers and featurize the dataset.\", \"Completed fit featurizers and featurizing the dataset.\", \"Generating individually featurized CV splits.\", \"Beginning model selection.\", \"Best run model explanations started\", \"Model explanations data setup completed\", \"Choosing LightGBM as the surrogate model for explanations\", \"Computation of engineered features started\", \"Computation of engineered features completed\", \"Computation of raw features started\", \"Computation of raw features completed\", \"Best run model explanations completed\"]}]}, {\"name\": \"weighted_accuracy\", \"run_id\": \"AutoML_f37b3d8a-310e-4104-8513-3fe9745c745f\", \"categories\": [0], \"series\": [{\"data\": [0.9044080729594931]}]}, {\"name\": \"precision_score_weighted\", \"run_id\": \"AutoML_f37b3d8a-310e-4104-8513-3fe9745c745f\", \"categories\": [0], \"series\": [{\"data\": [0.9020498920954232]}]}, {\"name\": \"recall_score_macro\", \"run_id\": \"AutoML_f37b3d8a-310e-4104-8513-3fe9745c745f\", \"categories\": [0], \"series\": [{\"data\": [0.8594047619047618]}]}, {\"name\": \"precision_score_macro\", \"run_id\": \"AutoML_f37b3d8a-310e-4104-8513-3fe9745c745f\", \"categories\": [0], \"series\": [{\"data\": [0.8920738371818249]}]}, {\"name\": \"accuracy\", \"run_id\": \"AutoML_f37b3d8a-310e-4104-8513-3fe9745c745f\", \"categories\": [0], \"series\": [{\"data\": [0.8863841807909605]}]}, {\"name\": \"recall_score_micro\", \"run_id\": \"AutoML_f37b3d8a-310e-4104-8513-3fe9745c745f\", \"categories\": [0], \"series\": [{\"data\": [0.8863841807909605]}]}, {\"name\": \"f1_score_weighted\", \"run_id\": \"AutoML_f37b3d8a-310e-4104-8513-3fe9745c745f\", \"categories\": [0], \"series\": [{\"data\": [0.8827426716344096]}]}, {\"name\": \"average_precision_score_macro\", \"run_id\": \"AutoML_f37b3d8a-310e-4104-8513-3fe9745c745f\", \"categories\": [0], \"series\": [{\"data\": [0.9034602443964121]}]}, {\"name\": \"log_loss\", \"run_id\": \"AutoML_f37b3d8a-310e-4104-8513-3fe9745c745f\", \"categories\": [0], \"series\": [{\"data\": [0.36323927415786333]}]}, {\"name\": \"recall_score_weighted\", \"run_id\": \"AutoML_f37b3d8a-310e-4104-8513-3fe9745c745f\", \"categories\": [0], \"series\": [{\"data\": [0.8863841807909605]}]}, {\"name\": \"AUC_macro\", \"run_id\": \"AutoML_f37b3d8a-310e-4104-8513-3fe9745c745f\", \"categories\": [0], \"series\": [{\"data\": [0.921546511627907]}]}, {\"name\": \"f1_score_macro\", \"run_id\": \"AutoML_f37b3d8a-310e-4104-8513-3fe9745c745f\", \"categories\": [0], \"series\": [{\"data\": [0.8626367687648797]}]}, {\"name\": \"AUC_weighted\", \"run_id\": \"AutoML_f37b3d8a-310e-4104-8513-3fe9745c745f\", \"categories\": [0], \"series\": [{\"data\": [0.921546511627907]}]}, {\"name\": \"balanced_accuracy\", \"run_id\": \"AutoML_f37b3d8a-310e-4104-8513-3fe9745c745f\", \"categories\": [0], \"series\": [{\"data\": [0.8594047619047618]}]}, {\"name\": \"AUC_micro\", \"run_id\": \"AutoML_f37b3d8a-310e-4104-8513-3fe9745c745f\", \"categories\": [0], \"series\": [{\"data\": [0.921906971176865]}]}, {\"name\": \"average_precision_score_weighted\", \"run_id\": \"AutoML_f37b3d8a-310e-4104-8513-3fe9745c745f\", \"categories\": [0], \"series\": [{\"data\": [0.9278080187422164]}]}, {\"name\": \"precision_score_micro\", \"run_id\": \"AutoML_f37b3d8a-310e-4104-8513-3fe9745c745f\", \"categories\": [0], \"series\": [{\"data\": [0.8863841807909605]}]}, {\"name\": \"f1_score_micro\", \"run_id\": \"AutoML_f37b3d8a-310e-4104-8513-3fe9745c745f\", \"categories\": [0], \"series\": [{\"data\": [0.8863841807909605]}]}, {\"name\": \"matthews_correlation\", \"run_id\": \"AutoML_f37b3d8a-310e-4104-8513-3fe9745c745f\", \"categories\": [0], \"series\": [{\"data\": [0.7487447784810415]}]}, {\"name\": \"norm_macro_recall\", \"run_id\": \"AutoML_f37b3d8a-310e-4104-8513-3fe9745c745f\", \"categories\": [0], \"series\": [{\"data\": [0.7188095238095238]}]}, {\"name\": \"average_precision_score_micro\", \"run_id\": \"AutoML_f37b3d8a-310e-4104-8513-3fe9745c745f\", \"categories\": [0], \"series\": [{\"data\": [0.9244456415895363]}]}], \"run_logs\": \"\\nRun is completed.\", \"graph\": {}, \"widget_settings\": {\"childWidgetDisplay\": \"popup\", \"send_telemetry\": false, \"log_level\": \"INFO\", \"sdk_version\": \"1.20.0\"}, \"loading\": false}"
          },
          "metadata": {}
        },
        {
          "output_type": "stream",
          "name": "stdout",
          "text": [
            "\n",
            "Current status: FeaturesGeneration. Generating features for the dataset.\n",
            "Current status: ModelSelection. Beginning model selection.\n",
            "\n",
            "****************************************************************************************************\n",
            "DATA GUARDRAILS: \n",
            "\n",
            "TYPE:         Class balancing detection\n",
            "STATUS:       PASSED\n",
            "DESCRIPTION:  Your inputs were analyzed, and all classes are balanced in your training data.\n",
            "              Learn more about imbalanced data: https://aka.ms/AutomatedMLImbalancedData\n",
            "\n",
            "****************************************************************************************************\n",
            "\n",
            "TYPE:         Missing feature values imputation\n",
            "STATUS:       PASSED\n",
            "DESCRIPTION:  No feature missing values were detected in the training data.\n",
            "              Learn more about missing value imputation: https://aka.ms/AutomatedMLFeaturization\n",
            "\n",
            "****************************************************************************************************\n",
            "\n",
            "TYPE:         High cardinality feature detection\n",
            "STATUS:       PASSED\n",
            "DESCRIPTION:  Your inputs were analyzed, and no high cardinality features were detected.\n",
            "              Learn more about high cardinality feature handling: https://aka.ms/AutomatedMLFeaturization\n",
            "\n",
            "****************************************************************************************************\n",
            "\n",
            "****************************************************************************************************\n",
            "ITERATION: The iteration being evaluated.\n",
            "PIPELINE: A summary description of the pipeline being evaluated.\n",
            "DURATION: Time taken for the current iteration.\n",
            "METRIC: The result of computing score on the fitted pipeline.\n",
            "BEST: The best observed score thus far.\n",
            "****************************************************************************************************\n",
            "\n",
            " ITERATION   PIPELINE                                       DURATION      METRIC      BEST\n",
            "         0   MaxAbsScaler LightGBM                          0:00:53       0.8060    0.8060\n",
            "         5   StandardScalerWrapper XGBoostClassifier        0:00:52       0.8225    0.8225\n",
            "        16   StandardScalerWrapper XGBoostClassifier        0:00:47       0.8227    0.8630\n",
            "        17   MinMaxScaler LightGBM                          0:00:55       0.7725    0.8630\n",
            "        18   StandardScalerWrapper XGBoostClassifier        0:00:46       0.8061    0.8630\n",
            "        19   SparseNormalizer XGBoostClassifier             0:00:50       0.8429    0.8630\n",
            "        20   RobustScaler LightGBM                          0:00:58       0.8327    0.8630\n",
            "        21   StandardScalerWrapper XGBoostClassifier        0:00:54       0.8125    0.8630\n",
            "        22   MinMaxScaler LightGBM                          0:00:59       0.8359    0.8630\n",
            "        23   MaxAbsScaler LightGBM                          0:00:53       0.7892    0.8630\n",
            "        24   SparseNormalizer XGBoostClassifier             0:00:48       0.6791    0.8630\n",
            "        25   MinMaxScaler ExtremeRandomTrees                0:00:55       0.8562    0.8630\n",
            "        26   SparseNormalizer LightGBM                      0:00:47       0.8562    0.8630\n",
            "        27   StandardScalerWrapper LightGBM                 0:00:50       0.7525    0.8630\n",
            "        29   TruncatedSVDWrapper XGBoostClassifier          0:00:46       0.8193    0.8630\n",
            "        30   StandardScalerWrapper KNN                      0:00:46       0.6489    0.8630\n",
            "        28   SparseNormalizer XGBoostClassifier             0:00:56       0.8529    0.8630\n",
            "        31   StandardScalerWrapper LightGBM                 0:00:48       0.8294    0.8630\n",
            "        32   MaxAbsScaler LightGBM                          0:00:51       0.8293    0.8630\n",
            "        33   MaxAbsScaler LightGBM                          0:00:46       0.8293    0.8630\n",
            "        34   StandardScalerWrapper XGBoostClassifier        0:00:54       0.8327    0.8630\n",
            "        35   StandardScalerWrapper LightGBM                 0:00:43       0.8327    0.8630\n",
            "        36   RobustScaler RandomForest                      0:00:49       0.8124    0.8630\n",
            "        37   RobustScaler RandomForest                      0:00:46       0.8460    0.8630\n",
            "        38   MinMaxScaler RandomForest                      0:00:43       0.8293    0.8630\n",
            "        39   RobustScaler GradientBoosting                  0:00:35       0.8394    0.8630\n",
            "        40    VotingEnsemble                                0:01:36       0.8864    0.8864\n",
            "        41    StackEnsemble                                 0:01:34       0.8764    0.8864\n"
          ]
        },
        {
          "output_type": "execute_result",
          "execution_count": 8,
          "data": {
            "text/plain": "{'runId': 'AutoML_f37b3d8a-310e-4104-8513-3fe9745c745f',\n 'target': 'auto-ml',\n 'status': 'Completed',\n 'startTimeUtc': '2021-02-05T16:42:10.374619Z',\n 'endTimeUtc': '2021-02-05T17:04:16.906284Z',\n 'properties': {'num_iterations': '1000',\n  'training_type': 'TrainFull',\n  'acquisition_function': 'EI',\n  'primary_metric': 'accuracy',\n  'train_split': '0',\n  'acquisition_parameter': '0',\n  'num_cross_validation': '5',\n  'target': 'auto-ml',\n  'AMLSettingsJsonString': '{\"path\":null,\"name\":\"AutoML\",\"subscription_id\":\"d4ad7261-832d-46b2-b093-22156001df5b\",\"resource_group\":\"aml-quickstarts-137352\",\"workspace_name\":\"quick-starts-ws-137352\",\"region\":\"southcentralus\",\"compute_target\":\"auto-ml\",\"spark_service\":null,\"azure_service\":\"remote\",\"many_models\":false,\"pipeline_fetch_max_batch_size\":1,\"iterations\":1000,\"primary_metric\":\"accuracy\",\"task_type\":\"classification\",\"data_script\":null,\"validation_size\":0.0,\"n_cross_validations\":5,\"y_min\":null,\"y_max\":null,\"num_classes\":null,\"featurization\":\"auto\",\"_ignore_package_version_incompatibilities\":false,\"is_timeseries\":false,\"max_cores_per_iteration\":1,\"max_concurrent_iterations\":6,\"iteration_timeout_minutes\":null,\"mem_in_mb\":null,\"enforce_time_on_windows\":false,\"experiment_timeout_minutes\":120,\"experiment_exit_score\":null,\"whitelist_models\":null,\"blacklist_algos\":[\"TensorFlowLinearClassifier\",\"TensorFlowDNN\"],\"supported_models\":[\"KNN\",\"RandomForest\",\"ExtremeRandomTrees\",\"LinearSVM\",\"SVM\",\"LogisticRegression\",\"XGBoostClassifier\",\"LightGBM\",\"GradientBoosting\",\"AveragedPerceptronClassifier\",\"TensorFlowDNN\",\"TensorFlowLinearClassifier\",\"BernoulliNaiveBayes\",\"MultinomialNaiveBayes\",\"DecisionTree\",\"SGD\"],\"auto_blacklist\":true,\"blacklist_samples_reached\":false,\"exclude_nan_labels\":true,\"verbosity\":20,\"_debug_log\":\"azureml_automl.log\",\"show_warnings\":false,\"model_explainability\":true,\"service_url\":null,\"sdk_url\":null,\"sdk_packages\":null,\"enable_onnx_compatible_models\":false,\"enable_split_onnx_featurizer_estimator_models\":false,\"vm_type\":\"STANDARD_D2_V2\",\"telemetry_verbosity\":20,\"send_telemetry\":true,\"enable_dnn\":false,\"scenario\":\"SDK-1.13.0\",\"environment_label\":null,\"force_text_dnn\":false,\"enable_feature_sweeping\":true,\"enable_early_stopping\":true,\"early_stopping_n_iters\":10,\"metrics\":null,\"enable_ensembling\":true,\"enable_stack_ensembling\":true,\"ensemble_iterations\":15,\"enable_tf\":false,\"enable_subsampling\":null,\"subsample_seed\":null,\"enable_nimbusml\":false,\"enable_streaming\":false,\"force_streaming\":false,\"track_child_runs\":true,\"allowed_private_models\":[],\"label_column_name\":\"DEATH_EVENT\",\"weight_column_name\":null,\"cv_split_column_names\":null,\"enable_local_managed\":false,\"_local_managed_run_id\":null,\"cost_mode\":1,\"lag_length\":0,\"metric_operation\":\"maximize\",\"preprocess\":true}',\n  'DataPrepJsonString': '{\\\\\"training_data\\\\\": \\\\\"{\\\\\\\\\\\\\"blocks\\\\\\\\\\\\\": [{\\\\\\\\\\\\\"id\\\\\\\\\\\\\": \\\\\\\\\\\\\"6565e3e0-2d29-4715-8a47-c03e5bee1e62\\\\\\\\\\\\\", \\\\\\\\\\\\\"type\\\\\\\\\\\\\": \\\\\\\\\\\\\"Microsoft.DPrep.GetFilesBlock\\\\\\\\\\\\\", \\\\\\\\\\\\\"arguments\\\\\\\\\\\\\": {\\\\\\\\\\\\\"isArchive\\\\\\\\\\\\\": false, \\\\\\\\\\\\\"path\\\\\\\\\\\\\": {\\\\\\\\\\\\\"target\\\\\\\\\\\\\": 4, \\\\\\\\\\\\\"resourceDetails\\\\\\\\\\\\\": [{\\\\\\\\\\\\\"path\\\\\\\\\\\\\": \\\\\\\\\\\\\"https://raw.githubusercontent.com/maulingogri/Azure-Udacity-MLE-ND-Capstone/master/data/heart_failure_clinical_records_dataset.csv\\\\\\\\\\\\\"}]}}, \\\\\\\\\\\\\"localData\\\\\\\\\\\\\": {}, \\\\\\\\\\\\\"isEnabled\\\\\\\\\\\\\": true, \\\\\\\\\\\\\"name\\\\\\\\\\\\\": null, \\\\\\\\\\\\\"annotation\\\\\\\\\\\\\": null}, {\\\\\\\\\\\\\"id\\\\\\\\\\\\\": \\\\\\\\\\\\\"c93d8421-b317-424a-b6db-8c0a5ada16a3\\\\\\\\\\\\\", \\\\\\\\\\\\\"type\\\\\\\\\\\\\": \\\\\\\\\\\\\"Microsoft.DPrep.ParseDelimitedBlock\\\\\\\\\\\\\", \\\\\\\\\\\\\"arguments\\\\\\\\\\\\\": {\\\\\\\\\\\\\"columnHeadersMode\\\\\\\\\\\\\": 3, \\\\\\\\\\\\\"fileEncoding\\\\\\\\\\\\\": 0, \\\\\\\\\\\\\"handleQuotedLineBreaks\\\\\\\\\\\\\": false, \\\\\\\\\\\\\"preview\\\\\\\\\\\\\": false, \\\\\\\\\\\\\"separator\\\\\\\\\\\\\": \\\\\\\\\\\\\",\\\\\\\\\\\\\", \\\\\\\\\\\\\"skipRows\\\\\\\\\\\\\": 0, \\\\\\\\\\\\\"skipRowsMode\\\\\\\\\\\\\": 0}, \\\\\\\\\\\\\"localData\\\\\\\\\\\\\": {}, \\\\\\\\\\\\\"isEnabled\\\\\\\\\\\\\": true, \\\\\\\\\\\\\"name\\\\\\\\\\\\\": null, \\\\\\\\\\\\\"annotation\\\\\\\\\\\\\": null}, {\\\\\\\\\\\\\"id\\\\\\\\\\\\\": \\\\\\\\\\\\\"815fdde3-3aa0-4adb-b188-f883964c5403\\\\\\\\\\\\\", \\\\\\\\\\\\\"type\\\\\\\\\\\\\": \\\\\\\\\\\\\"Microsoft.DPrep.DropColumnsBlock\\\\\\\\\\\\\", \\\\\\\\\\\\\"arguments\\\\\\\\\\\\\": {\\\\\\\\\\\\\"columns\\\\\\\\\\\\\": {\\\\\\\\\\\\\"type\\\\\\\\\\\\\": 0, \\\\\\\\\\\\\"details\\\\\\\\\\\\\": {\\\\\\\\\\\\\"selectedColumns\\\\\\\\\\\\\": [\\\\\\\\\\\\\"Path\\\\\\\\\\\\\"]}}}, \\\\\\\\\\\\\"localData\\\\\\\\\\\\\": {}, \\\\\\\\\\\\\"isEnabled\\\\\\\\\\\\\": true, \\\\\\\\\\\\\"name\\\\\\\\\\\\\": null, \\\\\\\\\\\\\"annotation\\\\\\\\\\\\\": null}, {\\\\\\\\\\\\\"id\\\\\\\\\\\\\": \\\\\\\\\\\\\"a851463f-af43-4507-91b2-2421bb6ca8f9\\\\\\\\\\\\\", \\\\\\\\\\\\\"type\\\\\\\\\\\\\": \\\\\\\\\\\\\"Microsoft.DPrep.SetColumnTypesBlock\\\\\\\\\\\\\", \\\\\\\\\\\\\"arguments\\\\\\\\\\\\\": {\\\\\\\\\\\\\"columnConversion\\\\\\\\\\\\\": [{\\\\\\\\\\\\\"column\\\\\\\\\\\\\": {\\\\\\\\\\\\\"type\\\\\\\\\\\\\": 2, \\\\\\\\\\\\\"details\\\\\\\\\\\\\": {\\\\\\\\\\\\\"selectedColumn\\\\\\\\\\\\\": \\\\\\\\\\\\\"age\\\\\\\\\\\\\"}}, \\\\\\\\\\\\\"typeProperty\\\\\\\\\\\\\": 3}, {\\\\\\\\\\\\\"column\\\\\\\\\\\\\": {\\\\\\\\\\\\\"type\\\\\\\\\\\\\": 2, \\\\\\\\\\\\\"details\\\\\\\\\\\\\": {\\\\\\\\\\\\\"selectedColumn\\\\\\\\\\\\\": \\\\\\\\\\\\\"anaemia\\\\\\\\\\\\\"}}, \\\\\\\\\\\\\"typeProperty\\\\\\\\\\\\\": 2}, {\\\\\\\\\\\\\"column\\\\\\\\\\\\\": {\\\\\\\\\\\\\"type\\\\\\\\\\\\\": 2, \\\\\\\\\\\\\"details\\\\\\\\\\\\\": {\\\\\\\\\\\\\"selectedColumn\\\\\\\\\\\\\": \\\\\\\\\\\\\"creatinine_phosphokinase\\\\\\\\\\\\\"}}, \\\\\\\\\\\\\"typeProperty\\\\\\\\\\\\\": 2}, {\\\\\\\\\\\\\"column\\\\\\\\\\\\\": {\\\\\\\\\\\\\"type\\\\\\\\\\\\\": 2, \\\\\\\\\\\\\"details\\\\\\\\\\\\\": {\\\\\\\\\\\\\"selectedColumn\\\\\\\\\\\\\": \\\\\\\\\\\\\"diabetes\\\\\\\\\\\\\"}}, \\\\\\\\\\\\\"typeProperty\\\\\\\\\\\\\": 2}, {\\\\\\\\\\\\\"column\\\\\\\\\\\\\": {\\\\\\\\\\\\\"type\\\\\\\\\\\\\": 2, \\\\\\\\\\\\\"details\\\\\\\\\\\\\": {\\\\\\\\\\\\\"selectedColumn\\\\\\\\\\\\\": \\\\\\\\\\\\\"ejection_fraction\\\\\\\\\\\\\"}}, \\\\\\\\\\\\\"typeProperty\\\\\\\\\\\\\": 2}, {\\\\\\\\\\\\\"column\\\\\\\\\\\\\": {\\\\\\\\\\\\\"type\\\\\\\\\\\\\": 2, \\\\\\\\\\\\\"details\\\\\\\\\\\\\": {\\\\\\\\\\\\\"selectedColumn\\\\\\\\\\\\\": \\\\\\\\\\\\\"high_blood_pressure\\\\\\\\\\\\\"}}, \\\\\\\\\\\\\"typeProperty\\\\\\\\\\\\\": 2}, {\\\\\\\\\\\\\"column\\\\\\\\\\\\\": {\\\\\\\\\\\\\"type\\\\\\\\\\\\\": 2, \\\\\\\\\\\\\"details\\\\\\\\\\\\\": {\\\\\\\\\\\\\"selectedColumn\\\\\\\\\\\\\": \\\\\\\\\\\\\"platelets\\\\\\\\\\\\\"}}, \\\\\\\\\\\\\"typeProperty\\\\\\\\\\\\\": 3}, {\\\\\\\\\\\\\"column\\\\\\\\\\\\\": {\\\\\\\\\\\\\"type\\\\\\\\\\\\\": 2, \\\\\\\\\\\\\"details\\\\\\\\\\\\\": {\\\\\\\\\\\\\"selectedColumn\\\\\\\\\\\\\": \\\\\\\\\\\\\"serum_creatinine\\\\\\\\\\\\\"}}, \\\\\\\\\\\\\"typeProperty\\\\\\\\\\\\\": 3}, {\\\\\\\\\\\\\"column\\\\\\\\\\\\\": {\\\\\\\\\\\\\"type\\\\\\\\\\\\\": 2, \\\\\\\\\\\\\"details\\\\\\\\\\\\\": {\\\\\\\\\\\\\"selectedColumn\\\\\\\\\\\\\": \\\\\\\\\\\\\"serum_sodium\\\\\\\\\\\\\"}}, \\\\\\\\\\\\\"typeProperty\\\\\\\\\\\\\": 2}, {\\\\\\\\\\\\\"column\\\\\\\\\\\\\": {\\\\\\\\\\\\\"type\\\\\\\\\\\\\": 2, \\\\\\\\\\\\\"details\\\\\\\\\\\\\": {\\\\\\\\\\\\\"selectedColumn\\\\\\\\\\\\\": \\\\\\\\\\\\\"sex\\\\\\\\\\\\\"}}, \\\\\\\\\\\\\"typeProperty\\\\\\\\\\\\\": 2}, {\\\\\\\\\\\\\"column\\\\\\\\\\\\\": {\\\\\\\\\\\\\"type\\\\\\\\\\\\\": 2, \\\\\\\\\\\\\"details\\\\\\\\\\\\\": {\\\\\\\\\\\\\"selectedColumn\\\\\\\\\\\\\": \\\\\\\\\\\\\"smoking\\\\\\\\\\\\\"}}, \\\\\\\\\\\\\"typeProperty\\\\\\\\\\\\\": 2}, {\\\\\\\\\\\\\"column\\\\\\\\\\\\\": {\\\\\\\\\\\\\"type\\\\\\\\\\\\\": 2, \\\\\\\\\\\\\"details\\\\\\\\\\\\\": {\\\\\\\\\\\\\"selectedColumn\\\\\\\\\\\\\": \\\\\\\\\\\\\"time\\\\\\\\\\\\\"}}, \\\\\\\\\\\\\"typeProperty\\\\\\\\\\\\\": 2}, {\\\\\\\\\\\\\"column\\\\\\\\\\\\\": {\\\\\\\\\\\\\"type\\\\\\\\\\\\\": 2, \\\\\\\\\\\\\"details\\\\\\\\\\\\\": {\\\\\\\\\\\\\"selectedColumn\\\\\\\\\\\\\": \\\\\\\\\\\\\"DEATH_EVENT\\\\\\\\\\\\\"}}, \\\\\\\\\\\\\"typeProperty\\\\\\\\\\\\\": 2}]}, \\\\\\\\\\\\\"localData\\\\\\\\\\\\\": {}, \\\\\\\\\\\\\"isEnabled\\\\\\\\\\\\\": true, \\\\\\\\\\\\\"name\\\\\\\\\\\\\": null, \\\\\\\\\\\\\"annotation\\\\\\\\\\\\\": null}], \\\\\\\\\\\\\"inspectors\\\\\\\\\\\\\": [], \\\\\\\\\\\\\"meta\\\\\\\\\\\\\": {\\\\\\\\\\\\\"savedDatasetId\\\\\\\\\\\\\": \\\\\\\\\\\\\"e1ff9590-dad1-4306-aade-3e94975c0d85\\\\\\\\\\\\\", \\\\\\\\\\\\\"datasetType\\\\\\\\\\\\\": \\\\\\\\\\\\\"tabular\\\\\\\\\\\\\", \\\\\\\\\\\\\"subscriptionId\\\\\\\\\\\\\": \\\\\\\\\\\\\"d4ad7261-832d-46b2-b093-22156001df5b\\\\\\\\\\\\\", \\\\\\\\\\\\\"workspaceId\\\\\\\\\\\\\": \\\\\\\\\\\\\"88334f2e-8ab0-48a6-9429-a6277df15ff9\\\\\\\\\\\\\", \\\\\\\\\\\\\"workspaceLocation\\\\\\\\\\\\\": \\\\\\\\\\\\\"southcentralus\\\\\\\\\\\\\"}}\\\\\", \\\\\"activities\\\\\": 0}',\n  'EnableSubsampling': None,\n  'runTemplate': 'AutoML',\n  'azureml.runsource': 'automl',\n  'display_task_type': 'classification',\n  'dependencies_versions': '{\"azureml-widgets\": \"1.20.0\", \"azureml-train\": \"1.20.0\", \"azureml-train-restclients-hyperdrive\": \"1.20.0\", \"azureml-train-core\": \"1.20.0\", \"azureml-train-automl\": \"1.20.0\", \"azureml-train-automl-runtime\": \"1.20.0\", \"azureml-train-automl-client\": \"1.20.0\", \"azureml-tensorboard\": \"1.20.0\", \"azureml-telemetry\": \"1.20.0\", \"azureml-sdk\": \"1.20.0\", \"azureml-samples\": \"0+unknown\", \"azureml-pipeline\": \"1.20.0\", \"azureml-pipeline-steps\": \"1.20.0\", \"azureml-pipeline-core\": \"1.20.0\", \"azureml-opendatasets\": \"1.20.0\", \"azureml-model-management-sdk\": \"1.0.1b6.post1\", \"azureml-mlflow\": \"1.20.0.post1\", \"azureml-interpret\": \"1.20.0\", \"azureml-explain-model\": \"1.20.0\", \"azureml-defaults\": \"1.20.0\", \"azureml-dataset-runtime\": \"1.20.0\", \"azureml-dataprep\": \"2.7.3\", \"azureml-dataprep-rslex\": \"1.5.0\", \"azureml-dataprep-native\": \"27.0.0\", \"azureml-datadrift\": \"1.20.0\", \"azureml-core\": \"1.20.0\", \"azureml-contrib-services\": \"1.20.0\", \"azureml-contrib-server\": \"1.20.0\", \"azureml-contrib-reinforcementlearning\": \"1.20.0\", \"azureml-contrib-pipeline-steps\": \"1.20.0\", \"azureml-contrib-notebook\": \"1.20.0\", \"azureml-contrib-interpret\": \"1.20.0\", \"azureml-contrib-gbdt\": \"1.20.0\", \"azureml-contrib-fairness\": \"1.20.0\", \"azureml-contrib-dataset\": \"1.20.0\", \"azureml-cli-common\": \"1.20.0\", \"azureml-automl-runtime\": \"1.20.0\", \"azureml-automl-core\": \"1.20.0\", \"azureml-accel-models\": \"1.20.0\"}',\n  '_aml_system_scenario_identification': 'Remote.Parent',\n  'ClientType': 'SDK',\n  'environment_cpu_name': 'AzureML-AutoML',\n  'environment_cpu_label': 'prod',\n  'environment_gpu_name': 'AzureML-AutoML-GPU',\n  'environment_gpu_label': 'prod',\n  'root_attribution': 'automl',\n  'attribution': 'AutoML',\n  'Orchestrator': 'AutoML',\n  'CancelUri': 'https://southcentralus.experiments.azureml.net/jasmine/v1.0/subscriptions/d4ad7261-832d-46b2-b093-22156001df5b/resourceGroups/aml-quickstarts-137352/providers/Microsoft.MachineLearningServices/workspaces/quick-starts-ws-137352/experimentids/988933dc-9c58-4b0b-889a-01a25a43150d/cancel/AutoML_f37b3d8a-310e-4104-8513-3fe9745c745f',\n  'azureml.git.repository_uri': 'https://github.com/maulingogri/Azure-Udacity-MLE-ND-Capstone',\n  'mlflow.source.git.repoURL': 'https://github.com/maulingogri/Azure-Udacity-MLE-ND-Capstone',\n  'azureml.git.branch': 'master',\n  'mlflow.source.git.branch': 'master',\n  'azureml.git.commit': '89dcb0588d378a5096d1c17710cffd91679b9918',\n  'mlflow.source.git.commit': '89dcb0588d378a5096d1c17710cffd91679b9918',\n  'azureml.git.dirty': 'True',\n  'ClientSdkVersion': '1.21.0',\n  'snapshotId': '00000000-0000-0000-0000-000000000000',\n  'SetupRunId': 'AutoML_f37b3d8a-310e-4104-8513-3fe9745c745f_setup',\n  'SetupRunContainerId': 'dcid.AutoML_f37b3d8a-310e-4104-8513-3fe9745c745f_setup',\n  'FeaturizationRunJsonPath': 'featurizer_container.json',\n  'FeaturizationRunId': 'AutoML_f37b3d8a-310e-4104-8513-3fe9745c745f_featurize',\n  'ProblemInfoJsonString': '{\"dataset_num_categorical\": 0, \"is_sparse\": false, \"subsampling\": false, \"dataset_classes\": 2, \"dataset_features\": 12, \"dataset_samples\": 299, \"single_frequency_class_detected\": false}',\n  'ModelExplainRunId': 'AutoML_f37b3d8a-310e-4104-8513-3fe9745c745f_ModelExplain'},\n 'inputDatasets': [{'dataset': {'id': 'e1ff9590-dad1-4306-aade-3e94975c0d85'}, 'consumptionDetails': {'type': 'RunInput', 'inputName': 'training_data', 'mechanism': 'Direct'}}],\n 'outputDatasets': [],\n 'logFiles': {},\n 'submittedBy': 'ODL_User 137352'}"
          },
          "metadata": {}
        }
      ],
      "execution_count": 8,
      "metadata": {
        "collapsed": false,
        "gather": {
          "logged": 1612481222011
        },
        "jupyter": {
          "outputs_hidden": false,
          "source_hidden": false
        },
        "nteract": {
          "transient": {
            "deleting": false
          }
        }
      }
    },
    {
      "cell_type": "markdown",
      "source": [
        "## Best Model\n",
        "\n",
        "TODO: In the cell below, get the best model from the automl experiments and display all the properties of the model.\n",
        "\n"
      ],
      "metadata": {}
    },
    {
      "cell_type": "code",
      "source": [
        "best_run, fitted_model = remote_run.get_output()\n",
        "print(best_run)\n",
        "print(fitted_model)"
      ],
      "outputs": [
        {
          "output_type": "stream",
          "name": "stderr",
          "text": [
            "WARNING:root:The version of the SDK does not match the version the model was trained on.\n",
            "WARNING:root:The consistency in the result may not be guaranteed.\n",
            "WARNING:root:Package:azureml-automl-core, training version:1.21.0, current version:1.20.0\n",
            "Package:azureml-automl-runtime, training version:1.21.0, current version:1.20.0\n",
            "Package:azureml-core, training version:1.21.0.post1, current version:1.20.0\n",
            "Package:azureml-dataprep, training version:2.8.2, current version:2.7.3\n",
            "Package:azureml-dataprep-native, training version:28.0.0, current version:27.0.0\n",
            "Package:azureml-dataprep-rslex, training version:1.6.0, current version:1.5.0\n",
            "Package:azureml-dataset-runtime, training version:1.21.0, current version:1.20.0\n",
            "Package:azureml-defaults, training version:1.21.0, current version:1.20.0\n",
            "Package:azureml-interpret, training version:1.21.0, current version:1.20.0\n",
            "Package:azureml-pipeline-core, training version:1.21.0, current version:1.20.0\n",
            "Package:azureml-telemetry, training version:1.21.0, current version:1.20.0\n",
            "Package:azureml-train-automl-client, training version:1.21.0, current version:1.20.0\n",
            "Package:azureml-train-automl-runtime, training version:1.21.0, current version:1.20.0\n",
            "WARNING:root:Please ensure the version of your local conda dependencies match the version on which your model was trained in order to properly retrieve your model.\n"
          ]
        },
        {
          "output_type": "stream",
          "name": "stdout",
          "text": [
            "Run(Experiment: AutoML,\n",
            "Id: AutoML_f37b3d8a-310e-4104-8513-3fe9745c745f_40,\n",
            "Type: azureml.scriptrun,\n",
            "Status: Completed)\n",
            "Pipeline(memory=None,\n",
            "         steps=[('datatransformer',\n",
            "                 DataTransformer(enable_dnn=None, enable_feature_sweeping=None,\n",
            "                                 feature_sweeping_config=None,\n",
            "                                 feature_sweeping_timeout=None,\n",
            "                                 featurization_config=None, force_text_dnn=None,\n",
            "                                 is_cross_validation=None,\n",
            "                                 is_onnx_compatible=None, logger=None,\n",
            "                                 observer=None, task=None, working_dir=None)),\n",
            "                ('prefittedsoftvotingclassifier',...\n",
            "                                                                                                    min_samples_leaf=0.01,\n",
            "                                                                                                    min_samples_split=0.01,\n",
            "                                                                                                    min_weight_fraction_leaf=0.0,\n",
            "                                                                                                    n_estimators=25,\n",
            "                                                                                                    n_jobs=1,\n",
            "                                                                                                    oob_score=True,\n",
            "                                                                                                    random_state=None,\n",
            "                                                                                                    verbose=0,\n",
            "                                                                                                    warm_start=False))],\n",
            "                                                                     verbose=False))],\n",
            "                                               flatten_transform=None,\n",
            "                                               weights=[0.2222222222222222,\n",
            "                                                        0.1111111111111111,\n",
            "                                                        0.2222222222222222,\n",
            "                                                        0.1111111111111111,\n",
            "                                                        0.1111111111111111,\n",
            "                                                        0.1111111111111111,\n",
            "                                                        0.1111111111111111]))],\n",
            "         verbose=False)\n"
          ]
        }
      ],
      "execution_count": 9,
      "metadata": {
        "collapsed": false,
        "gather": {
          "logged": 1612481275057
        },
        "jupyter": {
          "outputs_hidden": false,
          "source_hidden": false
        },
        "nteract": {
          "transient": {
            "deleting": false
          }
        }
      }
    },
    {
      "cell_type": "code",
      "source": [
        "from azureml.core.model import Model\n",
        "#TODO: Save the best model\n",
        "best_run.register_model(model_path='outputs/model.pkl', model_name='heartautoml_model', model_framework=Model.Framework.SCIKITLEARN)\n",
        "model = ws.models['heartautoml_model']"
      ],
      "outputs": [],
      "execution_count": 10,
      "metadata": {
        "collapsed": false,
        "gather": {
          "logged": 1612491650574
        },
        "jupyter": {
          "outputs_hidden": false,
          "source_hidden": false
        },
        "nteract": {
          "transient": {
            "deleting": false
          }
        }
      }
    },
    {
      "cell_type": "code",
      "source": [
        "print(model)"
      ],
      "outputs": [
        {
          "output_type": "stream",
          "name": "stdout",
          "text": [
            "Model(workspace=Workspace.create(name='quick-starts-ws-137352', subscription_id='d4ad7261-832d-46b2-b093-22156001df5b', resource_group='aml-quickstarts-137352'), name=heartautoml_model, id=heartautoml_model:1, version=1, tags={}, properties={})\n"
          ]
        }
      ],
      "execution_count": 11,
      "metadata": {}
    },
    {
      "cell_type": "markdown",
      "source": [
        "## Model Deployment\n",
        "\n",
        "Remember you have to deploy only one of the two models you trained.. Perform the steps in the rest of this notebook only if you wish to deploy this model.\n",
        "\n",
        "TODO: In the cell below, register the model, create an inference config and deploy the model as a web service."
      ],
      "metadata": {}
    },
    {
      "cell_type": "code",
      "source": [
        "from azureml.core import Environment\n",
        "best_run.download_file('outputs/conda_env_v_1_0_0.yml','conda_env.yml')\n",
        "myenv = Environment.from_conda_specification(name=\"myenv\", file_path=\"conda_env.yml\")\n",
        "best_run.download_file('outputs/scoring_file_v_1_0_0.py', 'score.py')"
      ],
      "outputs": [],
      "execution_count": 13,
      "metadata": {
        "gather": {
          "logged": 1612492522370
        },
        "nteract": {
          "transient": {
            "deleting": false
          }
        }
      }
    },
    {
      "cell_type": "code",
      "source": [
        "from azureml.core.webservice import AciWebservice, Webservice\n",
        "from azureml.core.model import InferenceConfig\n",
        "\n",
        "# Configure the scoring environment\n",
        "inference_config = InferenceConfig(entry_script='score.py',\n",
        "                                   environment=myenv)\n",
        "\n",
        "service_name = 'automl-service'\n",
        "deployment_config = AciWebservice.deploy_configuration(cpu_cores = 1, memory_gb = 1, auth_enabled=True)\n",
        "aci_service = Model.deploy(workspace=ws,\n",
        "                           name= service_name,\n",
        "                           models= [model],\n",
        "                           inference_config= inference_config,\n",
        "                           deployment_config=deployment_config)\n",
        "aci_service.wait_for_deployment(show_output = True)"
      ],
      "outputs": [
        {
          "output_type": "stream",
          "name": "stdout",
          "text": [
            "Tips: You can try get_logs(): https://aka.ms/debugimage#dockerlog or local deployment: https://aka.ms/debugimage#debug-locally to debug if deployment takes longer than 10 minutes.\n",
            "Running.............................................................................................................................................................................................................\n",
            "Succeeded\n",
            "ACI service creation operation finished, operation \"Succeeded\"\n"
          ]
        }
      ],
      "execution_count": 14,
      "metadata": {
        "collapsed": false,
        "gather": {
          "logged": 1598431435189
        },
        "jupyter": {
          "outputs_hidden": false,
          "source_hidden": false
        },
        "nteract": {
          "transient": {
            "deleting": false
          }
        }
      }
    },
    {
      "cell_type": "code",
      "source": [
        "print(aci_service.state)"
      ],
      "outputs": [
        {
          "output_type": "stream",
          "name": "stdout",
          "text": [
            "Healthy\n"
          ]
        }
      ],
      "execution_count": 15,
      "metadata": {
        "gather": {
          "logged": 1612494078849
        },
        "nteract": {
          "transient": {
            "deleting": false
          }
        }
      }
    },
    {
      "cell_type": "code",
      "source": [
        "# Enable AppInsights\n",
        "aci_service.update(enable_app_insights=True)\n",
        "print('AppInsights enabled!')"
      ],
      "outputs": [
        {
          "output_type": "stream",
          "name": "stdout",
          "text": [
            "AppInsights enabled!\n"
          ]
        }
      ],
      "execution_count": 16,
      "metadata": {
        "gather": {
          "logged": 1612494090361
        },
        "nteract": {
          "transient": {
            "deleting": false
          }
        }
      }
    },
    {
      "cell_type": "markdown",
      "source": [
        "TODO: In the cell below, send a request to the web service you deployed to test it."
      ],
      "metadata": {
        "gather": {
          "logged": 1598431657736
        },
        "jupyter": {
          "outputs_hidden": false,
          "source_hidden": false
        },
        "nteract": {
          "transient": {
            "deleting": false
          }
        }
      }
    },
    {
      "cell_type": "code",
      "source": [
        "endpoint = aci_service.scoring_uri\n",
        "primary, secondary = aci_service.get_keys()\n",
        "print(primary)\n",
        "print(endpoint)"
      ],
      "outputs": [
        {
          "output_type": "stream",
          "name": "stdout",
          "text": [
            "Whaq7k7cM5hJ4s47ZoVPRXvrdpqwxG4J\n",
            "http://2a10c98d-0260-4781-a20e-60171dde9db9.southcentralus.azurecontainer.io/score\n"
          ]
        }
      ],
      "execution_count": 17,
      "metadata": {
        "gather": {
          "logged": 1612494400129
        },
        "nteract": {
          "transient": {
            "deleting": false
          }
        }
      }
    },
    {
      "cell_type": "code",
      "source": [
        "!python endpoint.py"
      ],
      "outputs": [
        {
          "output_type": "stream",
          "name": "stdout",
          "text": [
            "{\"result\": [1, 0]}\n"
          ]
        }
      ],
      "execution_count": 18,
      "metadata": {}
    },
    {
      "cell_type": "markdown",
      "source": [
        "TODO: In the cell below, print the logs of the web service and delete the service"
      ],
      "metadata": {
        "gather": {
          "logged": 1598432765711
        },
        "jupyter": {
          "outputs_hidden": false,
          "source_hidden": false
        },
        "nteract": {
          "transient": {
            "deleting": false
          }
        }
      }
    },
    {
      "cell_type": "code",
      "source": [
        "aci_service.delete()\n",
        "print('Service deleted.')"
      ],
      "outputs": [
        {
          "output_type": "stream",
          "name": "stdout",
          "text": [
            "Service deleted.\n"
          ]
        }
      ],
      "execution_count": 19,
      "metadata": {
        "collapsed": false,
        "jupyter": {
          "outputs_hidden": false,
          "source_hidden": false
        },
        "nteract": {
          "transient": {
            "deleting": false
          }
        },
        "gather": {
          "logged": 1612549700130
        }
      }
    },
    {
      "cell_type": "code",
      "source": [],
      "outputs": [],
      "execution_count": null,
      "metadata": {
        "collapsed": true,
        "jupyter": {
          "source_hidden": false,
          "outputs_hidden": false
        },
        "nteract": {
          "transient": {
            "deleting": false
          }
        }
      }
    }
  ],
  "metadata": {
    "kernel_info": {
      "name": "python3"
    },
    "kernelspec": {
      "display_name": "Python 3",
      "language": "python",
      "name": "python3"
    },
    "language_info": {
      "codemirror_mode": {
        "name": "ipython",
        "version": 3
      },
      "file_extension": ".py",
      "mimetype": "text/x-python",
      "name": "python",
      "nbconvert_exporter": "python",
      "pygments_lexer": "ipython3",
      "version": "3.6.9"
    },
    "nteract": {
      "version": "nteract-front-end@1.0.0"
    }
  },
  "nbformat": 4,
  "nbformat_minor": 4
}