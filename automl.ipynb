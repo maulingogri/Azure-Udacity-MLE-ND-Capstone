{
 "cells": [
  {
   "cell_type": "markdown",
   "metadata": {},
   "source": [
    "# Automated ML\n",
    "\n",
    "TODO: Import Dependencies. In the cell below, import all the dependencies that you will need to complete the project."
   ]
  },
  {
   "cell_type": "code",
   "execution_count": 4,
   "metadata": {
    "collapsed": false,
    "gather": {
     "logged": 1612478140284
    },
    "jupyter": {
     "outputs_hidden": false,
     "source_hidden": false
    },
    "nteract": {
     "transient": {
      "deleting": false
     }
    }
   },
   "outputs": [
    {
     "name": "stdout",
     "output_type": "stream",
     "text": [
      "SDK version: 1.20.0\n"
     ]
    }
   ],
   "source": [
    "import logging\n",
    "import os\n",
    "import csv\n",
    "\n",
    "from matplotlib import pyplot as plt\n",
    "import numpy as np\n",
    "import pandas as pd\n",
    "from sklearn import datasets\n",
    "import pkg_resources\n",
    "\n",
    "import azureml.core\n",
    "from azureml.core.experiment import Experiment\n",
    "from azureml.core.workspace import Workspace\n",
    "from azureml.train.automl import AutoMLConfig\n",
    "from azureml.core.dataset import Dataset\n",
    "from azureml.core.compute import ComputeTarget, AmlCompute\n",
    "from azureml.data.dataset_factory import TabularDatasetFactory\n",
    "from azureml.core.compute_target import ComputeTargetException\n",
    "\n",
    "# Check core SDK version number\n",
    "print(\"SDK version:\", azureml.core.VERSION)"
   ]
  },
  {
   "cell_type": "markdown",
   "metadata": {},
   "source": [
    "## Dataset\n",
    "\n",
    "### Overview\n",
    "TODO: In this markdown cell, give an overview of the dataset you are using. Also mention the task you will be performing.\n",
    "\n",
    "\n",
    "TODO: Get data. In the cell below, write code to access the data you will be using in this project. Remember that the dataset needs to be external."
   ]
  },
  {
   "cell_type": "code",
   "execution_count": 2,
   "metadata": {
    "collapsed": false,
    "gather": {
     "logged": 1612477895487
    },
    "jupyter": {
     "outputs_hidden": false,
     "source_hidden": false
    },
    "nteract": {
     "transient": {
      "deleting": false
     }
    }
   },
   "outputs": [
    {
     "name": "stdout",
     "output_type": "stream",
     "text": [
      "Performing interactive authentication. Please follow the instructions on the terminal.\n",
      "To sign in, use a web browser to open the page https://microsoft.com/devicelogin and enter the code ED8DCSCAL to authenticate.\n",
      "You have logged in. Now let us find all the subscriptions to which you have access...\n",
      "Interactive authentication successfully completed.\n"
     ]
    }
   ],
   "source": [
    "ws = Workspace.from_config()\n",
    "\n",
    "# choose a name for experiment\n",
    "experiment_name = 'AutoML'\n",
    "\n",
    "experiment=Experiment(ws, experiment_name)"
   ]
  },
  {
   "cell_type": "code",
   "execution_count": 9,
   "metadata": {
    "collapsed": true,
    "gather": {
     "logged": 1612479545481
    },
    "jupyter": {
     "outputs_hidden": true,
     "source_hidden": false
    },
    "nteract": {
     "transient": {
      "deleting": false
     }
    }
   },
   "outputs": [
    {
     "name": "stdout",
     "output_type": "stream",
     "text": [
      "Found existing cluster, use it.\n",
      "Succeeded.....................................................................................................................\n",
      "AmlCompute wait for completion finished\n",
      "\n",
      "Wait timeout has been reached\n",
      "Current provisioning state of AmlCompute is \"Succeeded\" and current node count is \"0\"\n"
     ]
    }
   ],
   "source": [
    "amlcompute_cluster_name = \"auto-ml\"\n",
    "\n",
    "# Verify that cluster does not exist already\n",
    "try:\n",
    "    training_cluster = ComputeTarget(workspace=ws, name=amlcompute_cluster_name)\n",
    "    print('Found existing cluster, use it.')\n",
    "except ComputeTargetException:\n",
    "    compute_config = AmlCompute.provisioning_configuration(vm_size='STANDARD_D2_V2',# for GPU, use \"STANDARD_NC6\"\n",
    "                                                           #vm_priority = 'lowpriority', # optional\n",
    "                                                           max_nodes=6)\n",
    "    training_cluster = ComputeTarget.create(ws, amlcompute_cluster_name, compute_config)\n",
    "\n",
    "training_cluster.wait_for_completion(show_output=True, min_node_count = 1, timeout_in_minutes = 10)"
   ]
  },
  {
   "cell_type": "code",
   "execution_count": 3,
   "metadata": {
    "collapsed": true,
    "gather": {
     "logged": 1612478053299
    },
    "jupyter": {
     "outputs_hidden": true,
     "source_hidden": false
    },
    "nteract": {
     "transient": {
      "deleting": false
     }
    }
   },
   "outputs": [
    {
     "data": {
      "text/html": [
       "<div>\n",
       "<style scoped>\n",
       "    .dataframe tbody tr th:only-of-type {\n",
       "        vertical-align: middle;\n",
       "    }\n",
       "\n",
       "    .dataframe tbody tr th {\n",
       "        vertical-align: top;\n",
       "    }\n",
       "\n",
       "    .dataframe thead th {\n",
       "        text-align: right;\n",
       "    }\n",
       "</style>\n",
       "<table border=\"1\" class=\"dataframe\">\n",
       "  <thead>\n",
       "    <tr style=\"text-align: right;\">\n",
       "      <th></th>\n",
       "      <th>age</th>\n",
       "      <th>anaemia</th>\n",
       "      <th>creatinine_phosphokinase</th>\n",
       "      <th>diabetes</th>\n",
       "      <th>ejection_fraction</th>\n",
       "      <th>high_blood_pressure</th>\n",
       "      <th>platelets</th>\n",
       "      <th>serum_creatinine</th>\n",
       "      <th>serum_sodium</th>\n",
       "      <th>sex</th>\n",
       "      <th>smoking</th>\n",
       "      <th>time</th>\n",
       "      <th>DEATH_EVENT</th>\n",
       "    </tr>\n",
       "  </thead>\n",
       "  <tbody>\n",
       "    <tr>\n",
       "      <th>count</th>\n",
       "      <td>299.000000</td>\n",
       "      <td>299.000000</td>\n",
       "      <td>299.000000</td>\n",
       "      <td>299.000000</td>\n",
       "      <td>299.000000</td>\n",
       "      <td>299.000000</td>\n",
       "      <td>299.000000</td>\n",
       "      <td>299.00000</td>\n",
       "      <td>299.000000</td>\n",
       "      <td>299.000000</td>\n",
       "      <td>299.00000</td>\n",
       "      <td>299.000000</td>\n",
       "      <td>299.00000</td>\n",
       "    </tr>\n",
       "    <tr>\n",
       "      <th>mean</th>\n",
       "      <td>60.833893</td>\n",
       "      <td>0.431438</td>\n",
       "      <td>581.839465</td>\n",
       "      <td>0.418060</td>\n",
       "      <td>38.083612</td>\n",
       "      <td>0.351171</td>\n",
       "      <td>263358.029264</td>\n",
       "      <td>1.39388</td>\n",
       "      <td>136.625418</td>\n",
       "      <td>0.648829</td>\n",
       "      <td>0.32107</td>\n",
       "      <td>130.260870</td>\n",
       "      <td>0.32107</td>\n",
       "    </tr>\n",
       "    <tr>\n",
       "      <th>std</th>\n",
       "      <td>11.894809</td>\n",
       "      <td>0.496107</td>\n",
       "      <td>970.287881</td>\n",
       "      <td>0.494067</td>\n",
       "      <td>11.834841</td>\n",
       "      <td>0.478136</td>\n",
       "      <td>97804.236869</td>\n",
       "      <td>1.03451</td>\n",
       "      <td>4.412477</td>\n",
       "      <td>0.478136</td>\n",
       "      <td>0.46767</td>\n",
       "      <td>77.614208</td>\n",
       "      <td>0.46767</td>\n",
       "    </tr>\n",
       "    <tr>\n",
       "      <th>min</th>\n",
       "      <td>40.000000</td>\n",
       "      <td>0.000000</td>\n",
       "      <td>23.000000</td>\n",
       "      <td>0.000000</td>\n",
       "      <td>14.000000</td>\n",
       "      <td>0.000000</td>\n",
       "      <td>25100.000000</td>\n",
       "      <td>0.50000</td>\n",
       "      <td>113.000000</td>\n",
       "      <td>0.000000</td>\n",
       "      <td>0.00000</td>\n",
       "      <td>4.000000</td>\n",
       "      <td>0.00000</td>\n",
       "    </tr>\n",
       "    <tr>\n",
       "      <th>25%</th>\n",
       "      <td>51.000000</td>\n",
       "      <td>0.000000</td>\n",
       "      <td>116.500000</td>\n",
       "      <td>0.000000</td>\n",
       "      <td>30.000000</td>\n",
       "      <td>0.000000</td>\n",
       "      <td>212500.000000</td>\n",
       "      <td>0.90000</td>\n",
       "      <td>134.000000</td>\n",
       "      <td>0.000000</td>\n",
       "      <td>0.00000</td>\n",
       "      <td>73.000000</td>\n",
       "      <td>0.00000</td>\n",
       "    </tr>\n",
       "    <tr>\n",
       "      <th>50%</th>\n",
       "      <td>60.000000</td>\n",
       "      <td>0.000000</td>\n",
       "      <td>250.000000</td>\n",
       "      <td>0.000000</td>\n",
       "      <td>38.000000</td>\n",
       "      <td>0.000000</td>\n",
       "      <td>262000.000000</td>\n",
       "      <td>1.10000</td>\n",
       "      <td>137.000000</td>\n",
       "      <td>1.000000</td>\n",
       "      <td>0.00000</td>\n",
       "      <td>115.000000</td>\n",
       "      <td>0.00000</td>\n",
       "    </tr>\n",
       "    <tr>\n",
       "      <th>75%</th>\n",
       "      <td>70.000000</td>\n",
       "      <td>1.000000</td>\n",
       "      <td>582.000000</td>\n",
       "      <td>1.000000</td>\n",
       "      <td>45.000000</td>\n",
       "      <td>1.000000</td>\n",
       "      <td>303500.000000</td>\n",
       "      <td>1.40000</td>\n",
       "      <td>140.000000</td>\n",
       "      <td>1.000000</td>\n",
       "      <td>1.00000</td>\n",
       "      <td>203.000000</td>\n",
       "      <td>1.00000</td>\n",
       "    </tr>\n",
       "    <tr>\n",
       "      <th>max</th>\n",
       "      <td>95.000000</td>\n",
       "      <td>1.000000</td>\n",
       "      <td>7861.000000</td>\n",
       "      <td>1.000000</td>\n",
       "      <td>80.000000</td>\n",
       "      <td>1.000000</td>\n",
       "      <td>850000.000000</td>\n",
       "      <td>9.40000</td>\n",
       "      <td>148.000000</td>\n",
       "      <td>1.000000</td>\n",
       "      <td>1.00000</td>\n",
       "      <td>285.000000</td>\n",
       "      <td>1.00000</td>\n",
       "    </tr>\n",
       "  </tbody>\n",
       "</table>\n",
       "</div>"
      ],
      "text/plain": [
       "              age     anaemia  creatinine_phosphokinase    diabetes  \\\n",
       "count  299.000000  299.000000                299.000000  299.000000   \n",
       "mean    60.833893    0.431438                581.839465    0.418060   \n",
       "std     11.894809    0.496107                970.287881    0.494067   \n",
       "min     40.000000    0.000000                 23.000000    0.000000   \n",
       "25%     51.000000    0.000000                116.500000    0.000000   \n",
       "50%     60.000000    0.000000                250.000000    0.000000   \n",
       "75%     70.000000    1.000000                582.000000    1.000000   \n",
       "max     95.000000    1.000000               7861.000000    1.000000   \n",
       "\n",
       "       ejection_fraction  high_blood_pressure      platelets  \\\n",
       "count         299.000000           299.000000     299.000000   \n",
       "mean           38.083612             0.351171  263358.029264   \n",
       "std            11.834841             0.478136   97804.236869   \n",
       "min            14.000000             0.000000   25100.000000   \n",
       "25%            30.000000             0.000000  212500.000000   \n",
       "50%            38.000000             0.000000  262000.000000   \n",
       "75%            45.000000             1.000000  303500.000000   \n",
       "max            80.000000             1.000000  850000.000000   \n",
       "\n",
       "       serum_creatinine  serum_sodium         sex    smoking        time  \\\n",
       "count         299.00000    299.000000  299.000000  299.00000  299.000000   \n",
       "mean            1.39388    136.625418    0.648829    0.32107  130.260870   \n",
       "std             1.03451      4.412477    0.478136    0.46767   77.614208   \n",
       "min             0.50000    113.000000    0.000000    0.00000    4.000000   \n",
       "25%             0.90000    134.000000    0.000000    0.00000   73.000000   \n",
       "50%             1.10000    137.000000    1.000000    0.00000  115.000000   \n",
       "75%             1.40000    140.000000    1.000000    1.00000  203.000000   \n",
       "max             9.40000    148.000000    1.000000    1.00000  285.000000   \n",
       "\n",
       "       DEATH_EVENT  \n",
       "count    299.00000  \n",
       "mean       0.32107  \n",
       "std        0.46767  \n",
       "min        0.00000  \n",
       "25%        0.00000  \n",
       "50%        0.00000  \n",
       "75%        1.00000  \n",
       "max        1.00000  "
      ]
     },
     "execution_count": 3,
     "metadata": {},
     "output_type": "execute_result"
    }
   ],
   "source": [
    "found = False\n",
    "key = \"HeartFailure Dataset\"\n",
    "description_text = \"Heart Failure DataSet for Kaggle\"\n",
    "\n",
    "if key in ws.datasets.keys(): \n",
    "        found = True\n",
    "        dataset = ws.datasets[key] \n",
    "\n",
    "if not found:\n",
    "        # Create AML Dataset and register it into Workspace\n",
    "        example_data = 'https://raw.githubusercontent.com/maulingogri/Azure-Udacity-MLE-ND-Capstone/master/data/heart_failure_clinical_records_dataset.csv'\n",
    "        dataset = Dataset.Tabular.from_delimited_files(example_data)        \n",
    "        #Register Dataset in Workspace\n",
    "        dataset = dataset.register(workspace=ws,\n",
    "                                   name=key,\n",
    "                                   description=description_text)\n",
    "\n",
    "\n",
    "df = dataset.to_pandas_dataframe()\n",
    "df.describe()"
   ]
  },
  {
   "cell_type": "code",
   "execution_count": 6,
   "metadata": {
    "collapsed": true,
    "gather": {
     "logged": 1612478821209
    },
    "jupyter": {
     "outputs_hidden": true,
     "source_hidden": false
    },
    "nteract": {
     "transient": {
      "deleting": false
     }
    }
   },
   "outputs": [
    {
     "data": {
      "text/html": [
       "<div>\n",
       "<style scoped>\n",
       "    .dataframe tbody tr th:only-of-type {\n",
       "        vertical-align: middle;\n",
       "    }\n",
       "\n",
       "    .dataframe tbody tr th {\n",
       "        vertical-align: top;\n",
       "    }\n",
       "\n",
       "    .dataframe thead th {\n",
       "        text-align: right;\n",
       "    }\n",
       "</style>\n",
       "<table border=\"1\" class=\"dataframe\">\n",
       "  <thead>\n",
       "    <tr style=\"text-align: right;\">\n",
       "      <th></th>\n",
       "      <th>age</th>\n",
       "      <th>anaemia</th>\n",
       "      <th>creatinine_phosphokinase</th>\n",
       "      <th>diabetes</th>\n",
       "      <th>ejection_fraction</th>\n",
       "      <th>high_blood_pressure</th>\n",
       "      <th>platelets</th>\n",
       "      <th>serum_creatinine</th>\n",
       "      <th>serum_sodium</th>\n",
       "      <th>sex</th>\n",
       "      <th>smoking</th>\n",
       "      <th>time</th>\n",
       "      <th>DEATH_EVENT</th>\n",
       "    </tr>\n",
       "  </thead>\n",
       "  <tbody>\n",
       "    <tr>\n",
       "      <th>0</th>\n",
       "      <td>75.0</td>\n",
       "      <td>0</td>\n",
       "      <td>582</td>\n",
       "      <td>0</td>\n",
       "      <td>20</td>\n",
       "      <td>1</td>\n",
       "      <td>265000.00</td>\n",
       "      <td>1.9</td>\n",
       "      <td>130</td>\n",
       "      <td>1</td>\n",
       "      <td>0</td>\n",
       "      <td>4</td>\n",
       "      <td>1</td>\n",
       "    </tr>\n",
       "    <tr>\n",
       "      <th>1</th>\n",
       "      <td>55.0</td>\n",
       "      <td>0</td>\n",
       "      <td>7861</td>\n",
       "      <td>0</td>\n",
       "      <td>38</td>\n",
       "      <td>0</td>\n",
       "      <td>263358.03</td>\n",
       "      <td>1.1</td>\n",
       "      <td>136</td>\n",
       "      <td>1</td>\n",
       "      <td>0</td>\n",
       "      <td>6</td>\n",
       "      <td>1</td>\n",
       "    </tr>\n",
       "    <tr>\n",
       "      <th>2</th>\n",
       "      <td>65.0</td>\n",
       "      <td>0</td>\n",
       "      <td>146</td>\n",
       "      <td>0</td>\n",
       "      <td>20</td>\n",
       "      <td>0</td>\n",
       "      <td>162000.00</td>\n",
       "      <td>1.3</td>\n",
       "      <td>129</td>\n",
       "      <td>1</td>\n",
       "      <td>1</td>\n",
       "      <td>7</td>\n",
       "      <td>1</td>\n",
       "    </tr>\n",
       "    <tr>\n",
       "      <th>3</th>\n",
       "      <td>50.0</td>\n",
       "      <td>1</td>\n",
       "      <td>111</td>\n",
       "      <td>0</td>\n",
       "      <td>20</td>\n",
       "      <td>0</td>\n",
       "      <td>210000.00</td>\n",
       "      <td>1.9</td>\n",
       "      <td>137</td>\n",
       "      <td>1</td>\n",
       "      <td>0</td>\n",
       "      <td>7</td>\n",
       "      <td>1</td>\n",
       "    </tr>\n",
       "    <tr>\n",
       "      <th>4</th>\n",
       "      <td>65.0</td>\n",
       "      <td>1</td>\n",
       "      <td>160</td>\n",
       "      <td>1</td>\n",
       "      <td>20</td>\n",
       "      <td>0</td>\n",
       "      <td>327000.00</td>\n",
       "      <td>2.7</td>\n",
       "      <td>116</td>\n",
       "      <td>0</td>\n",
       "      <td>0</td>\n",
       "      <td>8</td>\n",
       "      <td>1</td>\n",
       "    </tr>\n",
       "  </tbody>\n",
       "</table>\n",
       "</div>"
      ],
      "text/plain": [
       "    age  anaemia  creatinine_phosphokinase  diabetes  ejection_fraction  \\\n",
       "0  75.0        0                       582         0                 20   \n",
       "1  55.0        0                      7861         0                 38   \n",
       "2  65.0        0                       146         0                 20   \n",
       "3  50.0        1                       111         0                 20   \n",
       "4  65.0        1                       160         1                 20   \n",
       "\n",
       "   high_blood_pressure  platelets  serum_creatinine  serum_sodium  sex  \\\n",
       "0                    1  265000.00               1.9           130    1   \n",
       "1                    0  263358.03               1.1           136    1   \n",
       "2                    0  162000.00               1.3           129    1   \n",
       "3                    0  210000.00               1.9           137    1   \n",
       "4                    0  327000.00               2.7           116    0   \n",
       "\n",
       "   smoking  time  DEATH_EVENT  \n",
       "0        0     4            1  \n",
       "1        0     6            1  \n",
       "2        1     7            1  \n",
       "3        0     7            1  \n",
       "4        0     8            1  "
      ]
     },
     "execution_count": 6,
     "metadata": {},
     "output_type": "execute_result"
    }
   ],
   "source": [
    "dataset.take(5).to_pandas_dataframe()"
   ]
  },
  {
   "cell_type": "code",
   "execution_count": 7,
   "metadata": {
    "collapsed": true,
    "gather": {
     "logged": 1612478831767
    },
    "jupyter": {
     "outputs_hidden": true,
     "source_hidden": false
    },
    "nteract": {
     "transient": {
      "deleting": false
     }
    }
   },
   "outputs": [],
   "source": [
    "# Split data into train and test sets\n",
    "train, test = dataset.random_split(percentage=0.75, seed=121)"
   ]
  },
  {
   "cell_type": "markdown",
   "metadata": {},
   "source": [
    "## AutoML Configuration\n",
    "\n",
    "TODO: Explain why you chose the automl settings and cofiguration you used below."
   ]
  },
  {
   "cell_type": "code",
   "execution_count": 14,
   "metadata": {
    "collapsed": false,
    "gather": {
     "logged": 1612479753856
    },
    "jupyter": {
     "outputs_hidden": false,
     "source_hidden": false
    },
    "nteract": {
     "transient": {
      "deleting": false
     }
    }
   },
   "outputs": [],
   "source": [
    "# TODO: Put your automl settings here\n",
    "automl_settings = {\n",
    "    \"experiment_timeout_minutes\": 120,\n",
    "    \"max_concurrent_iterations\": 6,\n",
    "    \"primary_metric\" : 'accuracy'\n",
    "}\n",
    "\n",
    "# TODO: Put your automl config here\n",
    "automl_config = AutoMLConfig(compute_target=training_cluster,\n",
    "                             task = \"classification\",\n",
    "                             training_data=train,\n",
    "                             label_column_name=\"DEATH_EVENT\",   \n",
    "                             enable_early_stopping= True,\n",
    "                             n_cross_validations=5,\n",
    "                             featurization= 'auto',\n",
    "                             debug_log = \"automl_errors.log\",\n",
    "                             **automl_settings)"
   ]
  },
  {
   "cell_type": "code",
   "execution_count": 15,
   "metadata": {
    "collapsed": false,
    "gather": {
     "logged": 1612479766766
    },
    "jupyter": {
     "outputs_hidden": false,
     "source_hidden": false
    },
    "nteract": {
     "transient": {
      "deleting": false
     }
    }
   },
   "outputs": [
    {
     "name": "stdout",
     "output_type": "stream",
     "text": [
      "Running on remote.\n"
     ]
    }
   ],
   "source": [
    "# TODO: Submit your experiment\n",
    "remote_run = experiment.submit(automl_config)"
   ]
  },
  {
   "cell_type": "markdown",
   "metadata": {},
   "source": [
    "## Run Details\n",
    "\n",
    "OPTIONAL: Write about the different models trained and their performance. Why do you think some models did better than others?\n",
    "\n",
    "TODO: In the cell below, use the `RunDetails` widget to show the different experiments."
   ]
  },
  {
   "cell_type": "code",
   "execution_count": 17,
   "metadata": {
    "collapsed": false,
    "gather": {
     "logged": 1612481222011
    },
    "jupyter": {
     "outputs_hidden": false,
     "source_hidden": false
    },
    "nteract": {
     "transient": {
      "deleting": false
     }
    }
   },
   "outputs": [
    {
     "data": {
      "application/vnd.jupyter.widget-view+json": {
       "model_id": "fa34f795ca654cd4a5cb9471eb3e6d31",
       "version_major": 2,
       "version_minor": 0
      },
      "text/plain": [
       "_AutoMLWidget(widget_settings={'childWidgetDisplay': 'popup', 'send_telemetry': False, 'log_level': 'INFO', 's…"
      ]
     },
     "metadata": {},
     "output_type": "display_data"
    },
    {
     "data": {
      "application/aml.mini.widget.v1": "{\"status\": \"Completed\", \"workbench_run_details_uri\": \"https://ml.azure.com/experiments/AutoML/runs/AutoML_e9ff04b4-4463-4aee-86f2-bffb2f48e3d6?wsid=/subscriptions/48a74bb7-9950-4cc1-9caa-5d50f995cc55/resourcegroups/aml-quickstarts-137278/workspaces/quick-starts-ws-137278\", \"run_id\": \"AutoML_e9ff04b4-4463-4aee-86f2-bffb2f48e3d6\", \"run_properties\": {\"run_id\": \"AutoML_e9ff04b4-4463-4aee-86f2-bffb2f48e3d6\", \"created_utc\": \"2021-02-04T23:02:42.880934Z\", \"properties\": {\"num_iterations\": \"1000\", \"training_type\": \"TrainFull\", \"acquisition_function\": \"EI\", \"primary_metric\": \"accuracy\", \"train_split\": \"0\", \"acquisition_parameter\": \"0\", \"num_cross_validation\": \"5\", \"target\": \"auto-ml\", \"AMLSettingsJsonString\": \"{\\\"path\\\":null,\\\"name\\\":\\\"AutoML\\\",\\\"subscription_id\\\":\\\"48a74bb7-9950-4cc1-9caa-5d50f995cc55\\\",\\\"resource_group\\\":\\\"aml-quickstarts-137278\\\",\\\"workspace_name\\\":\\\"quick-starts-ws-137278\\\",\\\"region\\\":\\\"southcentralus\\\",\\\"compute_target\\\":\\\"auto-ml\\\",\\\"spark_service\\\":null,\\\"azure_service\\\":\\\"remote\\\",\\\"many_models\\\":false,\\\"pipeline_fetch_max_batch_size\\\":1,\\\"iterations\\\":1000,\\\"primary_metric\\\":\\\"accuracy\\\",\\\"task_type\\\":\\\"classification\\\",\\\"data_script\\\":null,\\\"validation_size\\\":0.0,\\\"n_cross_validations\\\":5,\\\"y_min\\\":null,\\\"y_max\\\":null,\\\"num_classes\\\":null,\\\"featurization\\\":\\\"auto\\\",\\\"_ignore_package_version_incompatibilities\\\":false,\\\"is_timeseries\\\":false,\\\"max_cores_per_iteration\\\":1,\\\"max_concurrent_iterations\\\":6,\\\"iteration_timeout_minutes\\\":null,\\\"mem_in_mb\\\":null,\\\"enforce_time_on_windows\\\":false,\\\"experiment_timeout_minutes\\\":120,\\\"experiment_exit_score\\\":null,\\\"whitelist_models\\\":null,\\\"blacklist_algos\\\":[\\\"TensorFlowLinearClassifier\\\",\\\"TensorFlowDNN\\\"],\\\"supported_models\\\":[\\\"LogisticRegression\\\",\\\"DecisionTree\\\",\\\"TensorFlowDNN\\\",\\\"SVM\\\",\\\"BernoulliNaiveBayes\\\",\\\"KNN\\\",\\\"RandomForest\\\",\\\"ExtremeRandomTrees\\\",\\\"LinearSVM\\\",\\\"XGBoostClassifier\\\",\\\"TensorFlowLinearClassifier\\\",\\\"GradientBoosting\\\",\\\"SGD\\\",\\\"AveragedPerceptronClassifier\\\",\\\"LightGBM\\\",\\\"MultinomialNaiveBayes\\\"],\\\"auto_blacklist\\\":true,\\\"blacklist_samples_reached\\\":false,\\\"exclude_nan_labels\\\":true,\\\"verbosity\\\":20,\\\"_debug_log\\\":\\\"azureml_automl.log\\\",\\\"show_warnings\\\":false,\\\"model_explainability\\\":true,\\\"service_url\\\":null,\\\"sdk_url\\\":null,\\\"sdk_packages\\\":null,\\\"enable_onnx_compatible_models\\\":false,\\\"enable_split_onnx_featurizer_estimator_models\\\":false,\\\"vm_type\\\":\\\"STANDARD_D2_V2\\\",\\\"telemetry_verbosity\\\":20,\\\"send_telemetry\\\":true,\\\"enable_dnn\\\":false,\\\"scenario\\\":\\\"SDK-1.13.0\\\",\\\"environment_label\\\":null,\\\"force_text_dnn\\\":false,\\\"enable_feature_sweeping\\\":true,\\\"enable_early_stopping\\\":true,\\\"early_stopping_n_iters\\\":10,\\\"metrics\\\":null,\\\"enable_ensembling\\\":true,\\\"enable_stack_ensembling\\\":true,\\\"ensemble_iterations\\\":15,\\\"enable_tf\\\":false,\\\"enable_subsampling\\\":null,\\\"subsample_seed\\\":null,\\\"enable_nimbusml\\\":false,\\\"enable_streaming\\\":false,\\\"force_streaming\\\":false,\\\"track_child_runs\\\":true,\\\"allowed_private_models\\\":[],\\\"label_column_name\\\":\\\"DEATH_EVENT\\\",\\\"weight_column_name\\\":null,\\\"cv_split_column_names\\\":null,\\\"enable_local_managed\\\":false,\\\"_local_managed_run_id\\\":null,\\\"cost_mode\\\":1,\\\"lag_length\\\":0,\\\"metric_operation\\\":\\\"maximize\\\",\\\"preprocess\\\":true}\", \"DataPrepJsonString\": \"{\\\\\\\"training_data\\\\\\\": \\\\\\\"{\\\\\\\\\\\\\\\"blocks\\\\\\\\\\\\\\\": [{\\\\\\\\\\\\\\\"id\\\\\\\\\\\\\\\": \\\\\\\\\\\\\\\"095b9d36-4458-4e59-ac9e-ea5075f79bcf\\\\\\\\\\\\\\\", \\\\\\\\\\\\\\\"type\\\\\\\\\\\\\\\": \\\\\\\\\\\\\\\"Microsoft.DPrep.GetFilesBlock\\\\\\\\\\\\\\\", \\\\\\\\\\\\\\\"arguments\\\\\\\\\\\\\\\": {\\\\\\\\\\\\\\\"isArchive\\\\\\\\\\\\\\\": false, \\\\\\\\\\\\\\\"path\\\\\\\\\\\\\\\": {\\\\\\\\\\\\\\\"target\\\\\\\\\\\\\\\": 4, \\\\\\\\\\\\\\\"resourceDetails\\\\\\\\\\\\\\\": [{\\\\\\\\\\\\\\\"path\\\\\\\\\\\\\\\": \\\\\\\\\\\\\\\"https://raw.githubusercontent.com/maulingogri/Azure-Udacity-MLE-ND-Capstone/master/data/heart_failure_clinical_records_dataset.csv\\\\\\\\\\\\\\\"}]}}, \\\\\\\\\\\\\\\"localData\\\\\\\\\\\\\\\": {}, \\\\\\\\\\\\\\\"isEnabled\\\\\\\\\\\\\\\": true, \\\\\\\\\\\\\\\"name\\\\\\\\\\\\\\\": null, \\\\\\\\\\\\\\\"annotation\\\\\\\\\\\\\\\": null}, {\\\\\\\\\\\\\\\"id\\\\\\\\\\\\\\\": \\\\\\\\\\\\\\\"e2998850-91e4-4ec3-9a18-7ffc98ed8c0d\\\\\\\\\\\\\\\", \\\\\\\\\\\\\\\"type\\\\\\\\\\\\\\\": \\\\\\\\\\\\\\\"Microsoft.DPrep.ParseDelimitedBlock\\\\\\\\\\\\\\\", \\\\\\\\\\\\\\\"arguments\\\\\\\\\\\\\\\": {\\\\\\\\\\\\\\\"columnHeadersMode\\\\\\\\\\\\\\\": 3, \\\\\\\\\\\\\\\"fileEncoding\\\\\\\\\\\\\\\": 0, \\\\\\\\\\\\\\\"handleQuotedLineBreaks\\\\\\\\\\\\\\\": false, \\\\\\\\\\\\\\\"preview\\\\\\\\\\\\\\\": false, \\\\\\\\\\\\\\\"separator\\\\\\\\\\\\\\\": \\\\\\\\\\\\\\\",\\\\\\\\\\\\\\\", \\\\\\\\\\\\\\\"skipRows\\\\\\\\\\\\\\\": 0, \\\\\\\\\\\\\\\"skipRowsMode\\\\\\\\\\\\\\\": 0}, \\\\\\\\\\\\\\\"localData\\\\\\\\\\\\\\\": {}, \\\\\\\\\\\\\\\"isEnabled\\\\\\\\\\\\\\\": true, \\\\\\\\\\\\\\\"name\\\\\\\\\\\\\\\": null, \\\\\\\\\\\\\\\"annotation\\\\\\\\\\\\\\\": null}, {\\\\\\\\\\\\\\\"id\\\\\\\\\\\\\\\": \\\\\\\\\\\\\\\"5c0c1064-3354-4c99-a1d8-28894ae6d032\\\\\\\\\\\\\\\", \\\\\\\\\\\\\\\"type\\\\\\\\\\\\\\\": \\\\\\\\\\\\\\\"Microsoft.DPrep.DropColumnsBlock\\\\\\\\\\\\\\\", \\\\\\\\\\\\\\\"arguments\\\\\\\\\\\\\\\": {\\\\\\\\\\\\\\\"columns\\\\\\\\\\\\\\\": {\\\\\\\\\\\\\\\"type\\\\\\\\\\\\\\\": 0, \\\\\\\\\\\\\\\"details\\\\\\\\\\\\\\\": {\\\\\\\\\\\\\\\"selectedColumns\\\\\\\\\\\\\\\": [\\\\\\\\\\\\\\\"Path\\\\\\\\\\\\\\\"]}}}, \\\\\\\\\\\\\\\"localData\\\\\\\\\\\\\\\": {}, \\\\\\\\\\\\\\\"isEnabled\\\\\\\\\\\\\\\": true, \\\\\\\\\\\\\\\"name\\\\\\\\\\\\\\\": null, \\\\\\\\\\\\\\\"annotation\\\\\\\\\\\\\\\": null}, {\\\\\\\\\\\\\\\"id\\\\\\\\\\\\\\\": \\\\\\\\\\\\\\\"3d430011-3515-40cc-b491-d2424aec42f0\\\\\\\\\\\\\\\", \\\\\\\\\\\\\\\"type\\\\\\\\\\\\\\\": \\\\\\\\\\\\\\\"Microsoft.DPrep.SetColumnTypesBlock\\\\\\\\\\\\\\\", \\\\\\\\\\\\\\\"arguments\\\\\\\\\\\\\\\": {\\\\\\\\\\\\\\\"columnConversion\\\\\\\\\\\\\\\": [{\\\\\\\\\\\\\\\"column\\\\\\\\\\\\\\\": {\\\\\\\\\\\\\\\"type\\\\\\\\\\\\\\\": 2, \\\\\\\\\\\\\\\"details\\\\\\\\\\\\\\\": {\\\\\\\\\\\\\\\"selectedColumn\\\\\\\\\\\\\\\": \\\\\\\\\\\\\\\"age\\\\\\\\\\\\\\\"}}, \\\\\\\\\\\\\\\"typeProperty\\\\\\\\\\\\\\\": 3}, {\\\\\\\\\\\\\\\"column\\\\\\\\\\\\\\\": {\\\\\\\\\\\\\\\"type\\\\\\\\\\\\\\\": 2, \\\\\\\\\\\\\\\"details\\\\\\\\\\\\\\\": {\\\\\\\\\\\\\\\"selectedColumn\\\\\\\\\\\\\\\": \\\\\\\\\\\\\\\"anaemia\\\\\\\\\\\\\\\"}}, \\\\\\\\\\\\\\\"typeProperty\\\\\\\\\\\\\\\": 2}, {\\\\\\\\\\\\\\\"column\\\\\\\\\\\\\\\": {\\\\\\\\\\\\\\\"type\\\\\\\\\\\\\\\": 2, \\\\\\\\\\\\\\\"details\\\\\\\\\\\\\\\": {\\\\\\\\\\\\\\\"selectedColumn\\\\\\\\\\\\\\\": \\\\\\\\\\\\\\\"creatinine_phosphokinase\\\\\\\\\\\\\\\"}}, \\\\\\\\\\\\\\\"typeProperty\\\\\\\\\\\\\\\": 2}, {\\\\\\\\\\\\\\\"column\\\\\\\\\\\\\\\": {\\\\\\\\\\\\\\\"type\\\\\\\\\\\\\\\": 2, \\\\\\\\\\\\\\\"details\\\\\\\\\\\\\\\": {\\\\\\\\\\\\\\\"selectedColumn\\\\\\\\\\\\\\\": \\\\\\\\\\\\\\\"diabetes\\\\\\\\\\\\\\\"}}, \\\\\\\\\\\\\\\"typeProperty\\\\\\\\\\\\\\\": 2}, {\\\\\\\\\\\\\\\"column\\\\\\\\\\\\\\\": {\\\\\\\\\\\\\\\"type\\\\\\\\\\\\\\\": 2, \\\\\\\\\\\\\\\"details\\\\\\\\\\\\\\\": {\\\\\\\\\\\\\\\"selectedColumn\\\\\\\\\\\\\\\": \\\\\\\\\\\\\\\"ejection_fraction\\\\\\\\\\\\\\\"}}, \\\\\\\\\\\\\\\"typeProperty\\\\\\\\\\\\\\\": 2}, {\\\\\\\\\\\\\\\"column\\\\\\\\\\\\\\\": {\\\\\\\\\\\\\\\"type\\\\\\\\\\\\\\\": 2, \\\\\\\\\\\\\\\"details\\\\\\\\\\\\\\\": {\\\\\\\\\\\\\\\"selectedColumn\\\\\\\\\\\\\\\": \\\\\\\\\\\\\\\"high_blood_pressure\\\\\\\\\\\\\\\"}}, \\\\\\\\\\\\\\\"typeProperty\\\\\\\\\\\\\\\": 2}, {\\\\\\\\\\\\\\\"column\\\\\\\\\\\\\\\": {\\\\\\\\\\\\\\\"type\\\\\\\\\\\\\\\": 2, \\\\\\\\\\\\\\\"details\\\\\\\\\\\\\\\": {\\\\\\\\\\\\\\\"selectedColumn\\\\\\\\\\\\\\\": \\\\\\\\\\\\\\\"platelets\\\\\\\\\\\\\\\"}}, \\\\\\\\\\\\\\\"typeProperty\\\\\\\\\\\\\\\": 3}, {\\\\\\\\\\\\\\\"column\\\\\\\\\\\\\\\": {\\\\\\\\\\\\\\\"type\\\\\\\\\\\\\\\": 2, \\\\\\\\\\\\\\\"details\\\\\\\\\\\\\\\": {\\\\\\\\\\\\\\\"selectedColumn\\\\\\\\\\\\\\\": \\\\\\\\\\\\\\\"serum_creatinine\\\\\\\\\\\\\\\"}}, \\\\\\\\\\\\\\\"typeProperty\\\\\\\\\\\\\\\": 3}, {\\\\\\\\\\\\\\\"column\\\\\\\\\\\\\\\": {\\\\\\\\\\\\\\\"type\\\\\\\\\\\\\\\": 2, \\\\\\\\\\\\\\\"details\\\\\\\\\\\\\\\": {\\\\\\\\\\\\\\\"selectedColumn\\\\\\\\\\\\\\\": \\\\\\\\\\\\\\\"serum_sodium\\\\\\\\\\\\\\\"}}, \\\\\\\\\\\\\\\"typeProperty\\\\\\\\\\\\\\\": 2}, {\\\\\\\\\\\\\\\"column\\\\\\\\\\\\\\\": {\\\\\\\\\\\\\\\"type\\\\\\\\\\\\\\\": 2, \\\\\\\\\\\\\\\"details\\\\\\\\\\\\\\\": {\\\\\\\\\\\\\\\"selectedColumn\\\\\\\\\\\\\\\": \\\\\\\\\\\\\\\"sex\\\\\\\\\\\\\\\"}}, \\\\\\\\\\\\\\\"typeProperty\\\\\\\\\\\\\\\": 2}, {\\\\\\\\\\\\\\\"column\\\\\\\\\\\\\\\": {\\\\\\\\\\\\\\\"type\\\\\\\\\\\\\\\": 2, \\\\\\\\\\\\\\\"details\\\\\\\\\\\\\\\": {\\\\\\\\\\\\\\\"selectedColumn\\\\\\\\\\\\\\\": \\\\\\\\\\\\\\\"smoking\\\\\\\\\\\\\\\"}}, \\\\\\\\\\\\\\\"typeProperty\\\\\\\\\\\\\\\": 2}, {\\\\\\\\\\\\\\\"column\\\\\\\\\\\\\\\": {\\\\\\\\\\\\\\\"type\\\\\\\\\\\\\\\": 2, \\\\\\\\\\\\\\\"details\\\\\\\\\\\\\\\": {\\\\\\\\\\\\\\\"selectedColumn\\\\\\\\\\\\\\\": \\\\\\\\\\\\\\\"time\\\\\\\\\\\\\\\"}}, \\\\\\\\\\\\\\\"typeProperty\\\\\\\\\\\\\\\": 2}, {\\\\\\\\\\\\\\\"column\\\\\\\\\\\\\\\": {\\\\\\\\\\\\\\\"type\\\\\\\\\\\\\\\": 2, \\\\\\\\\\\\\\\"details\\\\\\\\\\\\\\\": {\\\\\\\\\\\\\\\"selectedColumn\\\\\\\\\\\\\\\": \\\\\\\\\\\\\\\"DEATH_EVENT\\\\\\\\\\\\\\\"}}, \\\\\\\\\\\\\\\"typeProperty\\\\\\\\\\\\\\\": 2}]}, \\\\\\\\\\\\\\\"localData\\\\\\\\\\\\\\\": {}, \\\\\\\\\\\\\\\"isEnabled\\\\\\\\\\\\\\\": true, \\\\\\\\\\\\\\\"name\\\\\\\\\\\\\\\": null, \\\\\\\\\\\\\\\"annotation\\\\\\\\\\\\\\\": null}, {\\\\\\\\\\\\\\\"id\\\\\\\\\\\\\\\": \\\\\\\\\\\\\\\"3754e9b4-5cd5-4df5-859f-71be368f8851\\\\\\\\\\\\\\\", \\\\\\\\\\\\\\\"type\\\\\\\\\\\\\\\": \\\\\\\\\\\\\\\"Microsoft.DPrep.TakeSampleBlock\\\\\\\\\\\\\\\", \\\\\\\\\\\\\\\"arguments\\\\\\\\\\\\\\\": {\\\\\\\\\\\\\\\"probability\\\\\\\\\\\\\\\": 0.75, \\\\\\\\\\\\\\\"probabilityLowerBound\\\\\\\\\\\\\\\": 0.0, \\\\\\\\\\\\\\\"seed\\\\\\\\\\\\\\\": 121}, \\\\\\\\\\\\\\\"localData\\\\\\\\\\\\\\\": {}, \\\\\\\\\\\\\\\"isEnabled\\\\\\\\\\\\\\\": true, \\\\\\\\\\\\\\\"name\\\\\\\\\\\\\\\": null, \\\\\\\\\\\\\\\"annotation\\\\\\\\\\\\\\\": null}], \\\\\\\\\\\\\\\"inspectors\\\\\\\\\\\\\\\": [], \\\\\\\\\\\\\\\"meta\\\\\\\\\\\\\\\": {\\\\\\\\\\\\\\\"savedDatasetId\\\\\\\\\\\\\\\": \\\\\\\\\\\\\\\"0fbdc6b5-b16d-4d90-9bf3-d8d4c677da3b\\\\\\\\\\\\\\\", \\\\\\\\\\\\\\\"datasetType\\\\\\\\\\\\\\\": \\\\\\\\\\\\\\\"tabular\\\\\\\\\\\\\\\", \\\\\\\\\\\\\\\"subscriptionId\\\\\\\\\\\\\\\": \\\\\\\\\\\\\\\"48a74bb7-9950-4cc1-9caa-5d50f995cc55\\\\\\\\\\\\\\\", \\\\\\\\\\\\\\\"workspaceId\\\\\\\\\\\\\\\": \\\\\\\\\\\\\\\"aa1fe22d-8c3f-4dd4-9b2b-1d6f34fc3d93\\\\\\\\\\\\\\\", \\\\\\\\\\\\\\\"workspaceLocation\\\\\\\\\\\\\\\": \\\\\\\\\\\\\\\"southcentralus\\\\\\\\\\\\\\\"}}\\\\\\\", \\\\\\\"activities\\\\\\\": 0}\", \"EnableSubsampling\": null, \"runTemplate\": \"AutoML\", \"azureml.runsource\": \"automl\", \"display_task_type\": \"classification\", \"dependencies_versions\": \"{\\\"azureml-widgets\\\": \\\"1.20.0\\\", \\\"azureml-train\\\": \\\"1.20.0\\\", \\\"azureml-train-restclients-hyperdrive\\\": \\\"1.20.0\\\", \\\"azureml-train-core\\\": \\\"1.20.0\\\", \\\"azureml-train-automl\\\": \\\"1.20.0\\\", \\\"azureml-train-automl-runtime\\\": \\\"1.20.0\\\", \\\"azureml-train-automl-client\\\": \\\"1.20.0\\\", \\\"azureml-tensorboard\\\": \\\"1.20.0\\\", \\\"azureml-telemetry\\\": \\\"1.20.0\\\", \\\"azureml-sdk\\\": \\\"1.20.0\\\", \\\"azureml-samples\\\": \\\"0+unknown\\\", \\\"azureml-pipeline\\\": \\\"1.20.0\\\", \\\"azureml-pipeline-steps\\\": \\\"1.20.0\\\", \\\"azureml-pipeline-core\\\": \\\"1.20.0\\\", \\\"azureml-opendatasets\\\": \\\"1.20.0\\\", \\\"azureml-model-management-sdk\\\": \\\"1.0.1b6.post1\\\", \\\"azureml-mlflow\\\": \\\"1.20.0.post1\\\", \\\"azureml-interpret\\\": \\\"1.20.0\\\", \\\"azureml-explain-model\\\": \\\"1.20.0\\\", \\\"azureml-defaults\\\": \\\"1.20.0\\\", \\\"azureml-dataset-runtime\\\": \\\"1.20.0\\\", \\\"azureml-dataprep\\\": \\\"2.7.3\\\", \\\"azureml-dataprep-rslex\\\": \\\"1.5.0\\\", \\\"azureml-dataprep-native\\\": \\\"27.0.0\\\", \\\"azureml-datadrift\\\": \\\"1.20.0\\\", \\\"azureml-core\\\": \\\"1.20.0\\\", \\\"azureml-contrib-services\\\": \\\"1.20.0\\\", \\\"azureml-contrib-server\\\": \\\"1.20.0\\\", \\\"azureml-contrib-reinforcementlearning\\\": \\\"1.20.0\\\", \\\"azureml-contrib-pipeline-steps\\\": \\\"1.20.0\\\", \\\"azureml-contrib-notebook\\\": \\\"1.20.0\\\", \\\"azureml-contrib-interpret\\\": \\\"1.20.0\\\", \\\"azureml-contrib-gbdt\\\": \\\"1.20.0\\\", \\\"azureml-contrib-fairness\\\": \\\"1.20.0\\\", \\\"azureml-contrib-dataset\\\": \\\"1.20.0\\\", \\\"azureml-cli-common\\\": \\\"1.20.0\\\", \\\"azureml-automl-runtime\\\": \\\"1.20.0\\\", \\\"azureml-automl-core\\\": \\\"1.20.0\\\", \\\"azureml-accel-models\\\": \\\"1.20.0\\\"}\", \"_aml_system_scenario_identification\": \"Remote.Parent\", \"ClientType\": \"SDK\", \"environment_cpu_name\": \"AzureML-AutoML\", \"environment_cpu_label\": \"prod\", \"environment_gpu_name\": \"AzureML-AutoML-GPU\", \"environment_gpu_label\": \"prod\", \"root_attribution\": \"automl\", \"attribution\": \"AutoML\", \"Orchestrator\": \"AutoML\", \"CancelUri\": \"https://southcentralus.experiments.azureml.net/jasmine/v1.0/subscriptions/48a74bb7-9950-4cc1-9caa-5d50f995cc55/resourceGroups/aml-quickstarts-137278/providers/Microsoft.MachineLearningServices/workspaces/quick-starts-ws-137278/experimentids/aef0ca73-3547-4884-9231-4b86ce54087d/cancel/AutoML_e9ff04b4-4463-4aee-86f2-bffb2f48e3d6\", \"azureml.git.repository_uri\": \"https://github.com/maulingogri/Azure-Udacity-MLE-ND-Capstone\", \"mlflow.source.git.repoURL\": \"https://github.com/maulingogri/Azure-Udacity-MLE-ND-Capstone\", \"azureml.git.branch\": \"master\", \"mlflow.source.git.branch\": \"master\", \"azureml.git.commit\": \"e59805e6c7872273fd6f1172afc9afc6544cae68\", \"mlflow.source.git.commit\": \"e59805e6c7872273fd6f1172afc9afc6544cae68\", \"azureml.git.dirty\": \"True\", \"ClientSdkVersion\": \"1.21.0\", \"snapshotId\": \"00000000-0000-0000-0000-000000000000\", \"SetupRunId\": \"AutoML_e9ff04b4-4463-4aee-86f2-bffb2f48e3d6_setup\", \"SetupRunContainerId\": \"dcid.AutoML_e9ff04b4-4463-4aee-86f2-bffb2f48e3d6_setup\", \"FeaturizationRunJsonPath\": \"featurizer_container.json\", \"FeaturizationRunId\": \"AutoML_e9ff04b4-4463-4aee-86f2-bffb2f48e3d6_featurize\", \"ProblemInfoJsonString\": \"{\\\"dataset_num_categorical\\\": 0, \\\"is_sparse\\\": false, \\\"subsampling\\\": false, \\\"dataset_classes\\\": 2, \\\"dataset_features\\\": 12, \\\"dataset_samples\\\": 222, \\\"single_frequency_class_detected\\\": false}\", \"ModelExplainRunId\": \"AutoML_e9ff04b4-4463-4aee-86f2-bffb2f48e3d6_ModelExplain\"}, \"tags\": {\"model_explain_run\": \"best_run\", \"_aml_system_azureml.automlComponent\": \"AutoML\", \"pipeline_id\": \"\", \"score\": \"\", \"predicted_cost\": \"\", \"fit_time\": \"\", \"training_percent\": \"\", \"iteration\": \"\", \"run_preprocessor\": \"\", \"run_algorithm\": \"\", \"dynamic_whitelisting_iterations\": \"<25>;<30>;<35>;<40>;<45>;\", \"automl_best_child_run_id\": \"AutoML_e9ff04b4-4463-4aee-86f2-bffb2f48e3d6_49\", \"model_explain_best_run_child_id\": \"AutoML_e9ff04b4-4463-4aee-86f2-bffb2f48e3d6_49\"}, \"end_time_utc\": \"2021-02-04T23:26:50.062009Z\", \"status\": \"Completed\", \"log_files\": {}, \"log_groups\": [], \"run_duration\": \"0:24:07\"}, \"child_runs\": [{\"run_id\": \"AutoML_e9ff04b4-4463-4aee-86f2-bffb2f48e3d6_0\", \"run_number\": 5, \"metric\": null, \"status\": \"Completed\", \"run_type\": \"azureml.scriptrun\", \"training_percent\": \"100\", \"start_time\": \"2021-02-04T23:14:11.727132Z\", \"end_time\": \"2021-02-04T23:17:42.472205Z\", \"created_time\": \"2021-02-04T23:11:59.093228Z\", \"created_time_dt\": \"2021-02-04T23:11:59.093228Z\", \"duration\": \"0:05:43\", \"iteration\": \"0\", \"goal\": \"accuracy_max\", \"run_name\": \"MaxAbsScaler, LightGBM\", \"run_properties\": \"copy=True\", \"primary_metric\": 0.81525253, \"best_metric\": 0.81525253}, {\"run_id\": \"AutoML_e9ff04b4-4463-4aee-86f2-bffb2f48e3d6_2\", \"run_number\": 6, \"metric\": null, \"status\": \"Completed\", \"run_type\": \"azureml.scriptrun\", \"training_percent\": \"100\", \"start_time\": \"2021-02-04T23:14:11.916476Z\", \"end_time\": \"2021-02-04T23:17:34.936526Z\", \"created_time\": \"2021-02-04T23:11:59.102788Z\", \"created_time_dt\": \"2021-02-04T23:11:59.102788Z\", \"duration\": \"0:05:35\", \"iteration\": \"2\", \"goal\": \"accuracy_max\", \"run_name\": \"MinMaxScaler, RandomForest\", \"run_properties\": \"copy=True, feature_range=(0, 1\", \"primary_metric\": 0.81979798, \"best_metric\": 0.84232323}, {\"run_id\": \"AutoML_e9ff04b4-4463-4aee-86f2-bffb2f48e3d6_1\", \"run_number\": 7, \"metric\": null, \"status\": \"Completed\", \"run_type\": \"azureml.scriptrun\", \"training_percent\": \"100\", \"start_time\": \"2021-02-04T23:13:58.375354Z\", \"end_time\": \"2021-02-04T23:14:54.010713Z\", \"created_time\": \"2021-02-04T23:11:59.120593Z\", \"created_time_dt\": \"2021-02-04T23:11:59.120593Z\", \"duration\": \"0:02:54\", \"iteration\": \"1\", \"goal\": \"accuracy_max\", \"run_name\": \"MaxAbsScaler, XGBoostClassifier\", \"run_properties\": \"copy=True\", \"primary_metric\": 0.84232323, \"best_metric\": 0.84232323}, {\"run_id\": \"AutoML_e9ff04b4-4463-4aee-86f2-bffb2f48e3d6_5\", \"run_number\": 8, \"metric\": null, \"status\": \"Completed\", \"run_type\": \"azureml.scriptrun\", \"training_percent\": \"100\", \"start_time\": \"2021-02-04T23:12:09.574008Z\", \"end_time\": \"2021-02-04T23:12:57.900798Z\", \"created_time\": \"2021-02-04T23:11:59.121378Z\", \"created_time_dt\": \"2021-02-04T23:11:59.121378Z\", \"duration\": \"0:00:58\", \"iteration\": \"5\", \"goal\": \"accuracy_max\", \"run_name\": \"StandardScalerWrapper, XGBoostClassifier\", \"run_properties\": \"<azureml.automl.runtime.shared.model_wrappers.StandardScalerWrapper object at 0x7f565ed7c940\", \"primary_metric\": 0.84222222, \"best_metric\": 0.84232323}, {\"run_id\": \"AutoML_e9ff04b4-4463-4aee-86f2-bffb2f48e3d6_3\", \"run_number\": 9, \"metric\": null, \"status\": \"Completed\", \"run_type\": \"azureml.scriptrun\", \"training_percent\": \"100\", \"start_time\": \"2021-02-04T23:14:13.501205Z\", \"end_time\": \"2021-02-04T23:17:45.704798Z\", \"created_time\": \"2021-02-04T23:11:59.130323Z\", \"created_time_dt\": \"2021-02-04T23:11:59.130323Z\", \"duration\": \"0:05:46\", \"iteration\": \"3\", \"goal\": \"accuracy_max\", \"run_name\": \"MinMaxScaler, RandomForest\", \"run_properties\": \"copy=True, feature_range=(0, 1\", \"primary_metric\": 0.83343434, \"best_metric\": 0.84232323}, {\"run_id\": \"AutoML_e9ff04b4-4463-4aee-86f2-bffb2f48e3d6_4\", \"run_number\": 10, \"metric\": null, \"status\": \"Completed\", \"run_type\": \"azureml.scriptrun\", \"training_percent\": \"100\", \"start_time\": \"2021-02-04T23:12:59.564135Z\", \"end_time\": \"2021-02-04T23:13:52.37082Z\", \"created_time\": \"2021-02-04T23:11:59.147455Z\", \"created_time_dt\": \"2021-02-04T23:11:59.147455Z\", \"duration\": \"0:01:53\", \"iteration\": \"4\", \"goal\": \"accuracy_max\", \"run_name\": \"MinMaxScaler, RandomForest\", \"run_properties\": \"copy=True, feature_range=(0, 1\", \"primary_metric\": 0.82393939, \"best_metric\": 0.84232323}, {\"run_id\": \"AutoML_e9ff04b4-4463-4aee-86f2-bffb2f48e3d6_6\", \"run_number\": 11, \"metric\": null, \"status\": \"Completed\", \"run_type\": \"azureml.scriptrun\", \"training_percent\": \"100\", \"start_time\": \"2021-02-04T23:14:33.283961Z\", \"end_time\": \"2021-02-04T23:18:03.20356Z\", \"created_time\": \"2021-02-04T23:13:01.582673Z\", \"created_time_dt\": \"2021-02-04T23:13:01.582673Z\", \"duration\": \"0:05:01\", \"iteration\": \"6\", \"goal\": \"accuracy_max\", \"run_name\": \"MinMaxScaler, LightGBM\", \"run_properties\": \"copy=True, feature_range=(0, 1\", \"primary_metric\": 0.83323232, \"best_metric\": 0.84232323}, {\"run_id\": \"AutoML_e9ff04b4-4463-4aee-86f2-bffb2f48e3d6_7\", \"run_number\": 12, \"metric\": null, \"status\": \"Completed\", \"run_type\": \"azureml.scriptrun\", \"training_percent\": \"100\", \"start_time\": \"2021-02-04T23:14:33.129008Z\", \"end_time\": \"2021-02-04T23:18:01.742878Z\", \"created_time\": \"2021-02-04T23:13:55.002254Z\", \"created_time_dt\": \"2021-02-04T23:13:55.002254Z\", \"duration\": \"0:04:06\", \"iteration\": \"7\", \"goal\": \"accuracy_max\", \"run_name\": \"MaxAbsScaler, LightGBM\", \"run_properties\": \"copy=True\", \"primary_metric\": 0.8110101, \"best_metric\": 0.84232323}, {\"run_id\": \"AutoML_e9ff04b4-4463-4aee-86f2-bffb2f48e3d6_8\", \"run_number\": 13, \"metric\": null, \"status\": \"Completed\", \"run_type\": \"azureml.scriptrun\", \"training_percent\": \"100\", \"start_time\": \"2021-02-04T23:15:08.185601Z\", \"end_time\": \"2021-02-04T23:15:58.970356Z\", \"created_time\": \"2021-02-04T23:14:56.46749Z\", \"created_time_dt\": \"2021-02-04T23:14:56.46749Z\", \"duration\": \"0:01:02\", \"iteration\": \"8\", \"goal\": \"accuracy_max\", \"run_name\": \"RobustScaler, SVM\", \"run_properties\": \"copy=True, quantile_range=[10, 90], with_centering=True,\\n             with_scaling=True\", \"primary_metric\": 0.73878788, \"best_metric\": 0.84232323}, {\"run_id\": \"AutoML_e9ff04b4-4463-4aee-86f2-bffb2f48e3d6_9\", \"run_number\": 14, \"metric\": null, \"status\": \"Completed\", \"run_type\": \"azureml.scriptrun\", \"training_percent\": \"100\", \"start_time\": \"2021-02-04T23:16:18.600196Z\", \"end_time\": \"2021-02-04T23:17:20.454447Z\", \"created_time\": \"2021-02-04T23:16:04.071228Z\", \"created_time_dt\": \"2021-02-04T23:16:04.071228Z\", \"duration\": \"0:01:16\", \"iteration\": \"9\", \"goal\": \"accuracy_max\", \"run_name\": \"RobustScaler, RandomForest\", \"run_properties\": \"copy=True, quantile_range=[25, 75], with_centering=False,\\n             with_scaling=True\", \"primary_metric\": 0.81515152, \"best_metric\": 0.84232323}, {\"run_id\": \"AutoML_e9ff04b4-4463-4aee-86f2-bffb2f48e3d6_10\", \"run_number\": 15, \"metric\": null, \"status\": \"Completed\", \"run_type\": \"azureml.scriptrun\", \"training_percent\": \"100\", \"start_time\": \"2021-02-04T23:17:35.389778Z\", \"end_time\": \"2021-02-04T23:18:24.92813Z\", \"created_time\": \"2021-02-04T23:17:22.950918Z\", \"created_time_dt\": \"2021-02-04T23:17:22.950918Z\", \"duration\": \"0:01:01\", \"iteration\": \"10\", \"goal\": \"accuracy_max\", \"run_name\": \"StandardScalerWrapper, LogisticRegression\", \"run_properties\": \"<azureml.automl.runtime.shared.model_wrappers.StandardScalerWrapper object at 0x7f96f8e66e48\", \"primary_metric\": 0.79767677, \"best_metric\": 0.84232323}, {\"run_id\": \"AutoML_e9ff04b4-4463-4aee-86f2-bffb2f48e3d6_11\", \"run_number\": 16, \"metric\": null, \"status\": \"Completed\", \"run_type\": \"azureml.scriptrun\", \"training_percent\": \"100\", \"start_time\": \"2021-02-04T23:17:47.671662Z\", \"end_time\": \"2021-02-04T23:18:35.470164Z\", \"created_time\": \"2021-02-04T23:17:37.407201Z\", \"created_time_dt\": \"2021-02-04T23:17:37.407201Z\", \"duration\": \"0:00:58\", \"iteration\": \"11\", \"goal\": \"accuracy_max\", \"run_name\": \"SparseNormalizer, XGBoostClassifier\", \"run_properties\": \"<azureml.automl.runtime.shared.model_wrappers.SparseNormalizer object at 0x7f7e80371b00\", \"primary_metric\": 0.81060606, \"best_metric\": 0.84232323}, {\"run_id\": \"AutoML_e9ff04b4-4463-4aee-86f2-bffb2f48e3d6_12\", \"run_number\": 17, \"metric\": null, \"status\": \"Completed\", \"run_type\": \"azureml.scriptrun\", \"training_percent\": \"100\", \"start_time\": \"2021-02-04T23:17:56.37641Z\", \"end_time\": \"2021-02-04T23:18:54.655385Z\", \"created_time\": \"2021-02-04T23:17:44.378854Z\", \"created_time_dt\": \"2021-02-04T23:17:44.378854Z\", \"duration\": \"0:01:10\", \"iteration\": \"12\", \"goal\": \"accuracy_max\", \"run_name\": \"StandardScalerWrapper, RandomForest\", \"run_properties\": \"<azureml.automl.runtime.shared.model_wrappers.StandardScalerWrapper object at 0x7fe029cb8908\", \"primary_metric\": 0.82414141, \"best_metric\": 0.84232323}, {\"run_id\": \"AutoML_e9ff04b4-4463-4aee-86f2-bffb2f48e3d6_13\", \"run_number\": 18, \"metric\": null, \"status\": \"Completed\", \"run_type\": \"azureml.scriptrun\", \"training_percent\": \"100\", \"start_time\": \"2021-02-04T23:17:58.111838Z\", \"end_time\": \"2021-02-04T23:18:46.830719Z\", \"created_time\": \"2021-02-04T23:17:48.20621Z\", \"created_time_dt\": \"2021-02-04T23:17:48.20621Z\", \"duration\": \"0:00:58\", \"iteration\": \"13\", \"goal\": \"accuracy_max\", \"run_name\": \"MaxAbsScaler, LightGBM\", \"run_properties\": \"copy=True\", \"primary_metric\": 0.79747475, \"best_metric\": 0.84232323}, {\"run_id\": \"AutoML_e9ff04b4-4463-4aee-86f2-bffb2f48e3d6_14\", \"run_number\": 19, \"metric\": null, \"status\": \"Completed\", \"run_type\": \"azureml.scriptrun\", \"training_percent\": \"100\", \"start_time\": \"2021-02-04T23:18:19.471878Z\", \"end_time\": \"2021-02-04T23:19:08.687466Z\", \"created_time\": \"2021-02-04T23:18:04.950388Z\", \"created_time_dt\": \"2021-02-04T23:18:04.950388Z\", \"duration\": \"0:01:03\", \"iteration\": \"14\", \"goal\": \"accuracy_max\", \"run_name\": \"RobustScaler, ExtremeRandomTrees\", \"run_properties\": \"copy=True, quantile_range=[25, 75], with_centering=True,\\n             with_scaling=False\", \"primary_metric\": 0.83343434, \"best_metric\": 0.84232323}, {\"run_id\": \"AutoML_e9ff04b4-4463-4aee-86f2-bffb2f48e3d6_15\", \"run_number\": 20, \"metric\": null, \"status\": \"Completed\", \"run_type\": \"azureml.scriptrun\", \"training_percent\": \"100\", \"start_time\": \"2021-02-04T23:18:24.819631Z\", \"end_time\": \"2021-02-04T23:19:15.467074Z\", \"created_time\": \"2021-02-04T23:18:10.573102Z\", \"created_time_dt\": \"2021-02-04T23:18:10.573102Z\", \"duration\": \"0:01:04\", \"iteration\": \"15\", \"goal\": \"accuracy_max\", \"run_name\": \"SparseNormalizer, XGBoostClassifier\", \"run_properties\": \"<azureml.automl.runtime.shared.model_wrappers.SparseNormalizer object at 0x7f57ac336f28\", \"primary_metric\": 0.81959596, \"best_metric\": 0.84232323}, {\"run_id\": \"AutoML_e9ff04b4-4463-4aee-86f2-bffb2f48e3d6_16\", \"run_number\": 21, \"metric\": null, \"status\": \"Completed\", \"run_type\": \"azureml.scriptrun\", \"training_percent\": \"100\", \"start_time\": \"2021-02-04T23:18:40.672107Z\", \"end_time\": \"2021-02-04T23:19:33.348068Z\", \"created_time\": \"2021-02-04T23:18:28.582267Z\", \"created_time_dt\": \"2021-02-04T23:18:28.582267Z\", \"duration\": \"0:01:04\", \"iteration\": \"16\", \"goal\": \"accuracy_max\", \"run_name\": \"StandardScalerWrapper, LightGBM\", \"run_properties\": \"<azureml.automl.runtime.shared.model_wrappers.StandardScalerWrapper object at 0x7f32e417c4e0\", \"primary_metric\": 0.75252525, \"best_metric\": 0.84232323}, {\"run_id\": \"AutoML_e9ff04b4-4463-4aee-86f2-bffb2f48e3d6_17\", \"run_number\": 22, \"metric\": null, \"status\": \"Completed\", \"run_type\": \"azureml.scriptrun\", \"training_percent\": \"100\", \"start_time\": \"2021-02-04T23:18:50.521437Z\", \"end_time\": \"2021-02-04T23:19:43.525858Z\", \"created_time\": \"2021-02-04T23:18:37.325442Z\", \"created_time_dt\": \"2021-02-04T23:18:37.325442Z\", \"duration\": \"0:01:06\", \"iteration\": \"17\", \"goal\": \"accuracy_max\", \"run_name\": \"StandardScalerWrapper, LightGBM\", \"run_properties\": \"<azureml.automl.runtime.shared.model_wrappers.StandardScalerWrapper object at 0x7f540afb9160\", \"primary_metric\": 0.82888889, \"best_metric\": 0.84232323}, {\"run_id\": \"AutoML_e9ff04b4-4463-4aee-86f2-bffb2f48e3d6_18\", \"run_number\": 23, \"metric\": null, \"status\": \"Completed\", \"run_type\": \"azureml.scriptrun\", \"training_percent\": \"100\", \"start_time\": \"2021-02-04T23:19:03.130238Z\", \"end_time\": \"2021-02-04T23:19:49.227929Z\", \"created_time\": \"2021-02-04T23:18:49.921458Z\", \"created_time_dt\": \"2021-02-04T23:18:49.921458Z\", \"duration\": \"0:00:59\", \"iteration\": \"18\", \"goal\": \"accuracy_max\", \"run_name\": \"StandardScalerWrapper, LightGBM\", \"run_properties\": \"<azureml.automl.runtime.shared.model_wrappers.StandardScalerWrapper object at 0x7fe5d53c7da0\", \"primary_metric\": 0.81545455, \"best_metric\": 0.84232323}, {\"run_id\": \"AutoML_e9ff04b4-4463-4aee-86f2-bffb2f48e3d6_19\", \"run_number\": 24, \"metric\": null, \"status\": \"Completed\", \"run_type\": \"azureml.scriptrun\", \"training_percent\": \"100\", \"start_time\": \"2021-02-04T23:19:10.804167Z\", \"end_time\": \"2021-02-04T23:20:03.044094Z\", \"created_time\": \"2021-02-04T23:18:56.428708Z\", \"created_time_dt\": \"2021-02-04T23:18:56.428708Z\", \"duration\": \"0:01:06\", \"iteration\": \"19\", \"goal\": \"accuracy_max\", \"run_name\": \"MinMaxScaler, LightGBM\", \"run_properties\": \"copy=True, feature_range=(0, 1\", \"primary_metric\": 0.81515152, \"best_metric\": 0.84232323}, {\"run_id\": \"AutoML_e9ff04b4-4463-4aee-86f2-bffb2f48e3d6_20\", \"run_number\": 25, \"metric\": null, \"status\": \"Completed\", \"run_type\": \"azureml.scriptrun\", \"training_percent\": \"100\", \"start_time\": \"2021-02-04T23:19:23.640457Z\", \"end_time\": \"2021-02-04T23:20:13.29286Z\", \"created_time\": \"2021-02-04T23:19:10.331451Z\", \"created_time_dt\": \"2021-02-04T23:19:10.331451Z\", \"duration\": \"0:01:02\", \"iteration\": \"20\", \"goal\": \"accuracy_max\", \"run_name\": \"MinMaxScaler, LightGBM\", \"run_properties\": \"copy=True, feature_range=(0, 1\", \"primary_metric\": 0.7930303, \"best_metric\": 0.84232323}, {\"run_id\": \"AutoML_e9ff04b4-4463-4aee-86f2-bffb2f48e3d6_21\", \"run_number\": 26, \"metric\": null, \"status\": \"Completed\", \"run_type\": \"azureml.scriptrun\", \"training_percent\": \"100\", \"start_time\": \"2021-02-04T23:19:28.668306Z\", \"end_time\": \"2021-02-04T23:20:19.13354Z\", \"created_time\": \"2021-02-04T23:19:17.328369Z\", \"created_time_dt\": \"2021-02-04T23:19:17.328369Z\", \"duration\": \"0:01:01\", \"iteration\": \"21\", \"goal\": \"accuracy_max\", \"run_name\": \"MaxAbsScaler, LightGBM\", \"run_properties\": \"copy=True\", \"primary_metric\": 0.80616162, \"best_metric\": 0.84232323}, {\"run_id\": \"AutoML_e9ff04b4-4463-4aee-86f2-bffb2f48e3d6_22\", \"run_number\": 27, \"metric\": null, \"status\": \"Completed\", \"run_type\": \"azureml.scriptrun\", \"training_percent\": \"100\", \"start_time\": \"2021-02-04T23:19:45.72167Z\", \"end_time\": \"2021-02-04T23:20:36.301297Z\", \"created_time\": \"2021-02-04T23:19:35.179157Z\", \"created_time_dt\": \"2021-02-04T23:19:35.179157Z\", \"duration\": \"0:01:01\", \"iteration\": \"22\", \"goal\": \"accuracy_max\", \"run_name\": \"RobustScaler, ExtremeRandomTrees\", \"run_properties\": \"copy=True, quantile_range=[25, 75], with_centering=False,\\n             with_scaling=False\", \"primary_metric\": 0.77959596, \"best_metric\": 0.84232323}, {\"run_id\": \"AutoML_e9ff04b4-4463-4aee-86f2-bffb2f48e3d6_23\", \"run_number\": 28, \"metric\": null, \"status\": \"Completed\", \"run_type\": \"azureml.scriptrun\", \"training_percent\": \"100\", \"start_time\": \"2021-02-04T23:20:00.475029Z\", \"end_time\": \"2021-02-04T23:20:49.722102Z\", \"created_time\": \"2021-02-04T23:19:46.480603Z\", \"created_time_dt\": \"2021-02-04T23:19:46.480603Z\", \"duration\": \"0:01:03\", \"iteration\": \"23\", \"goal\": \"accuracy_max\", \"run_name\": \"MaxAbsScaler, LightGBM\", \"run_properties\": \"copy=True\", \"primary_metric\": 0.77939394, \"best_metric\": 0.84232323}, {\"run_id\": \"AutoML_e9ff04b4-4463-4aee-86f2-bffb2f48e3d6_24\", \"run_number\": 29, \"metric\": null, \"status\": \"Completed\", \"run_type\": \"azureml.scriptrun\", \"training_percent\": \"100\", \"start_time\": \"2021-02-04T23:20:06.236669Z\", \"end_time\": \"2021-02-04T23:20:52.91382Z\", \"created_time\": \"2021-02-04T23:19:52.456722Z\", \"created_time_dt\": \"2021-02-04T23:19:52.456722Z\", \"duration\": \"0:01:00\", \"iteration\": \"24\", \"goal\": \"accuracy_max\", \"run_name\": \"SparseNormalizer, XGBoostClassifier\", \"run_properties\": \"<azureml.automl.runtime.shared.model_wrappers.SparseNormalizer object at 0x7f2fec5abe48\", \"primary_metric\": 0.8059596, \"best_metric\": 0.84232323}, {\"run_id\": \"AutoML_e9ff04b4-4463-4aee-86f2-bffb2f48e3d6_25\", \"run_number\": 30, \"metric\": null, \"status\": \"Completed\", \"run_type\": \"azureml.scriptrun\", \"training_percent\": \"100\", \"start_time\": \"2021-02-04T23:20:18.855824Z\", \"end_time\": \"2021-02-04T23:21:11.915321Z\", \"created_time\": \"2021-02-04T23:20:06.081511Z\", \"created_time_dt\": \"2021-02-04T23:20:06.081511Z\", \"duration\": \"0:01:05\", \"iteration\": \"25\", \"goal\": \"accuracy_max\", \"run_name\": \"SparseNormalizer, XGBoostClassifier\", \"run_properties\": \"<azureml.automl.runtime.shared.model_wrappers.SparseNormalizer object at 0x7fe155989438\", \"primary_metric\": 0.67181818, \"best_metric\": 0.84232323}, {\"run_id\": \"AutoML_e9ff04b4-4463-4aee-86f2-bffb2f48e3d6_26\", \"run_number\": 31, \"metric\": null, \"status\": \"Completed\", \"run_type\": \"azureml.scriptrun\", \"training_percent\": \"100\", \"start_time\": \"2021-02-04T23:20:27.038339Z\", \"end_time\": \"2021-02-04T23:21:16.147325Z\", \"created_time\": \"2021-02-04T23:20:15.476722Z\", \"created_time_dt\": \"2021-02-04T23:20:15.476722Z\", \"duration\": \"0:01:00\", \"iteration\": \"26\", \"goal\": \"accuracy_max\", \"run_name\": \"RobustScaler, KNN\", \"run_properties\": \"copy=True, quantile_range=[10, 90], with_centering=False,\\n             with_scaling=False\", \"primary_metric\": 0.60848485, \"best_metric\": 0.84232323}, {\"run_id\": \"AutoML_e9ff04b4-4463-4aee-86f2-bffb2f48e3d6_27\", \"run_number\": 32, \"metric\": null, \"status\": \"Completed\", \"run_type\": \"azureml.scriptrun\", \"training_percent\": \"100\", \"start_time\": \"2021-02-04T23:20:32.900128Z\", \"end_time\": \"2021-02-04T23:21:21.616603Z\", \"created_time\": \"2021-02-04T23:20:20.990318Z\", \"created_time_dt\": \"2021-02-04T23:20:20.990318Z\", \"duration\": \"0:01:00\", \"iteration\": \"27\", \"goal\": \"accuracy_max\", \"run_name\": \"SparseNormalizer, XGBoostClassifier\", \"run_properties\": \"<azureml.automl.runtime.shared.model_wrappers.SparseNormalizer object at 0x7f8d65617cf8\", \"primary_metric\": 0.79717172, \"best_metric\": 0.84232323}, {\"run_id\": \"AutoML_e9ff04b4-4463-4aee-86f2-bffb2f48e3d6_28\", \"run_number\": 33, \"metric\": null, \"status\": \"Completed\", \"run_type\": \"azureml.scriptrun\", \"training_percent\": \"100\", \"start_time\": \"2021-02-04T23:20:49.705177Z\", \"end_time\": \"2021-02-04T23:21:40.169081Z\", \"created_time\": \"2021-02-04T23:20:38.278011Z\", \"created_time_dt\": \"2021-02-04T23:20:38.278011Z\", \"duration\": \"0:01:01\", \"iteration\": \"28\", \"goal\": \"accuracy_max\", \"run_name\": \"SparseNormalizer, LightGBM\", \"run_properties\": \"<azureml.automl.runtime.shared.model_wrappers.SparseNormalizer object at 0x7fabf44b3080\", \"primary_metric\": 0.79717172, \"best_metric\": 0.84232323}, {\"run_id\": \"AutoML_e9ff04b4-4463-4aee-86f2-bffb2f48e3d6_29\", \"run_number\": 34, \"metric\": null, \"status\": \"Completed\", \"run_type\": \"azureml.scriptrun\", \"training_percent\": \"100\", \"start_time\": \"2021-02-04T23:21:03.011091Z\", \"end_time\": \"2021-02-04T23:21:45.98111Z\", \"created_time\": \"2021-02-04T23:20:51.502023Z\", \"created_time_dt\": \"2021-02-04T23:20:51.502023Z\", \"duration\": \"0:00:54\", \"iteration\": \"29\", \"goal\": \"accuracy_max\", \"run_name\": \"StandardScalerWrapper, LightGBM\", \"run_properties\": \"<azureml.automl.runtime.shared.model_wrappers.StandardScalerWrapper object at 0x7fa48bff78d0\", \"primary_metric\": 0.84676768, \"best_metric\": 0.84676768}, {\"run_id\": \"AutoML_e9ff04b4-4463-4aee-86f2-bffb2f48e3d6_30\", \"run_number\": 35, \"metric\": null, \"status\": \"Completed\", \"run_type\": \"azureml.scriptrun\", \"training_percent\": \"100\", \"start_time\": \"2021-02-04T23:21:08.241772Z\", \"end_time\": \"2021-02-04T23:22:10.143373Z\", \"created_time\": \"2021-02-04T23:20:55.584732Z\", \"created_time_dt\": \"2021-02-04T23:20:55.584732Z\", \"duration\": \"0:01:14\", \"iteration\": \"30\", \"goal\": \"accuracy_max\", \"run_name\": \"StandardScalerWrapper, XGBoostClassifier\", \"run_properties\": \"<azureml.automl.runtime.shared.model_wrappers.StandardScalerWrapper object at 0x7f0451f5ad68\", \"primary_metric\": 0.67181818, \"best_metric\": 0.84676768}, {\"run_id\": \"AutoML_e9ff04b4-4463-4aee-86f2-bffb2f48e3d6_31\", \"run_number\": 36, \"metric\": null, \"status\": \"Completed\", \"run_type\": \"azureml.scriptrun\", \"training_percent\": \"100\", \"start_time\": \"2021-02-04T23:21:25.164209Z\", \"end_time\": \"2021-02-04T23:22:23.135638Z\", \"created_time\": \"2021-02-04T23:21:13.727718Z\", \"created_time_dt\": \"2021-02-04T23:21:13.727718Z\", \"duration\": \"0:01:09\", \"iteration\": \"31\", \"goal\": \"accuracy_max\", \"run_name\": \"StandardScalerWrapper, XGBoostClassifier\", \"run_properties\": \"<azureml.automl.runtime.shared.model_wrappers.StandardScalerWrapper object at 0x7fdbd5866fd0\", \"primary_metric\": 0.81545455, \"best_metric\": 0.84676768}, {\"run_id\": \"AutoML_e9ff04b4-4463-4aee-86f2-bffb2f48e3d6_32\", \"run_number\": 37, \"metric\": null, \"status\": \"Completed\", \"run_type\": \"azureml.scriptrun\", \"training_percent\": \"100\", \"start_time\": \"2021-02-04T23:21:29.387607Z\", \"end_time\": \"2021-02-04T23:22:17.769989Z\", \"created_time\": \"2021-02-04T23:21:18.294452Z\", \"created_time_dt\": \"2021-02-04T23:21:18.294452Z\", \"duration\": \"0:00:59\", \"iteration\": \"32\", \"goal\": \"accuracy_max\", \"run_name\": \"StandardScalerWrapper, XGBoostClassifier\", \"run_properties\": \"<azureml.automl.runtime.shared.model_wrappers.StandardScalerWrapper object at 0x7fec652eafd0\", \"primary_metric\": 0.80646465, \"best_metric\": 0.84676768}, {\"run_id\": \"AutoML_e9ff04b4-4463-4aee-86f2-bffb2f48e3d6_33\", \"run_number\": 38, \"metric\": null, \"status\": \"Completed\", \"run_type\": \"azureml.scriptrun\", \"training_percent\": \"100\", \"start_time\": \"2021-02-04T23:21:35.657826Z\", \"end_time\": \"2021-02-04T23:22:22.9987Z\", \"created_time\": \"2021-02-04T23:21:23.633425Z\", \"created_time_dt\": \"2021-02-04T23:21:23.633425Z\", \"duration\": \"0:00:59\", \"iteration\": \"33\", \"goal\": \"accuracy_max\", \"run_name\": \"StandardScalerWrapper, LightGBM\", \"run_properties\": \"<azureml.automl.runtime.shared.model_wrappers.StandardScalerWrapper object at 0x7f9194627c18\", \"primary_metric\": 0.80656566, \"best_metric\": 0.84676768}, {\"run_id\": \"AutoML_e9ff04b4-4463-4aee-86f2-bffb2f48e3d6_34\", \"run_number\": 39, \"metric\": null, \"status\": \"Completed\", \"run_type\": \"azureml.scriptrun\", \"training_percent\": \"100\", \"start_time\": \"2021-02-04T23:21:55.752173Z\", \"end_time\": \"2021-02-04T23:22:53.82998Z\", \"created_time\": \"2021-02-04T23:21:42.488862Z\", \"created_time_dt\": \"2021-02-04T23:21:42.488862Z\", \"duration\": \"0:01:11\", \"iteration\": \"34\", \"goal\": \"accuracy_max\", \"run_name\": \"RobustScaler, LightGBM\", \"run_properties\": \"copy=True, quantile_range=[25, 75], with_centering=True,\\n             with_scaling=True\", \"primary_metric\": 0.83343434, \"best_metric\": 0.84676768}, {\"run_id\": \"AutoML_e9ff04b4-4463-4aee-86f2-bffb2f48e3d6_35\", \"run_number\": 40, \"metric\": null, \"status\": \"Completed\", \"run_type\": \"azureml.scriptrun\", \"training_percent\": \"100\", \"start_time\": \"2021-02-04T23:21:59.111973Z\", \"end_time\": \"2021-02-04T23:22:44.614216Z\", \"created_time\": \"2021-02-04T23:21:48.653548Z\", \"created_time_dt\": \"2021-02-04T23:21:48.653548Z\", \"duration\": \"0:00:55\", \"iteration\": \"35\", \"goal\": \"accuracy_max\", \"run_name\": \"SparseNormalizer, LightGBM\", \"run_properties\": \"<azureml.automl.runtime.shared.model_wrappers.SparseNormalizer object at 0x7fe96c4172e8\", \"primary_metric\": 0.79707071, \"best_metric\": 0.84676768}, {\"run_id\": \"AutoML_e9ff04b4-4463-4aee-86f2-bffb2f48e3d6_36\", \"run_number\": 41, \"metric\": null, \"status\": \"Completed\", \"run_type\": \"azureml.scriptrun\", \"training_percent\": \"100\", \"start_time\": \"2021-02-04T23:22:23.127931Z\", \"end_time\": \"2021-02-04T23:23:17.202173Z\", \"created_time\": \"2021-02-04T23:22:12.046858Z\", \"created_time_dt\": \"2021-02-04T23:22:12.046858Z\", \"duration\": \"0:01:05\", \"iteration\": \"36\", \"goal\": \"accuracy_max\", \"run_name\": \"MaxAbsScaler, LightGBM\", \"run_properties\": \"copy=True\", \"primary_metric\": 0.82878788, \"best_metric\": 0.84676768}, {\"run_id\": \"AutoML_e9ff04b4-4463-4aee-86f2-bffb2f48e3d6_37\", \"run_number\": 42, \"metric\": null, \"status\": \"Completed\", \"run_type\": \"azureml.scriptrun\", \"training_percent\": \"100\", \"start_time\": \"2021-02-04T23:22:34.42845Z\", \"end_time\": \"2021-02-04T23:23:30.151752Z\", \"created_time\": \"2021-02-04T23:22:20.180794Z\", \"created_time_dt\": \"2021-02-04T23:22:20.180794Z\", \"duration\": \"0:01:09\", \"iteration\": \"37\", \"goal\": \"accuracy_max\", \"run_name\": \"SparseNormalizer, ExtremeRandomTrees\", \"run_properties\": \"<azureml.automl.runtime.shared.model_wrappers.SparseNormalizer object at 0x7f7ba07af668\", \"primary_metric\": 0.7610101, \"best_metric\": 0.84676768}, {\"run_id\": \"AutoML_e9ff04b4-4463-4aee-86f2-bffb2f48e3d6_38\", \"run_number\": 43, \"metric\": null, \"status\": \"Completed\", \"run_type\": \"azureml.scriptrun\", \"training_percent\": \"100\", \"start_time\": \"2021-02-04T23:22:36.607876Z\", \"end_time\": \"2021-02-04T23:23:24.273858Z\", \"created_time\": \"2021-02-04T23:22:25.731273Z\", \"created_time_dt\": \"2021-02-04T23:22:25.731273Z\", \"duration\": \"0:00:58\", \"iteration\": \"38\", \"goal\": \"accuracy_max\", \"run_name\": \"MaxAbsScaler, ExtremeRandomTrees\", \"run_properties\": \"copy=True\", \"primary_metric\": 0.81050505, \"best_metric\": 0.84676768}, {\"run_id\": \"AutoML_e9ff04b4-4463-4aee-86f2-bffb2f48e3d6_39\", \"run_number\": 44, \"metric\": null, \"status\": \"Completed\", \"run_type\": \"azureml.scriptrun\", \"training_percent\": \"100\", \"start_time\": \"2021-02-04T23:22:36.678578Z\", \"end_time\": \"2021-02-04T23:23:21.928999Z\", \"created_time\": \"2021-02-04T23:22:25.761598Z\", \"created_time_dt\": \"2021-02-04T23:22:25.761598Z\", \"duration\": \"0:00:56\", \"iteration\": \"39\", \"goal\": \"accuracy_max\", \"run_name\": \"RobustScaler, GradientBoosting\", \"run_properties\": \"copy=True, quantile_range=[25, 75], with_centering=False,\\n             with_scaling=False\", \"primary_metric\": 0.83777778, \"best_metric\": 0.84676768}, {\"run_id\": \"AutoML_e9ff04b4-4463-4aee-86f2-bffb2f48e3d6_40\", \"run_number\": 45, \"metric\": null, \"status\": \"Completed\", \"run_type\": \"azureml.scriptrun\", \"training_percent\": \"100\", \"start_time\": \"2021-02-04T23:23:02.394043Z\", \"end_time\": \"2021-02-04T23:24:00.796797Z\", \"created_time\": \"2021-02-04T23:22:48.658194Z\", \"created_time_dt\": \"2021-02-04T23:22:48.658194Z\", \"duration\": \"0:01:12\", \"iteration\": \"40\", \"goal\": \"accuracy_max\", \"run_name\": \"RobustScaler, LightGBM\", \"run_properties\": \"copy=True, quantile_range=[10, 90], with_centering=False,\\n             with_scaling=True\", \"primary_metric\": 0.83787879, \"best_metric\": 0.84676768}, {\"run_id\": \"AutoML_e9ff04b4-4463-4aee-86f2-bffb2f48e3d6_41\", \"run_number\": 46, \"metric\": null, \"status\": \"Completed\", \"run_type\": \"azureml.scriptrun\", \"training_percent\": \"100\", \"start_time\": \"2021-02-04T23:23:09.165088Z\", \"end_time\": \"2021-02-04T23:23:54.649313Z\", \"created_time\": \"2021-02-04T23:22:56.650892Z\", \"created_time_dt\": \"2021-02-04T23:22:56.650892Z\", \"duration\": \"0:00:57\", \"iteration\": \"41\", \"goal\": \"accuracy_max\", \"run_name\": \"RobustScaler, RandomForest\", \"run_properties\": \"copy=True, quantile_range=[10, 90], with_centering=False,\\n             with_scaling=False\", \"primary_metric\": 0.82414141, \"best_metric\": 0.84676768}, {\"run_id\": \"AutoML_e9ff04b4-4463-4aee-86f2-bffb2f48e3d6_42\", \"run_number\": 47, \"metric\": null, \"status\": \"Completed\", \"run_type\": \"azureml.scriptrun\", \"training_percent\": \"100\", \"start_time\": \"2021-02-04T23:23:33.508935Z\", \"end_time\": \"2021-02-04T23:24:24.633175Z\", \"created_time\": \"2021-02-04T23:23:20.020628Z\", \"created_time_dt\": \"2021-02-04T23:23:20.020628Z\", \"duration\": \"0:01:04\", \"iteration\": \"42\", \"goal\": \"accuracy_max\", \"run_name\": \"StandardScalerWrapper, RandomForest\", \"run_properties\": \"<azureml.automl.runtime.shared.model_wrappers.StandardScalerWrapper object at 0x7fad9038e438\", \"primary_metric\": 0.82858586, \"best_metric\": 0.84676768}, {\"run_id\": \"AutoML_e9ff04b4-4463-4aee-86f2-bffb2f48e3d6_43\", \"run_number\": 48, \"metric\": null, \"status\": \"Completed\", \"run_type\": \"azureml.scriptrun\", \"training_percent\": \"100\", \"start_time\": \"2021-02-04T23:23:39.731721Z\", \"end_time\": \"2021-02-04T23:24:34.951121Z\", \"created_time\": \"2021-02-04T23:23:25.258983Z\", \"created_time_dt\": \"2021-02-04T23:23:25.258983Z\", \"duration\": \"0:01:09\", \"iteration\": \"43\", \"goal\": \"accuracy_max\", \"run_name\": \"MaxAbsScaler, RandomForest\", \"run_properties\": \"copy=True\", \"primary_metric\": 0.83747475, \"best_metric\": 0.84676768}, {\"run_id\": \"AutoML_e9ff04b4-4463-4aee-86f2-bffb2f48e3d6_44\", \"run_number\": 49, \"metric\": null, \"status\": \"Completed\", \"run_type\": \"azureml.scriptrun\", \"training_percent\": \"100\", \"start_time\": \"2021-02-04T23:23:45.827264Z\", \"end_time\": \"2021-02-04T23:24:35.108179Z\", \"created_time\": \"2021-02-04T23:23:32.015954Z\", \"created_time_dt\": \"2021-02-04T23:23:32.015954Z\", \"duration\": \"0:01:03\", \"iteration\": \"44\", \"goal\": \"accuracy_max\", \"run_name\": \"MinMaxScaler, LightGBM\", \"run_properties\": \"copy=True, feature_range=(0, 1\", \"primary_metric\": 0.81979798, \"best_metric\": 0.84676768}, {\"run_id\": \"AutoML_e9ff04b4-4463-4aee-86f2-bffb2f48e3d6_45\", \"run_number\": 50, \"metric\": null, \"status\": \"Canceled\", \"run_type\": \"azureml.scriptrun\", \"training_percent\": \"100\", \"start_time\": \"2021-02-04T23:23:52.581489Z\", \"end_time\": \"2021-02-04T23:24:41.741777Z\", \"created_time\": \"2021-02-04T23:23:37.863034Z\", \"created_time_dt\": \"2021-02-04T23:23:37.863034Z\", \"duration\": \"0:01:03\", \"iteration\": \"45\", \"goal\": \"accuracy_max\", \"run_name\": \"RobustScaler, LightGBM\", \"run_properties\": \"copy=True, quantile_range=[25, 75], with_centering=False,\\n             with_scaling=False\", \"primary_metric\": 0.82868687, \"best_metric\": 0.84676768}, {\"run_id\": \"AutoML_e9ff04b4-4463-4aee-86f2-bffb2f48e3d6_46\", \"run_number\": 51, \"metric\": null, \"status\": \"Canceled\", \"run_type\": \"azureml.scriptrun\", \"training_percent\": \"100\", \"start_time\": \"2021-02-04T23:24:11.617106Z\", \"end_time\": \"2021-02-04T23:24:43.846617Z\", \"created_time\": \"2021-02-04T23:23:56.757319Z\", \"created_time_dt\": \"2021-02-04T23:23:56.757319Z\", \"duration\": \"0:00:47\", \"iteration\": \"46\", \"goal\": \"accuracy_max\", \"run_name\": \"SparseNormalizer, XGBoostClassifier\", \"run_properties\": \"<azureml.automl.runtime.shared.model_wrappers.SparseNormalizer object at 0x7fdf9c1ca8d0\", \"primary_metric\": 0.81939394, \"best_metric\": 0.84676768}, {\"run_id\": \"AutoML_e9ff04b4-4463-4aee-86f2-bffb2f48e3d6_47\", \"run_number\": 52, \"metric\": null, \"status\": \"Canceled\", \"run_type\": \"azureml.scriptrun\", \"training_percent\": \"100\", \"start_time\": \"2021-02-04T23:24:16.262293Z\", \"end_time\": \"2021-02-04T23:24:43.408743Z\", \"created_time\": \"2021-02-04T23:24:02.703572Z\", \"created_time_dt\": \"2021-02-04T23:24:02.703572Z\", \"duration\": \"0:00:40\", \"iteration\": \"47\", \"goal\": null, \"run_name\": \"MaxAbsScaler, LightGBM\", \"run_properties\": null, \"primary_metric\": 0.83323232, \"best_metric\": 0.84676768}, {\"run_id\": \"AutoML_e9ff04b4-4463-4aee-86f2-bffb2f48e3d6_48\", \"run_number\": 53, \"metric\": null, \"status\": \"Canceled\", \"run_type\": \"azureml.scriptrun\", \"training_percent\": \"100\", \"start_time\": \"2021-02-04T23:24:26.837176Z\", \"end_time\": \"2021-02-04T23:24:43.991887Z\", \"created_time\": \"2021-02-04T23:24:26.837176Z\", \"created_time_dt\": \"2021-02-04T23:24:26.837176Z\", \"duration\": \"0:00:17\", \"iteration\": \"48\", \"goal\": null, \"run_name\": \"Canceled\", \"run_properties\": null}, {\"run_id\": \"AutoML_e9ff04b4-4463-4aee-86f2-bffb2f48e3d6_49\", \"run_number\": 54, \"metric\": null, \"status\": \"Completed\", \"run_type\": \"azureml.scriptrun\", \"training_percent\": \"100\", \"start_time\": \"2021-02-04T23:24:56.573772Z\", \"end_time\": \"2021-02-04T23:26:32.461289Z\", \"created_time\": \"2021-02-04T23:24:44.944Z\", \"created_time_dt\": \"2021-02-04T23:24:44.944Z\", \"duration\": \"0:01:47\", \"iteration\": \"49\", \"goal\": \"accuracy_max\", \"run_name\": \"VotingEnsemble\", \"run_properties\": \"classification_labels=None,\\n                              estimators=[('29',\\n                                           Pipeline(memory=None,\\n                                                    steps=[('standardscalerwrapper',\\n                                                            <azureml.automl.runtime.shared.model_wrappers.StandardScalerWrapper object at 0x7fd450325b00>\", \"primary_metric\": 0.86030303, \"best_metric\": 0.86030303}, {\"run_id\": \"AutoML_e9ff04b4-4463-4aee-86f2-bffb2f48e3d6_50\", \"run_number\": 55, \"metric\": null, \"status\": \"Completed\", \"run_type\": \"azureml.scriptrun\", \"training_percent\": \"100\", \"start_time\": \"2021-02-04T23:24:57.47299Z\", \"end_time\": \"2021-02-04T23:26:41.466884Z\", \"created_time\": \"2021-02-04T23:24:44.953921Z\", \"created_time_dt\": \"2021-02-04T23:24:44.953921Z\", \"duration\": \"0:01:56\", \"iteration\": \"50\", \"goal\": \"accuracy_max\", \"run_name\": \"StackEnsemble\", \"run_properties\": \"base_learners=[('29',\\n                                        Pipeline(memory=None,\\n                                                 steps=[('standardscalerwrapper',\\n                                                         <azureml.automl.runtime.shared.model_wrappers.StandardScalerWrapper object at 0x7f65456b4320>\", \"primary_metric\": 0.83323232, \"best_metric\": 0.86030303}], \"children_metrics\": {\"categories\": [0], \"series\": {\"norm_macro_recall\": [{\"categories\": [\"0\", \"1\", \"2\", \"3\", \"4\", \"5\", \"6\", \"7\", \"8\", \"9\", \"10\", \"11\", \"12\", \"13\", \"14\", \"15\", \"16\", \"17\", \"18\", \"19\", \"20\", \"21\", \"22\", \"23\", \"24\", \"25\", \"26\", \"27\", \"28\", \"29\", \"30\", \"31\", \"32\", \"33\", \"34\", \"35\", \"36\", \"37\", \"38\", \"39\", \"40\", \"41\", \"42\", \"43\", \"44\", \"45\", \"46\", \"47\", \"49\", \"50\"], \"mode\": \"markers\", \"name\": \"norm_macro_recall\", \"stepped\": false, \"type\": \"scatter\", \"data\": [0.5526019538675261, 0.6129963742619463, 0.5707950897077207, 0.5518458977794017, 0.5943958209744862, 0.5805209194335503, 0.5723170623739884, 0.5216677117246377, 0.32381437627539433, 0.550471422932441, 0.49575989405211407, 0.5313533455089432, 0.5738109567711085, 0.4847435377738158, 0.5593390487508134, 0.5408678056627896, 0.2965752948295643, 0.5640981606066994, 0.5243415085160815, 0.5460566750394322, 0.4509583592316039, 0.5187839477667049, 0.3578117307529073, 0.4206508201195108, 0.5148550290106266, 0.0, 0.03724073028420851, 0.44157713394905046, 0.44584387290269645, 0.6215779887259139, 0.0, 0.5003955886688335, 0.5065045654171965, 0.5164737430524081, 0.5732603645960628, 0.437590470531647, 0.5682548412851192, 0.4555870164235811, 0.5609761781942295, 0.5823478847387766, 0.5715482981269633, 0.5811552741855521, 0.6180610200361045, 0.626228432807098, 0.548439066731287, 0.5504606163941203, 0.5354033695589673, 0.5791579963760476, 0.6309278015539874, 0.5696777661863051]}, {\"categories\": [\"0\", \"1\", \"2\", \"3\", \"4\", \"5\", \"6\", \"7\", \"8\", \"9\", \"10\", \"11\", \"12\", \"13\", \"14\", \"15\", \"16\", \"17\", \"18\", \"19\", \"20\", \"21\", \"22\", \"23\", \"24\", \"25\", \"26\", \"27\", \"28\", \"29\", \"30\", \"31\", \"32\", \"33\", \"34\", \"35\", \"36\", \"37\", \"38\", \"39\", \"40\", \"41\", \"42\", \"43\", \"44\", \"45\", \"46\", \"47\", \"49\", \"50\"], \"mode\": \"lines\", \"name\": \"norm_macro_recall_max\", \"stepped\": true, \"type\": \"scatter\", \"data\": [0.5526019538675261, 0.6129963742619463, 0.6129963742619463, 0.6129963742619463, 0.6129963742619463, 0.6129963742619463, 0.6129963742619463, 0.6129963742619463, 0.6129963742619463, 0.6129963742619463, 0.6129963742619463, 0.6129963742619463, 0.6129963742619463, 0.6129963742619463, 0.6129963742619463, 0.6129963742619463, 0.6129963742619463, 0.6129963742619463, 0.6129963742619463, 0.6129963742619463, 0.6129963742619463, 0.6129963742619463, 0.6129963742619463, 0.6129963742619463, 0.6129963742619463, 0.6129963742619463, 0.6129963742619463, 0.6129963742619463, 0.6129963742619463, 0.6215779887259139, 0.6215779887259139, 0.6215779887259139, 0.6215779887259139, 0.6215779887259139, 0.6215779887259139, 0.6215779887259139, 0.6215779887259139, 0.6215779887259139, 0.6215779887259139, 0.6215779887259139, 0.6215779887259139, 0.6215779887259139, 0.6215779887259139, 0.626228432807098, 0.626228432807098, 0.626228432807098, 0.626228432807098, 0.626228432807098, 0.6309278015539874, 0.6309278015539874]}], \"balanced_accuracy\": [{\"categories\": [\"0\", \"1\", \"2\", \"3\", \"4\", \"5\", \"6\", \"7\", \"8\", \"9\", \"10\", \"11\", \"12\", \"13\", \"14\", \"15\", \"16\", \"17\", \"18\", \"19\", \"20\", \"21\", \"22\", \"23\", \"24\", \"25\", \"26\", \"27\", \"28\", \"29\", \"30\", \"31\", \"32\", \"33\", \"34\", \"35\", \"36\", \"37\", \"38\", \"39\", \"40\", \"41\", \"42\", \"43\", \"44\", \"45\", \"46\", \"47\", \"49\", \"50\"], \"mode\": \"markers\", \"name\": \"balanced_accuracy\", \"stepped\": false, \"type\": \"scatter\", \"data\": [0.776300976933763, 0.8064981871309733, 0.7853975448538604, 0.7759229488897009, 0.797197910487243, 0.7902604597167752, 0.7861585311869941, 0.7608338558623189, 0.6619071881376971, 0.7752357114662205, 0.7478799470260571, 0.7656766727544715, 0.7869054783855542, 0.7423717688869079, 0.7796695243754067, 0.7704339028313948, 0.6482876474147822, 0.7820490803033497, 0.7621707542580408, 0.773028337519716, 0.725479179615802, 0.7593919738833523, 0.6789058653764537, 0.7103254100597554, 0.7574275145053134, 0.5, 0.5089760773194483, 0.7207885669745252, 0.7229219364513483, 0.8107889943629569, 0.5, 0.7501977943344167, 0.7532522827085982, 0.758236871526204, 0.7866301822980315, 0.7187952352658236, 0.7841274206425597, 0.7277935082117906, 0.7804880890971149, 0.7911739423693882, 0.7857741490634815, 0.7905776370927761, 0.8090305100180523, 0.813114216403549, 0.7742195333656434, 0.7752303081970602, 0.7677016847794838, 0.7895789981880238, 0.8154639007769937, 0.7848388830931524]}, {\"categories\": [\"0\", \"1\", \"2\", \"3\", \"4\", \"5\", \"6\", \"7\", \"8\", \"9\", \"10\", \"11\", \"12\", \"13\", \"14\", \"15\", \"16\", \"17\", \"18\", \"19\", \"20\", \"21\", \"22\", \"23\", \"24\", \"25\", \"26\", \"27\", \"28\", \"29\", \"30\", \"31\", \"32\", \"33\", \"34\", \"35\", \"36\", \"37\", \"38\", \"39\", \"40\", \"41\", \"42\", \"43\", \"44\", \"45\", \"46\", \"47\", \"49\", \"50\"], \"mode\": \"lines\", \"name\": \"balanced_accuracy_max\", \"stepped\": true, \"type\": \"scatter\", \"data\": [0.776300976933763, 0.8064981871309733, 0.8064981871309733, 0.8064981871309733, 0.8064981871309733, 0.8064981871309733, 0.8064981871309733, 0.8064981871309733, 0.8064981871309733, 0.8064981871309733, 0.8064981871309733, 0.8064981871309733, 0.8064981871309733, 0.8064981871309733, 0.8064981871309733, 0.8064981871309733, 0.8064981871309733, 0.8064981871309733, 0.8064981871309733, 0.8064981871309733, 0.8064981871309733, 0.8064981871309733, 0.8064981871309733, 0.8064981871309733, 0.8064981871309733, 0.8064981871309733, 0.8064981871309733, 0.8064981871309733, 0.8064981871309733, 0.8107889943629569, 0.8107889943629569, 0.8107889943629569, 0.8107889943629569, 0.8107889943629569, 0.8107889943629569, 0.8107889943629569, 0.8107889943629569, 0.8107889943629569, 0.8107889943629569, 0.8107889943629569, 0.8107889943629569, 0.8107889943629569, 0.8107889943629569, 0.813114216403549, 0.813114216403549, 0.813114216403549, 0.813114216403549, 0.813114216403549, 0.8154639007769937, 0.8154639007769937]}], \"precision_score_macro\": [{\"categories\": [\"0\", \"1\", \"2\", \"3\", \"4\", \"5\", \"6\", \"7\", \"8\", \"9\", \"10\", \"11\", \"12\", \"13\", \"14\", \"15\", \"16\", \"17\", \"18\", \"19\", \"20\", \"21\", \"22\", \"23\", \"24\", \"25\", \"26\", \"27\", \"28\", \"29\", \"30\", \"31\", \"32\", \"33\", \"34\", \"35\", \"36\", \"37\", \"38\", \"39\", \"40\", \"41\", \"42\", \"43\", \"44\", \"45\", \"46\", \"47\", \"49\", \"50\"], \"mode\": \"markers\", \"name\": \"precision_score_macro\", \"stepped\": false, \"type\": \"scatter\", \"data\": [0.7913480421117993, 0.8170982953521653, 0.8061448665150491, 0.828105384504161, 0.8027043381455148, 0.8259779138480964, 0.8146057892406777, 0.8002241431653196, 0.6939319667260844, 0.7894477610203416, 0.7803413703599462, 0.7883366601772673, 0.8190215783875405, 0.7873467038637317, 0.8411970373735078, 0.7927112369914227, 0.7526309236065334, 0.8214291908409554, 0.8025131509787082, 0.7833676258382141, 0.7842568989318215, 0.774372445579876, 0.8364951537319959, 0.7633029381191145, 0.7797501822045432, 0.3359090909090909, 0.5143000237079185, 0.7957010346812978, 0.8006520708823339, 0.8256478380007792, 0.3359090909090909, 0.8210141941391942, 0.7945992639222691, 0.7959137259137259, 0.8103845821988237, 0.7981738802133538, 0.8094593696064285, 0.7224579661319657, 0.7913847692073498, 0.8245876956221785, 0.8184450072685368, 0.8009509744068568, 0.8031193564889216, 0.8154043555953573, 0.7996361170283585, 0.8356240660035728, 0.796293132718082, 0.8083414093414094, 0.845395057012704, 0.8192259256965139]}, {\"categories\": [\"0\", \"1\", \"2\", \"3\", \"4\", \"5\", \"6\", \"7\", \"8\", \"9\", \"10\", \"11\", \"12\", \"13\", \"14\", \"15\", \"16\", \"17\", \"18\", \"19\", \"20\", \"21\", \"22\", \"23\", \"24\", \"25\", \"26\", \"27\", \"28\", \"29\", \"30\", \"31\", \"32\", \"33\", \"34\", \"35\", \"36\", \"37\", \"38\", \"39\", \"40\", \"41\", \"42\", \"43\", \"44\", \"45\", \"46\", \"47\", \"49\", \"50\"], \"mode\": \"lines\", \"name\": \"precision_score_macro_max\", \"stepped\": true, \"type\": \"scatter\", \"data\": [0.7913480421117993, 0.8170982953521653, 0.8170982953521653, 0.828105384504161, 0.828105384504161, 0.828105384504161, 0.828105384504161, 0.828105384504161, 0.828105384504161, 0.828105384504161, 0.828105384504161, 0.828105384504161, 0.828105384504161, 0.828105384504161, 0.8411970373735078, 0.8411970373735078, 0.8411970373735078, 0.8411970373735078, 0.8411970373735078, 0.8411970373735078, 0.8411970373735078, 0.8411970373735078, 0.8411970373735078, 0.8411970373735078, 0.8411970373735078, 0.8411970373735078, 0.8411970373735078, 0.8411970373735078, 0.8411970373735078, 0.8411970373735078, 0.8411970373735078, 0.8411970373735078, 0.8411970373735078, 0.8411970373735078, 0.8411970373735078, 0.8411970373735078, 0.8411970373735078, 0.8411970373735078, 0.8411970373735078, 0.8411970373735078, 0.8411970373735078, 0.8411970373735078, 0.8411970373735078, 0.8411970373735078, 0.8411970373735078, 0.8411970373735078, 0.8411970373735078, 0.8411970373735078, 0.845395057012704, 0.845395057012704]}], \"recall_score_micro\": [{\"categories\": [\"0\", \"1\", \"2\", \"3\", \"4\", \"5\", \"6\", \"7\", \"8\", \"9\", \"10\", \"11\", \"12\", \"13\", \"14\", \"15\", \"16\", \"17\", \"18\", \"19\", \"20\", \"21\", \"22\", \"23\", \"24\", \"25\", \"26\", \"27\", \"28\", \"29\", \"30\", \"31\", \"32\", \"33\", \"34\", \"35\", \"36\", \"37\", \"38\", \"39\", \"40\", \"41\", \"42\", \"43\", \"44\", \"45\", \"46\", \"47\", \"49\", \"50\"], \"mode\": \"markers\", \"name\": \"recall_score_micro\", \"stepped\": false, \"type\": \"scatter\", \"data\": [0.8152525252525253, 0.8423232323232324, 0.8197979797979797, 0.8334343434343434, 0.8239393939393939, 0.8422222222222222, 0.8332323232323233, 0.8110101010101012, 0.7387878787878789, 0.8151515151515152, 0.7976767676767678, 0.8106060606060606, 0.8241414141414142, 0.7974747474747474, 0.8334343434343434, 0.8195959595959597, 0.7525252525252525, 0.828888888888889, 0.8154545454545454, 0.8151515151515152, 0.793030303030303, 0.8061616161616161, 0.7795959595959596, 0.7793939393939394, 0.805959595959596, 0.6718181818181818, 0.6084848484848485, 0.7971717171717172, 0.7971717171717172, 0.8467676767676767, 0.6718181818181818, 0.8154545454545454, 0.8064646464646466, 0.8065656565656566, 0.8334343434343434, 0.7970707070707072, 0.8287878787878787, 0.761010101010101, 0.8105050505050505, 0.8377777777777778, 0.8378787878787879, 0.8241414141414142, 0.8285858585858585, 0.8374747474747475, 0.8197979797979797, 0.8286868686868688, 0.8193939393939393, 0.8332323232323231, 0.8603030303030303, 0.8332323232323233]}, {\"categories\": [\"0\", \"1\", \"2\", \"3\", \"4\", \"5\", \"6\", \"7\", \"8\", \"9\", \"10\", \"11\", \"12\", \"13\", \"14\", \"15\", \"16\", \"17\", \"18\", \"19\", \"20\", \"21\", \"22\", \"23\", \"24\", \"25\", \"26\", \"27\", \"28\", \"29\", \"30\", \"31\", \"32\", \"33\", \"34\", \"35\", \"36\", \"37\", \"38\", \"39\", \"40\", \"41\", \"42\", \"43\", \"44\", \"45\", \"46\", \"47\", \"49\", \"50\"], \"mode\": \"lines\", \"name\": \"recall_score_micro_max\", \"stepped\": true, \"type\": \"scatter\", \"data\": [0.8152525252525253, 0.8423232323232324, 0.8423232323232324, 0.8423232323232324, 0.8423232323232324, 0.8423232323232324, 0.8423232323232324, 0.8423232323232324, 0.8423232323232324, 0.8423232323232324, 0.8423232323232324, 0.8423232323232324, 0.8423232323232324, 0.8423232323232324, 0.8423232323232324, 0.8423232323232324, 0.8423232323232324, 0.8423232323232324, 0.8423232323232324, 0.8423232323232324, 0.8423232323232324, 0.8423232323232324, 0.8423232323232324, 0.8423232323232324, 0.8423232323232324, 0.8423232323232324, 0.8423232323232324, 0.8423232323232324, 0.8423232323232324, 0.8467676767676767, 0.8467676767676767, 0.8467676767676767, 0.8467676767676767, 0.8467676767676767, 0.8467676767676767, 0.8467676767676767, 0.8467676767676767, 0.8467676767676767, 0.8467676767676767, 0.8467676767676767, 0.8467676767676767, 0.8467676767676767, 0.8467676767676767, 0.8467676767676767, 0.8467676767676767, 0.8467676767676767, 0.8467676767676767, 0.8467676767676767, 0.8603030303030303, 0.8603030303030303]}], \"f1_score_micro\": [{\"categories\": [\"0\", \"1\", \"2\", \"3\", \"4\", \"5\", \"6\", \"7\", \"8\", \"9\", \"10\", \"11\", \"12\", \"13\", \"14\", \"15\", \"16\", \"17\", \"18\", \"19\", \"20\", \"21\", \"22\", \"23\", \"24\", \"25\", \"26\", \"27\", \"28\", \"29\", \"30\", \"31\", \"32\", \"33\", \"34\", \"35\", \"36\", \"37\", \"38\", \"39\", \"40\", \"41\", \"42\", \"43\", \"44\", \"45\", \"46\", \"47\", \"49\", \"50\"], \"mode\": \"markers\", \"name\": \"f1_score_micro\", \"stepped\": false, \"type\": \"scatter\", \"data\": [0.8152525252525253, 0.8423232323232324, 0.81979797979798, 0.8334343434343434, 0.823939393939394, 0.8422222222222222, 0.8332323232323233, 0.8110101010101012, 0.7387878787878789, 0.8151515151515152, 0.7976767676767678, 0.8106060606060606, 0.8241414141414142, 0.7974747474747474, 0.8334343434343434, 0.8195959595959597, 0.7525252525252525, 0.828888888888889, 0.8154545454545457, 0.8151515151515152, 0.793030303030303, 0.8061616161616161, 0.7795959595959596, 0.7793939393939395, 0.805959595959596, 0.6718181818181818, 0.6084848484848485, 0.7971717171717172, 0.7971717171717172, 0.8467676767676767, 0.6718181818181818, 0.8154545454545457, 0.8064646464646466, 0.8065656565656566, 0.8334343434343434, 0.7970707070707072, 0.8287878787878789, 0.761010101010101, 0.8105050505050506, 0.8377777777777778, 0.8378787878787879, 0.8241414141414142, 0.8285858585858585, 0.8374747474747476, 0.8197979797979797, 0.8286868686868688, 0.8193939393939396, 0.8332323232323233, 0.8603030303030303, 0.8332323232323233]}, {\"categories\": [\"0\", \"1\", \"2\", \"3\", \"4\", \"5\", \"6\", \"7\", \"8\", \"9\", \"10\", \"11\", \"12\", \"13\", \"14\", \"15\", \"16\", \"17\", \"18\", \"19\", \"20\", \"21\", \"22\", \"23\", \"24\", \"25\", \"26\", \"27\", \"28\", \"29\", \"30\", \"31\", \"32\", \"33\", \"34\", \"35\", \"36\", \"37\", \"38\", \"39\", \"40\", \"41\", \"42\", \"43\", \"44\", \"45\", \"46\", \"47\", \"49\", \"50\"], \"mode\": \"lines\", \"name\": \"f1_score_micro_max\", \"stepped\": true, \"type\": \"scatter\", \"data\": [0.8152525252525253, 0.8423232323232324, 0.8423232323232324, 0.8423232323232324, 0.8423232323232324, 0.8423232323232324, 0.8423232323232324, 0.8423232323232324, 0.8423232323232324, 0.8423232323232324, 0.8423232323232324, 0.8423232323232324, 0.8423232323232324, 0.8423232323232324, 0.8423232323232324, 0.8423232323232324, 0.8423232323232324, 0.8423232323232324, 0.8423232323232324, 0.8423232323232324, 0.8423232323232324, 0.8423232323232324, 0.8423232323232324, 0.8423232323232324, 0.8423232323232324, 0.8423232323232324, 0.8423232323232324, 0.8423232323232324, 0.8423232323232324, 0.8467676767676767, 0.8467676767676767, 0.8467676767676767, 0.8467676767676767, 0.8467676767676767, 0.8467676767676767, 0.8467676767676767, 0.8467676767676767, 0.8467676767676767, 0.8467676767676767, 0.8467676767676767, 0.8467676767676767, 0.8467676767676767, 0.8467676767676767, 0.8467676767676767, 0.8467676767676767, 0.8467676767676767, 0.8467676767676767, 0.8467676767676767, 0.8603030303030303, 0.8603030303030303]}], \"log_loss\": [{\"categories\": [\"0\", \"1\", \"2\", \"3\", \"4\", \"5\", \"6\", \"7\", \"8\", \"9\", \"10\", \"11\", \"12\", \"13\", \"14\", \"15\", \"16\", \"17\", \"18\", \"19\", \"20\", \"21\", \"22\", \"23\", \"24\", \"25\", \"26\", \"27\", \"28\", \"29\", \"30\", \"31\", \"32\", \"33\", \"34\", \"35\", \"36\", \"37\", \"38\", \"39\", \"40\", \"41\", \"42\", \"43\", \"44\", \"45\", \"46\", \"47\", \"49\", \"50\"], \"mode\": \"markers\", \"name\": \"log_loss\", \"stepped\": false, \"type\": \"scatter\", \"data\": [0.5114536818010965, 0.4466042636711084, 0.3852815723931632, 0.40954258744468836, 0.41108477643500996, 0.3754023171979897, 0.3864883921524286, 0.435449499841002, 0.5618850261165391, 0.39400021827470333, 0.47521195189370485, 0.4166912976646226, 0.4076910154935092, 0.470265138439202, 0.4132089909145199, 0.4509152451705223, 0.4876857895024186, 0.4132597474100236, 0.4216299318802756, 0.4123928347882445, 0.4354960582658055, 0.43159404905174037, 0.4963079660205915, 0.4540304230558424, 0.4267801976997606, 0.6459494023019351, 0.7855058978800576, 0.4550791973198455, 0.43819234594004086, 0.38067425563325213, 0.6458978632776917, 0.4415607691319904, 0.48991236847184017, 0.43520060784208336, 0.3888975172672966, 0.46596996747048547, 0.3771652030735343, 0.6077057378129729, 0.5098530912245427, 0.3862417392983638, 0.3854596329617243, 0.3734483369169883, 0.45213719055341856, 0.4118276765554426, 0.3879747076786197, 0.4757617267878292, 0.4117962274472797, 0.39247748830455625, 0.37314568220901584, 0.4048092834498159]}, {\"categories\": [\"0\", \"1\", \"2\", \"3\", \"4\", \"5\", \"6\", \"7\", \"8\", \"9\", \"10\", \"11\", \"12\", \"13\", \"14\", \"15\", \"16\", \"17\", \"18\", \"19\", \"20\", \"21\", \"22\", \"23\", \"24\", \"25\", \"26\", \"27\", \"28\", \"29\", \"30\", \"31\", \"32\", \"33\", \"34\", \"35\", \"36\", \"37\", \"38\", \"39\", \"40\", \"41\", \"42\", \"43\", \"44\", \"45\", \"46\", \"47\", \"49\", \"50\"], \"mode\": \"lines\", \"name\": \"log_loss_min\", \"stepped\": true, \"type\": \"scatter\", \"data\": [0.5114536818010965, 0.4466042636711084, 0.3852815723931632, 0.3852815723931632, 0.3852815723931632, 0.3754023171979897, 0.3754023171979897, 0.3754023171979897, 0.3754023171979897, 0.3754023171979897, 0.3754023171979897, 0.3754023171979897, 0.3754023171979897, 0.3754023171979897, 0.3754023171979897, 0.3754023171979897, 0.3754023171979897, 0.3754023171979897, 0.3754023171979897, 0.3754023171979897, 0.3754023171979897, 0.3754023171979897, 0.3754023171979897, 0.3754023171979897, 0.3754023171979897, 0.3754023171979897, 0.3754023171979897, 0.3754023171979897, 0.3754023171979897, 0.3754023171979897, 0.3754023171979897, 0.3754023171979897, 0.3754023171979897, 0.3754023171979897, 0.3754023171979897, 0.3754023171979897, 0.3754023171979897, 0.3754023171979897, 0.3754023171979897, 0.3754023171979897, 0.3754023171979897, 0.3734483369169883, 0.3734483369169883, 0.3734483369169883, 0.3734483369169883, 0.3734483369169883, 0.3734483369169883, 0.3734483369169883, 0.37314568220901584, 0.37314568220901584]}], \"recall_score_macro\": [{\"categories\": [\"0\", \"1\", \"2\", \"3\", \"4\", \"5\", \"6\", \"7\", \"8\", \"9\", \"10\", \"11\", \"12\", \"13\", \"14\", \"15\", \"16\", \"17\", \"18\", \"19\", \"20\", \"21\", \"22\", \"23\", \"24\", \"25\", \"26\", \"27\", \"28\", \"29\", \"30\", \"31\", \"32\", \"33\", \"34\", \"35\", \"36\", \"37\", \"38\", \"39\", \"40\", \"41\", \"42\", \"43\", \"44\", \"45\", \"46\", \"47\", \"49\", \"50\"], \"mode\": \"markers\", \"name\": \"recall_score_macro\", \"stepped\": false, \"type\": \"scatter\", \"data\": [0.776300976933763, 0.8064981871309733, 0.7853975448538604, 0.7759229488897009, 0.797197910487243, 0.7902604597167752, 0.7861585311869941, 0.7608338558623189, 0.6619071881376971, 0.7752357114662205, 0.7478799470260571, 0.7656766727544715, 0.7869054783855542, 0.7423717688869079, 0.7796695243754067, 0.7704339028313948, 0.6482876474147822, 0.7820490803033497, 0.7621707542580408, 0.773028337519716, 0.725479179615802, 0.7593919738833523, 0.6789058653764537, 0.7103254100597554, 0.7574275145053134, 0.5, 0.5089760773194483, 0.7207885669745252, 0.7229219364513483, 0.8107889943629569, 0.5, 0.7501977943344167, 0.7532522827085982, 0.758236871526204, 0.7866301822980315, 0.7187952352658236, 0.7841274206425597, 0.7277935082117906, 0.7804880890971149, 0.7911739423693882, 0.7857741490634815, 0.7905776370927761, 0.8090305100180523, 0.813114216403549, 0.7742195333656434, 0.7752303081970602, 0.7677016847794838, 0.7895789981880238, 0.8154639007769937, 0.7848388830931524]}, {\"categories\": [\"0\", \"1\", \"2\", \"3\", \"4\", \"5\", \"6\", \"7\", \"8\", \"9\", \"10\", \"11\", \"12\", \"13\", \"14\", \"15\", \"16\", \"17\", \"18\", \"19\", \"20\", \"21\", \"22\", \"23\", \"24\", \"25\", \"26\", \"27\", \"28\", \"29\", \"30\", \"31\", \"32\", \"33\", \"34\", \"35\", \"36\", \"37\", \"38\", \"39\", \"40\", \"41\", \"42\", \"43\", \"44\", \"45\", \"46\", \"47\", \"49\", \"50\"], \"mode\": \"lines\", \"name\": \"recall_score_macro_max\", \"stepped\": true, \"type\": \"scatter\", \"data\": [0.776300976933763, 0.8064981871309733, 0.8064981871309733, 0.8064981871309733, 0.8064981871309733, 0.8064981871309733, 0.8064981871309733, 0.8064981871309733, 0.8064981871309733, 0.8064981871309733, 0.8064981871309733, 0.8064981871309733, 0.8064981871309733, 0.8064981871309733, 0.8064981871309733, 0.8064981871309733, 0.8064981871309733, 0.8064981871309733, 0.8064981871309733, 0.8064981871309733, 0.8064981871309733, 0.8064981871309733, 0.8064981871309733, 0.8064981871309733, 0.8064981871309733, 0.8064981871309733, 0.8064981871309733, 0.8064981871309733, 0.8064981871309733, 0.8107889943629569, 0.8107889943629569, 0.8107889943629569, 0.8107889943629569, 0.8107889943629569, 0.8107889943629569, 0.8107889943629569, 0.8107889943629569, 0.8107889943629569, 0.8107889943629569, 0.8107889943629569, 0.8107889943629569, 0.8107889943629569, 0.8107889943629569, 0.813114216403549, 0.813114216403549, 0.813114216403549, 0.813114216403549, 0.813114216403549, 0.8154639007769937, 0.8154639007769937]}], \"f1_score_macro\": [{\"categories\": [\"0\", \"1\", \"2\", \"3\", \"4\", \"5\", \"6\", \"7\", \"8\", \"9\", \"10\", \"11\", \"12\", \"13\", \"14\", \"15\", \"16\", \"17\", \"18\", \"19\", \"20\", \"21\", \"22\", \"23\", \"24\", \"25\", \"26\", \"27\", \"28\", \"29\", \"30\", \"31\", \"32\", \"33\", \"34\", \"35\", \"36\", \"37\", \"38\", \"39\", \"40\", \"41\", \"42\", \"43\", \"44\", \"45\", \"46\", \"47\", \"49\", \"50\"], \"mode\": \"markers\", \"name\": \"f1_score_macro\", \"stepped\": false, \"type\": \"scatter\", \"data\": [0.7743615480860203, 0.8069017006795761, 0.7842794150597895, 0.78846257780392, 0.7923930726588028, 0.8013141025641026, 0.7925807560795446, 0.7660628606622684, 0.6631598406382967, 0.7755034808017178, 0.7467658473597684, 0.7686831034521519, 0.7860392616642617, 0.7476168187429182, 0.7907207166047974, 0.7761966605711657, 0.6454950672077518, 0.7877510110195363, 0.7673578479689641, 0.7752635567047331, 0.7316033361715356, 0.7625268825854009, 0.6856849621196016, 0.7139084204121107, 0.7616025644602963, 0.399604224871114, 0.4828218988759193, 0.7357769100803487, 0.7348423636878506, 0.8138882926174823, 0.399604224871114, 0.7628385954987014, 0.7579479448372888, 0.7640152679359116, 0.7922963288254352, 0.7305982055564044, 0.789614091008626, 0.7200414463845973, 0.7756589088871498, 0.797382085149113, 0.7957079587079587, 0.7891957258309735, 0.7986496696918692, 0.8077727623089729, 0.7756877592284921, 0.7859727764340042, 0.7758822692428494, 0.7935801693681827, 0.824795180072068, 0.7922822252134865]}, {\"categories\": [\"0\", \"1\", \"2\", \"3\", \"4\", \"5\", \"6\", \"7\", \"8\", \"9\", \"10\", \"11\", \"12\", \"13\", \"14\", \"15\", \"16\", \"17\", \"18\", \"19\", \"20\", \"21\", \"22\", \"23\", \"24\", \"25\", \"26\", \"27\", \"28\", \"29\", \"30\", \"31\", \"32\", \"33\", \"34\", \"35\", \"36\", \"37\", \"38\", \"39\", \"40\", \"41\", \"42\", \"43\", \"44\", \"45\", \"46\", \"47\", \"49\", \"50\"], \"mode\": \"lines\", \"name\": \"f1_score_macro_max\", \"stepped\": true, \"type\": \"scatter\", \"data\": [0.7743615480860203, 0.8069017006795761, 0.8069017006795761, 0.8069017006795761, 0.8069017006795761, 0.8069017006795761, 0.8069017006795761, 0.8069017006795761, 0.8069017006795761, 0.8069017006795761, 0.8069017006795761, 0.8069017006795761, 0.8069017006795761, 0.8069017006795761, 0.8069017006795761, 0.8069017006795761, 0.8069017006795761, 0.8069017006795761, 0.8069017006795761, 0.8069017006795761, 0.8069017006795761, 0.8069017006795761, 0.8069017006795761, 0.8069017006795761, 0.8069017006795761, 0.8069017006795761, 0.8069017006795761, 0.8069017006795761, 0.8069017006795761, 0.8138882926174823, 0.8138882926174823, 0.8138882926174823, 0.8138882926174823, 0.8138882926174823, 0.8138882926174823, 0.8138882926174823, 0.8138882926174823, 0.8138882926174823, 0.8138882926174823, 0.8138882926174823, 0.8138882926174823, 0.8138882926174823, 0.8138882926174823, 0.8138882926174823, 0.8138882926174823, 0.8138882926174823, 0.8138882926174823, 0.8138882926174823, 0.824795180072068, 0.824795180072068]}], \"AUC_weighted\": [{\"categories\": [\"0\", \"1\", \"2\", \"3\", \"4\", \"5\", \"6\", \"7\", \"8\", \"9\", \"10\", \"11\", \"12\", \"13\", \"14\", \"15\", \"16\", \"17\", \"18\", \"19\", \"20\", \"21\", \"22\", \"23\", \"24\", \"25\", \"26\", \"27\", \"28\", \"29\", \"30\", \"31\", \"32\", \"33\", \"34\", \"35\", \"36\", \"37\", \"38\", \"39\", \"40\", \"41\", \"42\", \"43\", \"44\", \"45\", \"46\", \"47\", \"49\", \"50\"], \"mode\": \"markers\", \"name\": \"AUC_weighted\", \"stepped\": false, \"type\": \"scatter\", \"data\": [0.881438124878585, 0.8821854557779437, 0.8982381005881168, 0.8992872840642677, 0.8954523257548059, 0.9045284505321558, 0.899056571368787, 0.9043502205733045, 0.7418314727434137, 0.9109280194510188, 0.8549325421997193, 0.8889588289295783, 0.9085220363650738, 0.8862324861608599, 0.9014075298987285, 0.8775593801607258, 0.8698724392900543, 0.9000589243356492, 0.8832527214247896, 0.8906734237979036, 0.9011961157372201, 0.8766545321469534, 0.8634740055281414, 0.879651655231528, 0.8763952408128182, 0.5, 0.48446902120931423, 0.8734345760863226, 0.8746484036775117, 0.898431447009197, 0.5, 0.9075227464388276, 0.8884241980367413, 0.8989133751399091, 0.8962327670460063, 0.8658589534696368, 0.902840945171086, 0.8141809654829132, 0.8532645935300982, 0.9045178280518901, 0.907002371387098, 0.9023192180033426, 0.9046129274794777, 0.9036011282434094, 0.8926027469549981, 0.8990002300509234, 0.8785959188629235, 0.8913396557311326, 0.906333953773484, 0.9142930724231396]}, {\"categories\": [\"0\", \"1\", \"2\", \"3\", \"4\", \"5\", \"6\", \"7\", \"8\", \"9\", \"10\", \"11\", \"12\", \"13\", \"14\", \"15\", \"16\", \"17\", \"18\", \"19\", \"20\", \"21\", \"22\", \"23\", \"24\", \"25\", \"26\", \"27\", \"28\", \"29\", \"30\", \"31\", \"32\", \"33\", \"34\", \"35\", \"36\", \"37\", \"38\", \"39\", \"40\", \"41\", \"42\", \"43\", \"44\", \"45\", \"46\", \"47\", \"49\", \"50\"], \"mode\": \"lines\", \"name\": \"AUC_weighted_max\", \"stepped\": true, \"type\": \"scatter\", \"data\": [0.881438124878585, 0.8821854557779437, 0.8982381005881168, 0.8992872840642677, 0.8992872840642677, 0.9045284505321558, 0.9045284505321558, 0.9045284505321558, 0.9045284505321558, 0.9109280194510188, 0.9109280194510188, 0.9109280194510188, 0.9109280194510188, 0.9109280194510188, 0.9109280194510188, 0.9109280194510188, 0.9109280194510188, 0.9109280194510188, 0.9109280194510188, 0.9109280194510188, 0.9109280194510188, 0.9109280194510188, 0.9109280194510188, 0.9109280194510188, 0.9109280194510188, 0.9109280194510188, 0.9109280194510188, 0.9109280194510188, 0.9109280194510188, 0.9109280194510188, 0.9109280194510188, 0.9109280194510188, 0.9109280194510188, 0.9109280194510188, 0.9109280194510188, 0.9109280194510188, 0.9109280194510188, 0.9109280194510188, 0.9109280194510188, 0.9109280194510188, 0.9109280194510188, 0.9109280194510188, 0.9109280194510188, 0.9109280194510188, 0.9109280194510188, 0.9109280194510188, 0.9109280194510188, 0.9109280194510188, 0.9109280194510188, 0.9142930724231396]}], \"AUC_micro\": [{\"categories\": [\"0\", \"1\", \"2\", \"3\", \"4\", \"5\", \"6\", \"7\", \"8\", \"9\", \"10\", \"11\", \"12\", \"13\", \"14\", \"15\", \"16\", \"17\", \"18\", \"19\", \"20\", \"21\", \"22\", \"23\", \"24\", \"25\", \"26\", \"27\", \"28\", \"29\", \"30\", \"31\", \"32\", \"33\", \"34\", \"35\", \"36\", \"37\", \"38\", \"39\", \"40\", \"41\", \"42\", \"43\", \"44\", \"45\", \"46\", \"47\", \"49\", \"50\"], \"mode\": \"markers\", \"name\": \"AUC_micro\", \"stepped\": false, \"type\": \"scatter\", \"data\": [0.8868708805223957, 0.8903378736863585, 0.9092848688909294, 0.8998147637996123, 0.9016970207121723, 0.9110626466687073, 0.9103951127435975, 0.9006808999081726, 0.7883929190898888, 0.9151153963881236, 0.8706301907968574, 0.9042501275380064, 0.9060290276502398, 0.8736124375063768, 0.9024393939393939, 0.8931702887460462, 0.8603177226813589, 0.9024178145087234, 0.8939637281910009, 0.9005571880420365, 0.8909201612080399, 0.8900154576063667, 0.8521713090500971, 0.8785995306601369, 0.8958800632588512, 0.6718181818181818, 0.6237673706764616, 0.8864224568921539, 0.8842167125803491, 0.9088046627895114, 0.6718181818181818, 0.9003267013570044, 0.8881967656361596, 0.8977258953168045, 0.9071778900112234, 0.8750825936128965, 0.9079963779206205, 0.8445586164677075, 0.8729473523109886, 0.9127893072135496, 0.9151642179369451, 0.9130697377818591, 0.9145966227935926, 0.9016686562595655, 0.9029877563513928, 0.8820664728088972, 0.8973275176002449, 0.904419293949597, 0.9139506682991531, 0.9056067238036934]}, {\"categories\": [\"0\", \"1\", \"2\", \"3\", \"4\", \"5\", \"6\", \"7\", \"8\", \"9\", \"10\", \"11\", \"12\", \"13\", \"14\", \"15\", \"16\", \"17\", \"18\", \"19\", \"20\", \"21\", \"22\", \"23\", \"24\", \"25\", \"26\", \"27\", \"28\", \"29\", \"30\", \"31\", \"32\", \"33\", \"34\", \"35\", \"36\", \"37\", \"38\", \"39\", \"40\", \"41\", \"42\", \"43\", \"44\", \"45\", \"46\", \"47\", \"49\", \"50\"], \"mode\": \"lines\", \"name\": \"AUC_micro_max\", \"stepped\": true, \"type\": \"scatter\", \"data\": [0.8868708805223957, 0.8903378736863585, 0.9092848688909294, 0.9092848688909294, 0.9092848688909294, 0.9110626466687073, 0.9110626466687073, 0.9110626466687073, 0.9110626466687073, 0.9151153963881236, 0.9151153963881236, 0.9151153963881236, 0.9151153963881236, 0.9151153963881236, 0.9151153963881236, 0.9151153963881236, 0.9151153963881236, 0.9151153963881236, 0.9151153963881236, 0.9151153963881236, 0.9151153963881236, 0.9151153963881236, 0.9151153963881236, 0.9151153963881236, 0.9151153963881236, 0.9151153963881236, 0.9151153963881236, 0.9151153963881236, 0.9151153963881236, 0.9151153963881236, 0.9151153963881236, 0.9151153963881236, 0.9151153963881236, 0.9151153963881236, 0.9151153963881236, 0.9151153963881236, 0.9151153963881236, 0.9151153963881236, 0.9151153963881236, 0.9151153963881236, 0.9151642179369451, 0.9151642179369451, 0.9151642179369451, 0.9151642179369451, 0.9151642179369451, 0.9151642179369451, 0.9151642179369451, 0.9151642179369451, 0.9151642179369451, 0.9151642179369451]}], \"average_precision_score_macro\": [{\"categories\": [\"0\", \"1\", \"2\", \"3\", \"4\", \"5\", \"6\", \"7\", \"8\", \"9\", \"10\", \"11\", \"12\", \"13\", \"14\", \"15\", \"16\", \"17\", \"18\", \"19\", \"20\", \"21\", \"22\", \"23\", \"24\", \"25\", \"26\", \"27\", \"28\", \"29\", \"30\", \"31\", \"32\", \"33\", \"34\", \"35\", \"36\", \"37\", \"38\", \"39\", \"40\", \"41\", \"42\", \"43\", \"44\", \"45\", \"46\", \"47\", \"49\", \"50\"], \"mode\": \"markers\", \"name\": \"average_precision_score_macro\", \"stepped\": false, \"type\": \"scatter\", \"data\": [0.8432572484909002, 0.8407816884795501, 0.8882055878392819, 0.8734235069731889, 0.8691723278662258, 0.884472182093538, 0.8753541693557736, 0.890979019437383, 0.7254193584994242, 0.9032049010959218, 0.840916433970777, 0.876779580214459, 0.8994395749943971, 0.8585195125909747, 0.8890434317796323, 0.8462511693670915, 0.8484581371144625, 0.8832498891780787, 0.8797649331726728, 0.8705575040194187, 0.8851373410280399, 0.8564341203718536, 0.850648935134306, 0.8634598237601944, 0.867928373298194, 0.5, 0.5391383564026129, 0.8670165672389318, 0.870611317482048, 0.8760347584157001, 0.5, 0.8935026348477564, 0.8725921412997305, 0.8815128609575898, 0.872190852348588, 0.8589745548809994, 0.878318222400391, 0.8127025106882044, 0.8504350512698171, 0.8908975491966176, 0.8941912516890597, 0.8781080755108098, 0.8840894198068424, 0.877817760338757, 0.8688845301046744, 0.8795984573996769, 0.855616109393269, 0.861936286695762, 0.8837057726124005, 0.892675282331723]}, {\"categories\": [\"0\", \"1\", \"2\", \"3\", \"4\", \"5\", \"6\", \"7\", \"8\", \"9\", \"10\", \"11\", \"12\", \"13\", \"14\", \"15\", \"16\", \"17\", \"18\", \"19\", \"20\", \"21\", \"22\", \"23\", \"24\", \"25\", \"26\", \"27\", \"28\", \"29\", \"30\", \"31\", \"32\", \"33\", \"34\", \"35\", \"36\", \"37\", \"38\", \"39\", \"40\", \"41\", \"42\", \"43\", \"44\", \"45\", \"46\", \"47\", \"49\", \"50\"], \"mode\": \"lines\", \"name\": \"average_precision_score_macro_max\", \"stepped\": true, \"type\": \"scatter\", \"data\": [0.8432572484909002, 0.8432572484909002, 0.8882055878392819, 0.8882055878392819, 0.8882055878392819, 0.8882055878392819, 0.8882055878392819, 0.890979019437383, 0.890979019437383, 0.9032049010959218, 0.9032049010959218, 0.9032049010959218, 0.9032049010959218, 0.9032049010959218, 0.9032049010959218, 0.9032049010959218, 0.9032049010959218, 0.9032049010959218, 0.9032049010959218, 0.9032049010959218, 0.9032049010959218, 0.9032049010959218, 0.9032049010959218, 0.9032049010959218, 0.9032049010959218, 0.9032049010959218, 0.9032049010959218, 0.9032049010959218, 0.9032049010959218, 0.9032049010959218, 0.9032049010959218, 0.9032049010959218, 0.9032049010959218, 0.9032049010959218, 0.9032049010959218, 0.9032049010959218, 0.9032049010959218, 0.9032049010959218, 0.9032049010959218, 0.9032049010959218, 0.9032049010959218, 0.9032049010959218, 0.9032049010959218, 0.9032049010959218, 0.9032049010959218, 0.9032049010959218, 0.9032049010959218, 0.9032049010959218, 0.9032049010959218, 0.9032049010959218]}], \"accuracy\": [{\"categories\": [\"0\", \"1\", \"2\", \"3\", \"4\", \"5\", \"6\", \"7\", \"8\", \"9\", \"10\", \"11\", \"12\", \"13\", \"14\", \"15\", \"16\", \"17\", \"18\", \"19\", \"20\", \"21\", \"22\", \"23\", \"24\", \"25\", \"26\", \"27\", \"28\", \"29\", \"30\", \"31\", \"32\", \"33\", \"34\", \"35\", \"36\", \"37\", \"38\", \"39\", \"40\", \"41\", \"42\", \"43\", \"44\", \"45\", \"46\", \"47\", \"49\", \"50\"], \"mode\": \"markers\", \"name\": \"accuracy\", \"stepped\": false, \"type\": \"scatter\", \"data\": [0.8152525252525253, 0.8423232323232324, 0.8197979797979797, 0.8334343434343434, 0.8239393939393939, 0.8422222222222222, 0.8332323232323233, 0.8110101010101012, 0.7387878787878789, 0.8151515151515152, 0.7976767676767678, 0.8106060606060606, 0.8241414141414142, 0.7974747474747474, 0.8334343434343434, 0.8195959595959597, 0.7525252525252525, 0.828888888888889, 0.8154545454545454, 0.8151515151515152, 0.793030303030303, 0.8061616161616161, 0.7795959595959596, 0.7793939393939394, 0.805959595959596, 0.6718181818181818, 0.6084848484848485, 0.7971717171717172, 0.7971717171717172, 0.8467676767676767, 0.6718181818181818, 0.8154545454545454, 0.8064646464646466, 0.8065656565656566, 0.8334343434343434, 0.7970707070707072, 0.8287878787878787, 0.761010101010101, 0.8105050505050505, 0.8377777777777778, 0.8378787878787879, 0.8241414141414142, 0.8285858585858585, 0.8374747474747475, 0.8197979797979797, 0.8286868686868688, 0.8193939393939393, 0.8332323232323231, 0.8603030303030303, 0.8332323232323233]}, {\"categories\": [\"0\", \"1\", \"2\", \"3\", \"4\", \"5\", \"6\", \"7\", \"8\", \"9\", \"10\", \"11\", \"12\", \"13\", \"14\", \"15\", \"16\", \"17\", \"18\", \"19\", \"20\", \"21\", \"22\", \"23\", \"24\", \"25\", \"26\", \"27\", \"28\", \"29\", \"30\", \"31\", \"32\", \"33\", \"34\", \"35\", \"36\", \"37\", \"38\", \"39\", \"40\", \"41\", \"42\", \"43\", \"44\", \"45\", \"46\", \"47\", \"49\", \"50\"], \"mode\": \"lines\", \"name\": \"accuracy_max\", \"stepped\": true, \"type\": \"scatter\", \"data\": [0.8152525252525253, 0.8423232323232324, 0.8423232323232324, 0.8423232323232324, 0.8423232323232324, 0.8423232323232324, 0.8423232323232324, 0.8423232323232324, 0.8423232323232324, 0.8423232323232324, 0.8423232323232324, 0.8423232323232324, 0.8423232323232324, 0.8423232323232324, 0.8423232323232324, 0.8423232323232324, 0.8423232323232324, 0.8423232323232324, 0.8423232323232324, 0.8423232323232324, 0.8423232323232324, 0.8423232323232324, 0.8423232323232324, 0.8423232323232324, 0.8423232323232324, 0.8423232323232324, 0.8423232323232324, 0.8423232323232324, 0.8423232323232324, 0.8467676767676767, 0.8467676767676767, 0.8467676767676767, 0.8467676767676767, 0.8467676767676767, 0.8467676767676767, 0.8467676767676767, 0.8467676767676767, 0.8467676767676767, 0.8467676767676767, 0.8467676767676767, 0.8467676767676767, 0.8467676767676767, 0.8467676767676767, 0.8467676767676767, 0.8467676767676767, 0.8467676767676767, 0.8467676767676767, 0.8467676767676767, 0.8603030303030303, 0.8603030303030303]}], \"average_precision_score_weighted\": [{\"categories\": [\"0\", \"1\", \"2\", \"3\", \"4\", \"5\", \"6\", \"7\", \"8\", \"9\", \"10\", \"11\", \"12\", \"13\", \"14\", \"15\", \"16\", \"17\", \"18\", \"19\", \"20\", \"21\", \"22\", \"23\", \"24\", \"25\", \"26\", \"27\", \"28\", \"29\", \"30\", \"31\", \"32\", \"33\", \"34\", \"35\", \"36\", \"37\", \"38\", \"39\", \"40\", \"41\", \"42\", \"43\", \"44\", \"45\", \"46\", \"47\", \"49\", \"50\"], \"mode\": \"markers\", \"name\": \"average_precision_score_weighted\", \"stepped\": false, \"type\": \"scatter\", \"data\": [0.8876436477869738, 0.8876745346282673, 0.9135499734304713, 0.9095814396856203, 0.9050022527982756, 0.9160658608865377, 0.9090835537829494, 0.9168666207049121, 0.7871070766827674, 0.9272610350041987, 0.8810015645705148, 0.9072600094192804, 0.9250614140849626, 0.8956040674842448, 0.9161939209757646, 0.8922615782860405, 0.8860006386799686, 0.9099676577612067, 0.9041291109208462, 0.9027973030964445, 0.9136385190161558, 0.891916744386517, 0.8891317637107548, 0.8947063067972085, 0.9005495149249608, 0.5794036322824201, 0.6094032266918881, 0.8971407525852954, 0.900883527851116, 0.906218204005957, 0.5794036322824201, 0.9168414976605904, 0.8942800002341322, 0.9093039673426027, 0.9072650425406097, 0.8925179256193493, 0.9091543862342893, 0.8533932465284227, 0.8845277540050169, 0.9176548612359532, 0.920930854163634, 0.9126984101620048, 0.9147706781475314, 0.9094881731364947, 0.9056007217713244, 0.9042076043994527, 0.895255932037849, 0.9002592698175087, 0.9155173049168258, 0.9225022099980466]}, {\"categories\": [\"0\", \"1\", \"2\", \"3\", \"4\", \"5\", \"6\", \"7\", \"8\", \"9\", \"10\", \"11\", \"12\", \"13\", \"14\", \"15\", \"16\", \"17\", \"18\", \"19\", \"20\", \"21\", \"22\", \"23\", \"24\", \"25\", \"26\", \"27\", \"28\", \"29\", \"30\", \"31\", \"32\", \"33\", \"34\", \"35\", \"36\", \"37\", \"38\", \"39\", \"40\", \"41\", \"42\", \"43\", \"44\", \"45\", \"46\", \"47\", \"49\", \"50\"], \"mode\": \"lines\", \"name\": \"average_precision_score_weighted_max\", \"stepped\": true, \"type\": \"scatter\", \"data\": [0.8876436477869738, 0.8876745346282673, 0.9135499734304713, 0.9135499734304713, 0.9135499734304713, 0.9160658608865377, 0.9160658608865377, 0.9168666207049121, 0.9168666207049121, 0.9272610350041987, 0.9272610350041987, 0.9272610350041987, 0.9272610350041987, 0.9272610350041987, 0.9272610350041987, 0.9272610350041987, 0.9272610350041987, 0.9272610350041987, 0.9272610350041987, 0.9272610350041987, 0.9272610350041987, 0.9272610350041987, 0.9272610350041987, 0.9272610350041987, 0.9272610350041987, 0.9272610350041987, 0.9272610350041987, 0.9272610350041987, 0.9272610350041987, 0.9272610350041987, 0.9272610350041987, 0.9272610350041987, 0.9272610350041987, 0.9272610350041987, 0.9272610350041987, 0.9272610350041987, 0.9272610350041987, 0.9272610350041987, 0.9272610350041987, 0.9272610350041987, 0.9272610350041987, 0.9272610350041987, 0.9272610350041987, 0.9272610350041987, 0.9272610350041987, 0.9272610350041987, 0.9272610350041987, 0.9272610350041987, 0.9272610350041987, 0.9272610350041987]}], \"precision_score_micro\": [{\"categories\": [\"0\", \"1\", \"2\", \"3\", \"4\", \"5\", \"6\", \"7\", \"8\", \"9\", \"10\", \"11\", \"12\", \"13\", \"14\", \"15\", \"16\", \"17\", \"18\", \"19\", \"20\", \"21\", \"22\", \"23\", \"24\", \"25\", \"26\", \"27\", \"28\", \"29\", \"30\", \"31\", \"32\", \"33\", \"34\", \"35\", \"36\", \"37\", \"38\", \"39\", \"40\", \"41\", \"42\", \"43\", \"44\", \"45\", \"46\", \"47\", \"49\", \"50\"], \"mode\": \"markers\", \"name\": \"precision_score_micro\", \"stepped\": false, \"type\": \"scatter\", \"data\": [0.8152525252525253, 0.8423232323232324, 0.8197979797979797, 0.8334343434343434, 0.8239393939393939, 0.8422222222222222, 0.8332323232323233, 0.8110101010101012, 0.7387878787878789, 0.8151515151515152, 0.7976767676767678, 0.8106060606060606, 0.8241414141414142, 0.7974747474747474, 0.8334343434343434, 0.8195959595959597, 0.7525252525252525, 0.828888888888889, 0.8154545454545454, 0.8151515151515152, 0.793030303030303, 0.8061616161616161, 0.7795959595959596, 0.7793939393939394, 0.805959595959596, 0.6718181818181818, 0.6084848484848485, 0.7971717171717172, 0.7971717171717172, 0.8467676767676767, 0.6718181818181818, 0.8154545454545454, 0.8064646464646466, 0.8065656565656566, 0.8334343434343434, 0.7970707070707072, 0.8287878787878787, 0.761010101010101, 0.8105050505050505, 0.8377777777777778, 0.8378787878787879, 0.8241414141414142, 0.8285858585858585, 0.8374747474747475, 0.8197979797979797, 0.8286868686868688, 0.8193939393939393, 0.8332323232323231, 0.8603030303030303, 0.8332323232323233]}, {\"categories\": [\"0\", \"1\", \"2\", \"3\", \"4\", \"5\", \"6\", \"7\", \"8\", \"9\", \"10\", \"11\", \"12\", \"13\", \"14\", \"15\", \"16\", \"17\", \"18\", \"19\", \"20\", \"21\", \"22\", \"23\", \"24\", \"25\", \"26\", \"27\", \"28\", \"29\", \"30\", \"31\", \"32\", \"33\", \"34\", \"35\", \"36\", \"37\", \"38\", \"39\", \"40\", \"41\", \"42\", \"43\", \"44\", \"45\", \"46\", \"47\", \"49\", \"50\"], \"mode\": \"lines\", \"name\": \"precision_score_micro_max\", \"stepped\": true, \"type\": \"scatter\", \"data\": [0.8152525252525253, 0.8423232323232324, 0.8423232323232324, 0.8423232323232324, 0.8423232323232324, 0.8423232323232324, 0.8423232323232324, 0.8423232323232324, 0.8423232323232324, 0.8423232323232324, 0.8423232323232324, 0.8423232323232324, 0.8423232323232324, 0.8423232323232324, 0.8423232323232324, 0.8423232323232324, 0.8423232323232324, 0.8423232323232324, 0.8423232323232324, 0.8423232323232324, 0.8423232323232324, 0.8423232323232324, 0.8423232323232324, 0.8423232323232324, 0.8423232323232324, 0.8423232323232324, 0.8423232323232324, 0.8423232323232324, 0.8423232323232324, 0.8467676767676767, 0.8467676767676767, 0.8467676767676767, 0.8467676767676767, 0.8467676767676767, 0.8467676767676767, 0.8467676767676767, 0.8467676767676767, 0.8467676767676767, 0.8467676767676767, 0.8467676767676767, 0.8467676767676767, 0.8467676767676767, 0.8467676767676767, 0.8467676767676767, 0.8467676767676767, 0.8467676767676767, 0.8467676767676767, 0.8467676767676767, 0.8603030303030303, 0.8603030303030303]}], \"precision_score_weighted\": [{\"categories\": [\"0\", \"1\", \"2\", \"3\", \"4\", \"5\", \"6\", \"7\", \"8\", \"9\", \"10\", \"11\", \"12\", \"13\", \"14\", \"15\", \"16\", \"17\", \"18\", \"19\", \"20\", \"21\", \"22\", \"23\", \"24\", \"25\", \"26\", \"27\", \"28\", \"29\", \"30\", \"31\", \"32\", \"33\", \"34\", \"35\", \"36\", \"37\", \"38\", \"39\", \"40\", \"41\", \"42\", \"43\", \"44\", \"45\", \"46\", \"47\", \"49\", \"50\"], \"mode\": \"markers\", \"name\": \"precision_score_weighted\", \"stepped\": false, \"type\": \"scatter\", \"data\": [0.8275257581748727, 0.8482190217045582, 0.8346724701374801, 0.843110046234351, 0.8391526191673251, 0.8433795260389806, 0.8391508558952779, 0.8244714041772866, 0.7419953621179112, 0.8227179424111244, 0.8141166943538648, 0.8186726987960384, 0.8462784474808946, 0.8099366979769457, 0.8518726811864067, 0.8201958928107018, 0.7677562653985419, 0.8429048987872518, 0.8272021988159759, 0.8167259701676814, 0.8054813132057713, 0.8078294211027114, 0.8200684163315743, 0.785299817763053, 0.8113123810304337, 0.4615199979593919, 0.5910049086167507, 0.8059520409849357, 0.8142820361899309, 0.8522469758625432, 0.4615199979593919, 0.8295687799854466, 0.8157392909432511, 0.8173019723019722, 0.8358896623323868, 0.8123085485421011, 0.8348510486839362, 0.7777520910047333, 0.8293805572972239, 0.844858138764095, 0.8384348167027905, 0.8346550740925741, 0.8438717803935194, 0.8491243916901811, 0.8313231796227486, 0.8447554549603886, 0.823318782580953, 0.8366189462371281, 0.8636184322213734, 0.8413048365401308]}, {\"categories\": [\"0\", \"1\", \"2\", \"3\", \"4\", \"5\", \"6\", \"7\", \"8\", \"9\", \"10\", \"11\", \"12\", \"13\", \"14\", \"15\", \"16\", \"17\", \"18\", \"19\", \"20\", \"21\", \"22\", \"23\", \"24\", \"25\", \"26\", \"27\", \"28\", \"29\", \"30\", \"31\", \"32\", \"33\", \"34\", \"35\", \"36\", \"37\", \"38\", \"39\", \"40\", \"41\", \"42\", \"43\", \"44\", \"45\", \"46\", \"47\", \"49\", \"50\"], \"mode\": \"lines\", \"name\": \"precision_score_weighted_max\", \"stepped\": true, \"type\": \"scatter\", \"data\": [0.8275257581748727, 0.8482190217045582, 0.8482190217045582, 0.8482190217045582, 0.8482190217045582, 0.8482190217045582, 0.8482190217045582, 0.8482190217045582, 0.8482190217045582, 0.8482190217045582, 0.8482190217045582, 0.8482190217045582, 0.8482190217045582, 0.8482190217045582, 0.8518726811864067, 0.8518726811864067, 0.8518726811864067, 0.8518726811864067, 0.8518726811864067, 0.8518726811864067, 0.8518726811864067, 0.8518726811864067, 0.8518726811864067, 0.8518726811864067, 0.8518726811864067, 0.8518726811864067, 0.8518726811864067, 0.8518726811864067, 0.8518726811864067, 0.8522469758625432, 0.8522469758625432, 0.8522469758625432, 0.8522469758625432, 0.8522469758625432, 0.8522469758625432, 0.8522469758625432, 0.8522469758625432, 0.8522469758625432, 0.8522469758625432, 0.8522469758625432, 0.8522469758625432, 0.8522469758625432, 0.8522469758625432, 0.8522469758625432, 0.8522469758625432, 0.8522469758625432, 0.8522469758625432, 0.8522469758625432, 0.8636184322213734, 0.8636184322213734]}], \"average_precision_score_micro\": [{\"categories\": [\"0\", \"1\", \"2\", \"3\", \"4\", \"5\", \"6\", \"7\", \"8\", \"9\", \"10\", \"11\", \"12\", \"13\", \"14\", \"15\", \"16\", \"17\", \"18\", \"19\", \"20\", \"21\", \"22\", \"23\", \"24\", \"25\", \"26\", \"27\", \"28\", \"29\", \"30\", \"31\", \"32\", \"33\", \"34\", \"35\", \"36\", \"37\", \"38\", \"39\", \"40\", \"41\", \"42\", \"43\", \"44\", \"45\", \"46\", \"47\", \"49\", \"50\"], \"mode\": \"markers\", \"name\": \"average_precision_score_micro\", \"stepped\": false, \"type\": \"scatter\", \"data\": [0.8830400528271929, 0.8907063238903845, 0.9087402901794068, 0.8980139398894131, 0.899411310346431, 0.9130689778077171, 0.9139453790462471, 0.903075024590773, 0.7886905155874786, 0.9191701827888863, 0.8713148405608713, 0.9042722653498944, 0.9098751998725106, 0.8795453849380973, 0.9064695538218718, 0.8913798980896741, 0.8701351525881055, 0.903199310896429, 0.8956710132622183, 0.9056916662632911, 0.8983585984206954, 0.8931333286668627, 0.8613972554038197, 0.8830165534855677, 0.9001047142611386, 0.625610907050301, 0.6204039022959862, 0.8918891475337312, 0.8851053507874838, 0.9073961491592988, 0.625610907050301, 0.9021848241323471, 0.8788713310702135, 0.898115411812013, 0.9087132924515153, 0.883347958162737, 0.9082895887621337, 0.8372302042363822, 0.8729175276169956, 0.9171273465017087, 0.9189279324773072, 0.9160172896184852, 0.9147933165183876, 0.8880142616974089, 0.9040642966389243, 0.8813220800426741, 0.8993788250101783, 0.9060095843168267, 0.9171855201877641, 0.8951895409347654]}, {\"categories\": [\"0\", \"1\", \"2\", \"3\", \"4\", \"5\", \"6\", \"7\", \"8\", \"9\", \"10\", \"11\", \"12\", \"13\", \"14\", \"15\", \"16\", \"17\", \"18\", \"19\", \"20\", \"21\", \"22\", \"23\", \"24\", \"25\", \"26\", \"27\", \"28\", \"29\", \"30\", \"31\", \"32\", \"33\", \"34\", \"35\", \"36\", \"37\", \"38\", \"39\", \"40\", \"41\", \"42\", \"43\", \"44\", \"45\", \"46\", \"47\", \"49\", \"50\"], \"mode\": \"lines\", \"name\": \"average_precision_score_micro_max\", \"stepped\": true, \"type\": \"scatter\", \"data\": [0.8830400528271929, 0.8907063238903845, 0.9087402901794068, 0.9087402901794068, 0.9087402901794068, 0.9130689778077171, 0.9139453790462471, 0.9139453790462471, 0.9139453790462471, 0.9191701827888863, 0.9191701827888863, 0.9191701827888863, 0.9191701827888863, 0.9191701827888863, 0.9191701827888863, 0.9191701827888863, 0.9191701827888863, 0.9191701827888863, 0.9191701827888863, 0.9191701827888863, 0.9191701827888863, 0.9191701827888863, 0.9191701827888863, 0.9191701827888863, 0.9191701827888863, 0.9191701827888863, 0.9191701827888863, 0.9191701827888863, 0.9191701827888863, 0.9191701827888863, 0.9191701827888863, 0.9191701827888863, 0.9191701827888863, 0.9191701827888863, 0.9191701827888863, 0.9191701827888863, 0.9191701827888863, 0.9191701827888863, 0.9191701827888863, 0.9191701827888863, 0.9191701827888863, 0.9191701827888863, 0.9191701827888863, 0.9191701827888863, 0.9191701827888863, 0.9191701827888863, 0.9191701827888863, 0.9191701827888863, 0.9191701827888863, 0.9191701827888863]}], \"matthews_correlation\": [{\"categories\": [\"0\", \"1\", \"2\", \"3\", \"4\", \"5\", \"6\", \"7\", \"8\", \"9\", \"10\", \"11\", \"12\", \"13\", \"14\", \"15\", \"16\", \"17\", \"18\", \"19\", \"20\", \"21\", \"22\", \"23\", \"24\", \"25\", \"26\", \"27\", \"28\", \"29\", \"30\", \"31\", \"32\", \"33\", \"34\", \"35\", \"36\", \"37\", \"38\", \"39\", \"40\", \"41\", \"42\", \"43\", \"44\", \"45\", \"46\", \"47\", \"49\", \"50\"], \"mode\": \"markers\", \"name\": \"matthews_correlation\", \"stepped\": false, \"type\": \"scatter\", \"data\": [0.5655374698442899, 0.622574898977253, 0.5889949611769517, 0.600685311596575, 0.5981088887252912, 0.6140845968656906, 0.5986825710473805, 0.5580284044024222, 0.35367136673733585, 0.5634850744551929, 0.5250748900091131, 0.5530545956520916, 0.6017650150571302, 0.5252992273208783, 0.6161935313187403, 0.5616614088331751, 0.3818441341399179, 0.6005806821735413, 0.5607849651643999, 0.5555537837334983, 0.5034823839425139, 0.5324960670529569, 0.4806312229833651, 0.46712488960962784, 0.536238224874031, 0.0, 0.021491357026147916, 0.5101525899506063, 0.5143579274138619, 0.6354342937555219, 0.0, 0.5633821511651314, 0.5431994685069752, 0.5515083220414294, 0.59488408952675, 0.507791485506097, 0.5917096431484102, 0.44957171282270003, 0.56910598346821, 0.6128759129023488, 0.6021558756808042, 0.5905280434584442, 0.6107364506122261, 0.6265535146770351, 0.5709818231599608, 0.6034677797778855, 0.5625825734558697, 0.5958052678835448, 0.6595273996748501, 0.6016519779605094]}, {\"categories\": [\"0\", \"1\", \"2\", \"3\", \"4\", \"5\", \"6\", \"7\", \"8\", \"9\", \"10\", \"11\", \"12\", \"13\", \"14\", \"15\", \"16\", \"17\", \"18\", \"19\", \"20\", \"21\", \"22\", \"23\", \"24\", \"25\", \"26\", \"27\", \"28\", \"29\", \"30\", \"31\", \"32\", \"33\", \"34\", \"35\", \"36\", \"37\", \"38\", \"39\", \"40\", \"41\", \"42\", \"43\", \"44\", \"45\", \"46\", \"47\", \"49\", \"50\"], \"mode\": \"lines\", \"name\": \"matthews_correlation_max\", \"stepped\": true, \"type\": \"scatter\", \"data\": [0.5655374698442899, 0.622574898977253, 0.622574898977253, 0.622574898977253, 0.622574898977253, 0.622574898977253, 0.622574898977253, 0.622574898977253, 0.622574898977253, 0.622574898977253, 0.622574898977253, 0.622574898977253, 0.622574898977253, 0.622574898977253, 0.622574898977253, 0.622574898977253, 0.622574898977253, 0.622574898977253, 0.622574898977253, 0.622574898977253, 0.622574898977253, 0.622574898977253, 0.622574898977253, 0.622574898977253, 0.622574898977253, 0.622574898977253, 0.622574898977253, 0.622574898977253, 0.622574898977253, 0.6354342937555219, 0.6354342937555219, 0.6354342937555219, 0.6354342937555219, 0.6354342937555219, 0.6354342937555219, 0.6354342937555219, 0.6354342937555219, 0.6354342937555219, 0.6354342937555219, 0.6354342937555219, 0.6354342937555219, 0.6354342937555219, 0.6354342937555219, 0.6354342937555219, 0.6354342937555219, 0.6354342937555219, 0.6354342937555219, 0.6354342937555219, 0.6595273996748501, 0.6595273996748501]}], \"weighted_accuracy\": [{\"categories\": [\"0\", \"1\", \"2\", \"3\", \"4\", \"5\", \"6\", \"7\", \"8\", \"9\", \"10\", \"11\", \"12\", \"13\", \"14\", \"15\", \"16\", \"17\", \"18\", \"19\", \"20\", \"21\", \"22\", \"23\", \"24\", \"25\", \"26\", \"27\", \"28\", \"29\", \"30\", \"31\", \"32\", \"33\", \"34\", \"35\", \"36\", \"37\", \"38\", \"39\", \"40\", \"41\", \"42\", \"43\", \"44\", \"45\", \"46\", \"47\", \"49\", \"50\"], \"mode\": \"markers\", \"name\": \"weighted_accuracy\", \"stepped\": false, \"type\": \"scatter\", \"data\": [0.8400576111249451, 0.8646636524997128, 0.8436328373554917, 0.8694594808178099, 0.8402140878810689, 0.8749065134518027, 0.8624207465297247, 0.8426265584424477, 0.7858847827066872, 0.8398785096433594, 0.8293082619692388, 0.8399818092164445, 0.8496943138516599, 0.8319780427370311, 0.867443531168696, 0.8514647832177701, 0.8208515875847546, 0.8581298670805658, 0.8484917928033292, 0.8419651860282599, 0.8375316617274985, 0.8358034701528224, 0.8442010306882448, 0.8261122943793872, 0.8372026427914712, 0.7813792407521, 0.6739224756846973, 0.8460913214950525, 0.8449899651609469, 0.869198367690705, 0.7813792407521, 0.8575297224443224, 0.8415879497468606, 0.8362174676444191, 0.861942058125352, 0.8475564717432589, 0.8572767178352059, 0.7809101610317728, 0.8293595325899638, 0.8687022716826052, 0.8704676574577934, 0.8450353823523968, 0.8400168467719681, 0.8532192358371731, 0.8482361334157551, 0.8616771325377217, 0.8518788519334086, 0.8600058844305398, 0.8879454269370941, 0.8634358987300317]}, {\"categories\": [\"0\", \"1\", \"2\", \"3\", \"4\", \"5\", \"6\", \"7\", \"8\", \"9\", \"10\", \"11\", \"12\", \"13\", \"14\", \"15\", \"16\", \"17\", \"18\", \"19\", \"20\", \"21\", \"22\", \"23\", \"24\", \"25\", \"26\", \"27\", \"28\", \"29\", \"30\", \"31\", \"32\", \"33\", \"34\", \"35\", \"36\", \"37\", \"38\", \"39\", \"40\", \"41\", \"42\", \"43\", \"44\", \"45\", \"46\", \"47\", \"49\", \"50\"], \"mode\": \"lines\", \"name\": \"weighted_accuracy_max\", \"stepped\": true, \"type\": \"scatter\", \"data\": [0.8400576111249451, 0.8646636524997128, 0.8646636524997128, 0.8694594808178099, 0.8694594808178099, 0.8749065134518027, 0.8749065134518027, 0.8749065134518027, 0.8749065134518027, 0.8749065134518027, 0.8749065134518027, 0.8749065134518027, 0.8749065134518027, 0.8749065134518027, 0.8749065134518027, 0.8749065134518027, 0.8749065134518027, 0.8749065134518027, 0.8749065134518027, 0.8749065134518027, 0.8749065134518027, 0.8749065134518027, 0.8749065134518027, 0.8749065134518027, 0.8749065134518027, 0.8749065134518027, 0.8749065134518027, 0.8749065134518027, 0.8749065134518027, 0.8749065134518027, 0.8749065134518027, 0.8749065134518027, 0.8749065134518027, 0.8749065134518027, 0.8749065134518027, 0.8749065134518027, 0.8749065134518027, 0.8749065134518027, 0.8749065134518027, 0.8749065134518027, 0.8749065134518027, 0.8749065134518027, 0.8749065134518027, 0.8749065134518027, 0.8749065134518027, 0.8749065134518027, 0.8749065134518027, 0.8749065134518027, 0.8879454269370941, 0.8879454269370941]}], \"AUC_macro\": [{\"categories\": [\"0\", \"1\", \"2\", \"3\", \"4\", \"5\", \"6\", \"7\", \"8\", \"9\", \"10\", \"11\", \"12\", \"13\", \"14\", \"15\", \"16\", \"17\", \"18\", \"19\", \"20\", \"21\", \"22\", \"23\", \"24\", \"25\", \"26\", \"27\", \"28\", \"29\", \"30\", \"31\", \"32\", \"33\", \"34\", \"35\", \"36\", \"37\", \"38\", \"39\", \"40\", \"41\", \"42\", \"43\", \"44\", \"45\", \"46\", \"47\", \"49\", \"50\"], \"mode\": \"markers\", \"name\": \"AUC_macro\", \"stepped\": false, \"type\": \"scatter\", \"data\": [0.8814381248785852, 0.8821854557779437, 0.8982381005881168, 0.8992872840642677, 0.8954523257548062, 0.9045284505321556, 0.8990565713687868, 0.9043502205733045, 0.7418314727434137, 0.9109280194510188, 0.8549325421997193, 0.8889588289295783, 0.9085220363650736, 0.8862324861608597, 0.9014075298987285, 0.8775593801607258, 0.8698724392900541, 0.9000589243356492, 0.8832527214247893, 0.8906734237979034, 0.9011961157372201, 0.8766545321469532, 0.8634740055281414, 0.8796516552315279, 0.8763952408128179, 0.5, 0.48446902120931423, 0.8734345760863225, 0.8746484036775117, 0.898431447009197, 0.5, 0.9075227464388274, 0.8884241980367413, 0.8989133751399091, 0.8962327670460063, 0.8658589534696366, 0.902840945171086, 0.8141809654829132, 0.8532645935300982, 0.9045178280518901, 0.907002371387098, 0.9023192180033425, 0.9046129274794776, 0.9036011282434095, 0.8926027469549982, 0.8990002300509234, 0.8785959188629235, 0.8913396557311325, 0.906333953773484, 0.9142930724231396]}, {\"categories\": [\"0\", \"1\", \"2\", \"3\", \"4\", \"5\", \"6\", \"7\", \"8\", \"9\", \"10\", \"11\", \"12\", \"13\", \"14\", \"15\", \"16\", \"17\", \"18\", \"19\", \"20\", \"21\", \"22\", \"23\", \"24\", \"25\", \"26\", \"27\", \"28\", \"29\", \"30\", \"31\", \"32\", \"33\", \"34\", \"35\", \"36\", \"37\", \"38\", \"39\", \"40\", \"41\", \"42\", \"43\", \"44\", \"45\", \"46\", \"47\", \"49\", \"50\"], \"mode\": \"lines\", \"name\": \"AUC_macro_max\", \"stepped\": true, \"type\": \"scatter\", \"data\": [0.8814381248785852, 0.8821854557779437, 0.8982381005881168, 0.8992872840642677, 0.8992872840642677, 0.9045284505321556, 0.9045284505321556, 0.9045284505321556, 0.9045284505321556, 0.9109280194510188, 0.9109280194510188, 0.9109280194510188, 0.9109280194510188, 0.9109280194510188, 0.9109280194510188, 0.9109280194510188, 0.9109280194510188, 0.9109280194510188, 0.9109280194510188, 0.9109280194510188, 0.9109280194510188, 0.9109280194510188, 0.9109280194510188, 0.9109280194510188, 0.9109280194510188, 0.9109280194510188, 0.9109280194510188, 0.9109280194510188, 0.9109280194510188, 0.9109280194510188, 0.9109280194510188, 0.9109280194510188, 0.9109280194510188, 0.9109280194510188, 0.9109280194510188, 0.9109280194510188, 0.9109280194510188, 0.9109280194510188, 0.9109280194510188, 0.9109280194510188, 0.9109280194510188, 0.9109280194510188, 0.9109280194510188, 0.9109280194510188, 0.9109280194510188, 0.9109280194510188, 0.9109280194510188, 0.9109280194510188, 0.9109280194510188, 0.9142930724231396]}], \"f1_score_weighted\": [{\"categories\": [\"0\", \"1\", \"2\", \"3\", \"4\", \"5\", \"6\", \"7\", \"8\", \"9\", \"10\", \"11\", \"12\", \"13\", \"14\", \"15\", \"16\", \"17\", \"18\", \"19\", \"20\", \"21\", \"22\", \"23\", \"24\", \"25\", \"26\", \"27\", \"28\", \"29\", \"30\", \"31\", \"32\", \"33\", \"34\", \"35\", \"36\", \"37\", \"38\", \"39\", \"40\", \"41\", \"42\", \"43\", \"44\", \"45\", \"46\", \"47\", \"49\", \"50\"], \"mode\": \"markers\", \"name\": \"f1_score_weighted\", \"stepped\": false, \"type\": \"scatter\", \"data\": [0.8141755111449767, 0.8413937475135016, 0.8184712477814923, 0.8271670228452426, 0.8261252448710337, 0.8379469891219891, 0.8302092275890903, 0.8053211559771796, 0.7269478973445835, 0.8131693708408114, 0.7905301317195809, 0.8069228840158658, 0.8224625205275459, 0.7897985488662528, 0.8259182565378443, 0.8158939952737636, 0.7181243884244157, 0.8238199586896187, 0.8093539414409573, 0.8139160826102003, 0.7807387351174346, 0.8039620229971082, 0.7487693220525455, 0.7647457060125842, 0.8023935012575439, 0.5444279138941355, 0.5729286320319422, 0.7841485036037646, 0.7853592227387083, 0.8461924841467571, 0.5444279138941355, 0.8056482887185936, 0.7990640178277308, 0.8006639636106895, 0.8304380620266538, 0.7837002697443071, 0.8264163446072181, 0.7656304716218731, 0.8130867924528301, 0.833428172632894, 0.8336361819998184, 0.8238076199084329, 0.8307354691949037, 0.8391576255704061, 0.8170846644253604, 0.8229700861221823, 0.8165376970213994, 0.8315718133143216, 0.8575189483215866, 0.8295508414663546]}, {\"categories\": [\"0\", \"1\", \"2\", \"3\", \"4\", \"5\", \"6\", \"7\", \"8\", \"9\", \"10\", \"11\", \"12\", \"13\", \"14\", \"15\", \"16\", \"17\", \"18\", \"19\", \"20\", \"21\", \"22\", \"23\", \"24\", \"25\", \"26\", \"27\", \"28\", \"29\", \"30\", \"31\", \"32\", \"33\", \"34\", \"35\", \"36\", \"37\", \"38\", \"39\", \"40\", \"41\", \"42\", \"43\", \"44\", \"45\", \"46\", \"47\", \"49\", \"50\"], \"mode\": \"lines\", \"name\": \"f1_score_weighted_max\", \"stepped\": true, \"type\": \"scatter\", \"data\": [0.8141755111449767, 0.8413937475135016, 0.8413937475135016, 0.8413937475135016, 0.8413937475135016, 0.8413937475135016, 0.8413937475135016, 0.8413937475135016, 0.8413937475135016, 0.8413937475135016, 0.8413937475135016, 0.8413937475135016, 0.8413937475135016, 0.8413937475135016, 0.8413937475135016, 0.8413937475135016, 0.8413937475135016, 0.8413937475135016, 0.8413937475135016, 0.8413937475135016, 0.8413937475135016, 0.8413937475135016, 0.8413937475135016, 0.8413937475135016, 0.8413937475135016, 0.8413937475135016, 0.8413937475135016, 0.8413937475135016, 0.8413937475135016, 0.8461924841467571, 0.8461924841467571, 0.8461924841467571, 0.8461924841467571, 0.8461924841467571, 0.8461924841467571, 0.8461924841467571, 0.8461924841467571, 0.8461924841467571, 0.8461924841467571, 0.8461924841467571, 0.8461924841467571, 0.8461924841467571, 0.8461924841467571, 0.8461924841467571, 0.8461924841467571, 0.8461924841467571, 0.8461924841467571, 0.8461924841467571, 0.8575189483215866, 0.8575189483215866]}], \"recall_score_weighted\": [{\"categories\": [\"0\", \"1\", \"2\", \"3\", \"4\", \"5\", \"6\", \"7\", \"8\", \"9\", \"10\", \"11\", \"12\", \"13\", \"14\", \"15\", \"16\", \"17\", \"18\", \"19\", \"20\", \"21\", \"22\", \"23\", \"24\", \"25\", \"26\", \"27\", \"28\", \"29\", \"30\", \"31\", \"32\", \"33\", \"34\", \"35\", \"36\", \"37\", \"38\", \"39\", \"40\", \"41\", \"42\", \"43\", \"44\", \"45\", \"46\", \"47\", \"49\", \"50\"], \"mode\": \"markers\", \"name\": \"recall_score_weighted\", \"stepped\": false, \"type\": \"scatter\", \"data\": [0.8152525252525253, 0.8423232323232324, 0.8197979797979797, 0.8334343434343434, 0.8239393939393939, 0.8422222222222222, 0.8332323232323233, 0.8110101010101012, 0.7387878787878789, 0.8151515151515152, 0.7976767676767678, 0.8106060606060606, 0.8241414141414142, 0.7974747474747474, 0.8334343434343434, 0.8195959595959597, 0.7525252525252525, 0.828888888888889, 0.8154545454545454, 0.8151515151515152, 0.793030303030303, 0.8061616161616161, 0.7795959595959596, 0.7793939393939394, 0.805959595959596, 0.6718181818181818, 0.6084848484848485, 0.7971717171717172, 0.7971717171717172, 0.8467676767676767, 0.6718181818181818, 0.8154545454545454, 0.8064646464646466, 0.8065656565656566, 0.8334343434343434, 0.7970707070707072, 0.8287878787878787, 0.761010101010101, 0.8105050505050505, 0.8377777777777778, 0.8378787878787879, 0.8241414141414142, 0.8285858585858585, 0.8374747474747475, 0.8197979797979797, 0.8286868686868688, 0.8193939393939393, 0.8332323232323231, 0.8603030303030303, 0.8332323232323233]}, {\"categories\": [\"0\", \"1\", \"2\", \"3\", \"4\", \"5\", \"6\", \"7\", \"8\", \"9\", \"10\", \"11\", \"12\", \"13\", \"14\", \"15\", \"16\", \"17\", \"18\", \"19\", \"20\", \"21\", \"22\", \"23\", \"24\", \"25\", \"26\", \"27\", \"28\", \"29\", \"30\", \"31\", \"32\", \"33\", \"34\", \"35\", \"36\", \"37\", \"38\", \"39\", \"40\", \"41\", \"42\", \"43\", \"44\", \"45\", \"46\", \"47\", \"49\", \"50\"], \"mode\": \"lines\", \"name\": \"recall_score_weighted_max\", \"stepped\": true, \"type\": \"scatter\", \"data\": [0.8152525252525253, 0.8423232323232324, 0.8423232323232324, 0.8423232323232324, 0.8423232323232324, 0.8423232323232324, 0.8423232323232324, 0.8423232323232324, 0.8423232323232324, 0.8423232323232324, 0.8423232323232324, 0.8423232323232324, 0.8423232323232324, 0.8423232323232324, 0.8423232323232324, 0.8423232323232324, 0.8423232323232324, 0.8423232323232324, 0.8423232323232324, 0.8423232323232324, 0.8423232323232324, 0.8423232323232324, 0.8423232323232324, 0.8423232323232324, 0.8423232323232324, 0.8423232323232324, 0.8423232323232324, 0.8423232323232324, 0.8423232323232324, 0.8467676767676767, 0.8467676767676767, 0.8467676767676767, 0.8467676767676767, 0.8467676767676767, 0.8467676767676767, 0.8467676767676767, 0.8467676767676767, 0.8467676767676767, 0.8467676767676767, 0.8467676767676767, 0.8467676767676767, 0.8467676767676767, 0.8467676767676767, 0.8467676767676767, 0.8467676767676767, 0.8467676767676767, 0.8467676767676767, 0.8467676767676767, 0.8603030303030303, 0.8603030303030303]}]}, \"metricName\": null, \"primaryMetricName\": \"accuracy\", \"showLegend\": false}, \"run_metrics\": [{\"name\": \"experiment_status\", \"run_id\": \"AutoML_e9ff04b4-4463-4aee-86f2-bffb2f48e3d6\", \"categories\": [0, 1, 2, 3, 4, 5, 6, 7, 8, 9, 10, 11, 12, 13], \"series\": [{\"data\": [\"DatasetEvaluation\", \"FeaturesGeneration\", \"DatasetFeaturization\", \"DatasetFeaturizationCompleted\", \"DatasetCrossValidationSplit\", \"ModelSelection\", \"BestRunExplainModel\", \"ModelExplanationDataSetSetup\", \"PickSurrogateModel\", \"EngineeredFeatureExplanations\", \"EngineeredFeatureExplanations\", \"RawFeaturesExplanations\", \"RawFeaturesExplanations\", \"BestRunExplainModel\"]}]}, {\"name\": \"experiment_status_description\", \"run_id\": \"AutoML_e9ff04b4-4463-4aee-86f2-bffb2f48e3d6\", \"categories\": [0, 1, 2, 3, 4, 5, 6, 7, 8, 9, 10, 11, 12, 13], \"series\": [{\"data\": [\"Gathering dataset statistics.\", \"Generating features for the dataset.\", \"Beginning to fit featurizers and featurize the dataset.\", \"Completed fit featurizers and featurizing the dataset.\", \"Generating individually featurized CV splits.\", \"Beginning model selection.\", \"Best run model explanations started\", \"Model explanations data setup completed\", \"Choosing LightGBM as the surrogate model for explanations\", \"Computation of engineered features started\", \"Computation of engineered features completed\", \"Computation of raw features started\", \"Computation of raw features completed\", \"Best run model explanations completed\"]}]}, {\"name\": \"recall_score_weighted\", \"run_id\": \"AutoML_e9ff04b4-4463-4aee-86f2-bffb2f48e3d6\", \"categories\": [0], \"series\": [{\"data\": [0.8603030303030303]}]}, {\"name\": \"AUC_weighted\", \"run_id\": \"AutoML_e9ff04b4-4463-4aee-86f2-bffb2f48e3d6\", \"categories\": [0], \"series\": [{\"data\": [0.906333953773484]}]}, {\"name\": \"AUC_micro\", \"run_id\": \"AutoML_e9ff04b4-4463-4aee-86f2-bffb2f48e3d6\", \"categories\": [0], \"series\": [{\"data\": [0.9139506682991531]}]}, {\"name\": \"recall_score_micro\", \"run_id\": \"AutoML_e9ff04b4-4463-4aee-86f2-bffb2f48e3d6\", \"categories\": [0], \"series\": [{\"data\": [0.8603030303030303]}]}, {\"name\": \"norm_macro_recall\", \"run_id\": \"AutoML_e9ff04b4-4463-4aee-86f2-bffb2f48e3d6\", \"categories\": [0], \"series\": [{\"data\": [0.6309278015539874]}]}, {\"name\": \"average_precision_score_micro\", \"run_id\": \"AutoML_e9ff04b4-4463-4aee-86f2-bffb2f48e3d6\", \"categories\": [0], \"series\": [{\"data\": [0.9171855201877641]}]}, {\"name\": \"weighted_accuracy\", \"run_id\": \"AutoML_e9ff04b4-4463-4aee-86f2-bffb2f48e3d6\", \"categories\": [0], \"series\": [{\"data\": [0.8879454269370941]}]}, {\"name\": \"average_precision_score_weighted\", \"run_id\": \"AutoML_e9ff04b4-4463-4aee-86f2-bffb2f48e3d6\", \"categories\": [0], \"series\": [{\"data\": [0.9155173049168258]}]}, {\"name\": \"f1_score_macro\", \"run_id\": \"AutoML_e9ff04b4-4463-4aee-86f2-bffb2f48e3d6\", \"categories\": [0], \"series\": [{\"data\": [0.824795180072068]}]}, {\"name\": \"balanced_accuracy\", \"run_id\": \"AutoML_e9ff04b4-4463-4aee-86f2-bffb2f48e3d6\", \"categories\": [0], \"series\": [{\"data\": [0.8154639007769937]}]}, {\"name\": \"f1_score_micro\", \"run_id\": \"AutoML_e9ff04b4-4463-4aee-86f2-bffb2f48e3d6\", \"categories\": [0], \"series\": [{\"data\": [0.8603030303030303]}]}, {\"name\": \"average_precision_score_macro\", \"run_id\": \"AutoML_e9ff04b4-4463-4aee-86f2-bffb2f48e3d6\", \"categories\": [0], \"series\": [{\"data\": [0.8837057726124005]}]}, {\"name\": \"recall_score_macro\", \"run_id\": \"AutoML_e9ff04b4-4463-4aee-86f2-bffb2f48e3d6\", \"categories\": [0], \"series\": [{\"data\": [0.8154639007769937]}]}, {\"name\": \"AUC_macro\", \"run_id\": \"AutoML_e9ff04b4-4463-4aee-86f2-bffb2f48e3d6\", \"categories\": [0], \"series\": [{\"data\": [0.906333953773484]}]}, {\"name\": \"log_loss\", \"run_id\": \"AutoML_e9ff04b4-4463-4aee-86f2-bffb2f48e3d6\", \"categories\": [0], \"series\": [{\"data\": [0.37314568220901584]}]}, {\"name\": \"precision_score_macro\", \"run_id\": \"AutoML_e9ff04b4-4463-4aee-86f2-bffb2f48e3d6\", \"categories\": [0], \"series\": [{\"data\": [0.845395057012704]}]}, {\"name\": \"accuracy\", \"run_id\": \"AutoML_e9ff04b4-4463-4aee-86f2-bffb2f48e3d6\", \"categories\": [0], \"series\": [{\"data\": [0.8603030303030303]}]}, {\"name\": \"precision_score_micro\", \"run_id\": \"AutoML_e9ff04b4-4463-4aee-86f2-bffb2f48e3d6\", \"categories\": [0], \"series\": [{\"data\": [0.8603030303030303]}]}, {\"name\": \"matthews_correlation\", \"run_id\": \"AutoML_e9ff04b4-4463-4aee-86f2-bffb2f48e3d6\", \"categories\": [0], \"series\": [{\"data\": [0.6595273996748501]}]}, {\"name\": \"precision_score_weighted\", \"run_id\": \"AutoML_e9ff04b4-4463-4aee-86f2-bffb2f48e3d6\", \"categories\": [0], \"series\": [{\"data\": [0.8636184322213734]}]}, {\"name\": \"f1_score_weighted\", \"run_id\": \"AutoML_e9ff04b4-4463-4aee-86f2-bffb2f48e3d6\", \"categories\": [0], \"series\": [{\"data\": [0.8575189483215866]}]}], \"run_logs\": \"\\nRun is completed.\", \"graph\": {}, \"widget_settings\": {\"childWidgetDisplay\": \"popup\", \"send_telemetry\": false, \"log_level\": \"INFO\", \"sdk_version\": \"1.20.0\"}, \"loading\": false}"
     },
     "metadata": {},
     "output_type": "display_data"
    },
    {
     "name": "stdout",
     "output_type": "stream",
     "text": [
      "\n",
      "Current status: FeaturesGeneration. Generating features for the dataset.\n",
      "Current status: ModelSelection. Beginning model selection.\n",
      "\n",
      "****************************************************************************************************\n",
      "DATA GUARDRAILS: \n",
      "\n",
      "TYPE:         Class balancing detection\n",
      "STATUS:       PASSED\n",
      "DESCRIPTION:  Your inputs were analyzed, and all classes are balanced in your training data.\n",
      "              Learn more about imbalanced data: https://aka.ms/AutomatedMLImbalancedData\n",
      "\n",
      "****************************************************************************************************\n",
      "\n",
      "TYPE:         Missing feature values imputation\n",
      "STATUS:       PASSED\n",
      "DESCRIPTION:  No feature missing values were detected in the training data.\n",
      "              Learn more about missing value imputation: https://aka.ms/AutomatedMLFeaturization\n",
      "\n",
      "****************************************************************************************************\n",
      "\n",
      "TYPE:         High cardinality feature detection\n",
      "STATUS:       PASSED\n",
      "DESCRIPTION:  Your inputs were analyzed, and no high cardinality features were detected.\n",
      "              Learn more about high cardinality feature handling: https://aka.ms/AutomatedMLFeaturization\n",
      "\n",
      "****************************************************************************************************\n",
      "\n",
      "****************************************************************************************************\n",
      "ITERATION: The iteration being evaluated.\n",
      "PIPELINE: A summary description of the pipeline being evaluated.\n",
      "DURATION: Time taken for the current iteration.\n",
      "METRIC: The result of computing score on the fitted pipeline.\n",
      "BEST: The best observed score thus far.\n",
      "****************************************************************************************************\n",
      "\n",
      " ITERATION   PIPELINE                                       DURATION      METRIC      BEST\n",
      "         5   StandardScalerWrapper XGBoostClassifier        0:00:48       0.8422    0.8422\n",
      "         4   MinMaxScaler RandomForest                      0:00:53       0.8239    0.8422\n",
      "         1   MaxAbsScaler XGBoostClassifier                 0:00:56       0.8423    0.8423\n",
      "         8   RobustScaler SVM                               0:00:51       0.7388    0.8423\n",
      "         9   RobustScaler RandomForest                      0:01:02       0.8152    0.8423\n",
      "         0   MaxAbsScaler LightGBM                          0:03:31       0.8153    0.8423\n",
      "         2   MinMaxScaler RandomForest                      0:03:23       0.8198    0.8423\n",
      "         3   MinMaxScaler RandomForest                      0:03:32       0.8334    0.8423\n",
      "         6   MinMaxScaler LightGBM                          0:03:30       0.8332    0.8423\n",
      "         7   MaxAbsScaler LightGBM                          0:03:29       0.8110    0.8423\n",
      "        10   StandardScalerWrapper LogisticRegression       0:00:50       0.7977    0.8423\n",
      "        11   SparseNormalizer XGBoostClassifier             0:00:48       0.8106    0.8423\n",
      "        13   MaxAbsScaler LightGBM                          0:00:49       0.7975    0.8423\n",
      "        12   StandardScalerWrapper RandomForest             0:00:58       0.8241    0.8423\n",
      "        14   RobustScaler ExtremeRandomTrees                0:00:49       0.8334    0.8423\n",
      "        15   SparseNormalizer XGBoostClassifier             0:00:51       0.8196    0.8423\n",
      "        16   StandardScalerWrapper LightGBM                 0:00:53       0.7525    0.8423\n",
      "        17   StandardScalerWrapper LightGBM                 0:00:53       0.8289    0.8423\n",
      "        18   StandardScalerWrapper LightGBM                 0:00:46       0.8155    0.8423\n",
      "        19   MinMaxScaler LightGBM                          0:00:52       0.8152    0.8423\n",
      "        20   MinMaxScaler LightGBM                          0:00:50       0.7930    0.8423\n",
      "        21   MaxAbsScaler LightGBM                          0:00:50       0.8062    0.8423\n",
      "        22   RobustScaler ExtremeRandomTrees                0:00:51       0.7796    0.8423\n",
      "        23   MaxAbsScaler LightGBM                          0:00:49       0.7794    0.8423\n",
      "        24   SparseNormalizer XGBoostClassifier             0:00:47       0.8060    0.8423\n",
      "        25   SparseNormalizer XGBoostClassifier             0:00:53       0.6718    0.8423\n",
      "        26   RobustScaler KNN                               0:00:49       0.6085    0.8423\n",
      "        27   SparseNormalizer XGBoostClassifier             0:00:49       0.7972    0.8423\n",
      "        28   SparseNormalizer LightGBM                      0:00:50       0.7972    0.8423\n",
      "        29   StandardScalerWrapper LightGBM                 0:00:43       0.8468    0.8468\n",
      "        30   StandardScalerWrapper XGBoostClassifier        0:01:02       0.6718    0.8468\n",
      "        31   StandardScalerWrapper XGBoostClassifier        0:00:58       0.8155    0.8468\n",
      "        32   StandardScalerWrapper XGBoostClassifier        0:00:48       0.8065    0.8468\n",
      "        33   StandardScalerWrapper LightGBM                 0:00:47       0.8066    0.8468\n",
      "        35   SparseNormalizer LightGBM                      0:00:46       0.7971    0.8468\n",
      "        34   RobustScaler LightGBM                          0:00:58       0.8334    0.8468\n",
      "        36   MaxAbsScaler LightGBM                          0:00:54       0.8288    0.8468\n",
      "        37   SparseNormalizer ExtremeRandomTrees            0:00:56       0.7610    0.8468\n",
      "        38   MaxAbsScaler ExtremeRandomTrees                0:00:48       0.8105    0.8468\n",
      "        39   RobustScaler GradientBoosting                  0:00:45       0.8378    0.8468\n",
      "        40   RobustScaler LightGBM                          0:00:58       0.8379    0.8468\n",
      "        41   RobustScaler RandomForest                      0:00:45       0.8241    0.8468\n",
      "        42   StandardScalerWrapper RandomForest             0:00:51       0.8286    0.8468\n",
      "        43   MaxAbsScaler RandomForest                      0:00:55       0.8375    0.8468\n",
      "        44   MinMaxScaler LightGBM                          0:00:49       0.8198    0.8468\n",
      "        45   RobustScaler LightGBM                          0:00:49       0.8287    0.8468\n",
      "        46   SparseNormalizer XGBoostClassifier             0:00:32       0.8194    0.8468\n",
      "        47   MaxAbsScaler LightGBM                          0:00:27       0.8332    0.8468\n",
      "        48                                                  0:00:17          nan    0.8468\n",
      "        49    VotingEnsemble                                0:01:36       0.8603    0.8603\n",
      "        50    StackEnsemble                                 0:01:44       0.8332    0.8603\n"
     ]
    },
    {
     "data": {
      "text/plain": [
       "{'runId': 'AutoML_e9ff04b4-4463-4aee-86f2-bffb2f48e3d6',\n",
       " 'target': 'auto-ml',\n",
       " 'status': 'Completed',\n",
       " 'startTimeUtc': '2021-02-04T23:02:58.92608Z',\n",
       " 'endTimeUtc': '2021-02-04T23:26:50.062009Z',\n",
       " 'properties': {'num_iterations': '1000',\n",
       "  'training_type': 'TrainFull',\n",
       "  'acquisition_function': 'EI',\n",
       "  'primary_metric': 'accuracy',\n",
       "  'train_split': '0',\n",
       "  'acquisition_parameter': '0',\n",
       "  'num_cross_validation': '5',\n",
       "  'target': 'auto-ml',\n",
       "  'AMLSettingsJsonString': '{\"path\":null,\"name\":\"AutoML\",\"subscription_id\":\"48a74bb7-9950-4cc1-9caa-5d50f995cc55\",\"resource_group\":\"aml-quickstarts-137278\",\"workspace_name\":\"quick-starts-ws-137278\",\"region\":\"southcentralus\",\"compute_target\":\"auto-ml\",\"spark_service\":null,\"azure_service\":\"remote\",\"many_models\":false,\"pipeline_fetch_max_batch_size\":1,\"iterations\":1000,\"primary_metric\":\"accuracy\",\"task_type\":\"classification\",\"data_script\":null,\"validation_size\":0.0,\"n_cross_validations\":5,\"y_min\":null,\"y_max\":null,\"num_classes\":null,\"featurization\":\"auto\",\"_ignore_package_version_incompatibilities\":false,\"is_timeseries\":false,\"max_cores_per_iteration\":1,\"max_concurrent_iterations\":6,\"iteration_timeout_minutes\":null,\"mem_in_mb\":null,\"enforce_time_on_windows\":false,\"experiment_timeout_minutes\":120,\"experiment_exit_score\":null,\"whitelist_models\":null,\"blacklist_algos\":[\"TensorFlowLinearClassifier\",\"TensorFlowDNN\"],\"supported_models\":[\"LogisticRegression\",\"DecisionTree\",\"TensorFlowDNN\",\"SVM\",\"BernoulliNaiveBayes\",\"KNN\",\"RandomForest\",\"ExtremeRandomTrees\",\"LinearSVM\",\"XGBoostClassifier\",\"TensorFlowLinearClassifier\",\"GradientBoosting\",\"SGD\",\"AveragedPerceptronClassifier\",\"LightGBM\",\"MultinomialNaiveBayes\"],\"auto_blacklist\":true,\"blacklist_samples_reached\":false,\"exclude_nan_labels\":true,\"verbosity\":20,\"_debug_log\":\"azureml_automl.log\",\"show_warnings\":false,\"model_explainability\":true,\"service_url\":null,\"sdk_url\":null,\"sdk_packages\":null,\"enable_onnx_compatible_models\":false,\"enable_split_onnx_featurizer_estimator_models\":false,\"vm_type\":\"STANDARD_D2_V2\",\"telemetry_verbosity\":20,\"send_telemetry\":true,\"enable_dnn\":false,\"scenario\":\"SDK-1.13.0\",\"environment_label\":null,\"force_text_dnn\":false,\"enable_feature_sweeping\":true,\"enable_early_stopping\":true,\"early_stopping_n_iters\":10,\"metrics\":null,\"enable_ensembling\":true,\"enable_stack_ensembling\":true,\"ensemble_iterations\":15,\"enable_tf\":false,\"enable_subsampling\":null,\"subsample_seed\":null,\"enable_nimbusml\":false,\"enable_streaming\":false,\"force_streaming\":false,\"track_child_runs\":true,\"allowed_private_models\":[],\"label_column_name\":\"DEATH_EVENT\",\"weight_column_name\":null,\"cv_split_column_names\":null,\"enable_local_managed\":false,\"_local_managed_run_id\":null,\"cost_mode\":1,\"lag_length\":0,\"metric_operation\":\"maximize\",\"preprocess\":true}',\n",
       "  'DataPrepJsonString': '{\\\\\"training_data\\\\\": \\\\\"{\\\\\\\\\\\\\"blocks\\\\\\\\\\\\\": [{\\\\\\\\\\\\\"id\\\\\\\\\\\\\": \\\\\\\\\\\\\"095b9d36-4458-4e59-ac9e-ea5075f79bcf\\\\\\\\\\\\\", \\\\\\\\\\\\\"type\\\\\\\\\\\\\": \\\\\\\\\\\\\"Microsoft.DPrep.GetFilesBlock\\\\\\\\\\\\\", \\\\\\\\\\\\\"arguments\\\\\\\\\\\\\": {\\\\\\\\\\\\\"isArchive\\\\\\\\\\\\\": false, \\\\\\\\\\\\\"path\\\\\\\\\\\\\": {\\\\\\\\\\\\\"target\\\\\\\\\\\\\": 4, \\\\\\\\\\\\\"resourceDetails\\\\\\\\\\\\\": [{\\\\\\\\\\\\\"path\\\\\\\\\\\\\": \\\\\\\\\\\\\"https://raw.githubusercontent.com/maulingogri/Azure-Udacity-MLE-ND-Capstone/master/data/heart_failure_clinical_records_dataset.csv\\\\\\\\\\\\\"}]}}, \\\\\\\\\\\\\"localData\\\\\\\\\\\\\": {}, \\\\\\\\\\\\\"isEnabled\\\\\\\\\\\\\": true, \\\\\\\\\\\\\"name\\\\\\\\\\\\\": null, \\\\\\\\\\\\\"annotation\\\\\\\\\\\\\": null}, {\\\\\\\\\\\\\"id\\\\\\\\\\\\\": \\\\\\\\\\\\\"e2998850-91e4-4ec3-9a18-7ffc98ed8c0d\\\\\\\\\\\\\", \\\\\\\\\\\\\"type\\\\\\\\\\\\\": \\\\\\\\\\\\\"Microsoft.DPrep.ParseDelimitedBlock\\\\\\\\\\\\\", \\\\\\\\\\\\\"arguments\\\\\\\\\\\\\": {\\\\\\\\\\\\\"columnHeadersMode\\\\\\\\\\\\\": 3, \\\\\\\\\\\\\"fileEncoding\\\\\\\\\\\\\": 0, \\\\\\\\\\\\\"handleQuotedLineBreaks\\\\\\\\\\\\\": false, \\\\\\\\\\\\\"preview\\\\\\\\\\\\\": false, \\\\\\\\\\\\\"separator\\\\\\\\\\\\\": \\\\\\\\\\\\\",\\\\\\\\\\\\\", \\\\\\\\\\\\\"skipRows\\\\\\\\\\\\\": 0, \\\\\\\\\\\\\"skipRowsMode\\\\\\\\\\\\\": 0}, \\\\\\\\\\\\\"localData\\\\\\\\\\\\\": {}, \\\\\\\\\\\\\"isEnabled\\\\\\\\\\\\\": true, \\\\\\\\\\\\\"name\\\\\\\\\\\\\": null, \\\\\\\\\\\\\"annotation\\\\\\\\\\\\\": null}, {\\\\\\\\\\\\\"id\\\\\\\\\\\\\": \\\\\\\\\\\\\"5c0c1064-3354-4c99-a1d8-28894ae6d032\\\\\\\\\\\\\", \\\\\\\\\\\\\"type\\\\\\\\\\\\\": \\\\\\\\\\\\\"Microsoft.DPrep.DropColumnsBlock\\\\\\\\\\\\\", \\\\\\\\\\\\\"arguments\\\\\\\\\\\\\": {\\\\\\\\\\\\\"columns\\\\\\\\\\\\\": {\\\\\\\\\\\\\"type\\\\\\\\\\\\\": 0, \\\\\\\\\\\\\"details\\\\\\\\\\\\\": {\\\\\\\\\\\\\"selectedColumns\\\\\\\\\\\\\": [\\\\\\\\\\\\\"Path\\\\\\\\\\\\\"]}}}, \\\\\\\\\\\\\"localData\\\\\\\\\\\\\": {}, \\\\\\\\\\\\\"isEnabled\\\\\\\\\\\\\": true, \\\\\\\\\\\\\"name\\\\\\\\\\\\\": null, \\\\\\\\\\\\\"annotation\\\\\\\\\\\\\": null}, {\\\\\\\\\\\\\"id\\\\\\\\\\\\\": \\\\\\\\\\\\\"3d430011-3515-40cc-b491-d2424aec42f0\\\\\\\\\\\\\", \\\\\\\\\\\\\"type\\\\\\\\\\\\\": \\\\\\\\\\\\\"Microsoft.DPrep.SetColumnTypesBlock\\\\\\\\\\\\\", \\\\\\\\\\\\\"arguments\\\\\\\\\\\\\": {\\\\\\\\\\\\\"columnConversion\\\\\\\\\\\\\": [{\\\\\\\\\\\\\"column\\\\\\\\\\\\\": {\\\\\\\\\\\\\"type\\\\\\\\\\\\\": 2, \\\\\\\\\\\\\"details\\\\\\\\\\\\\": {\\\\\\\\\\\\\"selectedColumn\\\\\\\\\\\\\": \\\\\\\\\\\\\"age\\\\\\\\\\\\\"}}, \\\\\\\\\\\\\"typeProperty\\\\\\\\\\\\\": 3}, {\\\\\\\\\\\\\"column\\\\\\\\\\\\\": {\\\\\\\\\\\\\"type\\\\\\\\\\\\\": 2, \\\\\\\\\\\\\"details\\\\\\\\\\\\\": {\\\\\\\\\\\\\"selectedColumn\\\\\\\\\\\\\": \\\\\\\\\\\\\"anaemia\\\\\\\\\\\\\"}}, \\\\\\\\\\\\\"typeProperty\\\\\\\\\\\\\": 2}, {\\\\\\\\\\\\\"column\\\\\\\\\\\\\": {\\\\\\\\\\\\\"type\\\\\\\\\\\\\": 2, \\\\\\\\\\\\\"details\\\\\\\\\\\\\": {\\\\\\\\\\\\\"selectedColumn\\\\\\\\\\\\\": \\\\\\\\\\\\\"creatinine_phosphokinase\\\\\\\\\\\\\"}}, \\\\\\\\\\\\\"typeProperty\\\\\\\\\\\\\": 2}, {\\\\\\\\\\\\\"column\\\\\\\\\\\\\": {\\\\\\\\\\\\\"type\\\\\\\\\\\\\": 2, \\\\\\\\\\\\\"details\\\\\\\\\\\\\": {\\\\\\\\\\\\\"selectedColumn\\\\\\\\\\\\\": \\\\\\\\\\\\\"diabetes\\\\\\\\\\\\\"}}, \\\\\\\\\\\\\"typeProperty\\\\\\\\\\\\\": 2}, {\\\\\\\\\\\\\"column\\\\\\\\\\\\\": {\\\\\\\\\\\\\"type\\\\\\\\\\\\\": 2, \\\\\\\\\\\\\"details\\\\\\\\\\\\\": {\\\\\\\\\\\\\"selectedColumn\\\\\\\\\\\\\": \\\\\\\\\\\\\"ejection_fraction\\\\\\\\\\\\\"}}, \\\\\\\\\\\\\"typeProperty\\\\\\\\\\\\\": 2}, {\\\\\\\\\\\\\"column\\\\\\\\\\\\\": {\\\\\\\\\\\\\"type\\\\\\\\\\\\\": 2, \\\\\\\\\\\\\"details\\\\\\\\\\\\\": {\\\\\\\\\\\\\"selectedColumn\\\\\\\\\\\\\": \\\\\\\\\\\\\"high_blood_pressure\\\\\\\\\\\\\"}}, \\\\\\\\\\\\\"typeProperty\\\\\\\\\\\\\": 2}, {\\\\\\\\\\\\\"column\\\\\\\\\\\\\": {\\\\\\\\\\\\\"type\\\\\\\\\\\\\": 2, \\\\\\\\\\\\\"details\\\\\\\\\\\\\": {\\\\\\\\\\\\\"selectedColumn\\\\\\\\\\\\\": \\\\\\\\\\\\\"platelets\\\\\\\\\\\\\"}}, \\\\\\\\\\\\\"typeProperty\\\\\\\\\\\\\": 3}, {\\\\\\\\\\\\\"column\\\\\\\\\\\\\": {\\\\\\\\\\\\\"type\\\\\\\\\\\\\": 2, \\\\\\\\\\\\\"details\\\\\\\\\\\\\": {\\\\\\\\\\\\\"selectedColumn\\\\\\\\\\\\\": \\\\\\\\\\\\\"serum_creatinine\\\\\\\\\\\\\"}}, \\\\\\\\\\\\\"typeProperty\\\\\\\\\\\\\": 3}, {\\\\\\\\\\\\\"column\\\\\\\\\\\\\": {\\\\\\\\\\\\\"type\\\\\\\\\\\\\": 2, \\\\\\\\\\\\\"details\\\\\\\\\\\\\": {\\\\\\\\\\\\\"selectedColumn\\\\\\\\\\\\\": \\\\\\\\\\\\\"serum_sodium\\\\\\\\\\\\\"}}, \\\\\\\\\\\\\"typeProperty\\\\\\\\\\\\\": 2}, {\\\\\\\\\\\\\"column\\\\\\\\\\\\\": {\\\\\\\\\\\\\"type\\\\\\\\\\\\\": 2, \\\\\\\\\\\\\"details\\\\\\\\\\\\\": {\\\\\\\\\\\\\"selectedColumn\\\\\\\\\\\\\": \\\\\\\\\\\\\"sex\\\\\\\\\\\\\"}}, \\\\\\\\\\\\\"typeProperty\\\\\\\\\\\\\": 2}, {\\\\\\\\\\\\\"column\\\\\\\\\\\\\": {\\\\\\\\\\\\\"type\\\\\\\\\\\\\": 2, \\\\\\\\\\\\\"details\\\\\\\\\\\\\": {\\\\\\\\\\\\\"selectedColumn\\\\\\\\\\\\\": \\\\\\\\\\\\\"smoking\\\\\\\\\\\\\"}}, \\\\\\\\\\\\\"typeProperty\\\\\\\\\\\\\": 2}, {\\\\\\\\\\\\\"column\\\\\\\\\\\\\": {\\\\\\\\\\\\\"type\\\\\\\\\\\\\": 2, \\\\\\\\\\\\\"details\\\\\\\\\\\\\": {\\\\\\\\\\\\\"selectedColumn\\\\\\\\\\\\\": \\\\\\\\\\\\\"time\\\\\\\\\\\\\"}}, \\\\\\\\\\\\\"typeProperty\\\\\\\\\\\\\": 2}, {\\\\\\\\\\\\\"column\\\\\\\\\\\\\": {\\\\\\\\\\\\\"type\\\\\\\\\\\\\": 2, \\\\\\\\\\\\\"details\\\\\\\\\\\\\": {\\\\\\\\\\\\\"selectedColumn\\\\\\\\\\\\\": \\\\\\\\\\\\\"DEATH_EVENT\\\\\\\\\\\\\"}}, \\\\\\\\\\\\\"typeProperty\\\\\\\\\\\\\": 2}]}, \\\\\\\\\\\\\"localData\\\\\\\\\\\\\": {}, \\\\\\\\\\\\\"isEnabled\\\\\\\\\\\\\": true, \\\\\\\\\\\\\"name\\\\\\\\\\\\\": null, \\\\\\\\\\\\\"annotation\\\\\\\\\\\\\": null}, {\\\\\\\\\\\\\"id\\\\\\\\\\\\\": \\\\\\\\\\\\\"3754e9b4-5cd5-4df5-859f-71be368f8851\\\\\\\\\\\\\", \\\\\\\\\\\\\"type\\\\\\\\\\\\\": \\\\\\\\\\\\\"Microsoft.DPrep.TakeSampleBlock\\\\\\\\\\\\\", \\\\\\\\\\\\\"arguments\\\\\\\\\\\\\": {\\\\\\\\\\\\\"probability\\\\\\\\\\\\\": 0.75, \\\\\\\\\\\\\"probabilityLowerBound\\\\\\\\\\\\\": 0.0, \\\\\\\\\\\\\"seed\\\\\\\\\\\\\": 121}, \\\\\\\\\\\\\"localData\\\\\\\\\\\\\": {}, \\\\\\\\\\\\\"isEnabled\\\\\\\\\\\\\": true, \\\\\\\\\\\\\"name\\\\\\\\\\\\\": null, \\\\\\\\\\\\\"annotation\\\\\\\\\\\\\": null}], \\\\\\\\\\\\\"inspectors\\\\\\\\\\\\\": [], \\\\\\\\\\\\\"meta\\\\\\\\\\\\\": {\\\\\\\\\\\\\"savedDatasetId\\\\\\\\\\\\\": \\\\\\\\\\\\\"0fbdc6b5-b16d-4d90-9bf3-d8d4c677da3b\\\\\\\\\\\\\", \\\\\\\\\\\\\"datasetType\\\\\\\\\\\\\": \\\\\\\\\\\\\"tabular\\\\\\\\\\\\\", \\\\\\\\\\\\\"subscriptionId\\\\\\\\\\\\\": \\\\\\\\\\\\\"48a74bb7-9950-4cc1-9caa-5d50f995cc55\\\\\\\\\\\\\", \\\\\\\\\\\\\"workspaceId\\\\\\\\\\\\\": \\\\\\\\\\\\\"aa1fe22d-8c3f-4dd4-9b2b-1d6f34fc3d93\\\\\\\\\\\\\", \\\\\\\\\\\\\"workspaceLocation\\\\\\\\\\\\\": \\\\\\\\\\\\\"southcentralus\\\\\\\\\\\\\"}}\\\\\", \\\\\"activities\\\\\": 0}',\n",
       "  'EnableSubsampling': None,\n",
       "  'runTemplate': 'AutoML',\n",
       "  'azureml.runsource': 'automl',\n",
       "  'display_task_type': 'classification',\n",
       "  'dependencies_versions': '{\"azureml-widgets\": \"1.20.0\", \"azureml-train\": \"1.20.0\", \"azureml-train-restclients-hyperdrive\": \"1.20.0\", \"azureml-train-core\": \"1.20.0\", \"azureml-train-automl\": \"1.20.0\", \"azureml-train-automl-runtime\": \"1.20.0\", \"azureml-train-automl-client\": \"1.20.0\", \"azureml-tensorboard\": \"1.20.0\", \"azureml-telemetry\": \"1.20.0\", \"azureml-sdk\": \"1.20.0\", \"azureml-samples\": \"0+unknown\", \"azureml-pipeline\": \"1.20.0\", \"azureml-pipeline-steps\": \"1.20.0\", \"azureml-pipeline-core\": \"1.20.0\", \"azureml-opendatasets\": \"1.20.0\", \"azureml-model-management-sdk\": \"1.0.1b6.post1\", \"azureml-mlflow\": \"1.20.0.post1\", \"azureml-interpret\": \"1.20.0\", \"azureml-explain-model\": \"1.20.0\", \"azureml-defaults\": \"1.20.0\", \"azureml-dataset-runtime\": \"1.20.0\", \"azureml-dataprep\": \"2.7.3\", \"azureml-dataprep-rslex\": \"1.5.0\", \"azureml-dataprep-native\": \"27.0.0\", \"azureml-datadrift\": \"1.20.0\", \"azureml-core\": \"1.20.0\", \"azureml-contrib-services\": \"1.20.0\", \"azureml-contrib-server\": \"1.20.0\", \"azureml-contrib-reinforcementlearning\": \"1.20.0\", \"azureml-contrib-pipeline-steps\": \"1.20.0\", \"azureml-contrib-notebook\": \"1.20.0\", \"azureml-contrib-interpret\": \"1.20.0\", \"azureml-contrib-gbdt\": \"1.20.0\", \"azureml-contrib-fairness\": \"1.20.0\", \"azureml-contrib-dataset\": \"1.20.0\", \"azureml-cli-common\": \"1.20.0\", \"azureml-automl-runtime\": \"1.20.0\", \"azureml-automl-core\": \"1.20.0\", \"azureml-accel-models\": \"1.20.0\"}',\n",
       "  '_aml_system_scenario_identification': 'Remote.Parent',\n",
       "  'ClientType': 'SDK',\n",
       "  'environment_cpu_name': 'AzureML-AutoML',\n",
       "  'environment_cpu_label': 'prod',\n",
       "  'environment_gpu_name': 'AzureML-AutoML-GPU',\n",
       "  'environment_gpu_label': 'prod',\n",
       "  'root_attribution': 'automl',\n",
       "  'attribution': 'AutoML',\n",
       "  'Orchestrator': 'AutoML',\n",
       "  'CancelUri': 'https://southcentralus.experiments.azureml.net/jasmine/v1.0/subscriptions/48a74bb7-9950-4cc1-9caa-5d50f995cc55/resourceGroups/aml-quickstarts-137278/providers/Microsoft.MachineLearningServices/workspaces/quick-starts-ws-137278/experimentids/aef0ca73-3547-4884-9231-4b86ce54087d/cancel/AutoML_e9ff04b4-4463-4aee-86f2-bffb2f48e3d6',\n",
       "  'azureml.git.repository_uri': 'https://github.com/maulingogri/Azure-Udacity-MLE-ND-Capstone',\n",
       "  'mlflow.source.git.repoURL': 'https://github.com/maulingogri/Azure-Udacity-MLE-ND-Capstone',\n",
       "  'azureml.git.branch': 'master',\n",
       "  'mlflow.source.git.branch': 'master',\n",
       "  'azureml.git.commit': 'e59805e6c7872273fd6f1172afc9afc6544cae68',\n",
       "  'mlflow.source.git.commit': 'e59805e6c7872273fd6f1172afc9afc6544cae68',\n",
       "  'azureml.git.dirty': 'True',\n",
       "  'ClientSdkVersion': '1.21.0',\n",
       "  'snapshotId': '00000000-0000-0000-0000-000000000000',\n",
       "  'SetupRunId': 'AutoML_e9ff04b4-4463-4aee-86f2-bffb2f48e3d6_setup',\n",
       "  'SetupRunContainerId': 'dcid.AutoML_e9ff04b4-4463-4aee-86f2-bffb2f48e3d6_setup',\n",
       "  'FeaturizationRunJsonPath': 'featurizer_container.json',\n",
       "  'FeaturizationRunId': 'AutoML_e9ff04b4-4463-4aee-86f2-bffb2f48e3d6_featurize',\n",
       "  'ProblemInfoJsonString': '{\"dataset_num_categorical\": 0, \"is_sparse\": false, \"subsampling\": false, \"dataset_classes\": 2, \"dataset_features\": 12, \"dataset_samples\": 222, \"single_frequency_class_detected\": false}',\n",
       "  'ModelExplainRunId': 'AutoML_e9ff04b4-4463-4aee-86f2-bffb2f48e3d6_ModelExplain'},\n",
       " 'inputDatasets': [{'dataset': {'id': '0fbdc6b5-b16d-4d90-9bf3-d8d4c677da3b'}, 'consumptionDetails': {'type': 'RunInput', 'inputName': 'training_data', 'mechanism': 'Direct'}}],\n",
       " 'outputDatasets': [],\n",
       " 'logFiles': {},\n",
       " 'submittedBy': 'ODL_User 137278'}"
      ]
     },
     "execution_count": 17,
     "metadata": {},
     "output_type": "execute_result"
    }
   ],
   "source": [
    "from azureml.widgets import RunDetails\n",
    "RunDetails(remote_run).show()\n",
    "remote_run.wait_for_completion(show_output=True)"
   ]
  },
  {
   "cell_type": "markdown",
   "metadata": {},
   "source": [
    "## Best Model\n",
    "\n",
    "TODO: In the cell below, get the best model from the automl experiments and display all the properties of the model.\n",
    "\n"
   ]
  },
  {
   "cell_type": "code",
   "execution_count": 19,
   "metadata": {
    "collapsed": false,
    "gather": {
     "logged": 1612481275057
    },
    "jupyter": {
     "outputs_hidden": false,
     "source_hidden": false
    },
    "nteract": {
     "transient": {
      "deleting": false
     }
    }
   },
   "outputs": [
    {
     "name": "stderr",
     "output_type": "stream",
     "text": [
      "WARNING:root:The version of the SDK does not match the version the model was trained on.\n",
      "WARNING:root:The consistency in the result may not be guaranteed.\n",
      "WARNING:root:Package:azureml-automl-core, training version:1.21.0, current version:1.20.0\n",
      "Package:azureml-automl-runtime, training version:1.21.0, current version:1.20.0\n",
      "Package:azureml-core, training version:1.21.0.post1, current version:1.20.0\n",
      "Package:azureml-dataprep, training version:2.8.2, current version:2.7.3\n",
      "Package:azureml-dataprep-native, training version:28.0.0, current version:27.0.0\n",
      "Package:azureml-dataprep-rslex, training version:1.6.0, current version:1.5.0\n",
      "Package:azureml-dataset-runtime, training version:1.21.0, current version:1.20.0\n",
      "Package:azureml-defaults, training version:1.21.0, current version:1.20.0\n",
      "Package:azureml-interpret, training version:1.21.0, current version:1.20.0\n",
      "Package:azureml-pipeline-core, training version:1.21.0, current version:1.20.0\n",
      "Package:azureml-telemetry, training version:1.21.0, current version:1.20.0\n",
      "Package:azureml-train-automl-client, training version:1.21.0, current version:1.20.0\n",
      "Package:azureml-train-automl-runtime, training version:1.21.0, current version:1.20.0\n",
      "WARNING:root:Please ensure the version of your local conda dependencies match the version on which your model was trained in order to properly retrieve your model.\n"
     ]
    },
    {
     "name": "stdout",
     "output_type": "stream",
     "text": [
      "Run(Experiment: AutoML,\n",
      "Id: AutoML_e9ff04b4-4463-4aee-86f2-bffb2f48e3d6_49,\n",
      "Type: azureml.scriptrun,\n",
      "Status: Completed)\n",
      "Pipeline(memory=None,\n",
      "         steps=[('datatransformer',\n",
      "                 DataTransformer(enable_dnn=None, enable_feature_sweeping=None,\n",
      "                                 feature_sweeping_config=None,\n",
      "                                 feature_sweeping_timeout=None,\n",
      "                                 featurization_config=None, force_text_dnn=None,\n",
      "                                 is_cross_validation=None,\n",
      "                                 is_onnx_compatible=None, logger=None,\n",
      "                                 observer=None, task=None, working_dir=None)),\n",
      "                ('prefittedsoftvotingclassifier',...\n",
      "                                                                                               random_state=0,\n",
      "                                                                                               reg_alpha=0.9375,\n",
      "                                                                                               reg_lambda=1.875,\n",
      "                                                                                               scale_pos_weight=1,\n",
      "                                                                                               seed=None,\n",
      "                                                                                               silent=None,\n",
      "                                                                                               subsample=0.8,\n",
      "                                                                                               tree_method='auto',\n",
      "                                                                                               verbose=-10,\n",
      "                                                                                               verbosity=0))],\n",
      "                                                                     verbose=False))],\n",
      "                                               flatten_transform=None,\n",
      "                                               weights=[0.4166666666666667,\n",
      "                                                        0.16666666666666666,\n",
      "                                                        0.08333333333333333,\n",
      "                                                        0.08333333333333333,\n",
      "                                                        0.08333333333333333,\n",
      "                                                        0.08333333333333333,\n",
      "                                                        0.08333333333333333]))],\n",
      "         verbose=False)\n"
     ]
    }
   ],
   "source": [
    "best_run, fitted_model = remote_run.get_output()\n",
    "print(best_run)\n",
    "print(fitted_model)"
   ]
  },
  {
   "cell_type": "code",
   "execution_count": 70,
   "metadata": {
    "collapsed": false,
    "gather": {
     "logged": 1612491650574
    },
    "jupyter": {
     "outputs_hidden": false,
     "source_hidden": false
    },
    "nteract": {
     "transient": {
      "deleting": false
     }
    }
   },
   "outputs": [],
   "source": [
    "#TODO: Save the best model\n",
    "best_run.register_model(model_path='outputs/model.pkl', model_name='heartautoml_model', model_framework=Model.Framework.SCIKITLEARN)\n",
    "model = ws.models['heartautoml_model']"
   ]
  },
  {
   "cell_type": "markdown",
   "metadata": {},
   "source": [
    "## Model Deployment\n",
    "\n",
    "Remember you have to deploy only one of the two models you trained.. Perform the steps in the rest of this notebook only if you wish to deploy this model.\n",
    "\n",
    "TODO: In the cell below, register the model, create an inference config and deploy the model as a web service."
   ]
  },
  {
   "cell_type": "code",
   "execution_count": 30,
   "metadata": {
    "collapsed": true,
    "gather": {
     "logged": 1612486714240
    },
    "jupyter": {
     "outputs_hidden": true,
     "source_hidden": false
    },
    "nteract": {
     "transient": {
      "deleting": false
     }
    }
   },
   "outputs": [
    {
     "name": "stdout",
     "output_type": "stream",
     "text": [
      "heart_failure_service folder created.\n"
     ]
    }
   ],
   "source": [
    "folder_name = 'heart_failure_service'\n",
    "\n",
    "# Create a folder for the web service files\n",
    "experiment_folder = './' + folder_name\n",
    "os.makedirs(experiment_folder, exist_ok=True)\n",
    "\n",
    "print(folder_name, 'folder created.')\n",
    "\n",
    "# Set path for scoring script\n",
    "script_file = os.path.join(experiment_folder,\"score_heart_failure.py\")"
   ]
  },
  {
   "cell_type": "code",
   "execution_count": 31,
   "metadata": {
    "collapsed": true,
    "jupyter": {
     "outputs_hidden": true,
     "source_hidden": false
    },
    "nteract": {
     "transient": {
      "deleting": false
     }
    }
   },
   "outputs": [
    {
     "name": "stdout",
     "output_type": "stream",
     "text": [
      "Writing ./heart_failure_service/score_heart_failure.py\n"
     ]
    }
   ],
   "source": [
    "%%writefile $script_file\n",
    "import json\n",
    "import joblib\n",
    "import numpy as np\n",
    "from azureml.core.model import Model\n",
    "\n",
    "# Called when the service is loaded\n",
    "def init():\n",
    "    global model\n",
    "    # Get the path to the deployed model file and load it\n",
    "    model_path = Model.get_model_path('heartautoml_model')\n",
    "    model = joblib.load(model_path)\n",
    "\n",
    "# Called when a request is received\n",
    "def run(raw_data):\n",
    "    # Get the input data as a numpy array\n",
    "    data = json.loads(raw_data)['data']\n",
    "    np_data = np.array(data)\n",
    "    # Get a prediction from the model\n",
    "    predictions = model.predict(np_data)\n",
    "    # print the data and predictions (so they'll be logged!)\n",
    "    log_text = 'Data:' + str(data) + ' - Predictions:' + str(predictions)\n",
    "    print(log_text)\n",
    "    # Get the corresponding classname for each prediction (0 or 1)\n",
    "    classnames = ['no-failure', 'failure']\n",
    "    predicted_classes = []\n",
    "    for prediction in predictions:\n",
    "        predicted_classes.append(classnames[prediction])\n",
    "    # Return the predictions as JSON\n",
    "    return json.dumps(predicted_classes)"
   ]
  },
  {
   "cell_type": "code",
   "execution_count": 76,
   "metadata": {
    "collapsed": true,
    "gather": {
     "logged": 1612492522370
    },
    "jupyter": {
     "outputs_hidden": true,
     "source_hidden": false
    },
    "nteract": {
     "transient": {
      "deleting": false
     }
    }
   },
   "outputs": [],
   "source": [
    "from azureml.core import Environment\n",
    "best_run.download_file('outputs/conda_env_v_1_0_0.yml','conda_env.yml')\n",
    "myenv = Environment.from_conda_specification(name=\"myenv\", file_path=\"conda_env.yml\")\n",
    "best_run.download_file('outputs/scoring_file_v_1_0_0.py', 'score.py')"
   ]
  },
  {
   "cell_type": "code",
   "execution_count": 78,
   "metadata": {
    "collapsed": false,
    "gather": {
     "logged": 1598431435189
    },
    "jupyter": {
     "outputs_hidden": false,
     "source_hidden": false
    },
    "nteract": {
     "transient": {
      "deleting": false
     }
    }
   },
   "outputs": [
    {
     "name": "stdout",
     "output_type": "stream",
     "text": [
      "Tips: You can try get_logs(): https://aka.ms/debugimage#dockerlog or local deployment: https://aka.ms/debugimage#debug-locally to debug if deployment takes longer than 10 minutes.\n",
      "Running........................................................................................................................................................................................"
     ]
    }
   ],
   "source": [
    "from azureml.core.webservice import AciWebservice, Webservice\n",
    "from azureml.core.model import Model\n",
    "from azureml.core.model import InferenceConfig\n",
    "\n",
    "# Configure the scoring environment\n",
    "inference_config = InferenceConfig(entry_script='score.py',\n",
    "                                   environment=myenv)\n",
    "\n",
    "service_name = 'automl-service'\n",
    "deployment_config = AciWebservice.deploy_configuration(cpu_cores = 1, memory_gb = 1, auth_enabled=True)\n",
    "aci_service = Model.deploy(workspace=ws,\n",
    "                           name= service_name,\n",
    "                           models= [model],\n",
    "                           inference_config= inference_config,\n",
    "                           deployment_config=deployment_config)\n",
    "aci_service.wait_for_deployment(show_output = True)"
   ]
  },
  {
   "cell_type": "code",
   "execution_count": 80,
   "metadata": {
    "collapsed": true,
    "gather": {
     "logged": 1612494078849
    },
    "jupyter": {
     "outputs_hidden": true,
     "source_hidden": false
    },
    "nteract": {
     "transient": {
      "deleting": false
     }
    }
   },
   "outputs": [
    {
     "name": "stdout",
     "output_type": "stream",
     "text": [
      "Healthy\n"
     ]
    }
   ],
   "source": [
    "print(aci_service.state)"
   ]
  },
  {
   "cell_type": "code",
   "execution_count": 81,
   "metadata": {
    "collapsed": true,
    "gather": {
     "logged": 1612494090361
    },
    "jupyter": {
     "outputs_hidden": true,
     "source_hidden": false
    },
    "nteract": {
     "transient": {
      "deleting": false
     }
    }
   },
   "outputs": [
    {
     "name": "stdout",
     "output_type": "stream",
     "text": [
      "AppInsights enabled!\n"
     ]
    }
   ],
   "source": [
    "# Enable AppInsights\n",
    "aci_service.update(enable_app_insights=True)\n",
    "print('AppInsights enabled!')"
   ]
  },
  {
   "cell_type": "markdown",
   "metadata": {
    "gather": {
     "logged": 1598431657736
    },
    "jupyter": {
     "outputs_hidden": false,
     "source_hidden": false
    },
    "nteract": {
     "transient": {
      "deleting": false
     }
    }
   },
   "source": [
    "TODO: In the cell below, send a request to the web service you deployed to test it."
   ]
  },
  {
   "cell_type": "code",
   "execution_count": null,
   "metadata": {
    "collapsed": true,
    "jupyter": {
     "outputs_hidden": true,
     "source_hidden": false
    },
    "nteract": {
     "transient": {
      "deleting": false
     }
    }
   },
   "outputs": [],
   "source": [
    "import json\n",
    "score = test.to_pandas_dataframe()\n",
    "\n",
    "# Convert to JSON\n",
    "# score_json = scpre.to_json(orient='records')\n",
    "# input_json = \"{\\\"data\\\": \" + score_json + \"}\" "
   ]
  },
  {
   "cell_type": "code",
   "execution_count": 87,
   "metadata": {
    "collapsed": true,
    "gather": {
     "logged": 1612494400129
    },
    "jupyter": {
     "outputs_hidden": true,
     "source_hidden": false
    },
    "nteract": {
     "transient": {
      "deleting": false
     }
    }
   },
   "outputs": [
    {
     "name": "stdout",
     "output_type": "stream",
     "text": [
      "http://d9eca5eb-5e21-49e8-ab92-dbe0e9ead90b.southcentralus.azurecontainer.io/score\n"
     ]
    }
   ],
   "source": [
    "endpoint = aci_service.scoring_uri\n",
    "primary, secondary = aci_service.get_keys()\n",
    "print(primary)\n",
    "print(endpoint)"
   ]
  },
  {
   "cell_type": "code",
   "execution_count": null,
   "metadata": {},
   "outputs": [],
   "source": [
    "!python endpoint.py"
   ]
  },
  {
   "cell_type": "code",
   "execution_count": 89,
   "metadata": {
    "collapsed": true,
    "gather": {
     "logged": 1612494527026
    },
    "jupyter": {
     "outputs_hidden": true,
     "source_hidden": false
    },
    "nteract": {
     "transient": {
      "deleting": false
     }
    }
   },
   "outputs": [
    {
     "name": "stdout",
     "output_type": "stream",
     "text": [
      "{\"data\": [[55, 0, 7861, 0, 38, 0, 263358.03, 1.1, 136, 1, 0, 6], [0, 148, 58, 11, 179, 39.19207553, 0.160829008, 45]]}\n"
     ]
    }
   ],
   "source": [
    "# Create new data for inferencing\n",
    "x_new = [[55,0,7861,0,38,0,263358.03,1.1,136,1,0,6],\n",
    "         [0,148,58,11,179,39.19207553,0.160829008,45]]\n",
    "\n",
    "# Convert the array to a serializable list in a JSON document\n",
    "input_json = json.dumps({\"data\": x_new})\n",
    "print(input_json)"
   ]
  },
  {
   "cell_type": "code",
   "execution_count": 86,
   "metadata": {
    "collapsed": false,
    "gather": {
     "logged": 1612494232816
    },
    "jupyter": {
     "outputs_hidden": false,
     "source_hidden": false
    },
    "nteract": {
     "transient": {
      "deleting": false
     }
    }
   },
   "outputs": [
    {
     "name": "stdout",
     "output_type": "stream",
     "text": [
      "<Response [502]>\n"
     ]
    }
   ],
   "source": [
    "import requests\n",
    "import json\n",
    "\n",
    "# Create new data for inferencing\n",
    "x_new = [[55,0,7861,0,38,0,263358.03,1.1,136,1,0,6],\n",
    "         [0,148,58,11,179,39.19207553,0.160829008,45]]\n",
    "\n",
    "# Convert the array to a serializable list in a JSON document\n",
    "input_json = json.dumps({\"data\": x_new})\n",
    "\n",
    "# Set the content type\n",
    "headers = { 'Content-Type':'application/json' }\n",
    "\n",
    "# Get the predictions\n",
    "predictions = requests.post(endpoint, input_json, headers = headers)\n",
    "print(predictions)\n",
    "# print(predictions.status_code)\n",
    "# if predictions.status_code == 200:\n",
    "#     predicted_classes = json.loads(predictions.json())\n",
    "#     for i in range(len(x_new)):\n",
    "#         print (\"Patient {}\".format(score[i]), predicted_classes[i] )"
   ]
  },
  {
   "cell_type": "markdown",
   "metadata": {
    "gather": {
     "logged": 1598432765711
    },
    "jupyter": {
     "outputs_hidden": false,
     "source_hidden": false
    },
    "nteract": {
     "transient": {
      "deleting": false
     }
    }
   },
   "source": [
    "TODO: In the cell below, print the logs of the web service and delete the service"
   ]
  },
  {
   "cell_type": "code",
   "execution_count": null,
   "metadata": {
    "collapsed": false,
    "jupyter": {
     "outputs_hidden": false,
     "source_hidden": false
    },
    "nteract": {
     "transient": {
      "deleting": false
     }
    }
   },
   "outputs": [],
   "source": [
    "aci_service.delete()\n",
    "print('Service deleted.')"
   ]
  }
 ],
 "metadata": {
  "kernel_info": {
   "name": "python3"
  },
  "kernelspec": {
   "display_name": "Python 3",
   "language": "python",
   "name": "python3"
  },
  "language_info": {
   "codemirror_mode": {
    "name": "ipython",
    "version": 3
   },
   "file_extension": ".py",
   "mimetype": "text/x-python",
   "name": "python",
   "nbconvert_exporter": "python",
   "pygments_lexer": "ipython3",
   "version": "3.8.5"
  },
  "nteract": {
   "version": "nteract-front-end@1.0.0"
  }
 },
 "nbformat": 4,
 "nbformat_minor": 4
}
